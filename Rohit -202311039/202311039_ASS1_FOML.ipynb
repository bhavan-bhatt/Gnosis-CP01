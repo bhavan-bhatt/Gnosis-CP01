{
  "nbformat": 4,
  "nbformat_minor": 0,
  "metadata": {
    "colab": {
      "provenance": []
    },
    "kernelspec": {
      "name": "python3",
      "display_name": "Python 3"
    },
    "language_info": {
      "name": "python"
    }
  },
  "cells": [
    {
      "cell_type": "markdown",
      "source": [
        "Question 1\n"
      ],
      "metadata": {
        "id": "nDsB_PxTUS_z"
      }
    },
    {
      "cell_type": "code",
      "execution_count": 9,
      "metadata": {
        "colab": {
          "base_uri": "https://localhost:8080/",
          "height": 73
        },
        "id": "I3bC6idAQxUK",
        "outputId": "784afdc0-96ca-4a37-f85a-d59786397445"
      },
      "outputs": [
        {
          "output_type": "display_data",
          "data": {
            "text/plain": [
              "<IPython.core.display.HTML object>"
            ],
            "text/html": [
              "\n",
              "     <input type=\"file\" id=\"files-31ef631e-9877-42a4-84e9-56ed315e0103\" name=\"files[]\" multiple disabled\n",
              "        style=\"border:none\" />\n",
              "     <output id=\"result-31ef631e-9877-42a4-84e9-56ed315e0103\">\n",
              "      Upload widget is only available when the cell has been executed in the\n",
              "      current browser session. Please rerun this cell to enable.\n",
              "      </output>\n",
              "      <script>// Copyright 2017 Google LLC\n",
              "//\n",
              "// Licensed under the Apache License, Version 2.0 (the \"License\");\n",
              "// you may not use this file except in compliance with the License.\n",
              "// You may obtain a copy of the License at\n",
              "//\n",
              "//      http://www.apache.org/licenses/LICENSE-2.0\n",
              "//\n",
              "// Unless required by applicable law or agreed to in writing, software\n",
              "// distributed under the License is distributed on an \"AS IS\" BASIS,\n",
              "// WITHOUT WARRANTIES OR CONDITIONS OF ANY KIND, either express or implied.\n",
              "// See the License for the specific language governing permissions and\n",
              "// limitations under the License.\n",
              "\n",
              "/**\n",
              " * @fileoverview Helpers for google.colab Python module.\n",
              " */\n",
              "(function(scope) {\n",
              "function span(text, styleAttributes = {}) {\n",
              "  const element = document.createElement('span');\n",
              "  element.textContent = text;\n",
              "  for (const key of Object.keys(styleAttributes)) {\n",
              "    element.style[key] = styleAttributes[key];\n",
              "  }\n",
              "  return element;\n",
              "}\n",
              "\n",
              "// Max number of bytes which will be uploaded at a time.\n",
              "const MAX_PAYLOAD_SIZE = 100 * 1024;\n",
              "\n",
              "function _uploadFiles(inputId, outputId) {\n",
              "  const steps = uploadFilesStep(inputId, outputId);\n",
              "  const outputElement = document.getElementById(outputId);\n",
              "  // Cache steps on the outputElement to make it available for the next call\n",
              "  // to uploadFilesContinue from Python.\n",
              "  outputElement.steps = steps;\n",
              "\n",
              "  return _uploadFilesContinue(outputId);\n",
              "}\n",
              "\n",
              "// This is roughly an async generator (not supported in the browser yet),\n",
              "// where there are multiple asynchronous steps and the Python side is going\n",
              "// to poll for completion of each step.\n",
              "// This uses a Promise to block the python side on completion of each step,\n",
              "// then passes the result of the previous step as the input to the next step.\n",
              "function _uploadFilesContinue(outputId) {\n",
              "  const outputElement = document.getElementById(outputId);\n",
              "  const steps = outputElement.steps;\n",
              "\n",
              "  const next = steps.next(outputElement.lastPromiseValue);\n",
              "  return Promise.resolve(next.value.promise).then((value) => {\n",
              "    // Cache the last promise value to make it available to the next\n",
              "    // step of the generator.\n",
              "    outputElement.lastPromiseValue = value;\n",
              "    return next.value.response;\n",
              "  });\n",
              "}\n",
              "\n",
              "/**\n",
              " * Generator function which is called between each async step of the upload\n",
              " * process.\n",
              " * @param {string} inputId Element ID of the input file picker element.\n",
              " * @param {string} outputId Element ID of the output display.\n",
              " * @return {!Iterable<!Object>} Iterable of next steps.\n",
              " */\n",
              "function* uploadFilesStep(inputId, outputId) {\n",
              "  const inputElement = document.getElementById(inputId);\n",
              "  inputElement.disabled = false;\n",
              "\n",
              "  const outputElement = document.getElementById(outputId);\n",
              "  outputElement.innerHTML = '';\n",
              "\n",
              "  const pickedPromise = new Promise((resolve) => {\n",
              "    inputElement.addEventListener('change', (e) => {\n",
              "      resolve(e.target.files);\n",
              "    });\n",
              "  });\n",
              "\n",
              "  const cancel = document.createElement('button');\n",
              "  inputElement.parentElement.appendChild(cancel);\n",
              "  cancel.textContent = 'Cancel upload';\n",
              "  const cancelPromise = new Promise((resolve) => {\n",
              "    cancel.onclick = () => {\n",
              "      resolve(null);\n",
              "    };\n",
              "  });\n",
              "\n",
              "  // Wait for the user to pick the files.\n",
              "  const files = yield {\n",
              "    promise: Promise.race([pickedPromise, cancelPromise]),\n",
              "    response: {\n",
              "      action: 'starting',\n",
              "    }\n",
              "  };\n",
              "\n",
              "  cancel.remove();\n",
              "\n",
              "  // Disable the input element since further picks are not allowed.\n",
              "  inputElement.disabled = true;\n",
              "\n",
              "  if (!files) {\n",
              "    return {\n",
              "      response: {\n",
              "        action: 'complete',\n",
              "      }\n",
              "    };\n",
              "  }\n",
              "\n",
              "  for (const file of files) {\n",
              "    const li = document.createElement('li');\n",
              "    li.append(span(file.name, {fontWeight: 'bold'}));\n",
              "    li.append(span(\n",
              "        `(${file.type || 'n/a'}) - ${file.size} bytes, ` +\n",
              "        `last modified: ${\n",
              "            file.lastModifiedDate ? file.lastModifiedDate.toLocaleDateString() :\n",
              "                                    'n/a'} - `));\n",
              "    const percent = span('0% done');\n",
              "    li.appendChild(percent);\n",
              "\n",
              "    outputElement.appendChild(li);\n",
              "\n",
              "    const fileDataPromise = new Promise((resolve) => {\n",
              "      const reader = new FileReader();\n",
              "      reader.onload = (e) => {\n",
              "        resolve(e.target.result);\n",
              "      };\n",
              "      reader.readAsArrayBuffer(file);\n",
              "    });\n",
              "    // Wait for the data to be ready.\n",
              "    let fileData = yield {\n",
              "      promise: fileDataPromise,\n",
              "      response: {\n",
              "        action: 'continue',\n",
              "      }\n",
              "    };\n",
              "\n",
              "    // Use a chunked sending to avoid message size limits. See b/62115660.\n",
              "    let position = 0;\n",
              "    do {\n",
              "      const length = Math.min(fileData.byteLength - position, MAX_PAYLOAD_SIZE);\n",
              "      const chunk = new Uint8Array(fileData, position, length);\n",
              "      position += length;\n",
              "\n",
              "      const base64 = btoa(String.fromCharCode.apply(null, chunk));\n",
              "      yield {\n",
              "        response: {\n",
              "          action: 'append',\n",
              "          file: file.name,\n",
              "          data: base64,\n",
              "        },\n",
              "      };\n",
              "\n",
              "      let percentDone = fileData.byteLength === 0 ?\n",
              "          100 :\n",
              "          Math.round((position / fileData.byteLength) * 100);\n",
              "      percent.textContent = `${percentDone}% done`;\n",
              "\n",
              "    } while (position < fileData.byteLength);\n",
              "  }\n",
              "\n",
              "  // All done.\n",
              "  yield {\n",
              "    response: {\n",
              "      action: 'complete',\n",
              "    }\n",
              "  };\n",
              "}\n",
              "\n",
              "scope.google = scope.google || {};\n",
              "scope.google.colab = scope.google.colab || {};\n",
              "scope.google.colab._files = {\n",
              "  _uploadFiles,\n",
              "  _uploadFilesContinue,\n",
              "};\n",
              "})(self);\n",
              "</script> "
            ]
          },
          "metadata": {}
        },
        {
          "output_type": "stream",
          "name": "stdout",
          "text": [
            "Saving FOMLHousing.csv to FOMLHousing.csv\n"
          ]
        }
      ],
      "source": [
        "from google.colab import files\n",
        "uploaded = files.upload()"
      ]
    },
    {
      "cell_type": "code",
      "source": [
        "import io\n",
        "import pandas as pd\n"
      ],
      "metadata": {
        "id": "9ARv9O8mSFWX"
      },
      "execution_count": 6,
      "outputs": []
    },
    {
      "cell_type": "code",
      "source": [
        "dt = pd.read_csv(io.BytesIO(uploaded['FOMLHousing.csv']))"
      ],
      "metadata": {
        "id": "ftt0Z04sTJDg"
      },
      "execution_count": 13,
      "outputs": []
    },
    {
      "cell_type": "code",
      "source": [
        "print(dt)"
      ],
      "metadata": {
        "colab": {
          "base_uri": "https://localhost:8080/"
        },
        "id": "bQqN0cssUAEt",
        "outputId": "8c9ea731-fd9d-4747-b1a3-19d22b565de6"
      },
      "execution_count": 14,
      "outputs": [
        {
          "output_type": "stream",
          "name": "stdout",
          "text": [
            "        price    area  bedrooms  bathrooms  stories mainroad guestroom  \\\n",
            "0    13300000  7420.0       4.0        2.0      3.0      yes        no   \n",
            "1    12250000  8960.0       4.0        4.0      4.0      yes        no   \n",
            "2    12250000  9960.0       3.0        2.0      2.0      yes        no   \n",
            "3    12215000     NaN       4.0        2.0      2.0      yes        no   \n",
            "4    11410000  7420.0       4.0        1.0      2.0      yes       yes   \n",
            "..        ...     ...       ...        ...      ...      ...       ...   \n",
            "540   1820000  3000.0       2.0        1.0      1.0      yes        no   \n",
            "541   1767150  2400.0       3.0        1.0      1.0       no        no   \n",
            "542   1750000  3620.0       2.0        1.0      1.0      yes        no   \n",
            "543   1750000  2910.0       3.0        1.0      1.0       no        no   \n",
            "544   1750000  3850.0       3.0        1.0      2.0      yes        no   \n",
            "\n",
            "    basement hotwaterheating airconditioning  parking prefarea  \\\n",
            "0         no              no             yes      2.0      yes   \n",
            "1         no              no             yes      3.0       no   \n",
            "2        yes              no              no      2.0      yes   \n",
            "3        yes              no             yes      3.0      yes   \n",
            "4        yes              no             yes      2.0       no   \n",
            "..       ...             ...             ...      ...      ...   \n",
            "540      yes              no              no      2.0       no   \n",
            "541       no              no              no      0.0       no   \n",
            "542       no              no              no      0.0       no   \n",
            "543       no              no              no      0.0       no   \n",
            "544       no              no              no      0.0       no   \n",
            "\n",
            "    furnishingstatus  \n",
            "0          furnished  \n",
            "1          furnished  \n",
            "2     semi-furnished  \n",
            "3          furnished  \n",
            "4          furnished  \n",
            "..               ...  \n",
            "540      unfurnished  \n",
            "541   semi-furnished  \n",
            "542      unfurnished  \n",
            "543        furnished  \n",
            "544      unfurnished  \n",
            "\n",
            "[545 rows x 13 columns]\n"
          ]
        }
      ]
    },
    {
      "cell_type": "markdown",
      "source": [
        "question 2"
      ],
      "metadata": {
        "id": "VOw_AiNTUfMs"
      }
    },
    {
      "cell_type": "code",
      "source": [
        "area_data = dt[[\"area\"]]\n",
        "area_data"
      ],
      "metadata": {
        "colab": {
          "base_uri": "https://localhost:8080/",
          "height": 424
        },
        "id": "DseH3XHeUgxz",
        "outputId": "7bae17a3-0680-4738-91eb-81118d658eb9"
      },
      "execution_count": 21,
      "outputs": [
        {
          "output_type": "execute_result",
          "data": {
            "text/plain": [
              "       area\n",
              "0    7420.0\n",
              "1    8960.0\n",
              "2    9960.0\n",
              "3       NaN\n",
              "4    7420.0\n",
              "..      ...\n",
              "540  3000.0\n",
              "541  2400.0\n",
              "542  3620.0\n",
              "543  2910.0\n",
              "544  3850.0\n",
              "\n",
              "[545 rows x 1 columns]"
            ],
            "text/html": [
              "\n",
              "\n",
              "  <div id=\"df-d66f089a-c28d-4a56-8af9-d0ea4cc014c4\">\n",
              "    <div class=\"colab-df-container\">\n",
              "      <div>\n",
              "<style scoped>\n",
              "    .dataframe tbody tr th:only-of-type {\n",
              "        vertical-align: middle;\n",
              "    }\n",
              "\n",
              "    .dataframe tbody tr th {\n",
              "        vertical-align: top;\n",
              "    }\n",
              "\n",
              "    .dataframe thead th {\n",
              "        text-align: right;\n",
              "    }\n",
              "</style>\n",
              "<table border=\"1\" class=\"dataframe\">\n",
              "  <thead>\n",
              "    <tr style=\"text-align: right;\">\n",
              "      <th></th>\n",
              "      <th>area</th>\n",
              "    </tr>\n",
              "  </thead>\n",
              "  <tbody>\n",
              "    <tr>\n",
              "      <th>0</th>\n",
              "      <td>7420.0</td>\n",
              "    </tr>\n",
              "    <tr>\n",
              "      <th>1</th>\n",
              "      <td>8960.0</td>\n",
              "    </tr>\n",
              "    <tr>\n",
              "      <th>2</th>\n",
              "      <td>9960.0</td>\n",
              "    </tr>\n",
              "    <tr>\n",
              "      <th>3</th>\n",
              "      <td>NaN</td>\n",
              "    </tr>\n",
              "    <tr>\n",
              "      <th>4</th>\n",
              "      <td>7420.0</td>\n",
              "    </tr>\n",
              "    <tr>\n",
              "      <th>...</th>\n",
              "      <td>...</td>\n",
              "    </tr>\n",
              "    <tr>\n",
              "      <th>540</th>\n",
              "      <td>3000.0</td>\n",
              "    </tr>\n",
              "    <tr>\n",
              "      <th>541</th>\n",
              "      <td>2400.0</td>\n",
              "    </tr>\n",
              "    <tr>\n",
              "      <th>542</th>\n",
              "      <td>3620.0</td>\n",
              "    </tr>\n",
              "    <tr>\n",
              "      <th>543</th>\n",
              "      <td>2910.0</td>\n",
              "    </tr>\n",
              "    <tr>\n",
              "      <th>544</th>\n",
              "      <td>3850.0</td>\n",
              "    </tr>\n",
              "  </tbody>\n",
              "</table>\n",
              "<p>545 rows × 1 columns</p>\n",
              "</div>\n",
              "      <button class=\"colab-df-convert\" onclick=\"convertToInteractive('df-d66f089a-c28d-4a56-8af9-d0ea4cc014c4')\"\n",
              "              title=\"Convert this dataframe to an interactive table.\"\n",
              "              style=\"display:none;\">\n",
              "\n",
              "  <svg xmlns=\"http://www.w3.org/2000/svg\" height=\"24px\"viewBox=\"0 0 24 24\"\n",
              "       width=\"24px\">\n",
              "    <path d=\"M0 0h24v24H0V0z\" fill=\"none\"/>\n",
              "    <path d=\"M18.56 5.44l.94 2.06.94-2.06 2.06-.94-2.06-.94-.94-2.06-.94 2.06-2.06.94zm-11 1L8.5 8.5l.94-2.06 2.06-.94-2.06-.94L8.5 2.5l-.94 2.06-2.06.94zm10 10l.94 2.06.94-2.06 2.06-.94-2.06-.94-.94-2.06-.94 2.06-2.06.94z\"/><path d=\"M17.41 7.96l-1.37-1.37c-.4-.4-.92-.59-1.43-.59-.52 0-1.04.2-1.43.59L10.3 9.45l-7.72 7.72c-.78.78-.78 2.05 0 2.83L4 21.41c.39.39.9.59 1.41.59.51 0 1.02-.2 1.41-.59l7.78-7.78 2.81-2.81c.8-.78.8-2.07 0-2.86zM5.41 20L4 18.59l7.72-7.72 1.47 1.35L5.41 20z\"/>\n",
              "  </svg>\n",
              "      </button>\n",
              "\n",
              "\n",
              "\n",
              "    <div id=\"df-f570829e-424d-492d-95e4-3676fc7dbd7f\">\n",
              "      <button class=\"colab-df-quickchart\" onclick=\"quickchart('df-f570829e-424d-492d-95e4-3676fc7dbd7f')\"\n",
              "              title=\"Suggest charts.\"\n",
              "              style=\"display:none;\">\n",
              "\n",
              "<svg xmlns=\"http://www.w3.org/2000/svg\" height=\"24px\"viewBox=\"0 0 24 24\"\n",
              "     width=\"24px\">\n",
              "    <g>\n",
              "        <path d=\"M19 3H5c-1.1 0-2 .9-2 2v14c0 1.1.9 2 2 2h14c1.1 0 2-.9 2-2V5c0-1.1-.9-2-2-2zM9 17H7v-7h2v7zm4 0h-2V7h2v10zm4 0h-2v-4h2v4z\"/>\n",
              "    </g>\n",
              "</svg>\n",
              "      </button>\n",
              "    </div>\n",
              "\n",
              "<style>\n",
              "  .colab-df-quickchart {\n",
              "    background-color: #E8F0FE;\n",
              "    border: none;\n",
              "    border-radius: 50%;\n",
              "    cursor: pointer;\n",
              "    display: none;\n",
              "    fill: #1967D2;\n",
              "    height: 32px;\n",
              "    padding: 0 0 0 0;\n",
              "    width: 32px;\n",
              "  }\n",
              "\n",
              "  .colab-df-quickchart:hover {\n",
              "    background-color: #E2EBFA;\n",
              "    box-shadow: 0px 1px 2px rgba(60, 64, 67, 0.3), 0px 1px 3px 1px rgba(60, 64, 67, 0.15);\n",
              "    fill: #174EA6;\n",
              "  }\n",
              "\n",
              "  [theme=dark] .colab-df-quickchart {\n",
              "    background-color: #3B4455;\n",
              "    fill: #D2E3FC;\n",
              "  }\n",
              "\n",
              "  [theme=dark] .colab-df-quickchart:hover {\n",
              "    background-color: #434B5C;\n",
              "    box-shadow: 0px 1px 3px 1px rgba(0, 0, 0, 0.15);\n",
              "    filter: drop-shadow(0px 1px 2px rgba(0, 0, 0, 0.3));\n",
              "    fill: #FFFFFF;\n",
              "  }\n",
              "</style>\n",
              "\n",
              "    <script>\n",
              "      async function quickchart(key) {\n",
              "        const containerElement = document.querySelector('#' + key);\n",
              "        const charts = await google.colab.kernel.invokeFunction(\n",
              "            'suggestCharts', [key], {});\n",
              "      }\n",
              "    </script>\n",
              "\n",
              "      <script>\n",
              "\n",
              "function displayQuickchartButton(domScope) {\n",
              "  let quickchartButtonEl =\n",
              "    domScope.querySelector('#df-f570829e-424d-492d-95e4-3676fc7dbd7f button.colab-df-quickchart');\n",
              "  quickchartButtonEl.style.display =\n",
              "    google.colab.kernel.accessAllowed ? 'block' : 'none';\n",
              "}\n",
              "\n",
              "        displayQuickchartButton(document);\n",
              "      </script>\n",
              "      <style>\n",
              "    .colab-df-container {\n",
              "      display:flex;\n",
              "      flex-wrap:wrap;\n",
              "      gap: 12px;\n",
              "    }\n",
              "\n",
              "    .colab-df-convert {\n",
              "      background-color: #E8F0FE;\n",
              "      border: none;\n",
              "      border-radius: 50%;\n",
              "      cursor: pointer;\n",
              "      display: none;\n",
              "      fill: #1967D2;\n",
              "      height: 32px;\n",
              "      padding: 0 0 0 0;\n",
              "      width: 32px;\n",
              "    }\n",
              "\n",
              "    .colab-df-convert:hover {\n",
              "      background-color: #E2EBFA;\n",
              "      box-shadow: 0px 1px 2px rgba(60, 64, 67, 0.3), 0px 1px 3px 1px rgba(60, 64, 67, 0.15);\n",
              "      fill: #174EA6;\n",
              "    }\n",
              "\n",
              "    [theme=dark] .colab-df-convert {\n",
              "      background-color: #3B4455;\n",
              "      fill: #D2E3FC;\n",
              "    }\n",
              "\n",
              "    [theme=dark] .colab-df-convert:hover {\n",
              "      background-color: #434B5C;\n",
              "      box-shadow: 0px 1px 3px 1px rgba(0, 0, 0, 0.15);\n",
              "      filter: drop-shadow(0px 1px 2px rgba(0, 0, 0, 0.3));\n",
              "      fill: #FFFFFF;\n",
              "    }\n",
              "  </style>\n",
              "\n",
              "      <script>\n",
              "        const buttonEl =\n",
              "          document.querySelector('#df-d66f089a-c28d-4a56-8af9-d0ea4cc014c4 button.colab-df-convert');\n",
              "        buttonEl.style.display =\n",
              "          google.colab.kernel.accessAllowed ? 'block' : 'none';\n",
              "\n",
              "        async function convertToInteractive(key) {\n",
              "          const element = document.querySelector('#df-d66f089a-c28d-4a56-8af9-d0ea4cc014c4');\n",
              "          const dataTable =\n",
              "            await google.colab.kernel.invokeFunction('convertToInteractive',\n",
              "                                                     [key], {});\n",
              "          if (!dataTable) return;\n",
              "\n",
              "          const docLinkHtml = 'Like what you see? Visit the ' +\n",
              "            '<a target=\"_blank\" href=https://colab.research.google.com/notebooks/data_table.ipynb>data table notebook</a>'\n",
              "            + ' to learn more about interactive tables.';\n",
              "          element.innerHTML = '';\n",
              "          dataTable['output_type'] = 'display_data';\n",
              "          await google.colab.output.renderOutput(dataTable, element);\n",
              "          const docLink = document.createElement('div');\n",
              "          docLink.innerHTML = docLinkHtml;\n",
              "          element.appendChild(docLink);\n",
              "        }\n",
              "      </script>\n",
              "    </div>\n",
              "  </div>\n"
            ]
          },
          "metadata": {},
          "execution_count": 21
        }
      ]
    },
    {
      "cell_type": "code",
      "source": [
        "print(area_data.mean())\n",
        "print(area_data.median())\n",
        "print(area_data.mode())"
      ],
      "metadata": {
        "colab": {
          "base_uri": "https://localhost:8080/"
        },
        "id": "nE-8scDyUq-L",
        "outputId": "1bfe59ab-52ed-4d6e-b70e-baa76bc9f62f"
      },
      "execution_count": 22,
      "outputs": [
        {
          "output_type": "stream",
          "name": "stdout",
          "text": [
            "area    5105.255725\n",
            "dtype: float64\n",
            "area    4510.0\n",
            "dtype: float64\n",
            "     area\n",
            "0  6000.0\n"
          ]
        }
      ]
    },
    {
      "cell_type": "markdown",
      "source": [
        "question 3"
      ],
      "metadata": {
        "id": "58lnOup9Wap8"
      }
    },
    {
      "cell_type": "code",
      "source": [
        "import matplotlib.pyplot as plt"
      ],
      "metadata": {
        "id": "mNTWOlwOWcF_"
      },
      "execution_count": 23,
      "outputs": []
    },
    {
      "cell_type": "code",
      "source": [
        "area_data.plot(kind='hist')"
      ],
      "metadata": {
        "colab": {
          "base_uri": "https://localhost:8080/",
          "height": 449
        },
        "id": "wihFXDKaXDlw",
        "outputId": "c2139600-b894-4f4a-df2b-ca68250ab49e"
      },
      "execution_count": 24,
      "outputs": [
        {
          "output_type": "execute_result",
          "data": {
            "text/plain": [
              "<Axes: ylabel='Frequency'>"
            ]
          },
          "metadata": {},
          "execution_count": 24
        },
        {
          "output_type": "display_data",
          "data": {
            "text/plain": [
              "<Figure size 640x480 with 1 Axes>"
            ],
            "image/png": "[encoded data removed]"
          },
          "metadata": {}
        }
      ]
    },
    {
      "cell_type": "markdown",
      "source": [
        "question 4"
      ],
      "metadata": {
        "id": "s-jdoQiyXXR2"
      }
    },
    {
      "cell_type": "code",
      "source": [
        "area_data.plot(kind='box')"
      ],
      "metadata": {
        "colab": {
          "base_uri": "https://localhost:8080/",
          "height": 447
        },
        "id": "xN50TnmnXGlN",
        "outputId": "867b840c-4570-4637-f31e-51b400878bd1"
      },
      "execution_count": 25,
      "outputs": [
        {
          "output_type": "execute_result",
          "data": {
            "text/plain": [
              "<Axes: >"
            ]
          },
          "metadata": {},
          "execution_count": 25
        },
        {
          "output_type": "display_data",
          "data": {
            "text/plain": [
              "<Figure size 640x480 with 1 Axes>"
            ],
            "image/png": "[encoded data removed]"
          },
          "metadata": {}
        }
      ]
    },
    {
      "cell_type": "markdown",
      "source": [
        "question 5"
      ],
      "metadata": {
        "id": "e188OUsGXXhG"
      }
    },
    {
      "cell_type": "code",
      "source": [
        "plt.scatter(area_data, df2[[\"price\"]])"
      ],
      "metadata": {
        "colab": {
          "base_uri": "https://localhost:8080/",
          "height": 462
        },
        "id": "enxbh3GhXKhK",
        "outputId": "aa2b8fb0-2e4f-4c86-d18d-5a9ba15438bf"
      },
      "execution_count": 26,
      "outputs": [
        {
          "output_type": "execute_result",
          "data": {
            "text/plain": [
              "<matplotlib.collections.PathCollection at 0x7c2c2b5092a0>"
            ]
          },
          "metadata": {},
          "execution_count": 26
        },
        {
          "output_type": "display_data",
          "data": {
            "text/plain": [
              "<Figure size 640x480 with 1 Axes>"
            ],
            "image/png": "[encoded data removed]"
          },
          "metadata": {}
        }
      ]
    },
    {
      "cell_type": "markdown",
      "source": [
        "Question 6"
      ],
      "metadata": {
        "id": "C7H3ua1sXfvN"
      }
    },
    {
      "cell_type": "code",
      "source": [
        "print(\"Covarience is\")\n",
        "print(dt.cov())\n",
        "print(\"Corelation is\")\n",
        "print(dt.corr())"
      ],
      "metadata": {
        "colab": {
          "base_uri": "https://localhost:8080/"
        },
        "id": "GJesZVzgXhwB",
        "outputId": "b8fbe799-d050-4bc0-8063-2e3df51612ba"
      },
      "execution_count": 27,
      "outputs": [
        {
          "output_type": "stream",
          "name": "stdout",
          "text": [
            "Covarience is\n",
            "                  price          area       bedrooms      bathrooms  \\\n",
            "price      3.498544e+12  2.118487e+09  510533.077402  485782.872092   \n",
            "area       2.118487e+09  4.624621e+06     255.573167     212.147504   \n",
            "bedrooms   5.105331e+05  2.555732e+02       0.543766       0.141721   \n",
            "bathrooms  4.857829e+05  2.121475e+02       0.141721       0.255003   \n",
            "stories    6.891153e+05  2.057810e+02       0.260347       0.143339   \n",
            "parking    6.177181e+05  6.412941e+02       0.086896       0.075400   \n",
            "\n",
            "                 stories        parking  \n",
            "price      689115.324675  617718.126022  \n",
            "area          205.780969     641.294106  \n",
            "bedrooms        0.260347       0.086896  \n",
            "bathrooms       0.143339       0.075400  \n",
            "stories         0.758040       0.033715  \n",
            "parking         0.033715       0.742472  \n",
            "Corelation is\n",
            "              price      area  bedrooms  bathrooms   stories   parking\n",
            "price      1.000000  0.534531  0.370164   0.514182  0.423045  0.383785\n",
            "area       0.534531  1.000000  0.159982   0.194140  0.109769  0.348171\n",
            "bedrooms   0.370164  0.159982  1.000000   0.378832  0.405351  0.136905\n",
            "bathrooms  0.514182  0.194140  0.378832   1.000000  0.325402  0.172218\n",
            "stories    0.423045  0.109769  0.405351   0.325402  1.000000  0.044803\n",
            "parking    0.383785  0.348171  0.136905   0.172218  0.044803  1.000000\n"
          ]
        },
        {
          "output_type": "stream",
          "name": "stderr",
          "text": [
            "<ipython-input-27-5090eb596a02>:2: FutureWarning: The default value of numeric_only in DataFrame.cov is deprecated. In a future version, it will default to False. Select only valid columns or specify the value of numeric_only to silence this warning.\n",
            "  print(dt.cov())\n",
            "<ipython-input-27-5090eb596a02>:4: FutureWarning: The default value of numeric_only in DataFrame.corr is deprecated. In a future version, it will default to False. Select only valid columns or specify the value of numeric_only to silence this warning.\n",
            "  print(dt.corr())\n"
          ]
        }
      ]
    },
    {
      "cell_type": "markdown",
      "source": [
        "quetion 7\n"
      ],
      "metadata": {
        "id": "bWKtk0mdXpQu"
      }
    },
    {
      "cell_type": "code",
      "source": [
        "dt.isnull().sum()"
      ],
      "metadata": {
        "colab": {
          "base_uri": "https://localhost:8080/"
        },
        "id": "l0fK4ZkzXrei",
        "outputId": "5c788d8b-2078-4f24-9ef2-d0b203b454df"
      },
      "execution_count": 28,
      "outputs": [
        {
          "output_type": "execute_result",
          "data": {
            "text/plain": [
              "price                0\n",
              "area                21\n",
              "bedrooms             1\n",
              "bathrooms            8\n",
              "stories              5\n",
              "mainroad             4\n",
              "guestroom            4\n",
              "basement             4\n",
              "hotwaterheating      5\n",
              "airconditioning      4\n",
              "parking              5\n",
              "prefarea             5\n",
              "furnishingstatus     3\n",
              "dtype: int64"
            ]
          },
          "metadata": {},
          "execution_count": 28
        }
      ]
    },
    {
      "cell_type": "markdown",
      "source": [
        "question 8\n"
      ],
      "metadata": {
        "id": "OBEy21QwXvTd"
      }
    },
    {
      "cell_type": "code",
      "source": [
        "fs = df2[[\"furnishingstatus\"]]"
      ],
      "metadata": {
        "id": "mt-o9E4zXxO9"
      },
      "execution_count": 29,
      "outputs": []
    },
    {
      "cell_type": "code",
      "source": [
        "mode = fs.mode()\n",
        "fs = fs.fillna('mode')"
      ],
      "metadata": {
        "id": "6OL2dCtDYG8s"
      },
      "execution_count": 30,
      "outputs": []
    },
    {
      "cell_type": "code",
      "source": [
        "fs.isnull().sum()\n"
      ],
      "metadata": {
        "colab": {
          "base_uri": "https://localhost:8080/"
        },
        "id": "EGSYfvk_YN_l",
        "outputId": "051d9f5f-4a69-4906-8b82-15bd753c4ae7"
      },
      "execution_count": 31,
      "outputs": [
        {
          "output_type": "execute_result",
          "data": {
            "text/plain": [
              "furnishingstatus    0\n",
              "dtype: int64"
            ]
          },
          "metadata": {},
          "execution_count": 31
        }
      ]
    },
    {
      "cell_type": "code",
      "source": [
        "df2.isnull().sum()"
      ],
      "metadata": {
        "colab": {
          "base_uri": "https://localhost:8080/"
        },
        "id": "Nnytg5ZDYPrh",
        "outputId": "5a8020e3-fb79-456b-c92b-3ebd6dd9c384"
      },
      "execution_count": 32,
      "outputs": [
        {
          "output_type": "execute_result",
          "data": {
            "text/plain": [
              "price                0\n",
              "area                21\n",
              "bedrooms             1\n",
              "bathrooms            8\n",
              "stories              5\n",
              "mainroad             4\n",
              "guestroom            4\n",
              "basement             4\n",
              "hotwaterheating      5\n",
              "airconditioning      4\n",
              "parking              5\n",
              "prefarea             5\n",
              "furnishingstatus     3\n",
              "dtype: int64"
            ]
          },
          "metadata": {},
          "execution_count": 32
        }
      ]
    },
    {
      "cell_type": "code",
      "source": [
        "area = dt[[\"area\"]]\n",
        "mean = area.mean()\n",
        "ar = area.fillna(mean)\n",
        "dt['area'] = ar"
      ],
      "metadata": {
        "id": "Dm_TqIFkYTPs"
      },
      "execution_count": 33,
      "outputs": []
    },
    {
      "cell_type": "code",
      "source": [
        "dt.isnull().sum()"
      ],
      "metadata": {
        "colab": {
          "base_uri": "https://localhost:8080/"
        },
        "id": "jQ3U8sAeYaI0",
        "outputId": "a418d5aa-43ea-4a4e-93b5-005446071161"
      },
      "execution_count": 35,
      "outputs": [
        {
          "output_type": "execute_result",
          "data": {
            "text/plain": [
              "price               0\n",
              "area                0\n",
              "bedrooms            1\n",
              "bathrooms           8\n",
              "stories             5\n",
              "mainroad            4\n",
              "guestroom           4\n",
              "basement            4\n",
              "hotwaterheating     5\n",
              "airconditioning     4\n",
              "parking             5\n",
              "prefarea            5\n",
              "furnishingstatus    3\n",
              "dtype: int64"
            ]
          },
          "metadata": {},
          "execution_count": 35
        }
      ]
    },
    {
      "cell_type": "code",
      "source": [
        "dt = df2['bedrooms'].dropna()"
      ],
      "metadata": {
        "id": "0ah1pz4bYevb"
      },
      "execution_count": 36,
      "outputs": []
    },
    {
      "cell_type": "code",
      "source": [
        "dt.isnull().sum()"
      ],
      "metadata": {
        "colab": {
          "base_uri": "https://localhost:8080/"
        },
        "id": "0pnj85zmYhW1",
        "outputId": "c8fc4b17-9120-4012-ab2e-10ff3787b334"
      },
      "execution_count": 37,
      "outputs": [
        {
          "output_type": "execute_result",
          "data": {
            "text/plain": [
              "0"
            ]
          },
          "metadata": {},
          "execution_count": 37
        }
      ]
    },
    {
      "cell_type": "code",
      "source": [
        "dt2= pd.read_csv(io.BytesIO(uploaded['FOMLHousing.csv']))"
      ],
      "metadata": {
        "id": "mNhrYv7tYmey"
      },
      "execution_count": 40,
      "outputs": []
    },
    {
      "cell_type": "code",
      "source": [
        "area = dt2[[\"area\"]]\n",
        "mean = area.mean()\n",
        "ar = area.fillna(mean)\n",
        "dt2['area'] = ar"
      ],
      "metadata": {
        "id": "J5MrxCGgYr1s"
      },
      "execution_count": 41,
      "outputs": []
    },
    {
      "cell_type": "code",
      "source": [
        "dt2.isnull().sum()"
      ],
      "metadata": {
        "colab": {
          "base_uri": "https://localhost:8080/"
        },
        "id": "llcmSluJYyt9",
        "outputId": "f7a93b57-0c44-437b-b481-c668a3f261b0"
      },
      "execution_count": 42,
      "outputs": [
        {
          "output_type": "execute_result",
          "data": {
            "text/plain": [
              "price               0\n",
              "area                0\n",
              "bedrooms            1\n",
              "bathrooms           8\n",
              "stories             5\n",
              "mainroad            4\n",
              "guestroom           4\n",
              "basement            4\n",
              "hotwaterheating     5\n",
              "airconditioning     4\n",
              "parking             5\n",
              "prefarea            5\n",
              "furnishingstatus    3\n",
              "dtype: int64"
            ]
          },
          "metadata": {},
          "execution_count": 42
        }
      ]
    },
    {
      "cell_type": "code",
      "source": [
        "dt3 = pd.read_csv(io.BytesIO(uploaded['FOMLHousing.csv']))\n",
        "dt3_dt2 = dt3[['area']]\n",
        "mean = dt3_dt2.mean()\n",
        "dt3_2 = dt3_dt2.fillna(mean)\n",
        "dt3[['area']] = dt3_2\n",
        "dt3.isnull().sum()"
      ],
      "metadata": {
        "colab": {
          "base_uri": "https://localhost:8080/"
        },
        "id": "soNRaLwZY3dy",
        "outputId": "0798b00b-5a0d-4d07-a740-8017b34f2566"
      },
      "execution_count": 44,
      "outputs": [
        {
          "output_type": "execute_result",
          "data": {
            "text/plain": [
              "price               0\n",
              "area                0\n",
              "bedrooms            1\n",
              "bathrooms           8\n",
              "stories             5\n",
              "mainroad            4\n",
              "guestroom           4\n",
              "basement            4\n",
              "hotwaterheating     5\n",
              "airconditioning     4\n",
              "parking             5\n",
              "prefarea            5\n",
              "furnishingstatus    3\n",
              "dtype: int64"
            ]
          },
          "metadata": {},
          "execution_count": 44
        }
      ]
    },
    {
      "cell_type": "code",
      "source": [
        "dt3_dt_3 = dt3[['bedrooms']]\n",
        "dt3[['bedrooms']] = dt3_dt_3.fillna(4)\n",
        "dt3.isnull().sum()"
      ],
      "metadata": {
        "colab": {
          "base_uri": "https://localhost:8080/"
        },
        "id": "Xvf92X47Zf2n",
        "outputId": "41d2365e-d572-4123-e44b-383280190e87"
      },
      "execution_count": 46,
      "outputs": [
        {
          "output_type": "execute_result",
          "data": {
            "text/plain": [
              "price               0\n",
              "area                0\n",
              "bedrooms            0\n",
              "bathrooms           8\n",
              "stories             5\n",
              "mainroad            4\n",
              "guestroom           4\n",
              "basement            4\n",
              "hotwaterheating     5\n",
              "airconditioning     4\n",
              "parking             5\n",
              "prefarea            5\n",
              "furnishingstatus    3\n",
              "dtype: int64"
            ]
          },
          "metadata": {},
          "execution_count": 46
        }
      ]
    },
    {
      "cell_type": "code",
      "source": [
        "dt3_dt = dt3[['bathrooms', 'stories', 'mainroad', 'guestroom', 'basement']]\n",
        "dt3_1 = dt3_dt.fillna(method='ffill')\n",
        "dt3[['bathrooms', 'stories', 'mainroad', 'guestroom', 'basement']] = dt3_1\n",
        "dt3.isnull().sum()"
      ],
      "metadata": {
        "colab": {
          "base_uri": "https://localhost:8080/"
        },
        "id": "2xkZipl1Zllu",
        "outputId": "079471b1-7004-4a98-a6bb-7107fb49b98a"
      },
      "execution_count": 47,
      "outputs": [
        {
          "output_type": "execute_result",
          "data": {
            "text/plain": [
              "price               0\n",
              "area                0\n",
              "bedrooms            0\n",
              "bathrooms           0\n",
              "stories             0\n",
              "mainroad            0\n",
              "guestroom           0\n",
              "basement            0\n",
              "hotwaterheating     5\n",
              "airconditioning     4\n",
              "parking             5\n",
              "prefarea            5\n",
              "furnishingstatus    3\n",
              "dtype: int64"
            ]
          },
          "metadata": {},
          "execution_count": 47
        }
      ]
    },
    {
      "cell_type": "code",
      "source": [
        "dt3_dt_1 = dt3[['hotwaterheating', 'airconditioning', 'parking', 'prefarea', 'furnishingstatus']]\n",
        "dt3_2 = dt3_dt_1.fillna(method='bfill')\n",
        "dt3[['hotwaterheating', 'airconditioning', 'parking', 'prefarea', 'furnishingstatus']] = dt3_2\n",
        "dt3.isnull().sum()"
      ],
      "metadata": {
        "colab": {
          "base_uri": "https://localhost:8080/"
        },
        "id": "dJf2_IbTZqzW",
        "outputId": "dd500b2e-bbdf-417f-aa28-f925cbb2498e"
      },
      "execution_count": 48,
      "outputs": [
        {
          "output_type": "execute_result",
          "data": {
            "text/plain": [
              "price               0\n",
              "area                0\n",
              "bedrooms            0\n",
              "bathrooms           0\n",
              "stories             0\n",
              "mainroad            0\n",
              "guestroom           0\n",
              "basement            0\n",
              "hotwaterheating     0\n",
              "airconditioning     0\n",
              "parking             0\n",
              "prefarea            0\n",
              "furnishingstatus    0\n",
              "dtype: int64"
            ]
          },
          "metadata": {},
          "execution_count": 48
        }
      ]
    }
  ]
}