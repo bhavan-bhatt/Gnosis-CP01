{
 "cells": [
  {
   "cell_type": "code",
   "execution_count": 1,
   "id": "f657fb26",
   "metadata": {},
   "outputs": [],
   "source": [
    "import pandas as pd\n",
    "from sklearn.svm import LinearSVC\n",
    "from sklearn.model_selection import train_test_split\n",
    "from sklearn.metrics import accuracy_score\n",
    "import numpy as np\n",
    "import matplotlib.pyplot as plt "
   ]
  },
  {
   "cell_type": "code",
   "execution_count": 2,
   "id": "b75c2737",
   "metadata": {},
   "outputs": [],
   "source": [
    "df1 = pd.read_csv('CTU-IoT-Malware-Capture-1-1conn.log.labeled.csv',sep = '|')"
   ]
  },
  {
   "cell_type": "code",
   "execution_count": 3,
   "id": "eb9a880f",
   "metadata": {},
   "outputs": [
    {
     "data": {
      "text/html": [
       "<div>\n",
       "<style scoped>\n",
       "    .dataframe tbody tr th:only-of-type {\n",
       "        vertical-align: middle;\n",
       "    }\n",
       "\n",
       "    .dataframe tbody tr th {\n",
       "        vertical-align: top;\n",
       "    }\n",
       "\n",
       "    .dataframe thead th {\n",
       "        text-align: right;\n",
       "    }\n",
       "</style>\n",
       "<table border=\"1\" class=\"dataframe\">\n",
       "  <thead>\n",
       "    <tr style=\"text-align: right;\">\n",
       "      <th></th>\n",
       "      <th>ts</th>\n",
       "      <th>uid</th>\n",
       "      <th>id.orig_h</th>\n",
       "      <th>id.orig_p</th>\n",
       "      <th>id.resp_h</th>\n",
       "      <th>id.resp_p</th>\n",
       "      <th>proto</th>\n",
       "      <th>service</th>\n",
       "      <th>duration</th>\n",
       "      <th>orig_bytes</th>\n",
       "      <th>...</th>\n",
       "      <th>local_resp</th>\n",
       "      <th>missed_bytes</th>\n",
       "      <th>history</th>\n",
       "      <th>orig_pkts</th>\n",
       "      <th>orig_ip_bytes</th>\n",
       "      <th>resp_pkts</th>\n",
       "      <th>resp_ip_bytes</th>\n",
       "      <th>tunnel_parents</th>\n",
       "      <th>label</th>\n",
       "      <th>detailed-label</th>\n",
       "    </tr>\n",
       "  </thead>\n",
       "  <tbody>\n",
       "    <tr>\n",
       "      <th>0</th>\n",
       "      <td>1.525880e+09</td>\n",
       "      <td>CUmrqr4svHuSXJy5z7</td>\n",
       "      <td>192.168.100.103</td>\n",
       "      <td>51524.0</td>\n",
       "      <td>65.127.233.163</td>\n",
       "      <td>23.0</td>\n",
       "      <td>tcp</td>\n",
       "      <td>-</td>\n",
       "      <td>2.999051</td>\n",
       "      <td>0</td>\n",
       "      <td>...</td>\n",
       "      <td>-</td>\n",
       "      <td>0.0</td>\n",
       "      <td>S</td>\n",
       "      <td>3.0</td>\n",
       "      <td>180.0</td>\n",
       "      <td>0.0</td>\n",
       "      <td>0.0</td>\n",
       "      <td>-</td>\n",
       "      <td>Malicious</td>\n",
       "      <td>PartOfAHorizontalPortScan</td>\n",
       "    </tr>\n",
       "    <tr>\n",
       "      <th>1</th>\n",
       "      <td>1.525880e+09</td>\n",
       "      <td>CH98aB3s1kJeq6SFOc</td>\n",
       "      <td>192.168.100.103</td>\n",
       "      <td>56305.0</td>\n",
       "      <td>63.150.16.171</td>\n",
       "      <td>23.0</td>\n",
       "      <td>tcp</td>\n",
       "      <td>-</td>\n",
       "      <td>-</td>\n",
       "      <td>-</td>\n",
       "      <td>...</td>\n",
       "      <td>-</td>\n",
       "      <td>0.0</td>\n",
       "      <td>S</td>\n",
       "      <td>1.0</td>\n",
       "      <td>60.0</td>\n",
       "      <td>0.0</td>\n",
       "      <td>0.0</td>\n",
       "      <td>-</td>\n",
       "      <td>Malicious</td>\n",
       "      <td>PartOfAHorizontalPortScan</td>\n",
       "    </tr>\n",
       "    <tr>\n",
       "      <th>2</th>\n",
       "      <td>1.525880e+09</td>\n",
       "      <td>C3GBTkINvXNjVGtN5</td>\n",
       "      <td>192.168.100.103</td>\n",
       "      <td>41101.0</td>\n",
       "      <td>111.40.23.49</td>\n",
       "      <td>23.0</td>\n",
       "      <td>tcp</td>\n",
       "      <td>-</td>\n",
       "      <td>-</td>\n",
       "      <td>-</td>\n",
       "      <td>...</td>\n",
       "      <td>-</td>\n",
       "      <td>0.0</td>\n",
       "      <td>S</td>\n",
       "      <td>1.0</td>\n",
       "      <td>60.0</td>\n",
       "      <td>0.0</td>\n",
       "      <td>0.0</td>\n",
       "      <td>-</td>\n",
       "      <td>Malicious</td>\n",
       "      <td>PartOfAHorizontalPortScan</td>\n",
       "    </tr>\n",
       "    <tr>\n",
       "      <th>3</th>\n",
       "      <td>1.525880e+09</td>\n",
       "      <td>CDe43c1PtgynajGI6</td>\n",
       "      <td>192.168.100.103</td>\n",
       "      <td>60905.0</td>\n",
       "      <td>131.174.215.147</td>\n",
       "      <td>23.0</td>\n",
       "      <td>tcp</td>\n",
       "      <td>-</td>\n",
       "      <td>2.998796</td>\n",
       "      <td>0</td>\n",
       "      <td>...</td>\n",
       "      <td>-</td>\n",
       "      <td>0.0</td>\n",
       "      <td>S</td>\n",
       "      <td>3.0</td>\n",
       "      <td>180.0</td>\n",
       "      <td>0.0</td>\n",
       "      <td>0.0</td>\n",
       "      <td>-</td>\n",
       "      <td>Malicious</td>\n",
       "      <td>PartOfAHorizontalPortScan</td>\n",
       "    </tr>\n",
       "    <tr>\n",
       "      <th>4</th>\n",
       "      <td>1.525880e+09</td>\n",
       "      <td>CJaDcG3MZzvf1YVYI4</td>\n",
       "      <td>192.168.100.103</td>\n",
       "      <td>44301.0</td>\n",
       "      <td>91.42.47.63</td>\n",
       "      <td>23.0</td>\n",
       "      <td>tcp</td>\n",
       "      <td>-</td>\n",
       "      <td>-</td>\n",
       "      <td>-</td>\n",
       "      <td>...</td>\n",
       "      <td>-</td>\n",
       "      <td>0.0</td>\n",
       "      <td>S</td>\n",
       "      <td>1.0</td>\n",
       "      <td>60.0</td>\n",
       "      <td>0.0</td>\n",
       "      <td>0.0</td>\n",
       "      <td>-</td>\n",
       "      <td>Malicious</td>\n",
       "      <td>PartOfAHorizontalPortScan</td>\n",
       "    </tr>\n",
       "  </tbody>\n",
       "</table>\n",
       "<p>5 rows × 23 columns</p>\n",
       "</div>"
      ],
      "text/plain": [
       "             ts                 uid        id.orig_h  id.orig_p  \\\n",
       "0  1.525880e+09  CUmrqr4svHuSXJy5z7  192.168.100.103    51524.0   \n",
       "1  1.525880e+09  CH98aB3s1kJeq6SFOc  192.168.100.103    56305.0   \n",
       "2  1.525880e+09   C3GBTkINvXNjVGtN5  192.168.100.103    41101.0   \n",
       "3  1.525880e+09   CDe43c1PtgynajGI6  192.168.100.103    60905.0   \n",
       "4  1.525880e+09  CJaDcG3MZzvf1YVYI4  192.168.100.103    44301.0   \n",
       "\n",
       "         id.resp_h  id.resp_p proto service  duration orig_bytes  ...  \\\n",
       "0   65.127.233.163       23.0   tcp       -  2.999051          0  ...   \n",
       "1    63.150.16.171       23.0   tcp       -         -          -  ...   \n",
       "2     111.40.23.49       23.0   tcp       -         -          -  ...   \n",
       "3  131.174.215.147       23.0   tcp       -  2.998796          0  ...   \n",
       "4      91.42.47.63       23.0   tcp       -         -          -  ...   \n",
       "\n",
       "  local_resp missed_bytes history orig_pkts  orig_ip_bytes resp_pkts  \\\n",
       "0          -          0.0       S       3.0          180.0       0.0   \n",
       "1          -          0.0       S       1.0           60.0       0.0   \n",
       "2          -          0.0       S       1.0           60.0       0.0   \n",
       "3          -          0.0       S       3.0          180.0       0.0   \n",
       "4          -          0.0       S       1.0           60.0       0.0   \n",
       "\n",
       "   resp_ip_bytes  tunnel_parents      label             detailed-label  \n",
       "0            0.0               -  Malicious  PartOfAHorizontalPortScan  \n",
       "1            0.0               -  Malicious  PartOfAHorizontalPortScan  \n",
       "2            0.0               -  Malicious  PartOfAHorizontalPortScan  \n",
       "3            0.0               -  Malicious  PartOfAHorizontalPortScan  \n",
       "4            0.0               -  Malicious  PartOfAHorizontalPortScan  \n",
       "\n",
       "[5 rows x 23 columns]"
      ]
     },
     "execution_count": 3,
     "metadata": {},
     "output_type": "execute_result"
    }
   ],
   "source": [
    "df1.head()"
   ]
  },
  {
   "cell_type": "code",
   "execution_count": 4,
   "id": "864cc969",
   "metadata": {},
   "outputs": [
    {
     "name": "stderr",
     "output_type": "stream",
     "text": [
      "C:\\Users\\Harshneel\\AppData\\Local\\Temp\\ipykernel_21244\\291993118.py:7: DtypeWarning: Columns (8,9,10) have mixed types. Specify dtype option on import or set low_memory=False.\n",
      "  df8 = pd.read_csv('CTU-IoT-Malware-Capture-48-1conn.log.labeled.csv',sep='|')\n"
     ]
    }
   ],
   "source": [
    "df2 = pd.read_csv('CTU-IoT-Malware-Capture-20-1conn.log.labeled.csv',sep='|')\n",
    "df3 = pd.read_csv('CTU-IoT-Malware-Capture-21-1conn.log.labeled.csv',sep='|')\n",
    "df4 = pd.read_csv('CTU-IoT-Malware-Capture-3-1conn.log.labeled.csv',sep='|')\n",
    "df5 = pd.read_csv('CTU-IoT-Malware-Capture-34-1conn.log.labeled.csv',sep='|')\n",
    "df6 = pd.read_csv('CTU-IoT-Malware-Capture-35-1conn.log.labeled.csv',sep='|')\n",
    "df7 = pd.read_csv('CTU-IoT-Malware-Capture-42-1conn.log.labeled.csv',sep='|')\n",
    "df8 = pd.read_csv('CTU-IoT-Malware-Capture-48-1conn.log.labeled.csv',sep='|')\n",
    "df9 = pd.read_csv('CTU-IoT-Malware-Capture-60-1conn.log.labeled.csv',sep='|')\n",
    "df10 = pd.read_csv('CTU-IoT-Malware-Capture-9-1conn.log.labeled.csv',sep='|')"
   ]
  },
  {
   "cell_type": "code",
   "execution_count": 5,
   "id": "d6a7f59f",
   "metadata": {},
   "outputs": [],
   "source": [
    "dff = pd.concat([df1,df2,df3,df4,df5,df6,df7,df8,df9,df10],axis = 0)"
   ]
  },
  {
   "cell_type": "code",
   "execution_count": 6,
   "id": "b41ee447",
   "metadata": {},
   "outputs": [],
   "source": [
    "df = dff[:5000000]"
   ]
  },
  {
   "cell_type": "code",
   "execution_count": 7,
   "id": "38414327",
   "metadata": {},
   "outputs": [],
   "source": [
    "del dff\n",
    "del df1\n",
    "del df2\n",
    "del df3\n",
    "del df4\n",
    "del df5\n",
    "del df6\n",
    "del df7\n",
    "del df8\n",
    "del df9\n",
    "del df10"
   ]
  },
  {
   "cell_type": "code",
   "execution_count": 8,
   "id": "fa4e2b8a",
   "metadata": {},
   "outputs": [
    {
     "data": {
      "text/html": [
       "<div>\n",
       "<style scoped>\n",
       "    .dataframe tbody tr th:only-of-type {\n",
       "        vertical-align: middle;\n",
       "    }\n",
       "\n",
       "    .dataframe tbody tr th {\n",
       "        vertical-align: top;\n",
       "    }\n",
       "\n",
       "    .dataframe thead th {\n",
       "        text-align: right;\n",
       "    }\n",
       "</style>\n",
       "<table border=\"1\" class=\"dataframe\">\n",
       "  <thead>\n",
       "    <tr style=\"text-align: right;\">\n",
       "      <th></th>\n",
       "      <th>ts</th>\n",
       "      <th>uid</th>\n",
       "      <th>id.orig_h</th>\n",
       "      <th>id.orig_p</th>\n",
       "      <th>id.resp_h</th>\n",
       "      <th>id.resp_p</th>\n",
       "      <th>proto</th>\n",
       "      <th>service</th>\n",
       "      <th>duration</th>\n",
       "      <th>orig_bytes</th>\n",
       "      <th>...</th>\n",
       "      <th>local_resp</th>\n",
       "      <th>missed_bytes</th>\n",
       "      <th>history</th>\n",
       "      <th>orig_pkts</th>\n",
       "      <th>orig_ip_bytes</th>\n",
       "      <th>resp_pkts</th>\n",
       "      <th>resp_ip_bytes</th>\n",
       "      <th>tunnel_parents</th>\n",
       "      <th>label</th>\n",
       "      <th>detailed-label</th>\n",
       "    </tr>\n",
       "  </thead>\n",
       "  <tbody>\n",
       "    <tr>\n",
       "      <th>0</th>\n",
       "      <td>1.525880e+09</td>\n",
       "      <td>CUmrqr4svHuSXJy5z7</td>\n",
       "      <td>192.168.100.103</td>\n",
       "      <td>51524.0</td>\n",
       "      <td>65.127.233.163</td>\n",
       "      <td>23.0</td>\n",
       "      <td>tcp</td>\n",
       "      <td>-</td>\n",
       "      <td>2.999051</td>\n",
       "      <td>0</td>\n",
       "      <td>...</td>\n",
       "      <td>-</td>\n",
       "      <td>0.0</td>\n",
       "      <td>S</td>\n",
       "      <td>3.0</td>\n",
       "      <td>180.0</td>\n",
       "      <td>0.0</td>\n",
       "      <td>0.0</td>\n",
       "      <td>-</td>\n",
       "      <td>Malicious</td>\n",
       "      <td>PartOfAHorizontalPortScan</td>\n",
       "    </tr>\n",
       "    <tr>\n",
       "      <th>1</th>\n",
       "      <td>1.525880e+09</td>\n",
       "      <td>CH98aB3s1kJeq6SFOc</td>\n",
       "      <td>192.168.100.103</td>\n",
       "      <td>56305.0</td>\n",
       "      <td>63.150.16.171</td>\n",
       "      <td>23.0</td>\n",
       "      <td>tcp</td>\n",
       "      <td>-</td>\n",
       "      <td>-</td>\n",
       "      <td>-</td>\n",
       "      <td>...</td>\n",
       "      <td>-</td>\n",
       "      <td>0.0</td>\n",
       "      <td>S</td>\n",
       "      <td>1.0</td>\n",
       "      <td>60.0</td>\n",
       "      <td>0.0</td>\n",
       "      <td>0.0</td>\n",
       "      <td>-</td>\n",
       "      <td>Malicious</td>\n",
       "      <td>PartOfAHorizontalPortScan</td>\n",
       "    </tr>\n",
       "    <tr>\n",
       "      <th>2</th>\n",
       "      <td>1.525880e+09</td>\n",
       "      <td>C3GBTkINvXNjVGtN5</td>\n",
       "      <td>192.168.100.103</td>\n",
       "      <td>41101.0</td>\n",
       "      <td>111.40.23.49</td>\n",
       "      <td>23.0</td>\n",
       "      <td>tcp</td>\n",
       "      <td>-</td>\n",
       "      <td>-</td>\n",
       "      <td>-</td>\n",
       "      <td>...</td>\n",
       "      <td>-</td>\n",
       "      <td>0.0</td>\n",
       "      <td>S</td>\n",
       "      <td>1.0</td>\n",
       "      <td>60.0</td>\n",
       "      <td>0.0</td>\n",
       "      <td>0.0</td>\n",
       "      <td>-</td>\n",
       "      <td>Malicious</td>\n",
       "      <td>PartOfAHorizontalPortScan</td>\n",
       "    </tr>\n",
       "    <tr>\n",
       "      <th>3</th>\n",
       "      <td>1.525880e+09</td>\n",
       "      <td>CDe43c1PtgynajGI6</td>\n",
       "      <td>192.168.100.103</td>\n",
       "      <td>60905.0</td>\n",
       "      <td>131.174.215.147</td>\n",
       "      <td>23.0</td>\n",
       "      <td>tcp</td>\n",
       "      <td>-</td>\n",
       "      <td>2.998796</td>\n",
       "      <td>0</td>\n",
       "      <td>...</td>\n",
       "      <td>-</td>\n",
       "      <td>0.0</td>\n",
       "      <td>S</td>\n",
       "      <td>3.0</td>\n",
       "      <td>180.0</td>\n",
       "      <td>0.0</td>\n",
       "      <td>0.0</td>\n",
       "      <td>-</td>\n",
       "      <td>Malicious</td>\n",
       "      <td>PartOfAHorizontalPortScan</td>\n",
       "    </tr>\n",
       "    <tr>\n",
       "      <th>4</th>\n",
       "      <td>1.525880e+09</td>\n",
       "      <td>CJaDcG3MZzvf1YVYI4</td>\n",
       "      <td>192.168.100.103</td>\n",
       "      <td>44301.0</td>\n",
       "      <td>91.42.47.63</td>\n",
       "      <td>23.0</td>\n",
       "      <td>tcp</td>\n",
       "      <td>-</td>\n",
       "      <td>-</td>\n",
       "      <td>-</td>\n",
       "      <td>...</td>\n",
       "      <td>-</td>\n",
       "      <td>0.0</td>\n",
       "      <td>S</td>\n",
       "      <td>1.0</td>\n",
       "      <td>60.0</td>\n",
       "      <td>0.0</td>\n",
       "      <td>0.0</td>\n",
       "      <td>-</td>\n",
       "      <td>Malicious</td>\n",
       "      <td>PartOfAHorizontalPortScan</td>\n",
       "    </tr>\n",
       "  </tbody>\n",
       "</table>\n",
       "<p>5 rows × 23 columns</p>\n",
       "</div>"
      ],
      "text/plain": [
       "             ts                 uid        id.orig_h  id.orig_p  \\\n",
       "0  1.525880e+09  CUmrqr4svHuSXJy5z7  192.168.100.103    51524.0   \n",
       "1  1.525880e+09  CH98aB3s1kJeq6SFOc  192.168.100.103    56305.0   \n",
       "2  1.525880e+09   C3GBTkINvXNjVGtN5  192.168.100.103    41101.0   \n",
       "3  1.525880e+09   CDe43c1PtgynajGI6  192.168.100.103    60905.0   \n",
       "4  1.525880e+09  CJaDcG3MZzvf1YVYI4  192.168.100.103    44301.0   \n",
       "\n",
       "         id.resp_h  id.resp_p proto service  duration orig_bytes  ...  \\\n",
       "0   65.127.233.163       23.0   tcp       -  2.999051          0  ...   \n",
       "1    63.150.16.171       23.0   tcp       -         -          -  ...   \n",
       "2     111.40.23.49       23.0   tcp       -         -          -  ...   \n",
       "3  131.174.215.147       23.0   tcp       -  2.998796          0  ...   \n",
       "4      91.42.47.63       23.0   tcp       -         -          -  ...   \n",
       "\n",
       "  local_resp missed_bytes history orig_pkts  orig_ip_bytes resp_pkts  \\\n",
       "0          -          0.0       S       3.0          180.0       0.0   \n",
       "1          -          0.0       S       1.0           60.0       0.0   \n",
       "2          -          0.0       S       1.0           60.0       0.0   \n",
       "3          -          0.0       S       3.0          180.0       0.0   \n",
       "4          -          0.0       S       1.0           60.0       0.0   \n",
       "\n",
       "   resp_ip_bytes  tunnel_parents      label             detailed-label  \n",
       "0            0.0               -  Malicious  PartOfAHorizontalPortScan  \n",
       "1            0.0               -  Malicious  PartOfAHorizontalPortScan  \n",
       "2            0.0               -  Malicious  PartOfAHorizontalPortScan  \n",
       "3            0.0               -  Malicious  PartOfAHorizontalPortScan  \n",
       "4            0.0               -  Malicious  PartOfAHorizontalPortScan  \n",
       "\n",
       "[5 rows x 23 columns]"
      ]
     },
     "execution_count": 8,
     "metadata": {},
     "output_type": "execute_result"
    }
   ],
   "source": [
    "df.head()"
   ]
  },
  {
   "cell_type": "code",
   "execution_count": 9,
   "id": "6c4b35dd",
   "metadata": {},
   "outputs": [],
   "source": [
    "df.replace('-', np.nan, inplace=True)"
   ]
  },
  {
   "cell_type": "code",
   "execution_count": 10,
   "id": "b88413ee",
   "metadata": {},
   "outputs": [
    {
     "data": {
      "text/plain": [
       "ts                      0\n",
       "uid                     0\n",
       "id.orig_h               0\n",
       "id.orig_p               0\n",
       "id.resp_h               0\n",
       "id.resp_p               0\n",
       "proto                   0\n",
       "service           4985873\n",
       "duration          2803111\n",
       "orig_bytes        2803111\n",
       "resp_bytes        2803111\n",
       "conn_state              0\n",
       "local_orig        5000000\n",
       "local_resp        5000000\n",
       "missed_bytes            0\n",
       "history             19399\n",
       "orig_pkts               0\n",
       "orig_ip_bytes           0\n",
       "resp_pkts               0\n",
       "resp_ip_bytes           0\n",
       "tunnel_parents    5000000\n",
       "label                   0\n",
       "detailed-label    4308919\n",
       "dtype: int64"
      ]
     },
     "execution_count": 10,
     "metadata": {},
     "output_type": "execute_result"
    }
   ],
   "source": [
    "df.isnull().sum()"
   ]
  },
  {
   "cell_type": "code",
   "execution_count": 11,
   "id": "7eb7be40",
   "metadata": {},
   "outputs": [
    {
     "data": {
      "text/plain": [
       "(5000000, 23)"
      ]
     },
     "execution_count": 11,
     "metadata": {},
     "output_type": "execute_result"
    }
   ],
   "source": [
    "df.shape\n"
   ]
  },
  {
   "cell_type": "code",
   "execution_count": 12,
   "id": "5f89a8ce",
   "metadata": {},
   "outputs": [
    {
     "data": {
      "text/plain": [
       "array(['Malicious', 'Benign', 'Malicious   C&C',\n",
       "       'Malicious   PartOfAHorizontalPortScan', 'Malicious   DDoS',\n",
       "       'Malicious   Attack'], dtype=object)"
      ]
     },
     "execution_count": 12,
     "metadata": {},
     "output_type": "execute_result"
    }
   ],
   "source": [
    "df['label'].unique()"
   ]
  },
  {
   "cell_type": "code",
   "execution_count": 13,
   "id": "b8dc8fc4",
   "metadata": {},
   "outputs": [
    {
     "data": {
      "text/plain": [
       "array([nan, 'http', 'dhcp', 'ssh', 'dns', 'irc'], dtype=object)"
      ]
     },
     "execution_count": 13,
     "metadata": {},
     "output_type": "execute_result"
    }
   ],
   "source": [
    "df['service'].unique()"
   ]
  },
  {
   "cell_type": "code",
   "execution_count": 14,
   "id": "1c14a417",
   "metadata": {},
   "outputs": [
    {
     "data": {
      "text/plain": [
       "array(['S', 'Sr', 'D', 'Dd', nan, 'R', 'ShAdaFr', 'ShAfFa', 'ShAdfFa',\n",
       "       'ShAF', '^r', 'ShADadfR', 'ShA', 'ShADr', 'ShADFr', 'ShAdDafF',\n",
       "       'ShAr', 'ShADafr', 'ShADarfF', 'ShAFr', 'ShAdDaFf', 'ShAdDaTFf',\n",
       "       'ShADF', 'ShAdDaTF', 'SaR', 'ShAdDtafF', 'ShADadRf', 'ShAdDaFr',\n",
       "       'ShAdDaFRf', 'ShADadfF', 'ShADFadfRR', 'ShADafF', 'ShAdDatFf',\n",
       "       'ShADadR', 'ShAdtDaFrR', 'ShAdDatFr', 'ShAdtDaFr', 'ShAdDatFrR',\n",
       "       'ShAdDaFrR', 'ShAdDatfF', 'D^', 'ShADdfFa', 'ShAdDfFr',\n",
       "       'ShAdDafFr', 'ShADrfR', 'ShADdafR', 'ShAFf', 'ShADaF', 'ShAFa',\n",
       "       'ShAdDaF', 'ShAdF', 'ShAdDafrR', 'ShAdDafFrR', 'ShADfdtR',\n",
       "       'ShAdDarfR', 'SahAdDrfR', 'Fr', 'ShAdDatrfR', 'ShADar', 'ShAdDr',\n",
       "       'HaDdR', 'ShADadFf', 'ShAdDaTfF', 'ShAdDTafF', 'ShAdDaTFfR',\n",
       "       'ShAdDaftF', 'ShAdFaf', 'ShAFfR', 'ShAdDafrFr', 'ShADfFr',\n",
       "       'ShADfrFr', 'ShrA', 'F', 'ShADafdtF', 'ShAdr', 'ShAdDtaFr',\n",
       "       'ShAdDFar', 'ShAdDarr', 'ShAdDaFfr', 'HaDdAfF', 'ShAdDaFfR',\n",
       "       'HaFfA', 'ShAdDafFR', 'Ar', 'ShAdDaFRfR', 'ShAdDaFTf', 'ShADdfR',\n",
       "       'FfA', 'Fa', 'HaDdAFf', 'FaAr', 'ShAFafR', 'HaDdAFTf',\n",
       "       'ShAdDaftFR', 'ShADfaF', '^hADafF', 'ShADfFa', 'ShAdDFfR',\n",
       "       'ShAfdtDFr', 'ShAdfDFr', 'HaR', '^aR', 'ShADfFrr', 'ShAdDfFa',\n",
       "       'ShAadDfF', 'ShADfdtFaR', 'ShAdDar', 'FaR', 'ShAFdRfR',\n",
       "       'ShAdDafFrr', 'Ffa', 'ShAdtDafF', 'ShAdDaFRRf', 'ShAdDtafFr',\n",
       "       'ShAdDafr', 'HaADdFf', 'HaDdTAFf', 'HafFr', 'ShADfR', '^hADadfR',\n",
       "       '^hA', 'ShAFdfRt', '^hADFr', 'ShADfrF', 'ShADfF', '^hADr', '^d',\n",
       "       'D^d', 'ShADaCGdtfF', 'ShADaCGr', 'ShADCaGcgd', '^dDA',\n",
       "       'ShADCaGdfF', 'ShADaCGcgdF', 'ShADaCGdt', 'ShADadfrr', 'DdA',\n",
       "       'ShAadDr', 'ShADFfR', 'ShADad', 'ShADFa', 'ShR', '^aA', 'ShADFar',\n",
       "       'ShAdDaFRRfR', 'ShAdDaR', 'ShAdDaFRRRf', 'ShADFaR', 'ShArR',\n",
       "       'ShADadFfR', 'ShAa', 'ShAdDaFT', 'ShAdDFf', 'ShAdDaFRR',\n",
       "       'ShAdDaFR', 'ShAdDaFRfRR', 'ShAdDatR', 'ShADFfa', 'ShADaR',\n",
       "       'ShAafF', 'ShADa', 'ShAdDFaf', 'ShAdDaFfRR', 'ShAdDtaFf',\n",
       "       'ShAadDFf', 'ShAadDFRf', 'ShAdDaTFRf', 'ShAadDFR', 'SahAdDFRf',\n",
       "       'SahAdDFf', 'DFafA', 'SahAdDtFf', 'SahAdDF', 'ShADFadfR',\n",
       "       'ShAdDaFRr', 'ShADadttcfF', 'ShADadtcfF', 'ShADadtctfF', 'DdAtaFf',\n",
       "       'ShAdDaf', 'ShADacdtfF', 'ShADadtctfFR', 'ShAdDaft', 'ShADadttfF',\n",
       "       'ShAdfDr', 'ShAfdtDr', 'ShAdDatf', 'ShAdDatfr', 'ShDadAf', 'ShAdD',\n",
       "       'ShADadf', 'ShAdDfr', 'ShAD', 'C', 'CCCC', 'CCC', 'ShAdDa',\n",
       "       'DdAaFf', 'ShADadtfF', 'ShAdDaTR', 'ShAfF', 'ShAaw', 'ShAdDaTRr',\n",
       "       'ShAdfDF', 'ShwA', 'ShAdfr', 'ShAdDaTFR', 'ShwAr', 'ShAdDaRr'],\n",
       "      dtype=object)"
      ]
     },
     "execution_count": 14,
     "metadata": {},
     "output_type": "execute_result"
    }
   ],
   "source": [
    "df['history'].unique()"
   ]
  },
  {
   "cell_type": "code",
   "execution_count": 15,
   "id": "d8897e58",
   "metadata": {},
   "outputs": [
    {
     "data": {
      "image/png": "[encoded data removed]",
      "text/plain": [
       "<Figure size 640x480 with 1 Axes>"
      ]
     },
     "metadata": {},
     "output_type": "display_data"
    }
   ],
   "source": [
    "df['label'].value_counts().plot(kind = 'bar')\n",
    "plt.xlabel('Category')\n",
    "plt.ylabel('Count')\n",
    "plt.title('Bar Chart')\n",
    "\n",
    "plt.show()"
   ]
  },
  {
   "cell_type": "code",
   "execution_count": 16,
   "id": "0d7a17e4",
   "metadata": {},
   "outputs": [],
   "source": [
    "data = df['service'].value_counts()"
   ]
  },
  {
   "cell_type": "code",
   "execution_count": 17,
   "id": "bedca2dd",
   "metadata": {},
   "outputs": [
    {
     "data": {
      "image/png": "[encoded data removed]",
      "text/plain": [
       "<Figure size 800x800 with 1 Axes>"
      ]
     },
     "metadata": {},
     "output_type": "display_data"
    }
   ],
   "source": [
    "plt.figure(figsize=(8, 8))  # Adjust the figure size as needed\n",
    "plt.pie(data, labels=data.index, autopct='%1.1f%%', startangle=140)\n",
    "plt.title('Distribution of Categories')\n",
    "plt.axis('equal')  # Equal aspect ratio ensures that pie is drawn as a circle.\n",
    "\n",
    "plt.show()\n"
   ]
  },
  {
   "cell_type": "code",
   "execution_count": 19,
   "id": "c649a7a8",
   "metadata": {},
   "outputs": [],
   "source": [
    "df = pd.get_dummies(data = df, columns=['proto', 'conn_state', 'service'],drop_first=True)\n",
    "df['history'] = pd.factorize(df['history'])[0] + 1\n"
   ]
  },
  {
   "cell_type": "code",
   "execution_count": 20,
   "id": "78be5347",
   "metadata": {},
   "outputs": [],
   "source": [
    "df['duration'] = df['duration'].astype('float')\n",
    "df['orig_bytes'] = df['orig_bytes'].astype('float')\n",
    "df['resp_bytes'] = df['resp_bytes'].astype('float')"
   ]
  },
  {
   "cell_type": "code",
   "execution_count": 22,
   "id": "caef209b",
   "metadata": {},
   "outputs": [],
   "source": [
    "desired_value = 'Benign'\n",
    "\n",
    "df['label'] = [1 if x == desired_value else 0 for x in df['label']]\n",
    "\n"
   ]
  },
  {
   "cell_type": "code",
   "execution_count": 23,
   "id": "3bfb8bc1",
   "metadata": {},
   "outputs": [
    {
     "data": {
      "text/plain": [
       "2056640    1\n",
       "3216179    1\n",
       "3783506    1\n",
       "726730     0\n",
       "1168707    1\n",
       "46557      0\n",
       "1633575    1\n",
       "2688990    1\n",
       "1954778    1\n",
       "3181776    1\n",
       "770992     1\n",
       "1809116    1\n",
       "3586074    1\n",
       "1829208    1\n",
       "769749     1\n",
       "2536439    1\n",
       "1507804    1\n",
       "2147017    1\n",
       "2424476    1\n",
       "2301332    1\n",
       "1005569    1\n",
       "1770770    1\n",
       "2949138    1\n",
       "3324160    1\n",
       "2759823    1\n",
       "Name: label, dtype: int64"
      ]
     },
     "execution_count": 23,
     "metadata": {},
     "output_type": "execute_result"
    }
   ],
   "source": [
    "df['label'].sample(25)"
   ]
  },
  {
   "cell_type": "code",
   "execution_count": 24,
   "id": "413455b0",
   "metadata": {},
   "outputs": [],
   "source": [
    "df = df.drop(columns=['uid', 'local_orig', 'local_resp', 'tunnel_parents', 'detailed-label', 'id.orig_h', 'id.resp_h'])"
   ]
  },
  {
   "cell_type": "code",
   "execution_count": 25,
   "id": "69f8bbe6",
   "metadata": {},
   "outputs": [],
   "source": [
    "df = df.fillna(0)"
   ]
  },
  {
   "cell_type": "code",
   "execution_count": 26,
   "id": "94f9714f",
   "metadata": {},
   "outputs": [
    {
     "data": {
      "image/png": "[encoded data removed]",
      "text/plain": [
       "<Figure size 640x480 with 1 Axes>"
      ]
     },
     "metadata": {},
     "output_type": "display_data"
    }
   ],
   "source": [
    "import scipy.cluster.hierarchy as sch\n",
    "\n",
    "correlation_matrix = df.corr()\n",
    "dendrogram = sch.dendrogram(sch.linkage(correlation_matrix, method='ward'))\n",
    "plt.show()\n"
   ]
  }
 ],
 "metadata": {
  "kernelspec": {
   "display_name": "Python 3 (ipykernel)",
   "language": "python",
   "name": "python3"
  },
  "language_info": {
   "codemirror_mode": {
    "name": "ipython",
    "version": 3
   },
   "file_extension": ".py",
   "mimetype": "text/x-python",
   "name": "python",
   "nbconvert_exporter": "python",
   "pygments_lexer": "ipython3",
   "version": "3.11.4"
  }
 },
 "nbformat": 4,
 "nbformat_minor": 5
}
