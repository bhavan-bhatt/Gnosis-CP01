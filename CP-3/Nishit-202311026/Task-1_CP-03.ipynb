{
 "cells": [
  {
   "cell_type": "code",
   "execution_count": 214,
   "id": "e5a671f3",
   "metadata": {},
   "outputs": [],
   "source": [
    "import pandas as pd\n",
    "import numpy as np\n",
    "import matplotlib.pyplot as plt"
   ]
  },
  {
   "cell_type": "code",
   "execution_count": 215,
   "id": "38735d1b",
   "metadata": {},
   "outputs": [],
   "source": [
    "df = pd.read_csv('Task1-data\\deliveries.csv')"
   ]
  },
  {
   "cell_type": "code",
   "execution_count": 216,
   "id": "a8e821c9",
   "metadata": {},
   "outputs": [
    {
     "data": {
      "text/html": [
       "<div>\n",
       "<style scoped>\n",
       "    .dataframe tbody tr th:only-of-type {\n",
       "        vertical-align: middle;\n",
       "    }\n",
       "\n",
       "    .dataframe tbody tr th {\n",
       "        vertical-align: top;\n",
       "    }\n",
       "\n",
       "    .dataframe thead th {\n",
       "        text-align: right;\n",
       "    }\n",
       "</style>\n",
       "<table border=\"1\" class=\"dataframe\">\n",
       "  <thead>\n",
       "    <tr style=\"text-align: right;\">\n",
       "      <th></th>\n",
       "      <th>match_id</th>\n",
       "      <th>season</th>\n",
       "      <th>start_date</th>\n",
       "      <th>venue</th>\n",
       "      <th>innings</th>\n",
       "      <th>ball</th>\n",
       "      <th>batting_team</th>\n",
       "      <th>bowling_team</th>\n",
       "      <th>striker</th>\n",
       "      <th>non_striker</th>\n",
       "      <th>...</th>\n",
       "      <th>extras</th>\n",
       "      <th>wides</th>\n",
       "      <th>noballs</th>\n",
       "      <th>byes</th>\n",
       "      <th>legbyes</th>\n",
       "      <th>penalty</th>\n",
       "      <th>wicket_type</th>\n",
       "      <th>player_dismissed</th>\n",
       "      <th>other_wicket_type</th>\n",
       "      <th>other_player_dismissed</th>\n",
       "    </tr>\n",
       "  </thead>\n",
       "  <tbody>\n",
       "    <tr>\n",
       "      <th>0</th>\n",
       "      <td>1</td>\n",
       "      <td>2023/24</td>\n",
       "      <td>2023-10-05</td>\n",
       "      <td>Narendra Modi Stadium, Ahmedabad</td>\n",
       "      <td>1</td>\n",
       "      <td>0.1</td>\n",
       "      <td>England</td>\n",
       "      <td>New Zealand</td>\n",
       "      <td>JM Bairstow</td>\n",
       "      <td>DJ Malan</td>\n",
       "      <td>...</td>\n",
       "      <td>0</td>\n",
       "      <td>NaN</td>\n",
       "      <td>NaN</td>\n",
       "      <td>NaN</td>\n",
       "      <td>NaN</td>\n",
       "      <td>NaN</td>\n",
       "      <td>NaN</td>\n",
       "      <td>NaN</td>\n",
       "      <td>NaN</td>\n",
       "      <td>NaN</td>\n",
       "    </tr>\n",
       "    <tr>\n",
       "      <th>1</th>\n",
       "      <td>1</td>\n",
       "      <td>2023/24</td>\n",
       "      <td>2023-10-05</td>\n",
       "      <td>Narendra Modi Stadium, Ahmedabad</td>\n",
       "      <td>1</td>\n",
       "      <td>0.2</td>\n",
       "      <td>England</td>\n",
       "      <td>New Zealand</td>\n",
       "      <td>JM Bairstow</td>\n",
       "      <td>DJ Malan</td>\n",
       "      <td>...</td>\n",
       "      <td>0</td>\n",
       "      <td>NaN</td>\n",
       "      <td>NaN</td>\n",
       "      <td>NaN</td>\n",
       "      <td>NaN</td>\n",
       "      <td>NaN</td>\n",
       "      <td>NaN</td>\n",
       "      <td>NaN</td>\n",
       "      <td>NaN</td>\n",
       "      <td>NaN</td>\n",
       "    </tr>\n",
       "    <tr>\n",
       "      <th>2</th>\n",
       "      <td>1</td>\n",
       "      <td>2023/24</td>\n",
       "      <td>2023-10-05</td>\n",
       "      <td>Narendra Modi Stadium, Ahmedabad</td>\n",
       "      <td>1</td>\n",
       "      <td>0.3</td>\n",
       "      <td>England</td>\n",
       "      <td>New Zealand</td>\n",
       "      <td>JM Bairstow</td>\n",
       "      <td>DJ Malan</td>\n",
       "      <td>...</td>\n",
       "      <td>0</td>\n",
       "      <td>NaN</td>\n",
       "      <td>NaN</td>\n",
       "      <td>NaN</td>\n",
       "      <td>NaN</td>\n",
       "      <td>NaN</td>\n",
       "      <td>NaN</td>\n",
       "      <td>NaN</td>\n",
       "      <td>NaN</td>\n",
       "      <td>NaN</td>\n",
       "    </tr>\n",
       "    <tr>\n",
       "      <th>3</th>\n",
       "      <td>1</td>\n",
       "      <td>2023/24</td>\n",
       "      <td>2023-10-05</td>\n",
       "      <td>Narendra Modi Stadium, Ahmedabad</td>\n",
       "      <td>1</td>\n",
       "      <td>0.4</td>\n",
       "      <td>England</td>\n",
       "      <td>New Zealand</td>\n",
       "      <td>DJ Malan</td>\n",
       "      <td>JM Bairstow</td>\n",
       "      <td>...</td>\n",
       "      <td>0</td>\n",
       "      <td>NaN</td>\n",
       "      <td>NaN</td>\n",
       "      <td>NaN</td>\n",
       "      <td>NaN</td>\n",
       "      <td>NaN</td>\n",
       "      <td>NaN</td>\n",
       "      <td>NaN</td>\n",
       "      <td>NaN</td>\n",
       "      <td>NaN</td>\n",
       "    </tr>\n",
       "    <tr>\n",
       "      <th>4</th>\n",
       "      <td>1</td>\n",
       "      <td>2023/24</td>\n",
       "      <td>2023-10-05</td>\n",
       "      <td>Narendra Modi Stadium, Ahmedabad</td>\n",
       "      <td>1</td>\n",
       "      <td>0.5</td>\n",
       "      <td>England</td>\n",
       "      <td>New Zealand</td>\n",
       "      <td>JM Bairstow</td>\n",
       "      <td>DJ Malan</td>\n",
       "      <td>...</td>\n",
       "      <td>0</td>\n",
       "      <td>NaN</td>\n",
       "      <td>NaN</td>\n",
       "      <td>NaN</td>\n",
       "      <td>NaN</td>\n",
       "      <td>NaN</td>\n",
       "      <td>NaN</td>\n",
       "      <td>NaN</td>\n",
       "      <td>NaN</td>\n",
       "      <td>NaN</td>\n",
       "    </tr>\n",
       "  </tbody>\n",
       "</table>\n",
       "<p>5 rows × 22 columns</p>\n",
       "</div>"
      ],
      "text/plain": [
       "   match_id   season  start_date                             venue  innings  \\\n",
       "0         1  2023/24  2023-10-05  Narendra Modi Stadium, Ahmedabad        1   \n",
       "1         1  2023/24  2023-10-05  Narendra Modi Stadium, Ahmedabad        1   \n",
       "2         1  2023/24  2023-10-05  Narendra Modi Stadium, Ahmedabad        1   \n",
       "3         1  2023/24  2023-10-05  Narendra Modi Stadium, Ahmedabad        1   \n",
       "4         1  2023/24  2023-10-05  Narendra Modi Stadium, Ahmedabad        1   \n",
       "\n",
       "   ball batting_team bowling_team      striker  non_striker  ... extras  \\\n",
       "0   0.1      England  New Zealand  JM Bairstow     DJ Malan  ...      0   \n",
       "1   0.2      England  New Zealand  JM Bairstow     DJ Malan  ...      0   \n",
       "2   0.3      England  New Zealand  JM Bairstow     DJ Malan  ...      0   \n",
       "3   0.4      England  New Zealand     DJ Malan  JM Bairstow  ...      0   \n",
       "4   0.5      England  New Zealand  JM Bairstow     DJ Malan  ...      0   \n",
       "\n",
       "   wides  noballs  byes  legbyes  penalty  wicket_type  player_dismissed  \\\n",
       "0    NaN      NaN   NaN      NaN      NaN          NaN               NaN   \n",
       "1    NaN      NaN   NaN      NaN      NaN          NaN               NaN   \n",
       "2    NaN      NaN   NaN      NaN      NaN          NaN               NaN   \n",
       "3    NaN      NaN   NaN      NaN      NaN          NaN               NaN   \n",
       "4    NaN      NaN   NaN      NaN      NaN          NaN               NaN   \n",
       "\n",
       "  other_wicket_type other_player_dismissed  \n",
       "0               NaN                    NaN  \n",
       "1               NaN                    NaN  \n",
       "2               NaN                    NaN  \n",
       "3               NaN                    NaN  \n",
       "4               NaN                    NaN  \n",
       "\n",
       "[5 rows x 22 columns]"
      ]
     },
     "execution_count": 216,
     "metadata": {},
     "output_type": "execute_result"
    }
   ],
   "source": [
    "df.head()"
   ]
  },
  {
   "cell_type": "code",
   "execution_count": 217,
   "id": "75b1cc78",
   "metadata": {},
   "outputs": [
    {
     "data": {
      "text/plain": [
       "Index(['match_id', 'season', 'start_date', 'venue', 'innings', 'ball',\n",
       "       'batting_team', 'bowling_team', 'striker', 'non_striker', 'bowler',\n",
       "       'runs_off_bat', 'extras', 'wides', 'noballs', 'byes', 'legbyes',\n",
       "       'penalty', 'wicket_type', 'player_dismissed', 'other_wicket_type',\n",
       "       'other_player_dismissed'],\n",
       "      dtype='object')"
      ]
     },
     "execution_count": 217,
     "metadata": {},
     "output_type": "execute_result"
    }
   ],
   "source": [
    "df.columns"
   ]
  },
  {
   "cell_type": "code",
   "execution_count": 218,
   "id": "1421a709",
   "metadata": {},
   "outputs": [
    {
     "data": {
      "text/plain": [
       "array([0, 6, 1, 4, 2, 3, 5], dtype=int64)"
      ]
     },
     "execution_count": 218,
     "metadata": {},
     "output_type": "execute_result"
    }
   ],
   "source": [
    "df['runs_off_bat'].unique()"
   ]
  },
  {
   "cell_type": "code",
   "execution_count": 219,
   "id": "45c33611",
   "metadata": {},
   "outputs": [
    {
     "data": {
      "text/plain": [
       "array([nan, 'caught', 'bowled', 'caught and bowled', 'lbw', 'run out',\n",
       "       'stumped', 'retired hurt'], dtype=object)"
      ]
     },
     "execution_count": 219,
     "metadata": {},
     "output_type": "execute_result"
    }
   ],
   "source": [
    "df['wicket_type'].unique()"
   ]
  },
  {
   "cell_type": "code",
   "execution_count": 220,
   "id": "f7a8bb6f",
   "metadata": {},
   "outputs": [
    {
     "data": {
      "text/plain": [
       "array(['New Zealand', 'England', 'Netherlands', 'Pakistan', 'Bangladesh',\n",
       "       'Afghanistan', 'Sri Lanka', 'South Africa', 'India', 'Australia'],\n",
       "      dtype=object)"
      ]
     },
     "execution_count": 220,
     "metadata": {},
     "output_type": "execute_result"
    }
   ],
   "source": [
    "df['bowling_team'].unique()"
   ]
  },
  {
   "cell_type": "code",
   "execution_count": 221,
   "id": "1707aae4",
   "metadata": {},
   "outputs": [
    {
     "data": {
      "text/plain": [
       "array([nan])"
      ]
     },
     "execution_count": 221,
     "metadata": {},
     "output_type": "execute_result"
    }
   ],
   "source": [
    "df['other_player_dismissed'].unique()"
   ]
  },
  {
   "cell_type": "code",
   "execution_count": 222,
   "id": "6838a77d",
   "metadata": {},
   "outputs": [
    {
     "data": {
      "text/plain": [
       "0    9181\n",
       "1    5525\n",
       "4    1480\n",
       "2     726\n",
       "6     418\n",
       "3      48\n",
       "5       2\n",
       "Name: runs_off_bat, dtype: int64"
      ]
     },
     "execution_count": 222,
     "metadata": {},
     "output_type": "execute_result"
    }
   ],
   "source": [
    "df['runs_off_bat'].value_counts()"
   ]
  },
  {
   "cell_type": "code",
   "execution_count": 223,
   "id": "ace303f0",
   "metadata": {},
   "outputs": [],
   "source": [
    "df2 = df[['match_id','innings','venue','batting_team','bowling_team','runs_off_bat']]\n"
   ]
  },
  {
   "cell_type": "code",
   "execution_count": 224,
   "id": "f4118514",
   "metadata": {},
   "outputs": [
    {
     "data": {
      "text/html": [
       "<div>\n",
       "<style scoped>\n",
       "    .dataframe tbody tr th:only-of-type {\n",
       "        vertical-align: middle;\n",
       "    }\n",
       "\n",
       "    .dataframe tbody tr th {\n",
       "        vertical-align: top;\n",
       "    }\n",
       "\n",
       "    .dataframe thead th {\n",
       "        text-align: right;\n",
       "    }\n",
       "</style>\n",
       "<table border=\"1\" class=\"dataframe\">\n",
       "  <thead>\n",
       "    <tr style=\"text-align: right;\">\n",
       "      <th></th>\n",
       "      <th>match_id</th>\n",
       "      <th>innings</th>\n",
       "      <th>venue</th>\n",
       "      <th>batting_team</th>\n",
       "      <th>bowling_team</th>\n",
       "      <th>runs_off_bat</th>\n",
       "    </tr>\n",
       "  </thead>\n",
       "  <tbody>\n",
       "    <tr>\n",
       "      <th>0</th>\n",
       "      <td>1</td>\n",
       "      <td>1</td>\n",
       "      <td>Narendra Modi Stadium, Ahmedabad</td>\n",
       "      <td>England</td>\n",
       "      <td>New Zealand</td>\n",
       "      <td>0</td>\n",
       "    </tr>\n",
       "    <tr>\n",
       "      <th>1</th>\n",
       "      <td>1</td>\n",
       "      <td>1</td>\n",
       "      <td>Narendra Modi Stadium, Ahmedabad</td>\n",
       "      <td>England</td>\n",
       "      <td>New Zealand</td>\n",
       "      <td>6</td>\n",
       "    </tr>\n",
       "    <tr>\n",
       "      <th>2</th>\n",
       "      <td>1</td>\n",
       "      <td>1</td>\n",
       "      <td>Narendra Modi Stadium, Ahmedabad</td>\n",
       "      <td>England</td>\n",
       "      <td>New Zealand</td>\n",
       "      <td>1</td>\n",
       "    </tr>\n",
       "    <tr>\n",
       "      <th>3</th>\n",
       "      <td>1</td>\n",
       "      <td>1</td>\n",
       "      <td>Narendra Modi Stadium, Ahmedabad</td>\n",
       "      <td>England</td>\n",
       "      <td>New Zealand</td>\n",
       "      <td>1</td>\n",
       "    </tr>\n",
       "    <tr>\n",
       "      <th>4</th>\n",
       "      <td>1</td>\n",
       "      <td>1</td>\n",
       "      <td>Narendra Modi Stadium, Ahmedabad</td>\n",
       "      <td>England</td>\n",
       "      <td>New Zealand</td>\n",
       "      <td>4</td>\n",
       "    </tr>\n",
       "  </tbody>\n",
       "</table>\n",
       "</div>"
      ],
      "text/plain": [
       "   match_id  innings                             venue batting_team  \\\n",
       "0         1        1  Narendra Modi Stadium, Ahmedabad      England   \n",
       "1         1        1  Narendra Modi Stadium, Ahmedabad      England   \n",
       "2         1        1  Narendra Modi Stadium, Ahmedabad      England   \n",
       "3         1        1  Narendra Modi Stadium, Ahmedabad      England   \n",
       "4         1        1  Narendra Modi Stadium, Ahmedabad      England   \n",
       "\n",
       "  bowling_team  runs_off_bat  \n",
       "0  New Zealand             0  \n",
       "1  New Zealand             6  \n",
       "2  New Zealand             1  \n",
       "3  New Zealand             1  \n",
       "4  New Zealand             4  "
      ]
     },
     "execution_count": 224,
     "metadata": {},
     "output_type": "execute_result"
    }
   ],
   "source": [
    "df2.head()"
   ]
  },
  {
   "cell_type": "code",
   "execution_count": 225,
   "id": "41f923f5",
   "metadata": {},
   "outputs": [
    {
     "data": {
      "text/plain": [
       "(17380, 6)"
      ]
     },
     "execution_count": 225,
     "metadata": {},
     "output_type": "execute_result"
    }
   ],
   "source": [
    "df2.shape"
   ]
  },
  {
   "cell_type": "code",
   "execution_count": 226,
   "id": "cc315492",
   "metadata": {},
   "outputs": [
    {
     "data": {
      "text/plain": [
       "match_id        0\n",
       "innings         0\n",
       "venue           0\n",
       "batting_team    0\n",
       "bowling_team    0\n",
       "runs_off_bat    0\n",
       "dtype: int64"
      ]
     },
     "execution_count": 226,
     "metadata": {},
     "output_type": "execute_result"
    }
   ],
   "source": [
    "df2.isnull().sum()"
   ]
  },
  {
   "cell_type": "code",
   "execution_count": 227,
   "id": "7f9fc0d2",
   "metadata": {},
   "outputs": [],
   "source": [
    "filtered_df = df2[df2['runs_off_bat'].isin([4, 6])]\n"
   ]
  },
  {
   "cell_type": "code",
   "execution_count": 228,
   "id": "766ad68d",
   "metadata": {},
   "outputs": [
    {
     "data": {
      "text/plain": [
       "(1898, 6)"
      ]
     },
     "execution_count": 228,
     "metadata": {},
     "output_type": "execute_result"
    }
   ],
   "source": [
    "filtered_df.shape"
   ]
  },
  {
   "cell_type": "code",
   "execution_count": 229,
   "id": "50dc4513",
   "metadata": {},
   "outputs": [
    {
     "name": "stderr",
     "output_type": "stream",
     "text": [
      "C:\\Users\\NISHIT\\AppData\\Local\\Temp\\ipykernel_3188\\1991632829.py:1: SettingWithCopyWarning: \n",
      "A value is trying to be set on a copy of a slice from a DataFrame.\n",
      "Try using .loc[row_indexer,col_indexer] = value instead\n",
      "\n",
      "See the caveats in the documentation: https://pandas.pydata.org/pandas-docs/stable/user_guide/indexing.html#returning-a-view-versus-a-copy\n",
      "  filtered_df['Total_Boundaries'] = filtered_df.groupby(['match_id'])['runs_off_bat'].transform('count')\n"
     ]
    }
   ],
   "source": [
    "filtered_df['Total_Boundaries'] = filtered_df.groupby(['match_id'])['runs_off_bat'].transform('count')\n"
   ]
  },
  {
   "cell_type": "code",
   "execution_count": 230,
   "id": "e1ab7863",
   "metadata": {},
   "outputs": [
    {
     "data": {
      "text/html": [
       "<div>\n",
       "<style scoped>\n",
       "    .dataframe tbody tr th:only-of-type {\n",
       "        vertical-align: middle;\n",
       "    }\n",
       "\n",
       "    .dataframe tbody tr th {\n",
       "        vertical-align: top;\n",
       "    }\n",
       "\n",
       "    .dataframe thead th {\n",
       "        text-align: right;\n",
       "    }\n",
       "</style>\n",
       "<table border=\"1\" class=\"dataframe\">\n",
       "  <thead>\n",
       "    <tr style=\"text-align: right;\">\n",
       "      <th></th>\n",
       "      <th>match_id</th>\n",
       "      <th>innings</th>\n",
       "      <th>venue</th>\n",
       "      <th>batting_team</th>\n",
       "      <th>bowling_team</th>\n",
       "      <th>runs_off_bat</th>\n",
       "      <th>Total_Boundaries</th>\n",
       "    </tr>\n",
       "  </thead>\n",
       "  <tbody>\n",
       "    <tr>\n",
       "      <th>1</th>\n",
       "      <td>1</td>\n",
       "      <td>1</td>\n",
       "      <td>Narendra Modi Stadium, Ahmedabad</td>\n",
       "      <td>England</td>\n",
       "      <td>New Zealand</td>\n",
       "      <td>6</td>\n",
       "      <td>65</td>\n",
       "    </tr>\n",
       "    <tr>\n",
       "      <th>4</th>\n",
       "      <td>1</td>\n",
       "      <td>1</td>\n",
       "      <td>Narendra Modi Stadium, Ahmedabad</td>\n",
       "      <td>England</td>\n",
       "      <td>New Zealand</td>\n",
       "      <td>4</td>\n",
       "      <td>65</td>\n",
       "    </tr>\n",
       "    <tr>\n",
       "      <th>20</th>\n",
       "      <td>1</td>\n",
       "      <td>1</td>\n",
       "      <td>Narendra Modi Stadium, Ahmedabad</td>\n",
       "      <td>England</td>\n",
       "      <td>New Zealand</td>\n",
       "      <td>4</td>\n",
       "      <td>65</td>\n",
       "    </tr>\n",
       "    <tr>\n",
       "      <th>24</th>\n",
       "      <td>1</td>\n",
       "      <td>1</td>\n",
       "      <td>Narendra Modi Stadium, Ahmedabad</td>\n",
       "      <td>England</td>\n",
       "      <td>New Zealand</td>\n",
       "      <td>4</td>\n",
       "      <td>65</td>\n",
       "    </tr>\n",
       "    <tr>\n",
       "      <th>34</th>\n",
       "      <td>1</td>\n",
       "      <td>1</td>\n",
       "      <td>Narendra Modi Stadium, Ahmedabad</td>\n",
       "      <td>England</td>\n",
       "      <td>New Zealand</td>\n",
       "      <td>4</td>\n",
       "      <td>65</td>\n",
       "    </tr>\n",
       "  </tbody>\n",
       "</table>\n",
       "</div>"
      ],
      "text/plain": [
       "    match_id  innings                             venue batting_team  \\\n",
       "1          1        1  Narendra Modi Stadium, Ahmedabad      England   \n",
       "4          1        1  Narendra Modi Stadium, Ahmedabad      England   \n",
       "20         1        1  Narendra Modi Stadium, Ahmedabad      England   \n",
       "24         1        1  Narendra Modi Stadium, Ahmedabad      England   \n",
       "34         1        1  Narendra Modi Stadium, Ahmedabad      England   \n",
       "\n",
       "   bowling_team  runs_off_bat  Total_Boundaries  \n",
       "1   New Zealand             6                65  \n",
       "4   New Zealand             4                65  \n",
       "20  New Zealand             4                65  \n",
       "24  New Zealand             4                65  \n",
       "34  New Zealand             4                65  "
      ]
     },
     "execution_count": 230,
     "metadata": {},
     "output_type": "execute_result"
    }
   ],
   "source": [
    "filtered_df.head()"
   ]
  },
  {
   "cell_type": "code",
   "execution_count": 231,
   "id": "d4b06095",
   "metadata": {},
   "outputs": [
    {
     "data": {
      "text/plain": [
       "(1898, 7)"
      ]
     },
     "execution_count": 231,
     "metadata": {},
     "output_type": "execute_result"
    }
   ],
   "source": [
    "filtered_df.shape"
   ]
  },
  {
   "cell_type": "code",
   "execution_count": 232,
   "id": "98dd0dfc",
   "metadata": {},
   "outputs": [],
   "source": [
    "filtered_df_unique = filtered_df.drop_duplicates(subset=['match_id'])\n"
   ]
  },
  {
   "cell_type": "code",
   "execution_count": 233,
   "id": "d42b0e1b",
   "metadata": {},
   "outputs": [
    {
     "data": {
      "text/plain": [
       "(32, 7)"
      ]
     },
     "execution_count": 233,
     "metadata": {},
     "output_type": "execute_result"
    }
   ],
   "source": [
    "filtered_df_unique.shape"
   ]
  },
  {
   "cell_type": "code",
   "execution_count": 234,
   "id": "8e77a8a0",
   "metadata": {},
   "outputs": [
    {
     "data": {
      "text/html": [
       "<div>\n",
       "<style scoped>\n",
       "    .dataframe tbody tr th:only-of-type {\n",
       "        vertical-align: middle;\n",
       "    }\n",
       "\n",
       "    .dataframe tbody tr th {\n",
       "        vertical-align: top;\n",
       "    }\n",
       "\n",
       "    .dataframe thead th {\n",
       "        text-align: right;\n",
       "    }\n",
       "</style>\n",
       "<table border=\"1\" class=\"dataframe\">\n",
       "  <thead>\n",
       "    <tr style=\"text-align: right;\">\n",
       "      <th></th>\n",
       "      <th>match_id</th>\n",
       "      <th>innings</th>\n",
       "      <th>venue</th>\n",
       "      <th>batting_team</th>\n",
       "      <th>bowling_team</th>\n",
       "      <th>runs_off_bat</th>\n",
       "      <th>Total_Boundaries</th>\n",
       "    </tr>\n",
       "  </thead>\n",
       "  <tbody>\n",
       "    <tr>\n",
       "      <th>1</th>\n",
       "      <td>1</td>\n",
       "      <td>1</td>\n",
       "      <td>Narendra Modi Stadium, Ahmedabad</td>\n",
       "      <td>England</td>\n",
       "      <td>New Zealand</td>\n",
       "      <td>6</td>\n",
       "      <td>65</td>\n",
       "    </tr>\n",
       "    <tr>\n",
       "      <th>530</th>\n",
       "      <td>2</td>\n",
       "      <td>1</td>\n",
       "      <td>Rajiv Gandhi International Stadium, Uppal, Hyd...</td>\n",
       "      <td>Pakistan</td>\n",
       "      <td>Netherlands</td>\n",
       "      <td>4</td>\n",
       "      <td>60</td>\n",
       "    </tr>\n",
       "    <tr>\n",
       "      <th>1092</th>\n",
       "      <td>3</td>\n",
       "      <td>1</td>\n",
       "      <td>Himachal Pradesh Cricket Association Stadium, ...</td>\n",
       "      <td>Afghanistan</td>\n",
       "      <td>Bangladesh</td>\n",
       "      <td>4</td>\n",
       "      <td>31</td>\n",
       "    </tr>\n",
       "    <tr>\n",
       "      <th>1528</th>\n",
       "      <td>4</td>\n",
       "      <td>1</td>\n",
       "      <td>Arun Jaitley Stadium, Delhi</td>\n",
       "      <td>South Africa</td>\n",
       "      <td>Sri Lanka</td>\n",
       "      <td>4</td>\n",
       "      <td>105</td>\n",
       "    </tr>\n",
       "    <tr>\n",
       "      <th>2123</th>\n",
       "      <td>5</td>\n",
       "      <td>1</td>\n",
       "      <td>MA Chidambaram Stadium, Chepauk, Chennai</td>\n",
       "      <td>Australia</td>\n",
       "      <td>India</td>\n",
       "      <td>4</td>\n",
       "      <td>35</td>\n",
       "    </tr>\n",
       "    <tr>\n",
       "      <th>2692</th>\n",
       "      <td>6</td>\n",
       "      <td>1</td>\n",
       "      <td>Rajiv Gandhi International Stadium, Uppal, Hyd...</td>\n",
       "      <td>New Zealand</td>\n",
       "      <td>Netherlands</td>\n",
       "      <td>4</td>\n",
       "      <td>62</td>\n",
       "    </tr>\n",
       "    <tr>\n",
       "      <th>3264</th>\n",
       "      <td>7</td>\n",
       "      <td>1</td>\n",
       "      <td>Himachal Pradesh Cricket Association Stadium, ...</td>\n",
       "      <td>England</td>\n",
       "      <td>Bangladesh</td>\n",
       "      <td>4</td>\n",
       "      <td>68</td>\n",
       "    </tr>\n",
       "    <tr>\n",
       "      <th>3860</th>\n",
       "      <td>8</td>\n",
       "      <td>1</td>\n",
       "      <td>Rajiv Gandhi International Stadium, Uppal, Hyd...</td>\n",
       "      <td>Sri Lanka</td>\n",
       "      <td>Pakistan</td>\n",
       "      <td>4</td>\n",
       "      <td>77</td>\n",
       "    </tr>\n",
       "    <tr>\n",
       "      <th>4479</th>\n",
       "      <td>9</td>\n",
       "      <td>1</td>\n",
       "      <td>Arun Jaitley Stadium, Delhi</td>\n",
       "      <td>Afghanistan</td>\n",
       "      <td>India</td>\n",
       "      <td>4</td>\n",
       "      <td>68</td>\n",
       "    </tr>\n",
       "    <tr>\n",
       "      <th>4998</th>\n",
       "      <td>11</td>\n",
       "      <td>1</td>\n",
       "      <td>MA Chidambaram Stadium, Chepauk, Chennai</td>\n",
       "      <td>Bangladesh</td>\n",
       "      <td>New Zealand</td>\n",
       "      <td>4</td>\n",
       "      <td>54</td>\n",
       "    </tr>\n",
       "    <tr>\n",
       "      <th>5574</th>\n",
       "      <td>12</td>\n",
       "      <td>1</td>\n",
       "      <td>Narendra Modi Stadium, Ahmedabad</td>\n",
       "      <td>Pakistan</td>\n",
       "      <td>India</td>\n",
       "      <td>4</td>\n",
       "      <td>52</td>\n",
       "    </tr>\n",
       "    <tr>\n",
       "      <th>6026</th>\n",
       "      <td>13</td>\n",
       "      <td>1</td>\n",
       "      <td>Arun Jaitley Stadium, Delhi</td>\n",
       "      <td>Afghanistan</td>\n",
       "      <td>England</td>\n",
       "      <td>6</td>\n",
       "      <td>56</td>\n",
       "    </tr>\n",
       "    <tr>\n",
       "      <th>6572</th>\n",
       "      <td>14</td>\n",
       "      <td>1</td>\n",
       "      <td>Bharat Ratna Shri Atal Bihari Vajpayee Ekana C...</td>\n",
       "      <td>Sri Lanka</td>\n",
       "      <td>Australia</td>\n",
       "      <td>4</td>\n",
       "      <td>51</td>\n",
       "    </tr>\n",
       "    <tr>\n",
       "      <th>7062</th>\n",
       "      <td>15</td>\n",
       "      <td>1</td>\n",
       "      <td>Himachal Pradesh Cricket Association Stadium, ...</td>\n",
       "      <td>Netherlands</td>\n",
       "      <td>South Africa</td>\n",
       "      <td>4</td>\n",
       "      <td>54</td>\n",
       "    </tr>\n",
       "    <tr>\n",
       "      <th>7603</th>\n",
       "      <td>16</td>\n",
       "      <td>1</td>\n",
       "      <td>MA Chidambaram Stadium, Chepauk, Chennai</td>\n",
       "      <td>New Zealand</td>\n",
       "      <td>Afghanistan</td>\n",
       "      <td>4</td>\n",
       "      <td>43</td>\n",
       "    </tr>\n",
       "    <tr>\n",
       "      <th>8116</th>\n",
       "      <td>17</td>\n",
       "      <td>1</td>\n",
       "      <td>Maharashtra Cricket Association Stadium, Pune</td>\n",
       "      <td>Bangladesh</td>\n",
       "      <td>India</td>\n",
       "      <td>4</td>\n",
       "      <td>58</td>\n",
       "    </tr>\n",
       "    <tr>\n",
       "      <th>8672</th>\n",
       "      <td>18</td>\n",
       "      <td>1</td>\n",
       "      <td>M Chinnaswamy Stadium, Bengaluru</td>\n",
       "      <td>Australia</td>\n",
       "      <td>Pakistan</td>\n",
       "      <td>6</td>\n",
       "      <td>88</td>\n",
       "    </tr>\n",
       "    <tr>\n",
       "      <th>9281</th>\n",
       "      <td>19</td>\n",
       "      <td>1</td>\n",
       "      <td>Bharat Ratna Shri Atal Bihari Vajpayee Ekana C...</td>\n",
       "      <td>Netherlands</td>\n",
       "      <td>Sri Lanka</td>\n",
       "      <td>4</td>\n",
       "      <td>43</td>\n",
       "    </tr>\n",
       "    <tr>\n",
       "      <th>9881</th>\n",
       "      <td>20</td>\n",
       "      <td>1</td>\n",
       "      <td>Wankhede Stadium, Mumbai</td>\n",
       "      <td>South Africa</td>\n",
       "      <td>England</td>\n",
       "      <td>4</td>\n",
       "      <td>78</td>\n",
       "    </tr>\n",
       "    <tr>\n",
       "      <th>10336</th>\n",
       "      <td>21</td>\n",
       "      <td>1</td>\n",
       "      <td>Himachal Pradesh Cricket Association Stadium, ...</td>\n",
       "      <td>New Zealand</td>\n",
       "      <td>India</td>\n",
       "      <td>4</td>\n",
       "      <td>62</td>\n",
       "    </tr>\n",
       "    <tr>\n",
       "      <th>10933</th>\n",
       "      <td>22</td>\n",
       "      <td>1</td>\n",
       "      <td>MA Chidambaram Stadium, Chepauk, Chennai</td>\n",
       "      <td>Pakistan</td>\n",
       "      <td>Afghanistan</td>\n",
       "      <td>4</td>\n",
       "      <td>57</td>\n",
       "    </tr>\n",
       "    <tr>\n",
       "      <th>11563</th>\n",
       "      <td>10</td>\n",
       "      <td>1</td>\n",
       "      <td>Bharat Ratna Shri Atal Bihari Vajpayee Ekana C...</td>\n",
       "      <td>South Africa</td>\n",
       "      <td>Australia</td>\n",
       "      <td>4</td>\n",
       "      <td>53</td>\n",
       "    </tr>\n",
       "    <tr>\n",
       "      <th>12105</th>\n",
       "      <td>23</td>\n",
       "      <td>1</td>\n",
       "      <td>Wankhede Stadium, Mumbai</td>\n",
       "      <td>South Africa</td>\n",
       "      <td>Bangladesh</td>\n",
       "      <td>4</td>\n",
       "      <td>75</td>\n",
       "    </tr>\n",
       "    <tr>\n",
       "      <th>12705</th>\n",
       "      <td>24</td>\n",
       "      <td>1</td>\n",
       "      <td>Arun Jaitley Stadium, Delhi</td>\n",
       "      <td>Australia</td>\n",
       "      <td>Netherlands</td>\n",
       "      <td>4</td>\n",
       "      <td>70</td>\n",
       "    </tr>\n",
       "    <tr>\n",
       "      <th>13158</th>\n",
       "      <td>25</td>\n",
       "      <td>1</td>\n",
       "      <td>M Chinnaswamy Stadium, Bengaluru</td>\n",
       "      <td>England</td>\n",
       "      <td>Sri Lanka</td>\n",
       "      <td>4</td>\n",
       "      <td>40</td>\n",
       "    </tr>\n",
       "    <tr>\n",
       "      <th>13521</th>\n",
       "      <td>26</td>\n",
       "      <td>1</td>\n",
       "      <td>MA Chidambaram Stadium, Chepauk, Chennai</td>\n",
       "      <td>Pakistan</td>\n",
       "      <td>South Africa</td>\n",
       "      <td>4</td>\n",
       "      <td>60</td>\n",
       "    </tr>\n",
       "    <tr>\n",
       "      <th>14101</th>\n",
       "      <td>27</td>\n",
       "      <td>1</td>\n",
       "      <td>Himachal Pradesh Cricket Association Stadium, ...</td>\n",
       "      <td>Australia</td>\n",
       "      <td>New Zealand</td>\n",
       "      <td>4</td>\n",
       "      <td>97</td>\n",
       "    </tr>\n",
       "    <tr>\n",
       "      <th>14733</th>\n",
       "      <td>28</td>\n",
       "      <td>1</td>\n",
       "      <td>Eden Gardens, Kolkata</td>\n",
       "      <td>Netherlands</td>\n",
       "      <td>Bangladesh</td>\n",
       "      <td>4</td>\n",
       "      <td>42</td>\n",
       "    </tr>\n",
       "    <tr>\n",
       "      <th>15291</th>\n",
       "      <td>29</td>\n",
       "      <td>1</td>\n",
       "      <td>Bharat Ratna Shri Atal Bihari Vajpayee Ekana C...</td>\n",
       "      <td>India</td>\n",
       "      <td>England</td>\n",
       "      <td>4</td>\n",
       "      <td>37</td>\n",
       "    </tr>\n",
       "    <tr>\n",
       "      <th>15831</th>\n",
       "      <td>30</td>\n",
       "      <td>1</td>\n",
       "      <td>Maharashtra Cricket Association Stadium, Pune</td>\n",
       "      <td>Sri Lanka</td>\n",
       "      <td>Afghanistan</td>\n",
       "      <td>4</td>\n",
       "      <td>45</td>\n",
       "    </tr>\n",
       "    <tr>\n",
       "      <th>16394</th>\n",
       "      <td>31</td>\n",
       "      <td>1</td>\n",
       "      <td>Eden Gardens, Kolkata</td>\n",
       "      <td>Bangladesh</td>\n",
       "      <td>Pakistan</td>\n",
       "      <td>4</td>\n",
       "      <td>50</td>\n",
       "    </tr>\n",
       "    <tr>\n",
       "      <th>16875</th>\n",
       "      <td>32</td>\n",
       "      <td>1</td>\n",
       "      <td>Maharashtra Cricket Association Stadium, Pune</td>\n",
       "      <td>South Africa</td>\n",
       "      <td>New Zealand</td>\n",
       "      <td>4</td>\n",
       "      <td>62</td>\n",
       "    </tr>\n",
       "  </tbody>\n",
       "</table>\n",
       "</div>"
      ],
      "text/plain": [
       "       match_id  innings                                              venue  \\\n",
       "1             1        1                   Narendra Modi Stadium, Ahmedabad   \n",
       "530           2        1  Rajiv Gandhi International Stadium, Uppal, Hyd...   \n",
       "1092          3        1  Himachal Pradesh Cricket Association Stadium, ...   \n",
       "1528          4        1                        Arun Jaitley Stadium, Delhi   \n",
       "2123          5        1           MA Chidambaram Stadium, Chepauk, Chennai   \n",
       "2692          6        1  Rajiv Gandhi International Stadium, Uppal, Hyd...   \n",
       "3264          7        1  Himachal Pradesh Cricket Association Stadium, ...   \n",
       "3860          8        1  Rajiv Gandhi International Stadium, Uppal, Hyd...   \n",
       "4479          9        1                        Arun Jaitley Stadium, Delhi   \n",
       "4998         11        1           MA Chidambaram Stadium, Chepauk, Chennai   \n",
       "5574         12        1                   Narendra Modi Stadium, Ahmedabad   \n",
       "6026         13        1                        Arun Jaitley Stadium, Delhi   \n",
       "6572         14        1  Bharat Ratna Shri Atal Bihari Vajpayee Ekana C...   \n",
       "7062         15        1  Himachal Pradesh Cricket Association Stadium, ...   \n",
       "7603         16        1           MA Chidambaram Stadium, Chepauk, Chennai   \n",
       "8116         17        1      Maharashtra Cricket Association Stadium, Pune   \n",
       "8672         18        1                   M Chinnaswamy Stadium, Bengaluru   \n",
       "9281         19        1  Bharat Ratna Shri Atal Bihari Vajpayee Ekana C...   \n",
       "9881         20        1                           Wankhede Stadium, Mumbai   \n",
       "10336        21        1  Himachal Pradesh Cricket Association Stadium, ...   \n",
       "10933        22        1           MA Chidambaram Stadium, Chepauk, Chennai   \n",
       "11563        10        1  Bharat Ratna Shri Atal Bihari Vajpayee Ekana C...   \n",
       "12105        23        1                           Wankhede Stadium, Mumbai   \n",
       "12705        24        1                        Arun Jaitley Stadium, Delhi   \n",
       "13158        25        1                   M Chinnaswamy Stadium, Bengaluru   \n",
       "13521        26        1           MA Chidambaram Stadium, Chepauk, Chennai   \n",
       "14101        27        1  Himachal Pradesh Cricket Association Stadium, ...   \n",
       "14733        28        1                              Eden Gardens, Kolkata   \n",
       "15291        29        1  Bharat Ratna Shri Atal Bihari Vajpayee Ekana C...   \n",
       "15831        30        1      Maharashtra Cricket Association Stadium, Pune   \n",
       "16394        31        1                              Eden Gardens, Kolkata   \n",
       "16875        32        1      Maharashtra Cricket Association Stadium, Pune   \n",
       "\n",
       "       batting_team  bowling_team  runs_off_bat  Total_Boundaries  \n",
       "1           England   New Zealand             6                65  \n",
       "530        Pakistan   Netherlands             4                60  \n",
       "1092    Afghanistan    Bangladesh             4                31  \n",
       "1528   South Africa     Sri Lanka             4               105  \n",
       "2123      Australia         India             4                35  \n",
       "2692    New Zealand   Netherlands             4                62  \n",
       "3264        England    Bangladesh             4                68  \n",
       "3860      Sri Lanka      Pakistan             4                77  \n",
       "4479    Afghanistan         India             4                68  \n",
       "4998     Bangladesh   New Zealand             4                54  \n",
       "5574       Pakistan         India             4                52  \n",
       "6026    Afghanistan       England             6                56  \n",
       "6572      Sri Lanka     Australia             4                51  \n",
       "7062    Netherlands  South Africa             4                54  \n",
       "7603    New Zealand   Afghanistan             4                43  \n",
       "8116     Bangladesh         India             4                58  \n",
       "8672      Australia      Pakistan             6                88  \n",
       "9281    Netherlands     Sri Lanka             4                43  \n",
       "9881   South Africa       England             4                78  \n",
       "10336   New Zealand         India             4                62  \n",
       "10933      Pakistan   Afghanistan             4                57  \n",
       "11563  South Africa     Australia             4                53  \n",
       "12105  South Africa    Bangladesh             4                75  \n",
       "12705     Australia   Netherlands             4                70  \n",
       "13158       England     Sri Lanka             4                40  \n",
       "13521      Pakistan  South Africa             4                60  \n",
       "14101     Australia   New Zealand             4                97  \n",
       "14733   Netherlands    Bangladesh             4                42  \n",
       "15291         India       England             4                37  \n",
       "15831     Sri Lanka   Afghanistan             4                45  \n",
       "16394    Bangladesh      Pakistan             4                50  \n",
       "16875  South Africa   New Zealand             4                62  "
      ]
     },
     "execution_count": 234,
     "metadata": {},
     "output_type": "execute_result"
    }
   ],
   "source": [
    "filtered_df_unique"
   ]
  },
  {
   "cell_type": "code",
   "execution_count": 235,
   "id": "22c9e848",
   "metadata": {},
   "outputs": [
    {
     "data": {
      "text/plain": [
       "(32, 7)"
      ]
     },
     "execution_count": 235,
     "metadata": {},
     "output_type": "execute_result"
    }
   ],
   "source": [
    "filtered_df_unique.shape"
   ]
  },
  {
   "cell_type": "code",
   "execution_count": 236,
   "id": "29f85bbe",
   "metadata": {},
   "outputs": [],
   "source": [
    "filtered_df_unique = filtered_df_unique.drop(columns=['match_id','innings',])\n"
   ]
  },
  {
   "cell_type": "code",
   "execution_count": 237,
   "id": "d76f3afc",
   "metadata": {},
   "outputs": [],
   "source": [
    "filtered_df_unique = filtered_df_unique.drop(columns=['runs_off_bat'])"
   ]
  },
  {
   "cell_type": "code",
   "execution_count": 238,
   "id": "e5b0aed9",
   "metadata": {},
   "outputs": [
    {
     "name": "stdout",
     "output_type": "stream",
     "text": [
      "{'Arun Jaitley Stadium, Delhi': 0, 'Bharat Ratna Shri Atal Bihari Vajpayee Ekana Cricket Stadium, Lucknow': 1, 'Eden Gardens, Kolkata': 2, 'Himachal Pradesh Cricket Association Stadium, Dharamsala': 3, 'M Chinnaswamy Stadium, Bengaluru': 4, 'MA Chidambaram Stadium, Chepauk, Chennai': 5, 'Maharashtra Cricket Association Stadium, Pune': 6, 'Narendra Modi Stadium, Ahmedabad': 7, 'Rajiv Gandhi International Stadium, Uppal, Hyderabad': 8, 'Wankhede Stadium, Mumbai': 9}\n",
      "{'Afghanistan': 0, 'Australia': 1, 'Bangladesh': 2, 'England': 3, 'India': 4, 'Netherlands': 5, 'New Zealand': 6, 'Pakistan': 7, 'South Africa': 8, 'Sri Lanka': 9}\n",
      "{'Afghanistan': 0, 'Australia': 1, 'Bangladesh': 2, 'England': 3, 'India': 4, 'Netherlands': 5, 'New Zealand': 6, 'Pakistan': 7, 'South Africa': 8, 'Sri Lanka': 9}\n"
     ]
    }
   ],
   "source": [
    "from sklearn.preprocessing import LabelEncoder\n",
    "le = LabelEncoder()\n",
    "lst = ['venue','batting_team','bowling_team']\n",
    "for i in lst:\n",
    "    filtered_df_unique[i] = le.fit_transform(filtered_df_unique[i])\n",
    "    le_name_mapping = dict(zip(le.classes_, le.transform(le.classes_)))\n",
    "    print(le_name_mapping)"
   ]
  },
  {
   "cell_type": "code",
   "execution_count": 240,
   "id": "c3956469",
   "metadata": {},
   "outputs": [],
   "source": [
    "filtered_df_unique.rename(columns={'batting_team': 'Team 1', 'bowling_team': 'Team 2'}, inplace=True)"
   ]
  },
  {
   "cell_type": "code",
   "execution_count": 241,
   "id": "cefe4924",
   "metadata": {},
   "outputs": [
    {
     "data": {
      "text/html": [
       "<div>\n",
       "<style scoped>\n",
       "    .dataframe tbody tr th:only-of-type {\n",
       "        vertical-align: middle;\n",
       "    }\n",
       "\n",
       "    .dataframe tbody tr th {\n",
       "        vertical-align: top;\n",
       "    }\n",
       "\n",
       "    .dataframe thead th {\n",
       "        text-align: right;\n",
       "    }\n",
       "</style>\n",
       "<table border=\"1\" class=\"dataframe\">\n",
       "  <thead>\n",
       "    <tr style=\"text-align: right;\">\n",
       "      <th></th>\n",
       "      <th>venue</th>\n",
       "      <th>Team 1</th>\n",
       "      <th>Team 2</th>\n",
       "      <th>Total_Boundaries</th>\n",
       "    </tr>\n",
       "  </thead>\n",
       "  <tbody>\n",
       "    <tr>\n",
       "      <th>1</th>\n",
       "      <td>7</td>\n",
       "      <td>3</td>\n",
       "      <td>6</td>\n",
       "      <td>65</td>\n",
       "    </tr>\n",
       "    <tr>\n",
       "      <th>530</th>\n",
       "      <td>8</td>\n",
       "      <td>7</td>\n",
       "      <td>5</td>\n",
       "      <td>60</td>\n",
       "    </tr>\n",
       "    <tr>\n",
       "      <th>1092</th>\n",
       "      <td>3</td>\n",
       "      <td>0</td>\n",
       "      <td>2</td>\n",
       "      <td>31</td>\n",
       "    </tr>\n",
       "    <tr>\n",
       "      <th>1528</th>\n",
       "      <td>0</td>\n",
       "      <td>8</td>\n",
       "      <td>9</td>\n",
       "      <td>105</td>\n",
       "    </tr>\n",
       "    <tr>\n",
       "      <th>2123</th>\n",
       "      <td>5</td>\n",
       "      <td>1</td>\n",
       "      <td>4</td>\n",
       "      <td>35</td>\n",
       "    </tr>\n",
       "  </tbody>\n",
       "</table>\n",
       "</div>"
      ],
      "text/plain": [
       "      venue  Team 1  Team 2  Total_Boundaries\n",
       "1         7       3       6                65\n",
       "530       8       7       5                60\n",
       "1092      3       0       2                31\n",
       "1528      0       8       9               105\n",
       "2123      5       1       4                35"
      ]
     },
     "execution_count": 241,
     "metadata": {},
     "output_type": "execute_result"
    }
   ],
   "source": [
    "filtered_df_unique.head()"
   ]
  },
  {
   "cell_type": "code",
   "execution_count": 242,
   "id": "96d17e6c",
   "metadata": {},
   "outputs": [],
   "source": [
    "X = filtered_df_unique.drop(columns='Total_Boundaries')\n",
    "y = filtered_df_unique['Total_Boundaries']"
   ]
  },
  {
   "cell_type": "code",
   "execution_count": 243,
   "id": "f4194932",
   "metadata": {},
   "outputs": [],
   "source": [
    "from sklearn.model_selection import train_test_split\n",
    "X_train,X_test,y_train,y_test = train_test_split(X,y,random_state=42)"
   ]
  },
  {
   "cell_type": "code",
   "execution_count": 244,
   "id": "2f8c7dfd",
   "metadata": {},
   "outputs": [
    {
     "name": "stdout",
     "output_type": "stream",
     "text": [
      "Best Hyperparameters: {'learning_rate': 0.01, 'max_depth': 3, 'n_estimators': 100}\n",
      "Root Mean Squared Error on Test Set: 17.616436951318864\n"
     ]
    }
   ],
   "source": [
    "import xgboost as xgb\n",
    "import numpy as np\n",
    "import xgboost as xgb\n",
    "from sklearn.model_selection import train_test_split,GridSearchCV\n",
    "from sklearn.metrics import mean_squared_error,r2_score\n",
    "\n",
    "\n",
    "param_grid = {\n",
    "    'learning_rate': [0.01, 0.1, 0.2],\n",
    "    'max_depth': [3, 4, 5],\n",
    "    'n_estimators': [100, 200, 300]\n",
    "}\n",
    "\n",
    "xg_reg = xgb.XGBRegressor(objective='reg:squarederror')\n",
    "\n",
    "grid_search = GridSearchCV(estimator=xg_reg, param_grid=param_grid, scoring='neg_mean_squared_error', cv=5)\n",
    "\n",
    "grid_search.fit(X_train, y_train)\n",
    "\n",
    "best_params = grid_search.best_params_\n",
    "print(f'Best Hyperparameters: {best_params}')\n",
    "\n",
    "best_model = grid_search.best_estimator_\n",
    "y_pred = best_model.predict(X_test)\n",
    "mse = mean_squared_error(y_test, y_pred)\n",
    "print(\"Root Mean Squared Error on Test Set:\", np.sqrt(mse))"
   ]
  },
  {
   "cell_type": "markdown",
   "id": "3adc0c21",
   "metadata": {},
   "source": [
    "# We are assuming the final is between India and South Africa in Narendra Modi Stadium, Ahmedabad(pre-decided)."
   ]
  },
  {
   "cell_type": "code",
   "execution_count": 253,
   "id": "603f1fb0",
   "metadata": {},
   "outputs": [
    {
     "data": {
      "text/plain": [
       "array([60.26665], dtype=float32)"
      ]
     },
     "execution_count": 253,
     "metadata": {},
     "output_type": "execute_result"
    }
   ],
   "source": [
    "new_data = pd.DataFrame({'venue': [7], 'Team 1': [4], 'Team 2': [8]})\n",
    "y_pred = best_model.predict(new_data)\n",
    "y_pred"
   ]
  },
  {
   "cell_type": "markdown",
   "id": "e9b5f7fc",
   "metadata": {},
   "source": [
    "# According to our model, the Total Boundaries will be approximately 60 (4's and 6's Together) in whole match."
   ]
  },
  {
   "cell_type": "code",
   "execution_count": null,
   "id": "5b1084d7",
   "metadata": {},
   "outputs": [],
   "source": []
  }
 ],
 "metadata": {
  "kernelspec": {
   "display_name": "Python 3 (ipykernel)",
   "language": "python",
   "name": "python3"
  },
  "language_info": {
   "codemirror_mode": {
    "name": "ipython",
    "version": 3
   },
   "file_extension": ".py",
   "mimetype": "text/x-python",
   "name": "python",
   "nbconvert_exporter": "python",
   "pygments_lexer": "ipython3",
   "version": "3.11.4"
  }
 },
 "nbformat": 4,
 "nbformat_minor": 5
}
