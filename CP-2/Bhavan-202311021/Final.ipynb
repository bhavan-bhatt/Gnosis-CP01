{
 "cells": [
  {
   "cell_type": "code",
   "execution_count": 4,
   "id": "9c5a004a",
   "metadata": {},
   "outputs": [],
   "source": [
    "import pandas as pd\n",
    "import numpy as np\n",
    "import matplotlib.pyplot as plt\n",
    "import seaborn as sns"
   ]
  },
  {
   "cell_type": "code",
   "execution_count": 5,
   "id": "67ed4cd6",
   "metadata": {},
   "outputs": [
    {
     "name": "stderr",
     "output_type": "stream",
     "text": [
      "/var/folders/_8/xfc42_6120n2mkkw2ymrm37r0000gn/T/ipykernel_50612/192883105.py:8: DtypeWarning: Columns (8,9,10) have mixed types. Specify dtype option on import or set low_memory=False.\n",
      "  df8 = pd.read_csv('data/CTU-IoT-Malware-Capture-48-1conn.log.labeled.csv',sep='|')\n"
     ]
    }
   ],
   "source": [
    "df1 = pd.read_csv('data/CTU-IoT-Malware-Capture-1-1conn.log.labeled.csv',sep='|')\n",
    "df2 = pd.read_csv('data/CTU-IoT-Malware-Capture-20-1conn.log.labeled.csv',sep='|')\n",
    "df3 = pd.read_csv('data/CTU-IoT-Malware-Capture-21-1conn.log.labeled.csv',sep='|')\n",
    "df4 = pd.read_csv('data/CTU-IoT-Malware-Capture-3-1conn.log.labeled.csv',sep='|')\n",
    "df5 = pd.read_csv('data/CTU-IoT-Malware-Capture-34-1conn.log.labeled.csv',sep='|')\n",
    "df6 = pd.read_csv('data/CTU-IoT-Malware-Capture-35-1conn.log.labeled.csv',sep='|')\n",
    "df7 = pd.read_csv('data/CTU-IoT-Malware-Capture-42-1conn.log.labeled.csv',sep='|')\n",
    "df8 = pd.read_csv('data/CTU-IoT-Malware-Capture-48-1conn.log.labeled.csv',sep='|')\n",
    "df9 = pd.read_csv('data/CTU-IoT-Malware-Capture-60-1conn.log.labeled.csv',sep='|')\n",
    "df10 = pd.read_csv('data/CTU-IoT-Malware-Capture-9-1conn.log.labeled.csv',sep='|')"
   ]
  },
  {
   "cell_type": "code",
   "execution_count": 6,
   "id": "e42f9e76",
   "metadata": {},
   "outputs": [],
   "source": [
    "dataset = pd.concat([df1, df2,df3,df4,df5,df6,df7,df8,df9,df10], axis=0)"
   ]
  },
  {
   "cell_type": "code",
   "execution_count": 7,
   "id": "16422e4c",
   "metadata": {},
   "outputs": [],
   "source": [
    "dataset1 = dataset[:5000000]\n",
    "dataset2 = dataset[5000000:10000000]\n",
    "dataset3 = dataset[10000000:15000000]\n",
    "dataset4 = dataset[15000000:]"
   ]
  },
  {
   "cell_type": "markdown",
   "id": "bbb07f8b",
   "metadata": {},
   "source": [
    "# For dataset1"
   ]
  },
  {
   "cell_type": "code",
   "execution_count": 8,
   "id": "b48784cc",
   "metadata": {},
   "outputs": [
    {
     "name": "stderr",
     "output_type": "stream",
     "text": [
      "/var/folders/_8/xfc42_6120n2mkkw2ymrm37r0000gn/T/ipykernel_50612/3534470767.py:1: SettingWithCopyWarning: \n",
      "A value is trying to be set on a copy of a slice from a DataFrame.\n",
      "Try using .loc[row_indexer,col_indexer] = value instead\n",
      "\n",
      "See the caveats in the documentation: https://pandas.pydata.org/pandas-docs/stable/user_guide/indexing.html#returning-a-view-versus-a-copy\n",
      "  dataset1['label'] = dataset1['label'] + dataset1['detailed-label']\n"
     ]
    }
   ],
   "source": [
    "dataset1['label'] = dataset1['label'] + dataset1['detailed-label']"
   ]
  },
  {
   "cell_type": "code",
   "execution_count": 9,
   "id": "56dda0e3",
   "metadata": {},
   "outputs": [
    {
     "data": {
      "text/plain": [
       "Benign-                               4287614\n",
       "MaliciousPartOfAHorizontalPortScan     685062\n",
       "MaliciousAttack                          5962\n",
       "Malicious   C&CTorii                       30\n",
       "MaliciousC&C                               16\n",
       "Malicious   C&CFileDownload                11\n",
       "Name: label, dtype: int64"
      ]
     },
     "execution_count": 9,
     "metadata": {},
     "output_type": "execute_result"
    }
   ],
   "source": [
    "dataset1['label'].value_counts()"
   ]
  },
  {
   "cell_type": "code",
   "execution_count": null,
   "id": "a5a141bf",
   "metadata": {},
   "outputs": [],
   "source": [
    "dataset1.dtypes"
   ]
  },
  {
   "cell_type": "code",
   "execution_count": 10,
   "id": "8c563aaf",
   "metadata": {},
   "outputs": [],
   "source": [
    "df = dataset1.drop(columns=['uid', 'local_orig', 'local_resp', 'tunnel_parents', 'detailed-label', 'id.orig_h', 'id.resp_h'])"
   ]
  },
  {
   "cell_type": "code",
   "execution_count": 11,
   "id": "50f49f60",
   "metadata": {},
   "outputs": [],
   "source": [
    "df = pd.get_dummies(data=df, columns=['proto', 'conn_state', 'service'],drop_first=True)\n",
    "df['history'] = pd.factorize(df['history'])[0] + 1"
   ]
  },
  {
   "cell_type": "code",
   "execution_count": 12,
   "id": "4f251f35",
   "metadata": {},
   "outputs": [],
   "source": [
    "df['duration'] = df['duration'].replace('-',0)\n",
    "df['orig_bytes'] = df['orig_bytes'].replace('-',0)\n",
    "df['resp_bytes'] = df['resp_bytes'].replace('-',0)"
   ]
  },
  {
   "cell_type": "code",
   "execution_count": 13,
   "id": "ef3bf359",
   "metadata": {},
   "outputs": [],
   "source": [
    "df['duration'] = df['duration'].astype('float')\n",
    "df['orig_bytes'] = df['orig_bytes'].astype('float')\n",
    "df['resp_bytes'] = df['resp_bytes'].astype('float')"
   ]
  },
  {
   "cell_type": "code",
   "execution_count": 14,
   "id": "d1e35c9a",
   "metadata": {},
   "outputs": [],
   "source": [
    "df['label'] = pd.factorize(df['label'])[0]"
   ]
  },
  {
   "cell_type": "code",
   "execution_count": 15,
   "id": "7331f801",
   "metadata": {},
   "outputs": [],
   "source": [
    "df = df.fillna(0)"
   ]
  },
  {
   "cell_type": "code",
   "execution_count": 16,
   "id": "58b3318d",
   "metadata": {},
   "outputs": [],
   "source": [
    "x = df.drop(columns=['label'])\n",
    "y = df['label']"
   ]
  },
  {
   "cell_type": "code",
   "execution_count": 17,
   "id": "3546bfac",
   "metadata": {},
   "outputs": [],
   "source": [
    "del df,dataset"
   ]
  },
  {
   "cell_type": "code",
   "execution_count": 18,
   "id": "f02e0008",
   "metadata": {},
   "outputs": [],
   "source": [
    "from sklearn.model_selection import GridSearchCV, train_test_split\n",
    "X_train, X_test, y_train, y_test = train_test_split(x, y, test_size=0.2, random_state=42)"
   ]
  },
  {
   "cell_type": "code",
   "execution_count": 19,
   "id": "7a987b57",
   "metadata": {},
   "outputs": [],
   "source": [
    "del x,y"
   ]
  },
  {
   "cell_type": "code",
   "execution_count": 20,
   "id": "fc654c85",
   "metadata": {},
   "outputs": [
    {
     "data": {
      "text/html": [
       "<style>#sk-container-id-1 {color: black;background-color: white;}#sk-container-id-1 pre{padding: 0;}#sk-container-id-1 div.sk-toggleable {background-color: white;}#sk-container-id-1 label.sk-toggleable__label {cursor: pointer;display: block;width: 100%;margin-bottom: 0;padding: 0.3em;box-sizing: border-box;text-align: center;}#sk-container-id-1 label.sk-toggleable__label-arrow:before {content: \"▸\";float: left;margin-right: 0.25em;color: #696969;}#sk-container-id-1 label.sk-toggleable__label-arrow:hover:before {color: black;}#sk-container-id-1 div.sk-estimator:hover label.sk-toggleable__label-arrow:before {color: black;}#sk-container-id-1 div.sk-toggleable__content {max-height: 0;max-width: 0;overflow: hidden;text-align: left;background-color: #f0f8ff;}#sk-container-id-1 div.sk-toggleable__content pre {margin: 0.2em;color: black;border-radius: 0.25em;background-color: #f0f8ff;}#sk-container-id-1 input.sk-toggleable__control:checked~div.sk-toggleable__content {max-height: 200px;max-width: 100%;overflow: auto;}#sk-container-id-1 input.sk-toggleable__control:checked~label.sk-toggleable__label-arrow:before {content: \"▾\";}#sk-container-id-1 div.sk-estimator input.sk-toggleable__control:checked~label.sk-toggleable__label {background-color: #d4ebff;}#sk-container-id-1 div.sk-label input.sk-toggleable__control:checked~label.sk-toggleable__label {background-color: #d4ebff;}#sk-container-id-1 input.sk-hidden--visually {border: 0;clip: rect(1px 1px 1px 1px);clip: rect(1px, 1px, 1px, 1px);height: 1px;margin: -1px;overflow: hidden;padding: 0;position: absolute;width: 1px;}#sk-container-id-1 div.sk-estimator {font-family: monospace;background-color: #f0f8ff;border: 1px dotted black;border-radius: 0.25em;box-sizing: border-box;margin-bottom: 0.5em;}#sk-container-id-1 div.sk-estimator:hover {background-color: #d4ebff;}#sk-container-id-1 div.sk-parallel-item::after {content: \"\";width: 100%;border-bottom: 1px solid gray;flex-grow: 1;}#sk-container-id-1 div.sk-label:hover label.sk-toggleable__label {background-color: #d4ebff;}#sk-container-id-1 div.sk-serial::before {content: \"\";position: absolute;border-left: 1px solid gray;box-sizing: border-box;top: 0;bottom: 0;left: 50%;z-index: 0;}#sk-container-id-1 div.sk-serial {display: flex;flex-direction: column;align-items: center;background-color: white;padding-right: 0.2em;padding-left: 0.2em;position: relative;}#sk-container-id-1 div.sk-item {position: relative;z-index: 1;}#sk-container-id-1 div.sk-parallel {display: flex;align-items: stretch;justify-content: center;background-color: white;position: relative;}#sk-container-id-1 div.sk-item::before, #sk-container-id-1 div.sk-parallel-item::before {content: \"\";position: absolute;border-left: 1px solid gray;box-sizing: border-box;top: 0;bottom: 0;left: 50%;z-index: -1;}#sk-container-id-1 div.sk-parallel-item {display: flex;flex-direction: column;z-index: 1;position: relative;background-color: white;}#sk-container-id-1 div.sk-parallel-item:first-child::after {align-self: flex-end;width: 50%;}#sk-container-id-1 div.sk-parallel-item:last-child::after {align-self: flex-start;width: 50%;}#sk-container-id-1 div.sk-parallel-item:only-child::after {width: 0;}#sk-container-id-1 div.sk-dashed-wrapped {border: 1px dashed gray;margin: 0 0.4em 0.5em 0.4em;box-sizing: border-box;padding-bottom: 0.4em;background-color: white;}#sk-container-id-1 div.sk-label label {font-family: monospace;font-weight: bold;display: inline-block;line-height: 1.2em;}#sk-container-id-1 div.sk-label-container {text-align: center;}#sk-container-id-1 div.sk-container {/* jupyter's `normalize.less` sets `[hidden] { display: none; }` but bootstrap.min.css set `[hidden] { display: none !important; }` so we also need the `!important` here to be able to override the default hidden behavior on the sphinx rendered scikit-learn.org. See: https://github.com/scikit-learn/scikit-learn/issues/21755 */display: inline-block !important;position: relative;}#sk-container-id-1 div.sk-text-repr-fallback {display: none;}</style><div id=\"sk-container-id-1\" class=\"sk-top-container\"><div class=\"sk-text-repr-fallback\"><pre>LogisticRegression(max_iter=1000, multi_class=&#x27;multinomial&#x27;, random_state=42)</pre><b>In a Jupyter environment, please rerun this cell to show the HTML representation or trust the notebook. <br />On GitHub, the HTML representation is unable to render, please try loading this page with nbviewer.org.</b></div><div class=\"sk-container\" hidden><div class=\"sk-item\"><div class=\"sk-estimator sk-toggleable\"><input class=\"sk-toggleable__control sk-hidden--visually\" id=\"sk-estimator-id-1\" type=\"checkbox\" checked><label for=\"sk-estimator-id-1\" class=\"sk-toggleable__label sk-toggleable__label-arrow\">LogisticRegression</label><div class=\"sk-toggleable__content\"><pre>LogisticRegression(max_iter=1000, multi_class=&#x27;multinomial&#x27;, random_state=42)</pre></div></div></div></div></div>"
      ],
      "text/plain": [
       "LogisticRegression(max_iter=1000, multi_class='multinomial', random_state=42)"
      ]
     },
     "execution_count": 20,
     "metadata": {},
     "output_type": "execute_result"
    }
   ],
   "source": [
    "import numpy as np\n",
    "import pandas as pd\n",
    "from sklearn.model_selection import train_test_split\n",
    "from sklearn.linear_model import LogisticRegression\n",
    "from sklearn.metrics import accuracy_score, classification_report\n",
    "\n",
    "logistic_regression = LogisticRegression(multi_class='multinomial', solver='lbfgs', max_iter=5000, random_state=42)\n",
    "logistic_regression.fit(X_train, y_train)"
   ]
  },
  {
   "cell_type": "code",
   "execution_count": 21,
   "id": "848be1d6",
   "metadata": {},
   "outputs": [
    {
     "name": "stderr",
     "output_type": "stream",
     "text": [
      "/Users/bhavanbhatt/anaconda3/lib/python3.10/site-packages/sklearn/metrics/_classification.py:1344: UndefinedMetricWarning: Precision and F-score are ill-defined and being set to 0.0 in labels with no predicted samples. Use `zero_division` parameter to control this behavior.\n",
      "  _warn_prf(average, modifier, msg_start, len(result))\n",
      "/Users/bhavanbhatt/anaconda3/lib/python3.10/site-packages/sklearn/metrics/_classification.py:1344: UndefinedMetricWarning: Precision and F-score are ill-defined and being set to 0.0 in labels with no predicted samples. Use `zero_division` parameter to control this behavior.\n",
      "  _warn_prf(average, modifier, msg_start, len(result))\n"
     ]
    },
    {
     "name": "stdout",
     "output_type": "stream",
     "text": [
      "              precision    recall  f1-score   support\n",
      "\n",
      "          -1       0.86      0.82      0.82      4214\n",
      "           0       1.00      1.00      1.00    136805\n",
      "           1       0.86      1.00      0.92    857795\n",
      "           2       0.70      0.60      0.65         1\n",
      "           3       0.50      0.23      0.22         6\n",
      "           4       0.02      0.05      0.03      1177\n",
      "           5       0.40      0.44      0.36         2\n",
      "\n",
      "    accuracy                           0.86   1000000\n",
      "   macro avg       0.12      0.14      0.13   1000000\n",
      "weighted avg       0.74      0.86      0.79   1000000\n",
      "\n"
     ]
    },
    {
     "name": "stderr",
     "output_type": "stream",
     "text": [
      "/Users/bhavanbhatt/anaconda3/lib/python3.10/site-packages/sklearn/metrics/_classification.py:1344: UndefinedMetricWarning: Precision and F-score are ill-defined and being set to 0.0 in labels with no predicted samples. Use `zero_division` parameter to control this behavior.\n",
      "  _warn_prf(average, modifier, msg_start, len(result))\n"
     ]
    }
   ],
   "source": [
    "y_pred = logistic_regression.predict(X_test)\n",
    "report = classification_report(y_test, y_pred)\n",
    "print(report)"
   ]
  },
  {
   "cell_type": "code",
   "execution_count": null,
   "id": "0db4d944",
   "metadata": {},
   "outputs": [],
   "source": []
  }
 ],
 "metadata": {
  "kernelspec": {
   "display_name": "Python 3 (ipykernel)",
   "language": "python",
   "name": "python3"
  },
  "language_info": {
   "codemirror_mode": {
    "name": "ipython",
    "version": 3
   },
   "file_extension": ".py",
   "mimetype": "text/x-python",
   "name": "python",
   "nbconvert_exporter": "python",
   "pygments_lexer": "ipython3",
   "version": "3.10.9"
  }
 },
 "nbformat": 4,
 "nbformat_minor": 5
}
