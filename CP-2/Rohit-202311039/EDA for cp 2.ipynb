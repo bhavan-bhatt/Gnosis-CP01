{
 "cells": [
  {
   "cell_type": "code",
   "execution_count": 40,
   "id": "f657fb26",
   "metadata": {},
   "outputs": [],
   "source": [
    "import pandas as pd\n",
    "\n",
    "import numpy as np"
   ]
  },
  {
   "cell_type": "code",
   "execution_count": 41,
   "id": "b75c2737",
   "metadata": {},
   "outputs": [],
   "source": [
    "df1 = pd.read_csv('CTU-IoT-Malware-Capture-1-1conn.log.labeled.csv',sep = '|')"
   ]
  },
  {
   "cell_type": "code",
   "execution_count": 42,
   "id": "eb9a880f",
   "metadata": {},
   "outputs": [
    {
     "data": {
      "text/html": [
       "<div>\n",
       "<style scoped>\n",
       "    .dataframe tbody tr th:only-of-type {\n",
       "        vertical-align: middle;\n",
       "    }\n",
       "\n",
       "    .dataframe tbody tr th {\n",
       "        vertical-align: top;\n",
       "    }\n",
       "\n",
       "    .dataframe thead th {\n",
       "        text-align: right;\n",
       "    }\n",
       "</style>\n",
       "<table border=\"1\" class=\"dataframe\">\n",
       "  <thead>\n",
       "    <tr style=\"text-align: right;\">\n",
       "      <th></th>\n",
       "      <th>ts</th>\n",
       "      <th>uid</th>\n",
       "      <th>id.orig_h</th>\n",
       "      <th>id.orig_p</th>\n",
       "      <th>id.resp_h</th>\n",
       "      <th>id.resp_p</th>\n",
       "      <th>proto</th>\n",
       "      <th>service</th>\n",
       "      <th>duration</th>\n",
       "      <th>orig_bytes</th>\n",
       "      <th>...</th>\n",
       "      <th>local_resp</th>\n",
       "      <th>missed_bytes</th>\n",
       "      <th>history</th>\n",
       "      <th>orig_pkts</th>\n",
       "      <th>orig_ip_bytes</th>\n",
       "      <th>resp_pkts</th>\n",
       "      <th>resp_ip_bytes</th>\n",
       "      <th>tunnel_parents</th>\n",
       "      <th>label</th>\n",
       "      <th>detailed-label</th>\n",
       "    </tr>\n",
       "  </thead>\n",
       "  <tbody>\n",
       "    <tr>\n",
       "      <th>0</th>\n",
       "      <td>1.525880e+09</td>\n",
       "      <td>CUmrqr4svHuSXJy5z7</td>\n",
       "      <td>192.168.100.103</td>\n",
       "      <td>51524.0</td>\n",
       "      <td>65.127.233.163</td>\n",
       "      <td>23.0</td>\n",
       "      <td>tcp</td>\n",
       "      <td>-</td>\n",
       "      <td>2.999051</td>\n",
       "      <td>0</td>\n",
       "      <td>...</td>\n",
       "      <td>-</td>\n",
       "      <td>0.0</td>\n",
       "      <td>S</td>\n",
       "      <td>3.0</td>\n",
       "      <td>180.0</td>\n",
       "      <td>0.0</td>\n",
       "      <td>0.0</td>\n",
       "      <td>-</td>\n",
       "      <td>Malicious</td>\n",
       "      <td>PartOfAHorizontalPortScan</td>\n",
       "    </tr>\n",
       "    <tr>\n",
       "      <th>1</th>\n",
       "      <td>1.525880e+09</td>\n",
       "      <td>CH98aB3s1kJeq6SFOc</td>\n",
       "      <td>192.168.100.103</td>\n",
       "      <td>56305.0</td>\n",
       "      <td>63.150.16.171</td>\n",
       "      <td>23.0</td>\n",
       "      <td>tcp</td>\n",
       "      <td>-</td>\n",
       "      <td>-</td>\n",
       "      <td>-</td>\n",
       "      <td>...</td>\n",
       "      <td>-</td>\n",
       "      <td>0.0</td>\n",
       "      <td>S</td>\n",
       "      <td>1.0</td>\n",
       "      <td>60.0</td>\n",
       "      <td>0.0</td>\n",
       "      <td>0.0</td>\n",
       "      <td>-</td>\n",
       "      <td>Malicious</td>\n",
       "      <td>PartOfAHorizontalPortScan</td>\n",
       "    </tr>\n",
       "    <tr>\n",
       "      <th>2</th>\n",
       "      <td>1.525880e+09</td>\n",
       "      <td>C3GBTkINvXNjVGtN5</td>\n",
       "      <td>192.168.100.103</td>\n",
       "      <td>41101.0</td>\n",
       "      <td>111.40.23.49</td>\n",
       "      <td>23.0</td>\n",
       "      <td>tcp</td>\n",
       "      <td>-</td>\n",
       "      <td>-</td>\n",
       "      <td>-</td>\n",
       "      <td>...</td>\n",
       "      <td>-</td>\n",
       "      <td>0.0</td>\n",
       "      <td>S</td>\n",
       "      <td>1.0</td>\n",
       "      <td>60.0</td>\n",
       "      <td>0.0</td>\n",
       "      <td>0.0</td>\n",
       "      <td>-</td>\n",
       "      <td>Malicious</td>\n",
       "      <td>PartOfAHorizontalPortScan</td>\n",
       "    </tr>\n",
       "    <tr>\n",
       "      <th>3</th>\n",
       "      <td>1.525880e+09</td>\n",
       "      <td>CDe43c1PtgynajGI6</td>\n",
       "      <td>192.168.100.103</td>\n",
       "      <td>60905.0</td>\n",
       "      <td>131.174.215.147</td>\n",
       "      <td>23.0</td>\n",
       "      <td>tcp</td>\n",
       "      <td>-</td>\n",
       "      <td>2.998796</td>\n",
       "      <td>0</td>\n",
       "      <td>...</td>\n",
       "      <td>-</td>\n",
       "      <td>0.0</td>\n",
       "      <td>S</td>\n",
       "      <td>3.0</td>\n",
       "      <td>180.0</td>\n",
       "      <td>0.0</td>\n",
       "      <td>0.0</td>\n",
       "      <td>-</td>\n",
       "      <td>Malicious</td>\n",
       "      <td>PartOfAHorizontalPortScan</td>\n",
       "    </tr>\n",
       "    <tr>\n",
       "      <th>4</th>\n",
       "      <td>1.525880e+09</td>\n",
       "      <td>CJaDcG3MZzvf1YVYI4</td>\n",
       "      <td>192.168.100.103</td>\n",
       "      <td>44301.0</td>\n",
       "      <td>91.42.47.63</td>\n",
       "      <td>23.0</td>\n",
       "      <td>tcp</td>\n",
       "      <td>-</td>\n",
       "      <td>-</td>\n",
       "      <td>-</td>\n",
       "      <td>...</td>\n",
       "      <td>-</td>\n",
       "      <td>0.0</td>\n",
       "      <td>S</td>\n",
       "      <td>1.0</td>\n",
       "      <td>60.0</td>\n",
       "      <td>0.0</td>\n",
       "      <td>0.0</td>\n",
       "      <td>-</td>\n",
       "      <td>Malicious</td>\n",
       "      <td>PartOfAHorizontalPortScan</td>\n",
       "    </tr>\n",
       "  </tbody>\n",
       "</table>\n",
       "<p>5 rows × 23 columns</p>\n",
       "</div>"
      ],
      "text/plain": [
       "             ts                 uid        id.orig_h  id.orig_p  \\\n",
       "0  1.525880e+09  CUmrqr4svHuSXJy5z7  192.168.100.103    51524.0   \n",
       "1  1.525880e+09  CH98aB3s1kJeq6SFOc  192.168.100.103    56305.0   \n",
       "2  1.525880e+09   C3GBTkINvXNjVGtN5  192.168.100.103    41101.0   \n",
       "3  1.525880e+09   CDe43c1PtgynajGI6  192.168.100.103    60905.0   \n",
       "4  1.525880e+09  CJaDcG3MZzvf1YVYI4  192.168.100.103    44301.0   \n",
       "\n",
       "         id.resp_h  id.resp_p proto service  duration orig_bytes  ...  \\\n",
       "0   65.127.233.163       23.0   tcp       -  2.999051          0  ...   \n",
       "1    63.150.16.171       23.0   tcp       -         -          -  ...   \n",
       "2     111.40.23.49       23.0   tcp       -         -          -  ...   \n",
       "3  131.174.215.147       23.0   tcp       -  2.998796          0  ...   \n",
       "4      91.42.47.63       23.0   tcp       -         -          -  ...   \n",
       "\n",
       "  local_resp missed_bytes history orig_pkts  orig_ip_bytes resp_pkts  \\\n",
       "0          -          0.0       S       3.0          180.0       0.0   \n",
       "1          -          0.0       S       1.0           60.0       0.0   \n",
       "2          -          0.0       S       1.0           60.0       0.0   \n",
       "3          -          0.0       S       3.0          180.0       0.0   \n",
       "4          -          0.0       S       1.0           60.0       0.0   \n",
       "\n",
       "   resp_ip_bytes  tunnel_parents      label             detailed-label  \n",
       "0            0.0               -  Malicious  PartOfAHorizontalPortScan  \n",
       "1            0.0               -  Malicious  PartOfAHorizontalPortScan  \n",
       "2            0.0               -  Malicious  PartOfAHorizontalPortScan  \n",
       "3            0.0               -  Malicious  PartOfAHorizontalPortScan  \n",
       "4            0.0               -  Malicious  PartOfAHorizontalPortScan  \n",
       "\n",
       "[5 rows x 23 columns]"
      ]
     },
     "execution_count": 42,
     "metadata": {},
     "output_type": "execute_result"
    }
   ],
   "source": [
    "df1.head()"
   ]
  },
  {
   "cell_type": "code",
   "execution_count": 43,
   "id": "864cc969",
   "metadata": {},
   "outputs": [
    {
     "name": "stderr",
     "output_type": "stream",
     "text": [
      "C:\\Users\\Rohit\\AppData\\Local\\Temp\\ipykernel_7012\\291993118.py:7: DtypeWarning: Columns (8,9,10) have mixed types. Specify dtype option on import or set low_memory=False.\n",
      "  df8 = pd.read_csv('CTU-IoT-Malware-Capture-48-1conn.log.labeled.csv',sep='|')\n"
     ]
    }
   ],
   "source": [
    "df2 = pd.read_csv('CTU-IoT-Malware-Capture-20-1conn.log.labeled.csv',sep='|')\n",
    "df3 = pd.read_csv('CTU-IoT-Malware-Capture-21-1conn.log.labeled.csv',sep='|')\n",
    "df4 = pd.read_csv('CTU-IoT-Malware-Capture-3-1conn.log.labeled.csv',sep='|')\n",
    "df5 = pd.read_csv('CTU-IoT-Malware-Capture-34-1conn.log.labeled.csv',sep='|')\n",
    "df6 = pd.read_csv('CTU-IoT-Malware-Capture-35-1conn.log.labeled.csv',sep='|')\n",
    "df7 = pd.read_csv('CTU-IoT-Malware-Capture-42-1conn.log.labeled.csv',sep='|')\n",
    "df8 = pd.read_csv('CTU-IoT-Malware-Capture-48-1conn.log.labeled.csv',sep='|')\n",
    "df9 = pd.read_csv('CTU-IoT-Malware-Capture-60-1conn.log.labeled.csv',sep='|')\n",
    "df10 = pd.read_csv('CTU-IoT-Malware-Capture-9-1conn.log.labeled.csv',sep='|')"
   ]
  },
  {
   "cell_type": "code",
   "execution_count": 44,
   "id": "d6a7f59f",
   "metadata": {},
   "outputs": [],
   "source": [
    "df = pd.concat([df1,df2,df3,df4,df5,df6,df7,df8,df9,df10],axis = 0)"
   ]
  },
  {
   "cell_type": "code",
   "execution_count": 45,
   "id": "2f174c0d",
   "metadata": {},
   "outputs": [],
   "source": [
    "df=df[10000001:15000001]"
   ]
  },
  {
   "cell_type": "code",
   "execution_count": 46,
   "id": "3b40ba1b",
   "metadata": {},
   "outputs": [],
   "source": [
    "\n",
    "del df1\n",
    "del df2\n",
    "del df3\n",
    "del df4\n",
    "del df5\n",
    "del df6\n",
    "del df7\n",
    "del df8\n",
    "del df9\n",
    "del df10"
   ]
  },
  {
   "cell_type": "code",
   "execution_count": 47,
   "id": "fa4e2b8a",
   "metadata": {},
   "outputs": [
    {
     "data": {
      "text/html": [
       "<div>\n",
       "<style scoped>\n",
       "    .dataframe tbody tr th:only-of-type {\n",
       "        vertical-align: middle;\n",
       "    }\n",
       "\n",
       "    .dataframe tbody tr th {\n",
       "        vertical-align: top;\n",
       "    }\n",
       "\n",
       "    .dataframe thead th {\n",
       "        text-align: right;\n",
       "    }\n",
       "</style>\n",
       "<table border=\"1\" class=\"dataframe\">\n",
       "  <thead>\n",
       "    <tr style=\"text-align: right;\">\n",
       "      <th></th>\n",
       "      <th>ts</th>\n",
       "      <th>uid</th>\n",
       "      <th>id.orig_h</th>\n",
       "      <th>id.orig_p</th>\n",
       "      <th>id.resp_h</th>\n",
       "      <th>id.resp_p</th>\n",
       "      <th>proto</th>\n",
       "      <th>service</th>\n",
       "      <th>duration</th>\n",
       "      <th>orig_bytes</th>\n",
       "      <th>...</th>\n",
       "      <th>local_resp</th>\n",
       "      <th>missed_bytes</th>\n",
       "      <th>history</th>\n",
       "      <th>orig_pkts</th>\n",
       "      <th>orig_ip_bytes</th>\n",
       "      <th>resp_pkts</th>\n",
       "      <th>resp_ip_bytes</th>\n",
       "      <th>tunnel_parents</th>\n",
       "      <th>label</th>\n",
       "      <th>detailed-label</th>\n",
       "    </tr>\n",
       "  </thead>\n",
       "  <tbody>\n",
       "    <tr>\n",
       "      <th>8805510</th>\n",
       "      <td>1.545473e+09</td>\n",
       "      <td>CmKKW74fdMB0qbO02i</td>\n",
       "      <td>192.168.1.196</td>\n",
       "      <td>56991.0</td>\n",
       "      <td>216.18.168.16</td>\n",
       "      <td>80.0</td>\n",
       "      <td>tcp</td>\n",
       "      <td>-</td>\n",
       "      <td>0.997943</td>\n",
       "      <td>0</td>\n",
       "      <td>...</td>\n",
       "      <td>-</td>\n",
       "      <td>0.0</td>\n",
       "      <td>I</td>\n",
       "      <td>3.0</td>\n",
       "      <td>120.0</td>\n",
       "      <td>0.0</td>\n",
       "      <td>0.0</td>\n",
       "      <td>-</td>\n",
       "      <td>Malicious   DDoS</td>\n",
       "      <td>NaN</td>\n",
       "    </tr>\n",
       "    <tr>\n",
       "      <th>8805511</th>\n",
       "      <td>1.545473e+09</td>\n",
       "      <td>CmGWZm1bSWpLAqDuqc</td>\n",
       "      <td>192.168.1.196</td>\n",
       "      <td>52425.0</td>\n",
       "      <td>216.18.168.16</td>\n",
       "      <td>80.0</td>\n",
       "      <td>tcp</td>\n",
       "      <td>-</td>\n",
       "      <td>4.509697</td>\n",
       "      <td>0</td>\n",
       "      <td>...</td>\n",
       "      <td>-</td>\n",
       "      <td>0.0</td>\n",
       "      <td>I</td>\n",
       "      <td>2.0</td>\n",
       "      <td>80.0</td>\n",
       "      <td>0.0</td>\n",
       "      <td>0.0</td>\n",
       "      <td>-</td>\n",
       "      <td>Malicious   DDoS</td>\n",
       "      <td>NaN</td>\n",
       "    </tr>\n",
       "    <tr>\n",
       "      <th>8805512</th>\n",
       "      <td>1.545473e+09</td>\n",
       "      <td>C3D4v44xBvTxbBPv1</td>\n",
       "      <td>192.168.1.196</td>\n",
       "      <td>20169.0</td>\n",
       "      <td>216.18.168.16</td>\n",
       "      <td>80.0</td>\n",
       "      <td>tcp</td>\n",
       "      <td>-</td>\n",
       "      <td>4.921978</td>\n",
       "      <td>0</td>\n",
       "      <td>...</td>\n",
       "      <td>-</td>\n",
       "      <td>0.0</td>\n",
       "      <td>I</td>\n",
       "      <td>2.0</td>\n",
       "      <td>80.0</td>\n",
       "      <td>0.0</td>\n",
       "      <td>0.0</td>\n",
       "      <td>-</td>\n",
       "      <td>Malicious   DDoS</td>\n",
       "      <td>NaN</td>\n",
       "    </tr>\n",
       "    <tr>\n",
       "      <th>8805513</th>\n",
       "      <td>1.545473e+09</td>\n",
       "      <td>CsfeCk18lBaz8UMgg</td>\n",
       "      <td>192.168.1.196</td>\n",
       "      <td>13585.0</td>\n",
       "      <td>216.18.168.16</td>\n",
       "      <td>80.0</td>\n",
       "      <td>tcp</td>\n",
       "      <td>-</td>\n",
       "      <td>4.735055</td>\n",
       "      <td>0</td>\n",
       "      <td>...</td>\n",
       "      <td>-</td>\n",
       "      <td>0.0</td>\n",
       "      <td>I</td>\n",
       "      <td>3.0</td>\n",
       "      <td>120.0</td>\n",
       "      <td>0.0</td>\n",
       "      <td>0.0</td>\n",
       "      <td>-</td>\n",
       "      <td>Malicious   DDoS</td>\n",
       "      <td>NaN</td>\n",
       "    </tr>\n",
       "    <tr>\n",
       "      <th>8805514</th>\n",
       "      <td>1.545473e+09</td>\n",
       "      <td>C51OXU3Yk1g85wJMZ</td>\n",
       "      <td>192.168.1.196</td>\n",
       "      <td>1896.0</td>\n",
       "      <td>216.18.168.16</td>\n",
       "      <td>80.0</td>\n",
       "      <td>tcp</td>\n",
       "      <td>-</td>\n",
       "      <td>4.382480</td>\n",
       "      <td>0</td>\n",
       "      <td>...</td>\n",
       "      <td>-</td>\n",
       "      <td>0.0</td>\n",
       "      <td>I</td>\n",
       "      <td>6.0</td>\n",
       "      <td>240.0</td>\n",
       "      <td>0.0</td>\n",
       "      <td>0.0</td>\n",
       "      <td>-</td>\n",
       "      <td>Malicious   DDoS</td>\n",
       "      <td>NaN</td>\n",
       "    </tr>\n",
       "  </tbody>\n",
       "</table>\n",
       "<p>5 rows × 23 columns</p>\n",
       "</div>"
      ],
      "text/plain": [
       "                   ts                 uid      id.orig_h  id.orig_p  \\\n",
       "8805510  1.545473e+09  CmKKW74fdMB0qbO02i  192.168.1.196    56991.0   \n",
       "8805511  1.545473e+09  CmGWZm1bSWpLAqDuqc  192.168.1.196    52425.0   \n",
       "8805512  1.545473e+09   C3D4v44xBvTxbBPv1  192.168.1.196    20169.0   \n",
       "8805513  1.545473e+09   CsfeCk18lBaz8UMgg  192.168.1.196    13585.0   \n",
       "8805514  1.545473e+09   C51OXU3Yk1g85wJMZ  192.168.1.196     1896.0   \n",
       "\n",
       "             id.resp_h  id.resp_p proto service  duration orig_bytes  ...  \\\n",
       "8805510  216.18.168.16       80.0   tcp       -  0.997943          0  ...   \n",
       "8805511  216.18.168.16       80.0   tcp       -  4.509697          0  ...   \n",
       "8805512  216.18.168.16       80.0   tcp       -  4.921978          0  ...   \n",
       "8805513  216.18.168.16       80.0   tcp       -  4.735055          0  ...   \n",
       "8805514  216.18.168.16       80.0   tcp       -  4.382480          0  ...   \n",
       "\n",
       "        local_resp missed_bytes history orig_pkts  orig_ip_bytes resp_pkts  \\\n",
       "8805510          -          0.0       I       3.0          120.0       0.0   \n",
       "8805511          -          0.0       I       2.0           80.0       0.0   \n",
       "8805512          -          0.0       I       2.0           80.0       0.0   \n",
       "8805513          -          0.0       I       3.0          120.0       0.0   \n",
       "8805514          -          0.0       I       6.0          240.0       0.0   \n",
       "\n",
       "         resp_ip_bytes  tunnel_parents             label  detailed-label  \n",
       "8805510            0.0               -  Malicious   DDoS             NaN  \n",
       "8805511            0.0               -  Malicious   DDoS             NaN  \n",
       "8805512            0.0               -  Malicious   DDoS             NaN  \n",
       "8805513            0.0               -  Malicious   DDoS             NaN  \n",
       "8805514            0.0               -  Malicious   DDoS             NaN  \n",
       "\n",
       "[5 rows x 23 columns]"
      ]
     },
     "execution_count": 47,
     "metadata": {},
     "output_type": "execute_result"
    }
   ],
   "source": [
    "df.head()"
   ]
  },
  {
   "cell_type": "code",
   "execution_count": 48,
   "id": "6c4b35dd",
   "metadata": {},
   "outputs": [],
   "source": [
    "df.replace('-', np.nan, inplace=True)"
   ]
  },
  {
   "cell_type": "code",
   "execution_count": 49,
   "id": "b88413ee",
   "metadata": {},
   "outputs": [
    {
     "data": {
      "text/plain": [
       "ts                      0\n",
       "uid                     0\n",
       "id.orig_h               0\n",
       "id.orig_p               0\n",
       "id.resp_h               0\n",
       "id.resp_p               0\n",
       "proto                   0\n",
       "service           4998091\n",
       "duration           806455\n",
       "orig_bytes         806455\n",
       "resp_bytes         806455\n",
       "conn_state              0\n",
       "local_orig        5000000\n",
       "local_resp        5000000\n",
       "missed_bytes            0\n",
       "history              2505\n",
       "orig_pkts               0\n",
       "orig_ip_bytes           0\n",
       "resp_pkts               0\n",
       "resp_ip_bytes           0\n",
       "tunnel_parents    5000000\n",
       "label                   0\n",
       "detailed-label    4998320\n",
       "dtype: int64"
      ]
     },
     "execution_count": 49,
     "metadata": {},
     "output_type": "execute_result"
    }
   ],
   "source": [
    "df.isnull().sum()"
   ]
  },
  {
   "cell_type": "code",
   "execution_count": 50,
   "id": "7eb7be40",
   "metadata": {},
   "outputs": [
    {
     "data": {
      "text/plain": [
       "(5000000, 23)"
      ]
     },
     "execution_count": 50,
     "metadata": {},
     "output_type": "execute_result"
    }
   ],
   "source": [
    "df.shape\n"
   ]
  },
  {
   "cell_type": "code",
   "execution_count": 9,
   "id": "5f89a8ce",
   "metadata": {},
   "outputs": [
    {
     "data": {
      "text/plain": [
       "array(['Malicious   DDoS', 'Benign', 'Malicious   C&C',\n",
       "       'Malicious   FileDownload',\n",
       "       'Malicious   PartOfAHorizontalPortScan', 'Malicious   Attack'],\n",
       "      dtype=object)"
      ]
     },
     "execution_count": 9,
     "metadata": {},
     "output_type": "execute_result"
    }
   ],
   "source": [
    "df['label'].unique()"
   ]
  },
  {
   "cell_type": "code",
   "execution_count": 83,
   "id": "b8dc8fc4",
   "metadata": {},
   "outputs": [
    {
     "data": {
      "text/plain": [
       "array([nan, 'dns', 'http', 'ssl', 'dhcp'], dtype=object)"
      ]
     },
     "execution_count": 83,
     "metadata": {},
     "output_type": "execute_result"
    }
   ],
   "source": [
    "df['service'].unique()"
   ]
  },
  {
   "cell_type": "code",
   "execution_count": 84,
   "id": "1c14a417",
   "metadata": {},
   "outputs": [
    {
     "data": {
      "text/plain": [
       "array(['I', 'S', 'Dd', 'SI', 'D', 'Sr', nan, 'ShADdfFa', 'ShADadFf',\n",
       "       'ShAfFa', 'ShAdfFa', 'ShwA', 'ShAdaDR', 'ShADdfF', 'ShADdattFfR',\n",
       "       'F', 'ShwAr', 'ShADdf', 'ShAdDafr', 'ShAr', 'ShAdDaTR', 'ShAfF',\n",
       "       'ShAfdtF', 'ShADdFaf', 'ShADdFf', 'ShAdfr', 'ShADdtatFfR',\n",
       "       'ShAdDaFRR', 'ShAdDaR', 'Dr', 'R', 'ShAF', 'ShAdDaRRR',\n",
       "       'ShAdDaTRf', 'HaDdAr', 'ShADad', 'ShADadttFf', 'ShADadRf',\n",
       "       'ShAdfDr', 'ShAdDaf', 'ShAdDaft', 'DdA', 'ShADdaf', 'ShAfdtDr',\n",
       "       'ShADadtFf', 'ShADadf', 'Aa', 'DaFfA', 'DdAa', 'ShADadttfF',\n",
       "       'ShADadfF', 'ShAdDafR', 'ShAdr', 'DdAaFf', 'SaR', 'ShAdDaFR',\n",
       "       'ShAfr', 'ShR', 'ShAdFaRf', 'ShAdDafF', 'ShAfFr', 'ShAdDaTFf',\n",
       "       'ShAaww', 'ShAaw', 'ShAdDaTfr', 'ShAdDaRr', 'ShAdDaTfRr',\n",
       "       'ShAfdtFa', 'ShAFr', 'ShAdDaRR', 'ShArr', 'ShAdDR', 'ShAdDatRRR',\n",
       "       'ShAdDaFf', 'ShADadfr', 'ShAdDatR', 'ShAdDaTRft', 'ShAdDaTTRf',\n",
       "       'ShAdDaTfR'], dtype=object)"
      ]
     },
     "execution_count": 84,
     "metadata": {},
     "output_type": "execute_result"
    }
   ],
   "source": [
    "df['history'].unique()"
   ]
  },
  {
   "cell_type": "code",
   "execution_count": 86,
   "id": "bc7c3fc1",
   "metadata": {},
   "outputs": [],
   "source": [
    "df['duration'] = df['duration'].astype('float')\n",
    "df['orig_bytes'] = df['orig_bytes'].astype('float')\n",
    "df['resp_bytes'] = df['resp_bytes'].astype('float')"
   ]
  },
  {
   "cell_type": "code",
   "execution_count": 88,
   "id": "e3edbcc3",
   "metadata": {},
   "outputs": [
    {
     "data": {
      "text/plain": [
       "533877      0\n",
       "2574833     0\n",
       "1824115     0\n",
       "975009      0\n",
       "1519242     0\n",
       "1296037     0\n",
       "1441911     0\n",
       "9035664     1\n",
       "9136082     1\n",
       "8838166     0\n",
       "66190       0\n",
       "2708685     0\n",
       "10075493    1\n",
       "10430984    1\n",
       "3160099     0\n",
       "2267125     0\n",
       "3062096     0\n",
       "10035271    1\n",
       "9503954     1\n",
       "3224227     0\n",
       "9472525     1\n",
       "1872123     0\n",
       "2514717     0\n",
       "2744665     0\n",
       "2192784     0\n",
       "Name: label, dtype: int64"
      ]
     },
     "execution_count": 88,
     "metadata": {},
     "output_type": "execute_result"
    }
   ],
   "source": [
    "df['label'].sample(25)"
   ]
  },
  {
   "cell_type": "code",
   "execution_count": 51,
   "id": "a7b1cd63",
   "metadata": {},
   "outputs": [],
   "source": [
    "df = df.drop(columns=['uid', 'local_orig', 'local_resp', 'tunnel_parents', 'detailed-label', 'id.orig_h', 'id.resp_h'])"
   ]
  },
  {
   "cell_type": "code",
   "execution_count": 52,
   "id": "69f8bbe6",
   "metadata": {},
   "outputs": [],
   "source": [
    "df = df.fillna(0)"
   ]
  },
  {
   "cell_type": "code",
   "execution_count": 91,
   "id": "e1db4d73",
   "metadata": {},
   "outputs": [
    {
     "data": {
      "text/html": [
       "<div>\n",
       "<style scoped>\n",
       "    .dataframe tbody tr th:only-of-type {\n",
       "        vertical-align: middle;\n",
       "    }\n",
       "\n",
       "    .dataframe tbody tr th {\n",
       "        vertical-align: top;\n",
       "    }\n",
       "\n",
       "    .dataframe thead th {\n",
       "        text-align: right;\n",
       "    }\n",
       "</style>\n",
       "<table border=\"1\" class=\"dataframe\">\n",
       "  <thead>\n",
       "    <tr style=\"text-align: right;\">\n",
       "      <th></th>\n",
       "      <th>ts</th>\n",
       "      <th>id.orig_p</th>\n",
       "      <th>id.resp_p</th>\n",
       "      <th>duration</th>\n",
       "      <th>orig_bytes</th>\n",
       "      <th>resp_bytes</th>\n",
       "      <th>missed_bytes</th>\n",
       "      <th>history</th>\n",
       "      <th>orig_pkts</th>\n",
       "      <th>orig_ip_bytes</th>\n",
       "      <th>...</th>\n",
       "      <th>conn_state_RSTRH</th>\n",
       "      <th>conn_state_S0</th>\n",
       "      <th>conn_state_S1</th>\n",
       "      <th>conn_state_S2</th>\n",
       "      <th>conn_state_S3</th>\n",
       "      <th>conn_state_SF</th>\n",
       "      <th>conn_state_SH</th>\n",
       "      <th>service_dns</th>\n",
       "      <th>service_http</th>\n",
       "      <th>service_ssl</th>\n",
       "    </tr>\n",
       "  </thead>\n",
       "  <tbody>\n",
       "    <tr>\n",
       "      <th>8805510</th>\n",
       "      <td>1.545473e+09</td>\n",
       "      <td>56991.0</td>\n",
       "      <td>80.0</td>\n",
       "      <td>0.997943</td>\n",
       "      <td>0.0</td>\n",
       "      <td>0.0</td>\n",
       "      <td>0.0</td>\n",
       "      <td>1</td>\n",
       "      <td>3.0</td>\n",
       "      <td>120.0</td>\n",
       "      <td>...</td>\n",
       "      <td>False</td>\n",
       "      <td>False</td>\n",
       "      <td>False</td>\n",
       "      <td>False</td>\n",
       "      <td>False</td>\n",
       "      <td>False</td>\n",
       "      <td>False</td>\n",
       "      <td>False</td>\n",
       "      <td>False</td>\n",
       "      <td>False</td>\n",
       "    </tr>\n",
       "    <tr>\n",
       "      <th>8805511</th>\n",
       "      <td>1.545473e+09</td>\n",
       "      <td>52425.0</td>\n",
       "      <td>80.0</td>\n",
       "      <td>4.509697</td>\n",
       "      <td>0.0</td>\n",
       "      <td>0.0</td>\n",
       "      <td>0.0</td>\n",
       "      <td>1</td>\n",
       "      <td>2.0</td>\n",
       "      <td>80.0</td>\n",
       "      <td>...</td>\n",
       "      <td>False</td>\n",
       "      <td>False</td>\n",
       "      <td>False</td>\n",
       "      <td>False</td>\n",
       "      <td>False</td>\n",
       "      <td>False</td>\n",
       "      <td>False</td>\n",
       "      <td>False</td>\n",
       "      <td>False</td>\n",
       "      <td>False</td>\n",
       "    </tr>\n",
       "    <tr>\n",
       "      <th>8805512</th>\n",
       "      <td>1.545473e+09</td>\n",
       "      <td>20169.0</td>\n",
       "      <td>80.0</td>\n",
       "      <td>4.921978</td>\n",
       "      <td>0.0</td>\n",
       "      <td>0.0</td>\n",
       "      <td>0.0</td>\n",
       "      <td>1</td>\n",
       "      <td>2.0</td>\n",
       "      <td>80.0</td>\n",
       "      <td>...</td>\n",
       "      <td>False</td>\n",
       "      <td>False</td>\n",
       "      <td>False</td>\n",
       "      <td>False</td>\n",
       "      <td>False</td>\n",
       "      <td>False</td>\n",
       "      <td>False</td>\n",
       "      <td>False</td>\n",
       "      <td>False</td>\n",
       "      <td>False</td>\n",
       "    </tr>\n",
       "    <tr>\n",
       "      <th>8805513</th>\n",
       "      <td>1.545473e+09</td>\n",
       "      <td>13585.0</td>\n",
       "      <td>80.0</td>\n",
       "      <td>4.735055</td>\n",
       "      <td>0.0</td>\n",
       "      <td>0.0</td>\n",
       "      <td>0.0</td>\n",
       "      <td>1</td>\n",
       "      <td>3.0</td>\n",
       "      <td>120.0</td>\n",
       "      <td>...</td>\n",
       "      <td>False</td>\n",
       "      <td>False</td>\n",
       "      <td>False</td>\n",
       "      <td>False</td>\n",
       "      <td>False</td>\n",
       "      <td>False</td>\n",
       "      <td>False</td>\n",
       "      <td>False</td>\n",
       "      <td>False</td>\n",
       "      <td>False</td>\n",
       "    </tr>\n",
       "    <tr>\n",
       "      <th>8805514</th>\n",
       "      <td>1.545473e+09</td>\n",
       "      <td>1896.0</td>\n",
       "      <td>80.0</td>\n",
       "      <td>4.382480</td>\n",
       "      <td>0.0</td>\n",
       "      <td>0.0</td>\n",
       "      <td>0.0</td>\n",
       "      <td>1</td>\n",
       "      <td>6.0</td>\n",
       "      <td>240.0</td>\n",
       "      <td>...</td>\n",
       "      <td>False</td>\n",
       "      <td>False</td>\n",
       "      <td>False</td>\n",
       "      <td>False</td>\n",
       "      <td>False</td>\n",
       "      <td>False</td>\n",
       "      <td>False</td>\n",
       "      <td>False</td>\n",
       "      <td>False</td>\n",
       "      <td>False</td>\n",
       "    </tr>\n",
       "  </tbody>\n",
       "</table>\n",
       "<p>5 rows × 29 columns</p>\n",
       "</div>"
      ],
      "text/plain": [
       "                   ts  id.orig_p  id.resp_p  duration  orig_bytes  resp_bytes  \\\n",
       "8805510  1.545473e+09    56991.0       80.0  0.997943         0.0         0.0   \n",
       "8805511  1.545473e+09    52425.0       80.0  4.509697         0.0         0.0   \n",
       "8805512  1.545473e+09    20169.0       80.0  4.921978         0.0         0.0   \n",
       "8805513  1.545473e+09    13585.0       80.0  4.735055         0.0         0.0   \n",
       "8805514  1.545473e+09     1896.0       80.0  4.382480         0.0         0.0   \n",
       "\n",
       "         missed_bytes  history  orig_pkts  orig_ip_bytes  ...  \\\n",
       "8805510           0.0        1        3.0          120.0  ...   \n",
       "8805511           0.0        1        2.0           80.0  ...   \n",
       "8805512           0.0        1        2.0           80.0  ...   \n",
       "8805513           0.0        1        3.0          120.0  ...   \n",
       "8805514           0.0        1        6.0          240.0  ...   \n",
       "\n",
       "         conn_state_RSTRH  conn_state_S0  conn_state_S1  conn_state_S2  \\\n",
       "8805510             False          False          False          False   \n",
       "8805511             False          False          False          False   \n",
       "8805512             False          False          False          False   \n",
       "8805513             False          False          False          False   \n",
       "8805514             False          False          False          False   \n",
       "\n",
       "         conn_state_S3  conn_state_SF  conn_state_SH  service_dns  \\\n",
       "8805510          False          False          False        False   \n",
       "8805511          False          False          False        False   \n",
       "8805512          False          False          False        False   \n",
       "8805513          False          False          False        False   \n",
       "8805514          False          False          False        False   \n",
       "\n",
       "         service_http  service_ssl  \n",
       "8805510         False        False  \n",
       "8805511         False        False  \n",
       "8805512         False        False  \n",
       "8805513         False        False  \n",
       "8805514         False        False  \n",
       "\n",
       "[5 rows x 29 columns]"
      ]
     },
     "execution_count": 91,
     "metadata": {},
     "output_type": "execute_result"
    }
   ],
   "source": [
    "df.head()"
   ]
  },
  {
   "cell_type": "code",
   "execution_count": 53,
   "id": "4b5f4e6d",
   "metadata": {},
   "outputs": [],
   "source": [
    "df = df.replace(False,0)\n",
    "df = df.replace(True,1)"
   ]
  },
  {
   "cell_type": "code",
   "execution_count": 93,
   "id": "e733ffaa",
   "metadata": {},
   "outputs": [
    {
     "data": {
      "text/html": [
       "<div>\n",
       "<style scoped>\n",
       "    .dataframe tbody tr th:only-of-type {\n",
       "        vertical-align: middle;\n",
       "    }\n",
       "\n",
       "    .dataframe tbody tr th {\n",
       "        vertical-align: top;\n",
       "    }\n",
       "\n",
       "    .dataframe thead th {\n",
       "        text-align: right;\n",
       "    }\n",
       "</style>\n",
       "<table border=\"1\" class=\"dataframe\">\n",
       "  <thead>\n",
       "    <tr style=\"text-align: right;\">\n",
       "      <th></th>\n",
       "      <th>ts</th>\n",
       "      <th>id.orig_p</th>\n",
       "      <th>id.resp_p</th>\n",
       "      <th>duration</th>\n",
       "      <th>orig_bytes</th>\n",
       "      <th>resp_bytes</th>\n",
       "      <th>missed_bytes</th>\n",
       "      <th>history</th>\n",
       "      <th>orig_pkts</th>\n",
       "      <th>orig_ip_bytes</th>\n",
       "      <th>...</th>\n",
       "      <th>conn_state_RSTRH</th>\n",
       "      <th>conn_state_S0</th>\n",
       "      <th>conn_state_S1</th>\n",
       "      <th>conn_state_S2</th>\n",
       "      <th>conn_state_S3</th>\n",
       "      <th>conn_state_SF</th>\n",
       "      <th>conn_state_SH</th>\n",
       "      <th>service_dns</th>\n",
       "      <th>service_http</th>\n",
       "      <th>service_ssl</th>\n",
       "    </tr>\n",
       "  </thead>\n",
       "  <tbody>\n",
       "    <tr>\n",
       "      <th>8805510</th>\n",
       "      <td>1.545473e+09</td>\n",
       "      <td>56991.0</td>\n",
       "      <td>80.0</td>\n",
       "      <td>0.997943</td>\n",
       "      <td>0.0</td>\n",
       "      <td>0.0</td>\n",
       "      <td>0.0</td>\n",
       "      <td>1</td>\n",
       "      <td>3.0</td>\n",
       "      <td>120.0</td>\n",
       "      <td>...</td>\n",
       "      <td>0</td>\n",
       "      <td>0</td>\n",
       "      <td>0</td>\n",
       "      <td>0</td>\n",
       "      <td>0</td>\n",
       "      <td>0</td>\n",
       "      <td>0</td>\n",
       "      <td>0</td>\n",
       "      <td>0</td>\n",
       "      <td>0</td>\n",
       "    </tr>\n",
       "    <tr>\n",
       "      <th>8805511</th>\n",
       "      <td>1.545473e+09</td>\n",
       "      <td>52425.0</td>\n",
       "      <td>80.0</td>\n",
       "      <td>4.509697</td>\n",
       "      <td>0.0</td>\n",
       "      <td>0.0</td>\n",
       "      <td>0.0</td>\n",
       "      <td>1</td>\n",
       "      <td>2.0</td>\n",
       "      <td>80.0</td>\n",
       "      <td>...</td>\n",
       "      <td>0</td>\n",
       "      <td>0</td>\n",
       "      <td>0</td>\n",
       "      <td>0</td>\n",
       "      <td>0</td>\n",
       "      <td>0</td>\n",
       "      <td>0</td>\n",
       "      <td>0</td>\n",
       "      <td>0</td>\n",
       "      <td>0</td>\n",
       "    </tr>\n",
       "    <tr>\n",
       "      <th>8805512</th>\n",
       "      <td>1.545473e+09</td>\n",
       "      <td>20169.0</td>\n",
       "      <td>80.0</td>\n",
       "      <td>4.921978</td>\n",
       "      <td>0.0</td>\n",
       "      <td>0.0</td>\n",
       "      <td>0.0</td>\n",
       "      <td>1</td>\n",
       "      <td>2.0</td>\n",
       "      <td>80.0</td>\n",
       "      <td>...</td>\n",
       "      <td>0</td>\n",
       "      <td>0</td>\n",
       "      <td>0</td>\n",
       "      <td>0</td>\n",
       "      <td>0</td>\n",
       "      <td>0</td>\n",
       "      <td>0</td>\n",
       "      <td>0</td>\n",
       "      <td>0</td>\n",
       "      <td>0</td>\n",
       "    </tr>\n",
       "    <tr>\n",
       "      <th>8805513</th>\n",
       "      <td>1.545473e+09</td>\n",
       "      <td>13585.0</td>\n",
       "      <td>80.0</td>\n",
       "      <td>4.735055</td>\n",
       "      <td>0.0</td>\n",
       "      <td>0.0</td>\n",
       "      <td>0.0</td>\n",
       "      <td>1</td>\n",
       "      <td>3.0</td>\n",
       "      <td>120.0</td>\n",
       "      <td>...</td>\n",
       "      <td>0</td>\n",
       "      <td>0</td>\n",
       "      <td>0</td>\n",
       "      <td>0</td>\n",
       "      <td>0</td>\n",
       "      <td>0</td>\n",
       "      <td>0</td>\n",
       "      <td>0</td>\n",
       "      <td>0</td>\n",
       "      <td>0</td>\n",
       "    </tr>\n",
       "    <tr>\n",
       "      <th>8805514</th>\n",
       "      <td>1.545473e+09</td>\n",
       "      <td>1896.0</td>\n",
       "      <td>80.0</td>\n",
       "      <td>4.382480</td>\n",
       "      <td>0.0</td>\n",
       "      <td>0.0</td>\n",
       "      <td>0.0</td>\n",
       "      <td>1</td>\n",
       "      <td>6.0</td>\n",
       "      <td>240.0</td>\n",
       "      <td>...</td>\n",
       "      <td>0</td>\n",
       "      <td>0</td>\n",
       "      <td>0</td>\n",
       "      <td>0</td>\n",
       "      <td>0</td>\n",
       "      <td>0</td>\n",
       "      <td>0</td>\n",
       "      <td>0</td>\n",
       "      <td>0</td>\n",
       "      <td>0</td>\n",
       "    </tr>\n",
       "  </tbody>\n",
       "</table>\n",
       "<p>5 rows × 29 columns</p>\n",
       "</div>"
      ],
      "text/plain": [
       "                   ts  id.orig_p  id.resp_p  duration  orig_bytes  resp_bytes  \\\n",
       "8805510  1.545473e+09    56991.0       80.0  0.997943         0.0         0.0   \n",
       "8805511  1.545473e+09    52425.0       80.0  4.509697         0.0         0.0   \n",
       "8805512  1.545473e+09    20169.0       80.0  4.921978         0.0         0.0   \n",
       "8805513  1.545473e+09    13585.0       80.0  4.735055         0.0         0.0   \n",
       "8805514  1.545473e+09     1896.0       80.0  4.382480         0.0         0.0   \n",
       "\n",
       "         missed_bytes  history  orig_pkts  orig_ip_bytes  ...  \\\n",
       "8805510           0.0        1        3.0          120.0  ...   \n",
       "8805511           0.0        1        2.0           80.0  ...   \n",
       "8805512           0.0        1        2.0           80.0  ...   \n",
       "8805513           0.0        1        3.0          120.0  ...   \n",
       "8805514           0.0        1        6.0          240.0  ...   \n",
       "\n",
       "         conn_state_RSTRH  conn_state_S0  conn_state_S1  conn_state_S2  \\\n",
       "8805510                 0              0              0              0   \n",
       "8805511                 0              0              0              0   \n",
       "8805512                 0              0              0              0   \n",
       "8805513                 0              0              0              0   \n",
       "8805514                 0              0              0              0   \n",
       "\n",
       "         conn_state_S3  conn_state_SF  conn_state_SH  service_dns  \\\n",
       "8805510              0              0              0            0   \n",
       "8805511              0              0              0            0   \n",
       "8805512              0              0              0            0   \n",
       "8805513              0              0              0            0   \n",
       "8805514              0              0              0            0   \n",
       "\n",
       "         service_http  service_ssl  \n",
       "8805510             0            0  \n",
       "8805511             0            0  \n",
       "8805512             0            0  \n",
       "8805513             0            0  \n",
       "8805514             0            0  \n",
       "\n",
       "[5 rows x 29 columns]"
      ]
     },
     "execution_count": 93,
     "metadata": {},
     "output_type": "execute_result"
    }
   ],
   "source": [
    "df.head()"
   ]
  },
  {
   "cell_type": "code",
   "execution_count": 1,
   "id": "0fabe9c1",
   "metadata": {},
   "outputs": [],
   "source": [
    "##EDA"
   ]
  },
  {
   "cell_type": "code",
   "execution_count": 14,
   "id": "ef9c627f",
   "metadata": {},
   "outputs": [
    {
     "data": {
      "text/plain": [
       "Index(['ts', 'id.orig_p', 'id.resp_p', 'proto', 'service', 'duration',\n",
       "       'orig_bytes', 'resp_bytes', 'conn_state', 'missed_bytes', 'history',\n",
       "       'orig_pkts', 'orig_ip_bytes', 'resp_pkts', 'resp_ip_bytes', 'label'],\n",
       "      dtype='object')"
      ]
     },
     "execution_count": 14,
     "metadata": {},
     "output_type": "execute_result"
    }
   ],
   "source": [
    "df.columns"
   ]
  },
  {
   "cell_type": "code",
   "execution_count": 27,
   "id": "5825e352",
   "metadata": {},
   "outputs": [],
   "source": [
    "df['history'] = pd.factorize(df['history'])[0] + 1\n",
    "df['label'] = pd.factorize(df['label'])[0] "
   ]
  },
  {
   "cell_type": "code",
   "execution_count": 54,
   "id": "f9efe516",
   "metadata": {},
   "outputs": [
    {
     "data": {
      "text/plain": [
       "array(['Malicious   DDoS', 'Benign', 'Malicious   C&C',\n",
       "       'Malicious   FileDownload',\n",
       "       'Malicious   PartOfAHorizontalPortScan', 'Malicious   Attack'],\n",
       "      dtype=object)"
      ]
     },
     "execution_count": 54,
     "metadata": {},
     "output_type": "execute_result"
    }
   ],
   "source": [
    "df['label'].unique()\n"
   ]
  },
  {
   "cell_type": "code",
   "execution_count": 29,
   "id": "6494e184",
   "metadata": {},
   "outputs": [
    {
     "data": {
      "text/plain": [
       "<Figure size 1000x600 with 0 Axes>"
      ]
     },
     "execution_count": 29,
     "metadata": {},
     "output_type": "execute_result"
    },
    {
     "data": {
      "text/plain": [
       "<Figure size 1000x600 with 0 Axes>"
      ]
     },
     "metadata": {},
     "output_type": "display_data"
    }
   ],
   "source": [
    "import matplotlib.pyplot as plt\n",
    "import pandas as pd\n",
    "\n",
    "\n",
    "history = df['history']\n",
    "label = df['label']\n",
    "\n",
    "\n",
    "plt.figure(figsize=(10, 6))\n"
   ]
  },
  {
   "cell_type": "code",
   "execution_count": 31,
   "id": "74257d29",
   "metadata": {},
   "outputs": [
    {
     "data": {
      "image/png": "[encoded data removed]",
      "text/plain": [
       "<Figure size 640x480 with 1 Axes>"
      ]
     },
     "metadata": {},
     "output_type": "display_data"
    }
   ],
   "source": [
    "plt.scatter(history, label, alpha=0.5)  \n",
    "plt.xlabel('History')\n",
    "plt.ylabel('Label')\n",
    "plt.title('Scatter Plot between History and Label')\n",
    "\n",
    "# Show the plot\n",
    "plt.show()\n",
    "\n",
    "\n",
    "\n"
   ]
  },
  {
   "cell_type": "code",
   "execution_count": 32,
   "id": "3d5de552",
   "metadata": {},
   "outputs": [
    {
     "data": {
      "image/png": "[encoded data removed]",
      "text/plain": [
       "<Figure size 1200x600 with 1 Axes>"
      ]
     },
     "metadata": {},
     "output_type": "display_data"
    }
   ],
   "source": [
    "import pandas as pd\n",
    "import matplotlib.pyplot as plt\n",
    "\n",
    "\n",
    "df['ts'] = pd.to_datetime(df['ts'])\n",
    "\n",
    "\n",
    "df = df.sort_values(by='ts')\n",
    "\n",
    "\n",
    "plt.figure(figsize=(12, 6))\n",
    "plt.plot(df['ts'], df['label'], marker='o', linestyle='-')\n",
    "\n",
    "plt.title('Line Plot of Timestamp vs Label')\n",
    "plt.xlabel('Timestamp')\n",
    "plt.ylabel('Label')\n",
    "plt.grid(True)\n",
    "\n",
    "\n",
    "plt.xticks(rotation=45)\n",
    "\n",
    "# Show the plot\n",
    "plt.tight_layout()\n",
    "plt.show()\n"
   ]
  },
  {
   "cell_type": "code",
   "execution_count": 39,
   "id": "176399ad",
   "metadata": {},
   "outputs": [
    {
     "data": {
      "text/plain": [
       "<Axes: ylabel='Frequency'>"
      ]
     },
     "execution_count": 39,
     "metadata": {},
     "output_type": "execute_result"
    },
    {
     "data": {
      "image/png": "[encoded data removed]",
      "text/plain": [
       "<Figure size 640x480 with 1 Axes>"
      ]
     },
     "metadata": {},
     "output_type": "display_data"
    }
   ],
   "source": [
    "df['conn_state'] = pd.factorize(df['conn_state'])[0] + 1\n",
    "df['conn_state'].plot(kind='hist',bins=20)"
   ]
  },
  {
   "cell_type": "code",
   "execution_count": 56,
   "id": "7f915225",
   "metadata": {},
   "outputs": [
    {
     "data": {
      "image/png": "[encoded data removed]",
      "text/plain": [
       "<Figure size 800x800 with 1 Axes>"
      ]
     },
     "metadata": {},
     "output_type": "display_data"
    }
   ],
   "source": [
    "\n",
    "\n",
    "\n",
    "class_counts = df['label'].value_counts()\n",
    "\n",
    "\n",
    "class_labels = class_counts.index\n",
    "class_values = class_counts.values\n",
    "\n",
    "plt.figure(figsize=(8, 8))\n",
    "plt.pie(class_values, labels=None, autopct='%1.1f%%', startangle=140, shadow=True)\n",
    "\n",
    "\n",
    "plt.legend(class_labels, loc='upper right', bbox_to_anchor=(1.2, 1))\n",
    "\n",
    "\n",
    "plt.title('Distribution of Classes in \"label\" Column')\n",
    "\n",
    "\n",
    "plt.show()\n"
   ]
  },
  {
   "cell_type": "code",
   "execution_count": 57,
   "id": "6117f07e",
   "metadata": {},
   "outputs": [
    {
     "data": {
      "image/png": "[encoded data removed]",
      "text/plain": [
       "<Figure size 1000x600 with 1 Axes>"
      ]
     },
     "metadata": {},
     "output_type": "display_data"
    }
   ],
   "source": [
    "\n",
    "\n",
    "\n",
    "class_counts = df['label'].value_counts()\n",
    "\n",
    "\n",
    "plt.figure(figsize=(10, 6))\n",
    "class_counts.plot(kind='bar', color='skyblue')\n",
    "plt.title('Distribution of Classes in \"label\" Column')\n",
    "plt.xlabel('Class')\n",
    "plt.ylabel('Count')\n",
    "\n",
    "\n",
    "plt.xticks(rotation=45, ha='right')\n",
    "\n",
    "\n",
    "plt.tight_layout()\n",
    "plt.show()\n"
   ]
  },
  {
   "cell_type": "code",
   "execution_count": null,
   "id": "591cd401",
   "metadata": {},
   "outputs": [],
   "source": []
  }
 ],
 "metadata": {
  "kernelspec": {
   "display_name": "Python 3 (ipykernel)",
   "language": "python",
   "name": "python3"
  },
  "language_info": {
   "codemirror_mode": {
    "name": "ipython",
    "version": 3
   },
   "file_extension": ".py",
   "mimetype": "text/x-python",
   "name": "python",
   "nbconvert_exporter": "python",
   "pygments_lexer": "ipython3",
   "version": "3.11.5"
  }
 },
 "nbformat": 4,
 "nbformat_minor": 5
}
