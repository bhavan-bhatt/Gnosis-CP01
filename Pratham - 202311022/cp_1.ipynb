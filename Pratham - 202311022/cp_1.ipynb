{
 "cells": [
  {
   "cell_type": "markdown",
   "source": [
    "# Importing Libraries"
   ],
   "metadata": {
    "collapsed": false
   },
   "id": "cfe9924c9e053037"
  },
  {
   "cell_type": "code",
   "execution_count": 24,
   "id": "initial_id",
   "metadata": {
    "collapsed": true,
    "ExecuteTime": {
     "end_time": "2023-08-25T13:07:52.221071100Z",
     "start_time": "2023-08-25T13:07:52.198992900Z"
    }
   },
   "outputs": [],
   "source": [
    "import pandas as pd\n",
    "import numpy as np\n",
    "import seaborn as sns"
   ]
  },
  {
   "cell_type": "code",
   "execution_count": 25,
   "outputs": [
    {
     "data": {
      "text/plain": "       YearStart  YearEnd LocationAbbr    LocationDesc  \\\n0           2011     2011           AL         Alabama   \n1           2011     2011           AL         Alabama   \n2           2011     2011           AL         Alabama   \n3           2011     2011           AL         Alabama   \n4           2011     2011           AL         Alabama   \n...          ...      ...          ...             ...   \n53387       2016     2016           VI  Virgin Islands   \n53388       2016     2016           VI  Virgin Islands   \n53389       2016     2016           VI  Virgin Islands   \n53390       2016     2016           VI  Virgin Islands   \n53391       2016     2016           VI  Virgin Islands   \n\n                                       Datasource                    Class  \\\n0      Behavioral Risk Factor Surveillance System  Obesity / Weight Status   \n1      Behavioral Risk Factor Surveillance System  Obesity / Weight Status   \n2      Behavioral Risk Factor Surveillance System  Obesity / Weight Status   \n3      Behavioral Risk Factor Surveillance System  Obesity / Weight Status   \n4      Behavioral Risk Factor Surveillance System  Obesity / Weight Status   \n...                                           ...                      ...   \n53387  Behavioral Risk Factor Surveillance System        Physical Activity   \n53388  Behavioral Risk Factor Surveillance System        Physical Activity   \n53389  Behavioral Risk Factor Surveillance System        Physical Activity   \n53390  Behavioral Risk Factor Surveillance System        Physical Activity   \n53391  Behavioral Risk Factor Surveillance System        Physical Activity   \n\n                              Topic  \\\n0           Obesity / Weight Status   \n1           Obesity / Weight Status   \n2           Obesity / Weight Status   \n3           Obesity / Weight Status   \n4           Obesity / Weight Status   \n...                             ...   \n53387  Physical Activity - Behavior   \n53388  Physical Activity - Behavior   \n53389  Physical Activity - Behavior   \n53390  Physical Activity - Behavior   \n53391  Physical Activity - Behavior   \n\n                                                Question  Data_Value_Unit  \\\n0      Percent of adults aged 18 years and older who ...              NaN   \n1      Percent of adults aged 18 years and older who ...              NaN   \n2      Percent of adults aged 18 years and older who ...              NaN   \n3      Percent of adults aged 18 years and older who ...              NaN   \n4      Percent of adults aged 18 years and older who ...              NaN   \n...                                                  ...              ...   \n53387  Percent of adults who engage in no leisure-tim...              NaN   \n53388  Percent of adults who engage in no leisure-tim...              NaN   \n53389  Percent of adults who engage in no leisure-tim...              NaN   \n53390  Percent of adults who engage in no leisure-tim...              NaN   \n53391  Percent of adults who engage in no leisure-tim...              NaN   \n\n      Data_Value_Type  ...                              GeoLocation  ClassID  \\\n0               Value  ...  (32.84057112200048, -86.63186076199969)      OWS   \n1               Value  ...  (32.84057112200048, -86.63186076199969)      OWS   \n2               Value  ...  (32.84057112200048, -86.63186076199969)      OWS   \n3               Value  ...  (32.84057112200048, -86.63186076199969)      OWS   \n4               Value  ...  (32.84057112200048, -86.63186076199969)      OWS   \n...               ...  ...                                      ...      ...   \n53387           Value  ...                  (18.335765, -64.896335)       PA   \n53388           Value  ...                  (18.335765, -64.896335)       PA   \n53389           Value  ...                  (18.335765, -64.896335)       PA   \n53390           Value  ...                  (18.335765, -64.896335)       PA   \n53391           Value  ...                  (18.335765, -64.896335)       PA   \n\n      TopicID QuestionID  DataValueTypeID  LocationID  \\\n0        OWS1       Q036            VALUE           1   \n1        OWS1       Q036            VALUE           1   \n2        OWS1       Q036            VALUE           1   \n3        OWS1       Q036            VALUE           1   \n4        OWS1       Q036            VALUE           1   \n...       ...        ...              ...         ...   \n53387     PA1       Q047            VALUE          78   \n53388     PA1       Q047            VALUE          78   \n53389     PA1       Q047            VALUE          78   \n53390     PA1       Q047            VALUE          78   \n53391     PA1       Q047            VALUE          78   \n\n       StratificationCategory1                Stratification1  \\\n0                        Total                          Total   \n1                       Gender                           Male   \n2                       Gender                         Female   \n3                    Education          Less than high school   \n4                    Education           High school graduate   \n...                        ...                            ...   \n53387           Race/Ethnicity                          Asian   \n53388           Race/Ethnicity      Hawaiian/Pacific Islander   \n53389           Race/Ethnicity  American Indian/Alaska Native   \n53390           Race/Ethnicity                2 or more races   \n53391           Race/Ethnicity                          Other   \n\n      StratificationCategoryId1 StratificationID1  \n0                           OVR           OVERALL  \n1                           GEN              MALE  \n2                           GEN            FEMALE  \n3                           EDU             EDUHS  \n4                           EDU         EDUHSGRAD  \n...                         ...               ...  \n53387                      RACE           RACEASN  \n53388                      RACE           RACEHPI  \n53389                      RACE           RACENAA  \n53390                      RACE         RACE2PLUS  \n53391                      RACE           RACEOTH  \n\n[53392 rows x 33 columns]",
      "text/html": "<div>\n<style scoped>\n    .dataframe tbody tr th:only-of-type {\n        vertical-align: middle;\n    }\n\n    .dataframe tbody tr th {\n        vertical-align: top;\n    }\n\n    .dataframe thead th {\n        text-align: right;\n    }\n</style>\n<table border=\"1\" class=\"dataframe\">\n  <thead>\n    <tr style=\"text-align: right;\">\n      <th></th>\n      <th>YearStart</th>\n      <th>YearEnd</th>\n      <th>LocationAbbr</th>\n      <th>LocationDesc</th>\n      <th>Datasource</th>\n      <th>Class</th>\n      <th>Topic</th>\n      <th>Question</th>\n      <th>Data_Value_Unit</th>\n      <th>Data_Value_Type</th>\n      <th>...</th>\n      <th>GeoLocation</th>\n      <th>ClassID</th>\n      <th>TopicID</th>\n      <th>QuestionID</th>\n      <th>DataValueTypeID</th>\n      <th>LocationID</th>\n      <th>StratificationCategory1</th>\n      <th>Stratification1</th>\n      <th>StratificationCategoryId1</th>\n      <th>StratificationID1</th>\n    </tr>\n  </thead>\n  <tbody>\n    <tr>\n      <th>0</th>\n      <td>2011</td>\n      <td>2011</td>\n      <td>AL</td>\n      <td>Alabama</td>\n      <td>Behavioral Risk Factor Surveillance System</td>\n      <td>Obesity / Weight Status</td>\n      <td>Obesity / Weight Status</td>\n      <td>Percent of adults aged 18 years and older who ...</td>\n      <td>NaN</td>\n      <td>Value</td>\n      <td>...</td>\n      <td>(32.84057112200048, -86.63186076199969)</td>\n      <td>OWS</td>\n      <td>OWS1</td>\n      <td>Q036</td>\n      <td>VALUE</td>\n      <td>1</td>\n      <td>Total</td>\n      <td>Total</td>\n      <td>OVR</td>\n      <td>OVERALL</td>\n    </tr>\n    <tr>\n      <th>1</th>\n      <td>2011</td>\n      <td>2011</td>\n      <td>AL</td>\n      <td>Alabama</td>\n      <td>Behavioral Risk Factor Surveillance System</td>\n      <td>Obesity / Weight Status</td>\n      <td>Obesity / Weight Status</td>\n      <td>Percent of adults aged 18 years and older who ...</td>\n      <td>NaN</td>\n      <td>Value</td>\n      <td>...</td>\n      <td>(32.84057112200048, -86.63186076199969)</td>\n      <td>OWS</td>\n      <td>OWS1</td>\n      <td>Q036</td>\n      <td>VALUE</td>\n      <td>1</td>\n      <td>Gender</td>\n      <td>Male</td>\n      <td>GEN</td>\n      <td>MALE</td>\n    </tr>\n    <tr>\n      <th>2</th>\n      <td>2011</td>\n      <td>2011</td>\n      <td>AL</td>\n      <td>Alabama</td>\n      <td>Behavioral Risk Factor Surveillance System</td>\n      <td>Obesity / Weight Status</td>\n      <td>Obesity / Weight Status</td>\n      <td>Percent of adults aged 18 years and older who ...</td>\n      <td>NaN</td>\n      <td>Value</td>\n      <td>...</td>\n      <td>(32.84057112200048, -86.63186076199969)</td>\n      <td>OWS</td>\n      <td>OWS1</td>\n      <td>Q036</td>\n      <td>VALUE</td>\n      <td>1</td>\n      <td>Gender</td>\n      <td>Female</td>\n      <td>GEN</td>\n      <td>FEMALE</td>\n    </tr>\n    <tr>\n      <th>3</th>\n      <td>2011</td>\n      <td>2011</td>\n      <td>AL</td>\n      <td>Alabama</td>\n      <td>Behavioral Risk Factor Surveillance System</td>\n      <td>Obesity / Weight Status</td>\n      <td>Obesity / Weight Status</td>\n      <td>Percent of adults aged 18 years and older who ...</td>\n      <td>NaN</td>\n      <td>Value</td>\n      <td>...</td>\n      <td>(32.84057112200048, -86.63186076199969)</td>\n      <td>OWS</td>\n      <td>OWS1</td>\n      <td>Q036</td>\n      <td>VALUE</td>\n      <td>1</td>\n      <td>Education</td>\n      <td>Less than high school</td>\n      <td>EDU</td>\n      <td>EDUHS</td>\n    </tr>\n    <tr>\n      <th>4</th>\n      <td>2011</td>\n      <td>2011</td>\n      <td>AL</td>\n      <td>Alabama</td>\n      <td>Behavioral Risk Factor Surveillance System</td>\n      <td>Obesity / Weight Status</td>\n      <td>Obesity / Weight Status</td>\n      <td>Percent of adults aged 18 years and older who ...</td>\n      <td>NaN</td>\n      <td>Value</td>\n      <td>...</td>\n      <td>(32.84057112200048, -86.63186076199969)</td>\n      <td>OWS</td>\n      <td>OWS1</td>\n      <td>Q036</td>\n      <td>VALUE</td>\n      <td>1</td>\n      <td>Education</td>\n      <td>High school graduate</td>\n      <td>EDU</td>\n      <td>EDUHSGRAD</td>\n    </tr>\n    <tr>\n      <th>...</th>\n      <td>...</td>\n      <td>...</td>\n      <td>...</td>\n      <td>...</td>\n      <td>...</td>\n      <td>...</td>\n      <td>...</td>\n      <td>...</td>\n      <td>...</td>\n      <td>...</td>\n      <td>...</td>\n      <td>...</td>\n      <td>...</td>\n      <td>...</td>\n      <td>...</td>\n      <td>...</td>\n      <td>...</td>\n      <td>...</td>\n      <td>...</td>\n      <td>...</td>\n      <td>...</td>\n    </tr>\n    <tr>\n      <th>53387</th>\n      <td>2016</td>\n      <td>2016</td>\n      <td>VI</td>\n      <td>Virgin Islands</td>\n      <td>Behavioral Risk Factor Surveillance System</td>\n      <td>Physical Activity</td>\n      <td>Physical Activity - Behavior</td>\n      <td>Percent of adults who engage in no leisure-tim...</td>\n      <td>NaN</td>\n      <td>Value</td>\n      <td>...</td>\n      <td>(18.335765, -64.896335)</td>\n      <td>PA</td>\n      <td>PA1</td>\n      <td>Q047</td>\n      <td>VALUE</td>\n      <td>78</td>\n      <td>Race/Ethnicity</td>\n      <td>Asian</td>\n      <td>RACE</td>\n      <td>RACEASN</td>\n    </tr>\n    <tr>\n      <th>53388</th>\n      <td>2016</td>\n      <td>2016</td>\n      <td>VI</td>\n      <td>Virgin Islands</td>\n      <td>Behavioral Risk Factor Surveillance System</td>\n      <td>Physical Activity</td>\n      <td>Physical Activity - Behavior</td>\n      <td>Percent of adults who engage in no leisure-tim...</td>\n      <td>NaN</td>\n      <td>Value</td>\n      <td>...</td>\n      <td>(18.335765, -64.896335)</td>\n      <td>PA</td>\n      <td>PA1</td>\n      <td>Q047</td>\n      <td>VALUE</td>\n      <td>78</td>\n      <td>Race/Ethnicity</td>\n      <td>Hawaiian/Pacific Islander</td>\n      <td>RACE</td>\n      <td>RACEHPI</td>\n    </tr>\n    <tr>\n      <th>53389</th>\n      <td>2016</td>\n      <td>2016</td>\n      <td>VI</td>\n      <td>Virgin Islands</td>\n      <td>Behavioral Risk Factor Surveillance System</td>\n      <td>Physical Activity</td>\n      <td>Physical Activity - Behavior</td>\n      <td>Percent of adults who engage in no leisure-tim...</td>\n      <td>NaN</td>\n      <td>Value</td>\n      <td>...</td>\n      <td>(18.335765, -64.896335)</td>\n      <td>PA</td>\n      <td>PA1</td>\n      <td>Q047</td>\n      <td>VALUE</td>\n      <td>78</td>\n      <td>Race/Ethnicity</td>\n      <td>American Indian/Alaska Native</td>\n      <td>RACE</td>\n      <td>RACENAA</td>\n    </tr>\n    <tr>\n      <th>53390</th>\n      <td>2016</td>\n      <td>2016</td>\n      <td>VI</td>\n      <td>Virgin Islands</td>\n      <td>Behavioral Risk Factor Surveillance System</td>\n      <td>Physical Activity</td>\n      <td>Physical Activity - Behavior</td>\n      <td>Percent of adults who engage in no leisure-tim...</td>\n      <td>NaN</td>\n      <td>Value</td>\n      <td>...</td>\n      <td>(18.335765, -64.896335)</td>\n      <td>PA</td>\n      <td>PA1</td>\n      <td>Q047</td>\n      <td>VALUE</td>\n      <td>78</td>\n      <td>Race/Ethnicity</td>\n      <td>2 or more races</td>\n      <td>RACE</td>\n      <td>RACE2PLUS</td>\n    </tr>\n    <tr>\n      <th>53391</th>\n      <td>2016</td>\n      <td>2016</td>\n      <td>VI</td>\n      <td>Virgin Islands</td>\n      <td>Behavioral Risk Factor Surveillance System</td>\n      <td>Physical Activity</td>\n      <td>Physical Activity - Behavior</td>\n      <td>Percent of adults who engage in no leisure-tim...</td>\n      <td>NaN</td>\n      <td>Value</td>\n      <td>...</td>\n      <td>(18.335765, -64.896335)</td>\n      <td>PA</td>\n      <td>PA1</td>\n      <td>Q047</td>\n      <td>VALUE</td>\n      <td>78</td>\n      <td>Race/Ethnicity</td>\n      <td>Other</td>\n      <td>RACE</td>\n      <td>RACEOTH</td>\n    </tr>\n  </tbody>\n</table>\n<p>53392 rows × 33 columns</p>\n</div>"
     },
     "execution_count": 25,
     "metadata": {},
     "output_type": "execute_result"
    }
   ],
   "source": [
    "df = pd.read_csv('risk_factor_surveillance_database.csv')\n",
    "df"
   ],
   "metadata": {
    "collapsed": false,
    "ExecuteTime": {
     "end_time": "2023-08-25T13:07:52.472632600Z",
     "start_time": "2023-08-25T13:07:52.206385400Z"
    }
   },
   "id": "29b49f3c9886b59"
  },
  {
   "cell_type": "markdown",
   "source": [
    "# Removing rows with insufficient sample sizes."
   ],
   "metadata": {
    "collapsed": false
   },
   "id": "97f26abb7d274a34"
  },
  {
   "cell_type": "code",
   "execution_count": 26,
   "outputs": [],
   "source": [
    "df.drop(df[df['Data_Value_Footnote_Symbol'] == '~'].index, inplace=True)\n",
    "df.to_csv(\"removing_null_values.csv\")"
   ],
   "metadata": {
    "collapsed": false,
    "ExecuteTime": {
     "end_time": "2023-08-25T13:07:52.986484500Z",
     "start_time": "2023-08-25T13:07:52.472632600Z"
    }
   },
   "id": "d0723bcc9f552a85"
  },
  {
   "cell_type": "markdown",
   "source": [
    "# Getting data about obesity"
   ],
   "metadata": {
    "collapsed": false
   },
   "id": "180f726b4855630d"
  },
  {
   "cell_type": "code",
   "execution_count": 29,
   "outputs": [
    {
     "ename": "ValueError",
     "evalue": "Length of values (48346) does not match length of index (8127)",
     "output_type": "error",
     "traceback": [
      "\u001B[1;31m---------------------------------------------------------------------------\u001B[0m",
      "\u001B[1;31mValueError\u001B[0m                                Traceback (most recent call last)",
      "Cell \u001B[1;32mIn[29], line 2\u001B[0m\n\u001B[0;32m      1\u001B[0m obesity_df \u001B[38;5;241m=\u001B[39m df\u001B[38;5;241m.\u001B[39mloc[df[\u001B[38;5;124m'\u001B[39m\u001B[38;5;124mQuestionID\u001B[39m\u001B[38;5;124m'\u001B[39m] \u001B[38;5;241m==\u001B[39m \u001B[38;5;124m'\u001B[39m\u001B[38;5;124mQ036\u001B[39m\u001B[38;5;124m'\u001B[39m]\n\u001B[1;32m----> 2\u001B[0m \u001B[43mobesity_df\u001B[49m\u001B[43m[\u001B[49m\u001B[38;5;124;43m'\u001B[39;49m\u001B[38;5;124;43mLocationAbbr\u001B[39;49m\u001B[38;5;124;43m'\u001B[39;49m\u001B[43m]\u001B[49m \u001B[38;5;241m=\u001B[39m pd\u001B[38;5;241m.\u001B[39mCategorical(df[\u001B[38;5;124m'\u001B[39m\u001B[38;5;124mLocationAbbr\u001B[39m\u001B[38;5;124m'\u001B[39m], ordered\u001B[38;5;241m=\u001B[39m\u001B[38;5;28;01mTrue\u001B[39;00m)\n\u001B[0;32m      3\u001B[0m obesity_df\n",
      "File \u001B[1;32mH:\\Work_Projects\\College\\DM_Projects\\course_project_1\\venv\\lib\\site-packages\\pandas\\core\\frame.py:3950\u001B[0m, in \u001B[0;36mDataFrame.__setitem__\u001B[1;34m(self, key, value)\u001B[0m\n\u001B[0;32m   3947\u001B[0m     \u001B[38;5;28mself\u001B[39m\u001B[38;5;241m.\u001B[39m_setitem_array([key], value)\n\u001B[0;32m   3948\u001B[0m \u001B[38;5;28;01melse\u001B[39;00m:\n\u001B[0;32m   3949\u001B[0m     \u001B[38;5;66;03m# set column\u001B[39;00m\n\u001B[1;32m-> 3950\u001B[0m     \u001B[38;5;28;43mself\u001B[39;49m\u001B[38;5;241;43m.\u001B[39;49m\u001B[43m_set_item\u001B[49m\u001B[43m(\u001B[49m\u001B[43mkey\u001B[49m\u001B[43m,\u001B[49m\u001B[43m \u001B[49m\u001B[43mvalue\u001B[49m\u001B[43m)\u001B[49m\n",
      "File \u001B[1;32mH:\\Work_Projects\\College\\DM_Projects\\course_project_1\\venv\\lib\\site-packages\\pandas\\core\\frame.py:4143\u001B[0m, in \u001B[0;36mDataFrame._set_item\u001B[1;34m(self, key, value)\u001B[0m\n\u001B[0;32m   4133\u001B[0m \u001B[38;5;28;01mdef\u001B[39;00m \u001B[38;5;21m_set_item\u001B[39m(\u001B[38;5;28mself\u001B[39m, key, value) \u001B[38;5;241m-\u001B[39m\u001B[38;5;241m>\u001B[39m \u001B[38;5;28;01mNone\u001B[39;00m:\n\u001B[0;32m   4134\u001B[0m \u001B[38;5;250m    \u001B[39m\u001B[38;5;124;03m\"\"\"\u001B[39;00m\n\u001B[0;32m   4135\u001B[0m \u001B[38;5;124;03m    Add series to DataFrame in specified column.\u001B[39;00m\n\u001B[0;32m   4136\u001B[0m \n\u001B[1;32m   (...)\u001B[0m\n\u001B[0;32m   4141\u001B[0m \u001B[38;5;124;03m    ensure homogeneity.\u001B[39;00m\n\u001B[0;32m   4142\u001B[0m \u001B[38;5;124;03m    \"\"\"\u001B[39;00m\n\u001B[1;32m-> 4143\u001B[0m     value \u001B[38;5;241m=\u001B[39m \u001B[38;5;28;43mself\u001B[39;49m\u001B[38;5;241;43m.\u001B[39;49m\u001B[43m_sanitize_column\u001B[49m\u001B[43m(\u001B[49m\u001B[43mvalue\u001B[49m\u001B[43m)\u001B[49m\n\u001B[0;32m   4145\u001B[0m     \u001B[38;5;28;01mif\u001B[39;00m (\n\u001B[0;32m   4146\u001B[0m         key \u001B[38;5;129;01min\u001B[39;00m \u001B[38;5;28mself\u001B[39m\u001B[38;5;241m.\u001B[39mcolumns\n\u001B[0;32m   4147\u001B[0m         \u001B[38;5;129;01mand\u001B[39;00m value\u001B[38;5;241m.\u001B[39mndim \u001B[38;5;241m==\u001B[39m \u001B[38;5;241m1\u001B[39m\n\u001B[0;32m   4148\u001B[0m         \u001B[38;5;129;01mand\u001B[39;00m \u001B[38;5;129;01mnot\u001B[39;00m is_extension_array_dtype(value)\n\u001B[0;32m   4149\u001B[0m     ):\n\u001B[0;32m   4150\u001B[0m         \u001B[38;5;66;03m# broadcast across multiple columns if necessary\u001B[39;00m\n\u001B[0;32m   4151\u001B[0m         \u001B[38;5;28;01mif\u001B[39;00m \u001B[38;5;129;01mnot\u001B[39;00m \u001B[38;5;28mself\u001B[39m\u001B[38;5;241m.\u001B[39mcolumns\u001B[38;5;241m.\u001B[39mis_unique \u001B[38;5;129;01mor\u001B[39;00m \u001B[38;5;28misinstance\u001B[39m(\u001B[38;5;28mself\u001B[39m\u001B[38;5;241m.\u001B[39mcolumns, MultiIndex):\n",
      "File \u001B[1;32mH:\\Work_Projects\\College\\DM_Projects\\course_project_1\\venv\\lib\\site-packages\\pandas\\core\\frame.py:4870\u001B[0m, in \u001B[0;36mDataFrame._sanitize_column\u001B[1;34m(self, value)\u001B[0m\n\u001B[0;32m   4867\u001B[0m     \u001B[38;5;28;01mreturn\u001B[39;00m _reindex_for_setitem(Series(value), \u001B[38;5;28mself\u001B[39m\u001B[38;5;241m.\u001B[39mindex)\n\u001B[0;32m   4869\u001B[0m \u001B[38;5;28;01mif\u001B[39;00m is_list_like(value):\n\u001B[1;32m-> 4870\u001B[0m     \u001B[43mcom\u001B[49m\u001B[38;5;241;43m.\u001B[39;49m\u001B[43mrequire_length_match\u001B[49m\u001B[43m(\u001B[49m\u001B[43mvalue\u001B[49m\u001B[43m,\u001B[49m\u001B[43m \u001B[49m\u001B[38;5;28;43mself\u001B[39;49m\u001B[38;5;241;43m.\u001B[39;49m\u001B[43mindex\u001B[49m\u001B[43m)\u001B[49m\n\u001B[0;32m   4871\u001B[0m \u001B[38;5;28;01mreturn\u001B[39;00m sanitize_array(value, \u001B[38;5;28mself\u001B[39m\u001B[38;5;241m.\u001B[39mindex, copy\u001B[38;5;241m=\u001B[39m\u001B[38;5;28;01mTrue\u001B[39;00m, allow_2d\u001B[38;5;241m=\u001B[39m\u001B[38;5;28;01mTrue\u001B[39;00m)\n",
      "File \u001B[1;32mH:\\Work_Projects\\College\\DM_Projects\\course_project_1\\venv\\lib\\site-packages\\pandas\\core\\common.py:576\u001B[0m, in \u001B[0;36mrequire_length_match\u001B[1;34m(data, index)\u001B[0m\n\u001B[0;32m    572\u001B[0m \u001B[38;5;250m\u001B[39m\u001B[38;5;124;03m\"\"\"\u001B[39;00m\n\u001B[0;32m    573\u001B[0m \u001B[38;5;124;03mCheck the length of data matches the length of the index.\u001B[39;00m\n\u001B[0;32m    574\u001B[0m \u001B[38;5;124;03m\"\"\"\u001B[39;00m\n\u001B[0;32m    575\u001B[0m \u001B[38;5;28;01mif\u001B[39;00m \u001B[38;5;28mlen\u001B[39m(data) \u001B[38;5;241m!=\u001B[39m \u001B[38;5;28mlen\u001B[39m(index):\n\u001B[1;32m--> 576\u001B[0m     \u001B[38;5;28;01mraise\u001B[39;00m \u001B[38;5;167;01mValueError\u001B[39;00m(\n\u001B[0;32m    577\u001B[0m         \u001B[38;5;124m\"\u001B[39m\u001B[38;5;124mLength of values \u001B[39m\u001B[38;5;124m\"\u001B[39m\n\u001B[0;32m    578\u001B[0m         \u001B[38;5;124mf\u001B[39m\u001B[38;5;124m\"\u001B[39m\u001B[38;5;124m(\u001B[39m\u001B[38;5;132;01m{\u001B[39;00m\u001B[38;5;28mlen\u001B[39m(data)\u001B[38;5;132;01m}\u001B[39;00m\u001B[38;5;124m) \u001B[39m\u001B[38;5;124m\"\u001B[39m\n\u001B[0;32m    579\u001B[0m         \u001B[38;5;124m\"\u001B[39m\u001B[38;5;124mdoes not match length of index \u001B[39m\u001B[38;5;124m\"\u001B[39m\n\u001B[0;32m    580\u001B[0m         \u001B[38;5;124mf\u001B[39m\u001B[38;5;124m\"\u001B[39m\u001B[38;5;124m(\u001B[39m\u001B[38;5;132;01m{\u001B[39;00m\u001B[38;5;28mlen\u001B[39m(index)\u001B[38;5;132;01m}\u001B[39;00m\u001B[38;5;124m)\u001B[39m\u001B[38;5;124m\"\u001B[39m\n\u001B[0;32m    581\u001B[0m     )\n",
      "\u001B[1;31mValueError\u001B[0m: Length of values (48346) does not match length of index (8127)"
     ]
    }
   ],
   "source": [
    "obesity_df = df.loc[df['QuestionID'] == 'Q036']\n",
    "obesity_df['LocationAbbr'] = pd.Categorical(df['LocationAbbr'], ordered=True)"
   ],
   "metadata": {
    "collapsed": false,
    "ExecuteTime": {
     "end_time": "2023-08-25T13:10:47.647967Z",
     "start_time": "2023-08-25T13:10:47.323824500Z"
    }
   },
   "id": "a9d7ce76c407c812"
  },
  {
   "cell_type": "code",
   "execution_count": null,
   "outputs": [],
   "source": [],
   "metadata": {
    "collapsed": false,
    "ExecuteTime": {
     "start_time": "2023-08-25T13:07:53.002882300Z"
    }
   },
   "id": "8d2a7b4af7e3fb39"
  }
 ],
 "metadata": {
  "kernelspec": {
   "display_name": "Python 3",
   "language": "python",
   "name": "python3"
  },
  "language_info": {
   "codemirror_mode": {
    "name": "ipython",
    "version": 2
   },
   "file_extension": ".py",
   "mimetype": "text/x-python",
   "name": "python",
   "nbconvert_exporter": "python",
   "pygments_lexer": "ipython2",
   "version": "2.7.6"
  }
 },
 "nbformat": 4,
 "nbformat_minor": 5
}
