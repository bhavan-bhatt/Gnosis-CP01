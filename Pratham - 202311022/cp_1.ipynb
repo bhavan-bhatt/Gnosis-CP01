{
 "cells": [
  {
   "cell_type": "markdown",
   "source": [
    "# Importing Libraries"
   ],
   "metadata": {
    "collapsed": false
   },
   "id": "cfe9924c9e053037"
  },
  {
   "cell_type": "code",
   "execution_count": 1,
   "id": "initial_id",
   "metadata": {
    "collapsed": true,
    "ExecuteTime": {
     "end_time": "2023-09-11T05:56:56.340551Z",
     "start_time": "2023-09-11T05:56:56.329481800Z"
    }
   },
   "outputs": [],
   "source": [
    "import pandas as pd\n",
    "import numpy as np\n",
    "import matplotlib.pyplot as plt\n",
    "import seaborn as sns"
   ]
  },
  {
   "cell_type": "code",
   "execution_count": 2,
   "outputs": [
    {
     "data": {
      "text/plain": "       YearStart  YearEnd LocationAbbr    LocationDesc  \\\n0           2011     2011           AL         Alabama   \n1           2011     2011           AL         Alabama   \n2           2011     2011           AL         Alabama   \n3           2011     2011           AL         Alabama   \n4           2011     2011           AL         Alabama   \n...          ...      ...          ...             ...   \n53387       2016     2016           VI  Virgin Islands   \n53388       2016     2016           VI  Virgin Islands   \n53389       2016     2016           VI  Virgin Islands   \n53390       2016     2016           VI  Virgin Islands   \n53391       2016     2016           VI  Virgin Islands   \n\n                                       Datasource                    Class  \\\n0      Behavioral Risk Factor Surveillance System  Obesity / Weight Status   \n1      Behavioral Risk Factor Surveillance System  Obesity / Weight Status   \n2      Behavioral Risk Factor Surveillance System  Obesity / Weight Status   \n3      Behavioral Risk Factor Surveillance System  Obesity / Weight Status   \n4      Behavioral Risk Factor Surveillance System  Obesity / Weight Status   \n...                                           ...                      ...   \n53387  Behavioral Risk Factor Surveillance System        Physical Activity   \n53388  Behavioral Risk Factor Surveillance System        Physical Activity   \n53389  Behavioral Risk Factor Surveillance System        Physical Activity   \n53390  Behavioral Risk Factor Surveillance System        Physical Activity   \n53391  Behavioral Risk Factor Surveillance System        Physical Activity   \n\n                              Topic  \\\n0           Obesity / Weight Status   \n1           Obesity / Weight Status   \n2           Obesity / Weight Status   \n3           Obesity / Weight Status   \n4           Obesity / Weight Status   \n...                             ...   \n53387  Physical Activity - Behavior   \n53388  Physical Activity - Behavior   \n53389  Physical Activity - Behavior   \n53390  Physical Activity - Behavior   \n53391  Physical Activity - Behavior   \n\n                                                Question  Data_Value_Unit  \\\n0      Percent of adults aged 18 years and older who ...              NaN   \n1      Percent of adults aged 18 years and older who ...              NaN   \n2      Percent of adults aged 18 years and older who ...              NaN   \n3      Percent of adults aged 18 years and older who ...              NaN   \n4      Percent of adults aged 18 years and older who ...              NaN   \n...                                                  ...              ...   \n53387  Percent of adults who engage in no leisure-tim...              NaN   \n53388  Percent of adults who engage in no leisure-tim...              NaN   \n53389  Percent of adults who engage in no leisure-tim...              NaN   \n53390  Percent of adults who engage in no leisure-tim...              NaN   \n53391  Percent of adults who engage in no leisure-tim...              NaN   \n\n      Data_Value_Type  ...                              GeoLocation  ClassID  \\\n0               Value  ...  (32.84057112200048, -86.63186076199969)      OWS   \n1               Value  ...  (32.84057112200048, -86.63186076199969)      OWS   \n2               Value  ...  (32.84057112200048, -86.63186076199969)      OWS   \n3               Value  ...  (32.84057112200048, -86.63186076199969)      OWS   \n4               Value  ...  (32.84057112200048, -86.63186076199969)      OWS   \n...               ...  ...                                      ...      ...   \n53387           Value  ...                  (18.335765, -64.896335)       PA   \n53388           Value  ...                  (18.335765, -64.896335)       PA   \n53389           Value  ...                  (18.335765, -64.896335)       PA   \n53390           Value  ...                  (18.335765, -64.896335)       PA   \n53391           Value  ...                  (18.335765, -64.896335)       PA   \n\n      TopicID QuestionID  DataValueTypeID  LocationID  \\\n0        OWS1       Q036            VALUE           1   \n1        OWS1       Q036            VALUE           1   \n2        OWS1       Q036            VALUE           1   \n3        OWS1       Q036            VALUE           1   \n4        OWS1       Q036            VALUE           1   \n...       ...        ...              ...         ...   \n53387     PA1       Q047            VALUE          78   \n53388     PA1       Q047            VALUE          78   \n53389     PA1       Q047            VALUE          78   \n53390     PA1       Q047            VALUE          78   \n53391     PA1       Q047            VALUE          78   \n\n       StratificationCategory1                Stratification1  \\\n0                        Total                          Total   \n1                       Gender                           Male   \n2                       Gender                         Female   \n3                    Education          Less than high school   \n4                    Education           High school graduate   \n...                        ...                            ...   \n53387           Race/Ethnicity                          Asian   \n53388           Race/Ethnicity      Hawaiian/Pacific Islander   \n53389           Race/Ethnicity  American Indian/Alaska Native   \n53390           Race/Ethnicity                2 or more races   \n53391           Race/Ethnicity                          Other   \n\n      StratificationCategoryId1 StratificationID1  \n0                           OVR           OVERALL  \n1                           GEN              MALE  \n2                           GEN            FEMALE  \n3                           EDU             EDUHS  \n4                           EDU         EDUHSGRAD  \n...                         ...               ...  \n53387                      RACE           RACEASN  \n53388                      RACE           RACEHPI  \n53389                      RACE           RACENAA  \n53390                      RACE         RACE2PLUS  \n53391                      RACE           RACEOTH  \n\n[53392 rows x 33 columns]",
      "text/html": "<div>\n<style scoped>\n    .dataframe tbody tr th:only-of-type {\n        vertical-align: middle;\n    }\n\n    .dataframe tbody tr th {\n        vertical-align: top;\n    }\n\n    .dataframe thead th {\n        text-align: right;\n    }\n</style>\n<table border=\"1\" class=\"dataframe\">\n  <thead>\n    <tr style=\"text-align: right;\">\n      <th></th>\n      <th>YearStart</th>\n      <th>YearEnd</th>\n      <th>LocationAbbr</th>\n      <th>LocationDesc</th>\n      <th>Datasource</th>\n      <th>Class</th>\n      <th>Topic</th>\n      <th>Question</th>\n      <th>Data_Value_Unit</th>\n      <th>Data_Value_Type</th>\n      <th>...</th>\n      <th>GeoLocation</th>\n      <th>ClassID</th>\n      <th>TopicID</th>\n      <th>QuestionID</th>\n      <th>DataValueTypeID</th>\n      <th>LocationID</th>\n      <th>StratificationCategory1</th>\n      <th>Stratification1</th>\n      <th>StratificationCategoryId1</th>\n      <th>StratificationID1</th>\n    </tr>\n  </thead>\n  <tbody>\n    <tr>\n      <th>0</th>\n      <td>2011</td>\n      <td>2011</td>\n      <td>AL</td>\n      <td>Alabama</td>\n      <td>Behavioral Risk Factor Surveillance System</td>\n      <td>Obesity / Weight Status</td>\n      <td>Obesity / Weight Status</td>\n      <td>Percent of adults aged 18 years and older who ...</td>\n      <td>NaN</td>\n      <td>Value</td>\n      <td>...</td>\n      <td>(32.84057112200048, -86.63186076199969)</td>\n      <td>OWS</td>\n      <td>OWS1</td>\n      <td>Q036</td>\n      <td>VALUE</td>\n      <td>1</td>\n      <td>Total</td>\n      <td>Total</td>\n      <td>OVR</td>\n      <td>OVERALL</td>\n    </tr>\n    <tr>\n      <th>1</th>\n      <td>2011</td>\n      <td>2011</td>\n      <td>AL</td>\n      <td>Alabama</td>\n      <td>Behavioral Risk Factor Surveillance System</td>\n      <td>Obesity / Weight Status</td>\n      <td>Obesity / Weight Status</td>\n      <td>Percent of adults aged 18 years and older who ...</td>\n      <td>NaN</td>\n      <td>Value</td>\n      <td>...</td>\n      <td>(32.84057112200048, -86.63186076199969)</td>\n      <td>OWS</td>\n      <td>OWS1</td>\n      <td>Q036</td>\n      <td>VALUE</td>\n      <td>1</td>\n      <td>Gender</td>\n      <td>Male</td>\n      <td>GEN</td>\n      <td>MALE</td>\n    </tr>\n    <tr>\n      <th>2</th>\n      <td>2011</td>\n      <td>2011</td>\n      <td>AL</td>\n      <td>Alabama</td>\n      <td>Behavioral Risk Factor Surveillance System</td>\n      <td>Obesity / Weight Status</td>\n      <td>Obesity / Weight Status</td>\n      <td>Percent of adults aged 18 years and older who ...</td>\n      <td>NaN</td>\n      <td>Value</td>\n      <td>...</td>\n      <td>(32.84057112200048, -86.63186076199969)</td>\n      <td>OWS</td>\n      <td>OWS1</td>\n      <td>Q036</td>\n      <td>VALUE</td>\n      <td>1</td>\n      <td>Gender</td>\n      <td>Female</td>\n      <td>GEN</td>\n      <td>FEMALE</td>\n    </tr>\n    <tr>\n      <th>3</th>\n      <td>2011</td>\n      <td>2011</td>\n      <td>AL</td>\n      <td>Alabama</td>\n      <td>Behavioral Risk Factor Surveillance System</td>\n      <td>Obesity / Weight Status</td>\n      <td>Obesity / Weight Status</td>\n      <td>Percent of adults aged 18 years and older who ...</td>\n      <td>NaN</td>\n      <td>Value</td>\n      <td>...</td>\n      <td>(32.84057112200048, -86.63186076199969)</td>\n      <td>OWS</td>\n      <td>OWS1</td>\n      <td>Q036</td>\n      <td>VALUE</td>\n      <td>1</td>\n      <td>Education</td>\n      <td>Less than high school</td>\n      <td>EDU</td>\n      <td>EDUHS</td>\n    </tr>\n    <tr>\n      <th>4</th>\n      <td>2011</td>\n      <td>2011</td>\n      <td>AL</td>\n      <td>Alabama</td>\n      <td>Behavioral Risk Factor Surveillance System</td>\n      <td>Obesity / Weight Status</td>\n      <td>Obesity / Weight Status</td>\n      <td>Percent of adults aged 18 years and older who ...</td>\n      <td>NaN</td>\n      <td>Value</td>\n      <td>...</td>\n      <td>(32.84057112200048, -86.63186076199969)</td>\n      <td>OWS</td>\n      <td>OWS1</td>\n      <td>Q036</td>\n      <td>VALUE</td>\n      <td>1</td>\n      <td>Education</td>\n      <td>High school graduate</td>\n      <td>EDU</td>\n      <td>EDUHSGRAD</td>\n    </tr>\n    <tr>\n      <th>...</th>\n      <td>...</td>\n      <td>...</td>\n      <td>...</td>\n      <td>...</td>\n      <td>...</td>\n      <td>...</td>\n      <td>...</td>\n      <td>...</td>\n      <td>...</td>\n      <td>...</td>\n      <td>...</td>\n      <td>...</td>\n      <td>...</td>\n      <td>...</td>\n      <td>...</td>\n      <td>...</td>\n      <td>...</td>\n      <td>...</td>\n      <td>...</td>\n      <td>...</td>\n      <td>...</td>\n    </tr>\n    <tr>\n      <th>53387</th>\n      <td>2016</td>\n      <td>2016</td>\n      <td>VI</td>\n      <td>Virgin Islands</td>\n      <td>Behavioral Risk Factor Surveillance System</td>\n      <td>Physical Activity</td>\n      <td>Physical Activity - Behavior</td>\n      <td>Percent of adults who engage in no leisure-tim...</td>\n      <td>NaN</td>\n      <td>Value</td>\n      <td>...</td>\n      <td>(18.335765, -64.896335)</td>\n      <td>PA</td>\n      <td>PA1</td>\n      <td>Q047</td>\n      <td>VALUE</td>\n      <td>78</td>\n      <td>Race/Ethnicity</td>\n      <td>Asian</td>\n      <td>RACE</td>\n      <td>RACEASN</td>\n    </tr>\n    <tr>\n      <th>53388</th>\n      <td>2016</td>\n      <td>2016</td>\n      <td>VI</td>\n      <td>Virgin Islands</td>\n      <td>Behavioral Risk Factor Surveillance System</td>\n      <td>Physical Activity</td>\n      <td>Physical Activity - Behavior</td>\n      <td>Percent of adults who engage in no leisure-tim...</td>\n      <td>NaN</td>\n      <td>Value</td>\n      <td>...</td>\n      <td>(18.335765, -64.896335)</td>\n      <td>PA</td>\n      <td>PA1</td>\n      <td>Q047</td>\n      <td>VALUE</td>\n      <td>78</td>\n      <td>Race/Ethnicity</td>\n      <td>Hawaiian/Pacific Islander</td>\n      <td>RACE</td>\n      <td>RACEHPI</td>\n    </tr>\n    <tr>\n      <th>53389</th>\n      <td>2016</td>\n      <td>2016</td>\n      <td>VI</td>\n      <td>Virgin Islands</td>\n      <td>Behavioral Risk Factor Surveillance System</td>\n      <td>Physical Activity</td>\n      <td>Physical Activity - Behavior</td>\n      <td>Percent of adults who engage in no leisure-tim...</td>\n      <td>NaN</td>\n      <td>Value</td>\n      <td>...</td>\n      <td>(18.335765, -64.896335)</td>\n      <td>PA</td>\n      <td>PA1</td>\n      <td>Q047</td>\n      <td>VALUE</td>\n      <td>78</td>\n      <td>Race/Ethnicity</td>\n      <td>American Indian/Alaska Native</td>\n      <td>RACE</td>\n      <td>RACENAA</td>\n    </tr>\n    <tr>\n      <th>53390</th>\n      <td>2016</td>\n      <td>2016</td>\n      <td>VI</td>\n      <td>Virgin Islands</td>\n      <td>Behavioral Risk Factor Surveillance System</td>\n      <td>Physical Activity</td>\n      <td>Physical Activity - Behavior</td>\n      <td>Percent of adults who engage in no leisure-tim...</td>\n      <td>NaN</td>\n      <td>Value</td>\n      <td>...</td>\n      <td>(18.335765, -64.896335)</td>\n      <td>PA</td>\n      <td>PA1</td>\n      <td>Q047</td>\n      <td>VALUE</td>\n      <td>78</td>\n      <td>Race/Ethnicity</td>\n      <td>2 or more races</td>\n      <td>RACE</td>\n      <td>RACE2PLUS</td>\n    </tr>\n    <tr>\n      <th>53391</th>\n      <td>2016</td>\n      <td>2016</td>\n      <td>VI</td>\n      <td>Virgin Islands</td>\n      <td>Behavioral Risk Factor Surveillance System</td>\n      <td>Physical Activity</td>\n      <td>Physical Activity - Behavior</td>\n      <td>Percent of adults who engage in no leisure-tim...</td>\n      <td>NaN</td>\n      <td>Value</td>\n      <td>...</td>\n      <td>(18.335765, -64.896335)</td>\n      <td>PA</td>\n      <td>PA1</td>\n      <td>Q047</td>\n      <td>VALUE</td>\n      <td>78</td>\n      <td>Race/Ethnicity</td>\n      <td>Other</td>\n      <td>RACE</td>\n      <td>RACEOTH</td>\n    </tr>\n  </tbody>\n</table>\n<p>53392 rows × 33 columns</p>\n</div>"
     },
     "execution_count": 2,
     "metadata": {},
     "output_type": "execute_result"
    }
   ],
   "source": [
    "df = pd.read_csv('risk_factor_surveillance_database.csv')\n",
    "df"
   ],
   "metadata": {
    "collapsed": false,
    "ExecuteTime": {
     "end_time": "2023-09-11T05:56:56.577436500Z",
     "start_time": "2023-09-11T05:56:56.330871100Z"
    }
   },
   "id": "29b49f3c9886b59"
  },
  {
   "cell_type": "markdown",
   "source": [
    "# Removing rows with no sample sizes."
   ],
   "metadata": {
    "collapsed": false
   },
   "id": "97f26abb7d274a34"
  },
  {
   "cell_type": "code",
   "execution_count": 3,
   "outputs": [],
   "source": [
    "df.drop(df[df['Data_Value_Footnote_Symbol'] == '~'].index, inplace=True)"
   ],
   "metadata": {
    "collapsed": false,
    "ExecuteTime": {
     "end_time": "2023-09-11T05:56:56.592273900Z",
     "start_time": "2023-09-11T05:56:56.574431200Z"
    }
   },
   "id": "d0723bcc9f552a85"
  },
  {
   "cell_type": "markdown",
   "source": [
    "# Dropping Unnecessary Columns"
   ],
   "metadata": {
    "collapsed": false
   },
   "id": "75701a72d9e71fc"
  },
  {
   "cell_type": "code",
   "execution_count": 4,
   "outputs": [],
   "source": [
    "df = df.drop(\n",
    "    ['YearStart', 'YearEnd', 'LocationDesc', 'LocationAbbr', 'LocationDesc', 'ClassID', 'TopicID', 'DataValueTypeID',\n",
    "     'StratificationCategoryId1', 'Stratification1', 'StratificationCategory1', 'Data_Value_Footnote',\n",
    "     'Data_Value_Footnote_Symbol', 'Data_Value_Alt', 'Data_Value_Type', 'Data_Value_Unit', 'Question', 'Topic', 'Class',\n",
    "     'Datasource', 'GeoLocation'], axis=1)"
   ],
   "metadata": {
    "collapsed": false,
    "ExecuteTime": {
     "end_time": "2023-09-11T05:56:56.626229500Z",
     "start_time": "2023-09-11T05:56:56.593273600Z"
    }
   },
   "id": "dc07855d9d7d292d"
  },
  {
   "cell_type": "markdown",
   "source": [
    "# Getting obesity data"
   ],
   "metadata": {
    "collapsed": false
   },
   "id": "b55510e7e7d806a"
  },
  {
   "cell_type": "code",
   "execution_count": 5,
   "outputs": [],
   "source": [
    "obesity_df = df.loc[(df.QuestionID == 'Q036') | (df.QuestionID == 'Q037')]\n",
    "obesity_df = obesity_df.drop(['StratificationID1', 'QuestionID'], axis=1)"
   ],
   "metadata": {
    "collapsed": false,
    "ExecuteTime": {
     "end_time": "2023-09-11T05:56:56.627230700Z",
     "start_time": "2023-09-11T05:56:56.600917400Z"
    }
   },
   "id": "4564039cdff85e74"
  },
  {
   "cell_type": "markdown",
   "source": [
    "# Using Different columns as labels"
   ],
   "metadata": {
    "collapsed": false
   },
   "id": "e2bb571d28f6afe2"
  },
  {
   "cell_type": "code",
   "execution_count": 6,
   "outputs": [],
   "source": [
    "from xgboost import XGBClassifier\n",
    "from sklearn.model_selection import train_test_split\n",
    "from sklearn.metrics import log_loss\n",
    "from sklearn.preprocessing import LabelEncoder\n",
    "\n",
    "def predict_label(df, label_name):\n",
    "    label_encoder = LabelEncoder()\n",
    "    df[label_name] = label_encoder.fit_transform(df[label_name])\n",
    "    x = df.drop(label_name, axis=1)\n",
    "    y = df[label_name]\n",
    "    x_train, x_valid, y_train, y_valid = train_test_split(x, y, train_size=0.8, test_size=0.2)\n",
    "    my_model = XGBClassifier()\n",
    "    my_model.fit(x_train, y_train)\n",
    "    predictions = my_model.predict_proba(x_valid)\n",
    "    print(f'{label_name} loss: \\t\\t\\t', log_loss(y_true=y_valid, y_pred=predictions))\n"
   ],
   "metadata": {
    "collapsed": false,
    "ExecuteTime": {
     "end_time": "2023-09-11T05:56:57.921433900Z",
     "start_time": "2023-09-11T05:56:56.614484Z"
    }
   },
   "id": "fec396bef703d815"
  },
  {
   "cell_type": "markdown",
   "source": [
    "# Splitting Data With Gender And Preprocessing"
   ],
   "metadata": {
    "collapsed": false
   },
   "id": "679a495f560db13c"
  },
  {
   "cell_type": "code",
   "execution_count": 7,
   "outputs": [
    {
     "name": "stdout",
     "output_type": "stream",
     "text": [
      "Gender loss: \t\t\t 0.42582397105698344\n",
      "Age(years) loss: \t\t\t 0.8077258966412245\n",
      "Education loss: \t\t\t 0.5876218448629409\n",
      "Income loss: \t\t\t 1.369927633019206\n",
      "Race/Ethnicity loss: \t\t\t 0.8813661424995376\n"
     ]
    }
   ],
   "source": [
    "gender_df = obesity_df.dropna(subset=['Gender'])\n",
    "gender_df = gender_df.dropna(axis=1)\n",
    "\n",
    "age_df = obesity_df.dropna(subset=['Age(years)'])\n",
    "age_df = age_df.dropna(axis=1)\n",
    "\n",
    "education_df = obesity_df.dropna(subset=['Education'])\n",
    "education_df = education_df.dropna(axis=1)\n",
    "\n",
    "income_df = obesity_df.dropna(subset=['Income'])\n",
    "income_df = income_df.dropna(axis=1)\n",
    "\n",
    "ethnicity_df = obesity_df.dropna(subset=['Race/Ethnicity'])\n",
    "ethnicity_df = ethnicity_df.dropna(axis=1)\n",
    "\n",
    "predict_label(gender_df, 'Gender')\n",
    "predict_label(age_df, 'Age(years)')\n",
    "predict_label(education_df, 'Education')\n",
    "predict_label(income_df, 'Income')\n",
    "predict_label(ethnicity_df, 'Race/Ethnicity')"
   ],
   "metadata": {
    "collapsed": false,
    "ExecuteTime": {
     "end_time": "2023-09-11T05:57:00.112540Z",
     "start_time": "2023-09-11T05:56:57.921433900Z"
    }
   },
   "id": "d2ff18fe5cb4dc95"
  },
  {
   "cell_type": "code",
   "execution_count": 7,
   "outputs": [],
   "source": [],
   "metadata": {
    "collapsed": false,
    "ExecuteTime": {
     "end_time": "2023-09-11T05:57:00.113541700Z",
     "start_time": "2023-09-11T05:57:00.101491300Z"
    }
   },
   "id": "a129d7942f0539af"
  }
 ],
 "metadata": {
  "kernelspec": {
   "display_name": "Python 3",
   "language": "python",
   "name": "python3"
  },
  "language_info": {
   "codemirror_mode": {
    "name": "ipython",
    "version": 2
   },
   "file_extension": ".py",
   "mimetype": "text/x-python",
   "name": "python",
   "nbconvert_exporter": "python",
   "pygments_lexer": "ipython2",
   "version": "2.7.6"
  }
 },
 "nbformat": 4,
 "nbformat_minor": 5
}
