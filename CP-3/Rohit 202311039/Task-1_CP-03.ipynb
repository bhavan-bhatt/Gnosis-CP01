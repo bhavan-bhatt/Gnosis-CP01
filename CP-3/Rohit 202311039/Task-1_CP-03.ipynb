{
 "cells": [
  {
   "cell_type": "code",
   "execution_count": 1,
   "id": "e5a671f3",
   "metadata": {},
   "outputs": [],
   "source": [
    "import pandas as pd\n",
    "import numpy as np\n",
    "import matplotlib.pyplot as plt"
   ]
  },
  {
   "cell_type": "code",
   "execution_count": 2,
   "id": "38735d1b",
   "metadata": {},
   "outputs": [],
   "source": [
    "df = pd.read_csv('Task1-data\\deliveries.csv')"
   ]
  },
  {
   "cell_type": "code",
   "execution_count": 3,
   "id": "a8e821c9",
   "metadata": {},
   "outputs": [
    {
     "data": {
      "text/html": [
       "<div>\n",
       "<style scoped>\n",
       "    .dataframe tbody tr th:only-of-type {\n",
       "        vertical-align: middle;\n",
       "    }\n",
       "\n",
       "    .dataframe tbody tr th {\n",
       "        vertical-align: top;\n",
       "    }\n",
       "\n",
       "    .dataframe thead th {\n",
       "        text-align: right;\n",
       "    }\n",
       "</style>\n",
       "<table border=\"1\" class=\"dataframe\">\n",
       "  <thead>\n",
       "    <tr style=\"text-align: right;\">\n",
       "      <th></th>\n",
       "      <th>match_id</th>\n",
       "      <th>season</th>\n",
       "      <th>start_date</th>\n",
       "      <th>venue</th>\n",
       "      <th>innings</th>\n",
       "      <th>ball</th>\n",
       "      <th>batting_team</th>\n",
       "      <th>bowling_team</th>\n",
       "      <th>striker</th>\n",
       "      <th>non_striker</th>\n",
       "      <th>...</th>\n",
       "      <th>extras</th>\n",
       "      <th>wides</th>\n",
       "      <th>noballs</th>\n",
       "      <th>byes</th>\n",
       "      <th>legbyes</th>\n",
       "      <th>penalty</th>\n",
       "      <th>wicket_type</th>\n",
       "      <th>player_dismissed</th>\n",
       "      <th>other_wicket_type</th>\n",
       "      <th>other_player_dismissed</th>\n",
       "    </tr>\n",
       "  </thead>\n",
       "  <tbody>\n",
       "    <tr>\n",
       "      <th>0</th>\n",
       "      <td>1</td>\n",
       "      <td>2023/24</td>\n",
       "      <td>2023-10-05</td>\n",
       "      <td>Narendra Modi Stadium, Ahmedabad</td>\n",
       "      <td>1</td>\n",
       "      <td>0.1</td>\n",
       "      <td>England</td>\n",
       "      <td>New Zealand</td>\n",
       "      <td>JM Bairstow</td>\n",
       "      <td>DJ Malan</td>\n",
       "      <td>...</td>\n",
       "      <td>0</td>\n",
       "      <td>NaN</td>\n",
       "      <td>NaN</td>\n",
       "      <td>NaN</td>\n",
       "      <td>NaN</td>\n",
       "      <td>NaN</td>\n",
       "      <td>NaN</td>\n",
       "      <td>NaN</td>\n",
       "      <td>NaN</td>\n",
       "      <td>NaN</td>\n",
       "    </tr>\n",
       "    <tr>\n",
       "      <th>1</th>\n",
       "      <td>1</td>\n",
       "      <td>2023/24</td>\n",
       "      <td>2023-10-05</td>\n",
       "      <td>Narendra Modi Stadium, Ahmedabad</td>\n",
       "      <td>1</td>\n",
       "      <td>0.2</td>\n",
       "      <td>England</td>\n",
       "      <td>New Zealand</td>\n",
       "      <td>JM Bairstow</td>\n",
       "      <td>DJ Malan</td>\n",
       "      <td>...</td>\n",
       "      <td>0</td>\n",
       "      <td>NaN</td>\n",
       "      <td>NaN</td>\n",
       "      <td>NaN</td>\n",
       "      <td>NaN</td>\n",
       "      <td>NaN</td>\n",
       "      <td>NaN</td>\n",
       "      <td>NaN</td>\n",
       "      <td>NaN</td>\n",
       "      <td>NaN</td>\n",
       "    </tr>\n",
       "    <tr>\n",
       "      <th>2</th>\n",
       "      <td>1</td>\n",
       "      <td>2023/24</td>\n",
       "      <td>2023-10-05</td>\n",
       "      <td>Narendra Modi Stadium, Ahmedabad</td>\n",
       "      <td>1</td>\n",
       "      <td>0.3</td>\n",
       "      <td>England</td>\n",
       "      <td>New Zealand</td>\n",
       "      <td>JM Bairstow</td>\n",
       "      <td>DJ Malan</td>\n",
       "      <td>...</td>\n",
       "      <td>0</td>\n",
       "      <td>NaN</td>\n",
       "      <td>NaN</td>\n",
       "      <td>NaN</td>\n",
       "      <td>NaN</td>\n",
       "      <td>NaN</td>\n",
       "      <td>NaN</td>\n",
       "      <td>NaN</td>\n",
       "      <td>NaN</td>\n",
       "      <td>NaN</td>\n",
       "    </tr>\n",
       "    <tr>\n",
       "      <th>3</th>\n",
       "      <td>1</td>\n",
       "      <td>2023/24</td>\n",
       "      <td>2023-10-05</td>\n",
       "      <td>Narendra Modi Stadium, Ahmedabad</td>\n",
       "      <td>1</td>\n",
       "      <td>0.4</td>\n",
       "      <td>England</td>\n",
       "      <td>New Zealand</td>\n",
       "      <td>DJ Malan</td>\n",
       "      <td>JM Bairstow</td>\n",
       "      <td>...</td>\n",
       "      <td>0</td>\n",
       "      <td>NaN</td>\n",
       "      <td>NaN</td>\n",
       "      <td>NaN</td>\n",
       "      <td>NaN</td>\n",
       "      <td>NaN</td>\n",
       "      <td>NaN</td>\n",
       "      <td>NaN</td>\n",
       "      <td>NaN</td>\n",
       "      <td>NaN</td>\n",
       "    </tr>\n",
       "    <tr>\n",
       "      <th>4</th>\n",
       "      <td>1</td>\n",
       "      <td>2023/24</td>\n",
       "      <td>2023-10-05</td>\n",
       "      <td>Narendra Modi Stadium, Ahmedabad</td>\n",
       "      <td>1</td>\n",
       "      <td>0.5</td>\n",
       "      <td>England</td>\n",
       "      <td>New Zealand</td>\n",
       "      <td>JM Bairstow</td>\n",
       "      <td>DJ Malan</td>\n",
       "      <td>...</td>\n",
       "      <td>0</td>\n",
       "      <td>NaN</td>\n",
       "      <td>NaN</td>\n",
       "      <td>NaN</td>\n",
       "      <td>NaN</td>\n",
       "      <td>NaN</td>\n",
       "      <td>NaN</td>\n",
       "      <td>NaN</td>\n",
       "      <td>NaN</td>\n",
       "      <td>NaN</td>\n",
       "    </tr>\n",
       "  </tbody>\n",
       "</table>\n",
       "<p>5 rows × 22 columns</p>\n",
       "</div>"
      ],
      "text/plain": [
       "   match_id   season  start_date                             venue  innings   \n",
       "0         1  2023/24  2023-10-05  Narendra Modi Stadium, Ahmedabad        1  \\\n",
       "1         1  2023/24  2023-10-05  Narendra Modi Stadium, Ahmedabad        1   \n",
       "2         1  2023/24  2023-10-05  Narendra Modi Stadium, Ahmedabad        1   \n",
       "3         1  2023/24  2023-10-05  Narendra Modi Stadium, Ahmedabad        1   \n",
       "4         1  2023/24  2023-10-05  Narendra Modi Stadium, Ahmedabad        1   \n",
       "\n",
       "   ball batting_team bowling_team      striker  non_striker  ... extras   \n",
       "0   0.1      England  New Zealand  JM Bairstow     DJ Malan  ...      0  \\\n",
       "1   0.2      England  New Zealand  JM Bairstow     DJ Malan  ...      0   \n",
       "2   0.3      England  New Zealand  JM Bairstow     DJ Malan  ...      0   \n",
       "3   0.4      England  New Zealand     DJ Malan  JM Bairstow  ...      0   \n",
       "4   0.5      England  New Zealand  JM Bairstow     DJ Malan  ...      0   \n",
       "\n",
       "   wides  noballs  byes  legbyes  penalty  wicket_type  player_dismissed   \n",
       "0    NaN      NaN   NaN      NaN      NaN          NaN               NaN  \\\n",
       "1    NaN      NaN   NaN      NaN      NaN          NaN               NaN   \n",
       "2    NaN      NaN   NaN      NaN      NaN          NaN               NaN   \n",
       "3    NaN      NaN   NaN      NaN      NaN          NaN               NaN   \n",
       "4    NaN      NaN   NaN      NaN      NaN          NaN               NaN   \n",
       "\n",
       "  other_wicket_type other_player_dismissed  \n",
       "0               NaN                    NaN  \n",
       "1               NaN                    NaN  \n",
       "2               NaN                    NaN  \n",
       "3               NaN                    NaN  \n",
       "4               NaN                    NaN  \n",
       "\n",
       "[5 rows x 22 columns]"
      ]
     },
     "execution_count": 3,
     "metadata": {},
     "output_type": "execute_result"
    }
   ],
   "source": [
    "df.head()"
   ]
  },
  {
   "cell_type": "code",
   "execution_count": 4,
   "id": "75b1cc78",
   "metadata": {},
   "outputs": [
    {
     "data": {
      "text/plain": [
       "Index(['match_id', 'season', 'start_date', 'venue', 'innings', 'ball',\n",
       "       'batting_team', 'bowling_team', 'striker', 'non_striker', 'bowler',\n",
       "       'runs_off_bat', 'extras', 'wides', 'noballs', 'byes', 'legbyes',\n",
       "       'penalty', 'wicket_type', 'player_dismissed', 'other_wicket_type',\n",
       "       'other_player_dismissed'],\n",
       "      dtype='object')"
      ]
     },
     "execution_count": 4,
     "metadata": {},
     "output_type": "execute_result"
    }
   ],
   "source": [
    "df.columns"
   ]
  },
  {
   "cell_type": "code",
   "execution_count": 5,
   "id": "1421a709",
   "metadata": {},
   "outputs": [
    {
     "data": {
      "text/plain": [
       "array([0, 6, 1, 4, 2, 3, 5], dtype=int64)"
      ]
     },
     "execution_count": 5,
     "metadata": {},
     "output_type": "execute_result"
    }
   ],
   "source": [
    "df['runs_off_bat'].unique()"
   ]
  },
  {
   "cell_type": "code",
   "execution_count": 6,
   "id": "45c33611",
   "metadata": {},
   "outputs": [
    {
     "data": {
      "text/plain": [
       "array([nan, 'caught', 'bowled', 'caught and bowled', 'lbw', 'run out',\n",
       "       'stumped', 'retired hurt'], dtype=object)"
      ]
     },
     "execution_count": 6,
     "metadata": {},
     "output_type": "execute_result"
    }
   ],
   "source": [
    "df['wicket_type'].unique()"
   ]
  },
  {
   "cell_type": "code",
   "execution_count": 7,
   "id": "f7a8bb6f",
   "metadata": {},
   "outputs": [
    {
     "data": {
      "text/plain": [
       "array(['New Zealand', 'England', 'Netherlands', 'Pakistan', 'Bangladesh',\n",
       "       'Afghanistan', 'Sri Lanka', 'South Africa', 'India', 'Australia'],\n",
       "      dtype=object)"
      ]
     },
     "execution_count": 7,
     "metadata": {},
     "output_type": "execute_result"
    }
   ],
   "source": [
    "df['bowling_team'].unique()"
   ]
  },
  {
   "cell_type": "code",
   "execution_count": 8,
   "id": "1707aae4",
   "metadata": {},
   "outputs": [
    {
     "data": {
      "text/plain": [
       "array([nan])"
      ]
     },
     "execution_count": 8,
     "metadata": {},
     "output_type": "execute_result"
    }
   ],
   "source": [
    "df['other_player_dismissed'].unique()"
   ]
  },
  {
   "cell_type": "code",
   "execution_count": 9,
   "id": "6838a77d",
   "metadata": {},
   "outputs": [
    {
     "data": {
      "text/plain": [
       "runs_off_bat\n",
       "0    9181\n",
       "1    5525\n",
       "4    1480\n",
       "2     726\n",
       "6     418\n",
       "3      48\n",
       "5       2\n",
       "Name: count, dtype: int64"
      ]
     },
     "execution_count": 9,
     "metadata": {},
     "output_type": "execute_result"
    }
   ],
   "source": [
    "df['runs_off_bat'].value_counts()"
   ]
  },
  {
   "cell_type": "markdown",
   "id": "f869dd23",
   "metadata": {},
   "source": [
    "## I'm solving the second problem of our Task-1:"
   ]
  },
  {
   "cell_type": "markdown",
   "id": "4b1764e6",
   "metadata": {},
   "source": [
    "## The problem statement is \"Total No. of boundaries in World Cup Final Match\""
   ]
  },
  {
   "cell_type": "code",
   "execution_count": 10,
   "id": "ace303f0",
   "metadata": {},
   "outputs": [],
   "source": [
    "df2 = df[['match_id','innings','venue','batting_team','bowling_team','runs_off_bat']]\n"
   ]
  },
  {
   "cell_type": "code",
   "execution_count": 11,
   "id": "f4118514",
   "metadata": {},
   "outputs": [
    {
     "data": {
      "text/html": [
       "<div>\n",
       "<style scoped>\n",
       "    .dataframe tbody tr th:only-of-type {\n",
       "        vertical-align: middle;\n",
       "    }\n",
       "\n",
       "    .dataframe tbody tr th {\n",
       "        vertical-align: top;\n",
       "    }\n",
       "\n",
       "    .dataframe thead th {\n",
       "        text-align: right;\n",
       "    }\n",
       "</style>\n",
       "<table border=\"1\" class=\"dataframe\">\n",
       "  <thead>\n",
       "    <tr style=\"text-align: right;\">\n",
       "      <th></th>\n",
       "      <th>match_id</th>\n",
       "      <th>innings</th>\n",
       "      <th>venue</th>\n",
       "      <th>batting_team</th>\n",
       "      <th>bowling_team</th>\n",
       "      <th>runs_off_bat</th>\n",
       "    </tr>\n",
       "  </thead>\n",
       "  <tbody>\n",
       "    <tr>\n",
       "      <th>0</th>\n",
       "      <td>1</td>\n",
       "      <td>1</td>\n",
       "      <td>Narendra Modi Stadium, Ahmedabad</td>\n",
       "      <td>England</td>\n",
       "      <td>New Zealand</td>\n",
       "      <td>0</td>\n",
       "    </tr>\n",
       "    <tr>\n",
       "      <th>1</th>\n",
       "      <td>1</td>\n",
       "      <td>1</td>\n",
       "      <td>Narendra Modi Stadium, Ahmedabad</td>\n",
       "      <td>England</td>\n",
       "      <td>New Zealand</td>\n",
       "      <td>6</td>\n",
       "    </tr>\n",
       "    <tr>\n",
       "      <th>2</th>\n",
       "      <td>1</td>\n",
       "      <td>1</td>\n",
       "      <td>Narendra Modi Stadium, Ahmedabad</td>\n",
       "      <td>England</td>\n",
       "      <td>New Zealand</td>\n",
       "      <td>1</td>\n",
       "    </tr>\n",
       "    <tr>\n",
       "      <th>3</th>\n",
       "      <td>1</td>\n",
       "      <td>1</td>\n",
       "      <td>Narendra Modi Stadium, Ahmedabad</td>\n",
       "      <td>England</td>\n",
       "      <td>New Zealand</td>\n",
       "      <td>1</td>\n",
       "    </tr>\n",
       "    <tr>\n",
       "      <th>4</th>\n",
       "      <td>1</td>\n",
       "      <td>1</td>\n",
       "      <td>Narendra Modi Stadium, Ahmedabad</td>\n",
       "      <td>England</td>\n",
       "      <td>New Zealand</td>\n",
       "      <td>4</td>\n",
       "    </tr>\n",
       "  </tbody>\n",
       "</table>\n",
       "</div>"
      ],
      "text/plain": [
       "   match_id  innings                             venue batting_team   \n",
       "0         1        1  Narendra Modi Stadium, Ahmedabad      England  \\\n",
       "1         1        1  Narendra Modi Stadium, Ahmedabad      England   \n",
       "2         1        1  Narendra Modi Stadium, Ahmedabad      England   \n",
       "3         1        1  Narendra Modi Stadium, Ahmedabad      England   \n",
       "4         1        1  Narendra Modi Stadium, Ahmedabad      England   \n",
       "\n",
       "  bowling_team  runs_off_bat  \n",
       "0  New Zealand             0  \n",
       "1  New Zealand             6  \n",
       "2  New Zealand             1  \n",
       "3  New Zealand             1  \n",
       "4  New Zealand             4  "
      ]
     },
     "execution_count": 11,
     "metadata": {},
     "output_type": "execute_result"
    }
   ],
   "source": [
    "df2.head()"
   ]
  },
  {
   "cell_type": "code",
   "execution_count": 12,
   "id": "41f923f5",
   "metadata": {},
   "outputs": [
    {
     "data": {
      "text/plain": [
       "(17380, 6)"
      ]
     },
     "execution_count": 12,
     "metadata": {},
     "output_type": "execute_result"
    }
   ],
   "source": [
    "df2.shape"
   ]
  },
  {
   "cell_type": "code",
   "execution_count": 13,
   "id": "1ffccfff",
   "metadata": {},
   "outputs": [
    {
     "data": {
      "text/plain": [
       "match_id        0\n",
       "innings         0\n",
       "venue           0\n",
       "batting_team    0\n",
       "bowling_team    0\n",
       "runs_off_bat    0\n",
       "dtype: int64"
      ]
     },
     "execution_count": 13,
     "metadata": {},
     "output_type": "execute_result"
    }
   ],
   "source": [
    "df2.isnull().sum()"
   ]
  },
  {
   "cell_type": "markdown",
   "id": "66bfd1ed",
   "metadata": {},
   "source": [
    "### I'm filtering out rows which contains only boundaries, i.e. 4 and 6 on a particular ball."
   ]
  },
  {
   "cell_type": "code",
   "execution_count": 14,
   "id": "7f9fc0d2",
   "metadata": {},
   "outputs": [],
   "source": [
    "filtered_df = df2[df2['runs_off_bat'].isin([4, 6])]"
   ]
  },
  {
   "cell_type": "code",
   "execution_count": 15,
   "id": "766ad68d",
   "metadata": {},
   "outputs": [
    {
     "data": {
      "text/plain": [
       "(1898, 6)"
      ]
     },
     "execution_count": 15,
     "metadata": {},
     "output_type": "execute_result"
    }
   ],
   "source": [
    "filtered_df.shape"
   ]
  },
  {
   "cell_type": "markdown",
   "id": "c1f4e1a1",
   "metadata": {},
   "source": [
    "### Counting the total number of boundaries by grouping match_id and innings, and the result is stored in new column name 'Total_Boundaries'."
   ]
  },
  {
   "cell_type": "code",
   "execution_count": 16,
   "id": "50dc4513",
   "metadata": {},
   "outputs": [
    {
     "name": "stderr",
     "output_type": "stream",
     "text": [
      "C:\\Users\\Harshneel\\AppData\\Local\\Temp\\ipykernel_32436\\3508572072.py:1: SettingWithCopyWarning: \n",
      "A value is trying to be set on a copy of a slice from a DataFrame.\n",
      "Try using .loc[row_indexer,col_indexer] = value instead\n",
      "\n",
      "See the caveats in the documentation: https://pandas.pydata.org/pandas-docs/stable/user_guide/indexing.html#returning-a-view-versus-a-copy\n",
      "  filtered_df['Total_Boundaries'] = filtered_df.groupby(['match_id','innings'])['runs_off_bat'].transform('count')\n"
     ]
    }
   ],
   "source": [
    "filtered_df['Total_Boundaries'] = filtered_df.groupby(['match_id','innings'])['runs_off_bat'].transform('count')\n"
   ]
  },
  {
   "cell_type": "code",
   "execution_count": 17,
   "id": "e1ab7863",
   "metadata": {},
   "outputs": [
    {
     "data": {
      "text/html": [
       "<div>\n",
       "<style scoped>\n",
       "    .dataframe tbody tr th:only-of-type {\n",
       "        vertical-align: middle;\n",
       "    }\n",
       "\n",
       "    .dataframe tbody tr th {\n",
       "        vertical-align: top;\n",
       "    }\n",
       "\n",
       "    .dataframe thead th {\n",
       "        text-align: right;\n",
       "    }\n",
       "</style>\n",
       "<table border=\"1\" class=\"dataframe\">\n",
       "  <thead>\n",
       "    <tr style=\"text-align: right;\">\n",
       "      <th></th>\n",
       "      <th>match_id</th>\n",
       "      <th>innings</th>\n",
       "      <th>venue</th>\n",
       "      <th>batting_team</th>\n",
       "      <th>bowling_team</th>\n",
       "      <th>runs_off_bat</th>\n",
       "      <th>Total_Boundaries</th>\n",
       "    </tr>\n",
       "  </thead>\n",
       "  <tbody>\n",
       "    <tr>\n",
       "      <th>1</th>\n",
       "      <td>1</td>\n",
       "      <td>1</td>\n",
       "      <td>Narendra Modi Stadium, Ahmedabad</td>\n",
       "      <td>England</td>\n",
       "      <td>New Zealand</td>\n",
       "      <td>6</td>\n",
       "      <td>27</td>\n",
       "    </tr>\n",
       "    <tr>\n",
       "      <th>4</th>\n",
       "      <td>1</td>\n",
       "      <td>1</td>\n",
       "      <td>Narendra Modi Stadium, Ahmedabad</td>\n",
       "      <td>England</td>\n",
       "      <td>New Zealand</td>\n",
       "      <td>4</td>\n",
       "      <td>27</td>\n",
       "    </tr>\n",
       "    <tr>\n",
       "      <th>20</th>\n",
       "      <td>1</td>\n",
       "      <td>1</td>\n",
       "      <td>Narendra Modi Stadium, Ahmedabad</td>\n",
       "      <td>England</td>\n",
       "      <td>New Zealand</td>\n",
       "      <td>4</td>\n",
       "      <td>27</td>\n",
       "    </tr>\n",
       "    <tr>\n",
       "      <th>24</th>\n",
       "      <td>1</td>\n",
       "      <td>1</td>\n",
       "      <td>Narendra Modi Stadium, Ahmedabad</td>\n",
       "      <td>England</td>\n",
       "      <td>New Zealand</td>\n",
       "      <td>4</td>\n",
       "      <td>27</td>\n",
       "    </tr>\n",
       "    <tr>\n",
       "      <th>34</th>\n",
       "      <td>1</td>\n",
       "      <td>1</td>\n",
       "      <td>Narendra Modi Stadium, Ahmedabad</td>\n",
       "      <td>England</td>\n",
       "      <td>New Zealand</td>\n",
       "      <td>4</td>\n",
       "      <td>27</td>\n",
       "    </tr>\n",
       "  </tbody>\n",
       "</table>\n",
       "</div>"
      ],
      "text/plain": [
       "    match_id  innings                             venue batting_team   \n",
       "1          1        1  Narendra Modi Stadium, Ahmedabad      England  \\\n",
       "4          1        1  Narendra Modi Stadium, Ahmedabad      England   \n",
       "20         1        1  Narendra Modi Stadium, Ahmedabad      England   \n",
       "24         1        1  Narendra Modi Stadium, Ahmedabad      England   \n",
       "34         1        1  Narendra Modi Stadium, Ahmedabad      England   \n",
       "\n",
       "   bowling_team  runs_off_bat  Total_Boundaries  \n",
       "1   New Zealand             6                27  \n",
       "4   New Zealand             4                27  \n",
       "20  New Zealand             4                27  \n",
       "24  New Zealand             4                27  \n",
       "34  New Zealand             4                27  "
      ]
     },
     "execution_count": 17,
     "metadata": {},
     "output_type": "execute_result"
    }
   ],
   "source": [
    "filtered_df.head()"
   ]
  },
  {
   "cell_type": "code",
   "execution_count": 18,
   "id": "d4b06095",
   "metadata": {},
   "outputs": [
    {
     "data": {
      "text/plain": [
       "(1898, 7)"
      ]
     },
     "execution_count": 18,
     "metadata": {},
     "output_type": "execute_result"
    }
   ],
   "source": [
    "filtered_df.shape"
   ]
  },
  {
   "cell_type": "markdown",
   "id": "668b7632",
   "metadata": {},
   "source": [
    "### Removing all the duplicate rows so that I can get total boundaries per match per innings uniquely."
   ]
  },
  {
   "cell_type": "code",
   "execution_count": 19,
   "id": "98dd0dfc",
   "metadata": {},
   "outputs": [],
   "source": [
    "filtered_df_unique = filtered_df.drop_duplicates(subset=['match_id','innings'])\n"
   ]
  },
  {
   "cell_type": "code",
   "execution_count": 20,
   "id": "d42b0e1b",
   "metadata": {},
   "outputs": [
    {
     "data": {
      "text/plain": [
       "(64, 7)"
      ]
     },
     "execution_count": 20,
     "metadata": {},
     "output_type": "execute_result"
    }
   ],
   "source": [
    "filtered_df_unique.shape"
   ]
  },
  {
   "cell_type": "code",
   "execution_count": 21,
   "id": "8e77a8a0",
   "metadata": {},
   "outputs": [
    {
     "data": {
      "text/html": [
       "<div>\n",
       "<style scoped>\n",
       "    .dataframe tbody tr th:only-of-type {\n",
       "        vertical-align: middle;\n",
       "    }\n",
       "\n",
       "    .dataframe tbody tr th {\n",
       "        vertical-align: top;\n",
       "    }\n",
       "\n",
       "    .dataframe thead th {\n",
       "        text-align: right;\n",
       "    }\n",
       "</style>\n",
       "<table border=\"1\" class=\"dataframe\">\n",
       "  <thead>\n",
       "    <tr style=\"text-align: right;\">\n",
       "      <th></th>\n",
       "      <th>match_id</th>\n",
       "      <th>innings</th>\n",
       "      <th>venue</th>\n",
       "      <th>batting_team</th>\n",
       "      <th>bowling_team</th>\n",
       "      <th>runs_off_bat</th>\n",
       "      <th>Total_Boundaries</th>\n",
       "    </tr>\n",
       "  </thead>\n",
       "  <tbody>\n",
       "    <tr>\n",
       "      <th>1</th>\n",
       "      <td>1</td>\n",
       "      <td>1</td>\n",
       "      <td>Narendra Modi Stadium, Ahmedabad</td>\n",
       "      <td>England</td>\n",
       "      <td>New Zealand</td>\n",
       "      <td>6</td>\n",
       "      <td>27</td>\n",
       "    </tr>\n",
       "    <tr>\n",
       "      <th>304</th>\n",
       "      <td>1</td>\n",
       "      <td>2</td>\n",
       "      <td>Narendra Modi Stadium, Ahmedabad</td>\n",
       "      <td>New Zealand</td>\n",
       "      <td>England</td>\n",
       "      <td>4</td>\n",
       "      <td>38</td>\n",
       "    </tr>\n",
       "    <tr>\n",
       "      <th>530</th>\n",
       "      <td>2</td>\n",
       "      <td>1</td>\n",
       "      <td>Rajiv Gandhi International Stadium, Uppal, Hyd...</td>\n",
       "      <td>Pakistan</td>\n",
       "      <td>Netherlands</td>\n",
       "      <td>4</td>\n",
       "      <td>36</td>\n",
       "    </tr>\n",
       "    <tr>\n",
       "      <th>836</th>\n",
       "      <td>2</td>\n",
       "      <td>2</td>\n",
       "      <td>Rajiv Gandhi International Stadium, Uppal, Hyd...</td>\n",
       "      <td>Netherlands</td>\n",
       "      <td>Pakistan</td>\n",
       "      <td>4</td>\n",
       "      <td>24</td>\n",
       "    </tr>\n",
       "    <tr>\n",
       "      <th>1092</th>\n",
       "      <td>3</td>\n",
       "      <td>1</td>\n",
       "      <td>Himachal Pradesh Cricket Association Stadium, ...</td>\n",
       "      <td>Afghanistan</td>\n",
       "      <td>Bangladesh</td>\n",
       "      <td>4</td>\n",
       "      <td>17</td>\n",
       "    </tr>\n",
       "    <tr>\n",
       "      <th>...</th>\n",
       "      <td>...</td>\n",
       "      <td>...</td>\n",
       "      <td>...</td>\n",
       "      <td>...</td>\n",
       "      <td>...</td>\n",
       "      <td>...</td>\n",
       "      <td>...</td>\n",
       "    </tr>\n",
       "    <tr>\n",
       "      <th>16120</th>\n",
       "      <td>30</td>\n",
       "      <td>2</td>\n",
       "      <td>Maharashtra Cricket Association Stadium, Pune</td>\n",
       "      <td>Afghanistan</td>\n",
       "      <td>Sri Lanka</td>\n",
       "      <td>4</td>\n",
       "      <td>24</td>\n",
       "    </tr>\n",
       "    <tr>\n",
       "      <th>16394</th>\n",
       "      <td>31</td>\n",
       "      <td>1</td>\n",
       "      <td>Eden Gardens, Kolkata</td>\n",
       "      <td>Bangladesh</td>\n",
       "      <td>Pakistan</td>\n",
       "      <td>4</td>\n",
       "      <td>22</td>\n",
       "    </tr>\n",
       "    <tr>\n",
       "      <th>16663</th>\n",
       "      <td>31</td>\n",
       "      <td>2</td>\n",
       "      <td>Eden Gardens, Kolkata</td>\n",
       "      <td>Pakistan</td>\n",
       "      <td>Bangladesh</td>\n",
       "      <td>4</td>\n",
       "      <td>28</td>\n",
       "    </tr>\n",
       "    <tr>\n",
       "      <th>16875</th>\n",
       "      <td>32</td>\n",
       "      <td>1</td>\n",
       "      <td>Maharashtra Cricket Association Stadium, Pune</td>\n",
       "      <td>South Africa</td>\n",
       "      <td>New Zealand</td>\n",
       "      <td>4</td>\n",
       "      <td>41</td>\n",
       "    </tr>\n",
       "    <tr>\n",
       "      <th>17166</th>\n",
       "      <td>32</td>\n",
       "      <td>2</td>\n",
       "      <td>Maharashtra Cricket Association Stadium, Pune</td>\n",
       "      <td>New Zealand</td>\n",
       "      <td>South Africa</td>\n",
       "      <td>4</td>\n",
       "      <td>21</td>\n",
       "    </tr>\n",
       "  </tbody>\n",
       "</table>\n",
       "<p>64 rows × 7 columns</p>\n",
       "</div>"
      ],
      "text/plain": [
       "       match_id  innings                                              venue   \n",
       "1             1        1                   Narendra Modi Stadium, Ahmedabad  \\\n",
       "304           1        2                   Narendra Modi Stadium, Ahmedabad   \n",
       "530           2        1  Rajiv Gandhi International Stadium, Uppal, Hyd...   \n",
       "836           2        2  Rajiv Gandhi International Stadium, Uppal, Hyd...   \n",
       "1092          3        1  Himachal Pradesh Cricket Association Stadium, ...   \n",
       "...         ...      ...                                                ...   \n",
       "16120        30        2      Maharashtra Cricket Association Stadium, Pune   \n",
       "16394        31        1                              Eden Gardens, Kolkata   \n",
       "16663        31        2                              Eden Gardens, Kolkata   \n",
       "16875        32        1      Maharashtra Cricket Association Stadium, Pune   \n",
       "17166        32        2      Maharashtra Cricket Association Stadium, Pune   \n",
       "\n",
       "       batting_team  bowling_team  runs_off_bat  Total_Boundaries  \n",
       "1           England   New Zealand             6                27  \n",
       "304     New Zealand       England             4                38  \n",
       "530        Pakistan   Netherlands             4                36  \n",
       "836     Netherlands      Pakistan             4                24  \n",
       "1092    Afghanistan    Bangladesh             4                17  \n",
       "...             ...           ...           ...               ...  \n",
       "16120   Afghanistan     Sri Lanka             4                24  \n",
       "16394    Bangladesh      Pakistan             4                22  \n",
       "16663      Pakistan    Bangladesh             4                28  \n",
       "16875  South Africa   New Zealand             4                41  \n",
       "17166   New Zealand  South Africa             4                21  \n",
       "\n",
       "[64 rows x 7 columns]"
      ]
     },
     "execution_count": 21,
     "metadata": {},
     "output_type": "execute_result"
    }
   ],
   "source": [
    "filtered_df_unique"
   ]
  },
  {
   "cell_type": "code",
   "execution_count": 22,
   "id": "22c9e848",
   "metadata": {},
   "outputs": [
    {
     "data": {
      "text/plain": [
       "(64, 7)"
      ]
     },
     "execution_count": 22,
     "metadata": {},
     "output_type": "execute_result"
    }
   ],
   "source": [
    "filtered_df_unique.shape"
   ]
  },
  {
   "cell_type": "code",
   "execution_count": 23,
   "id": "29f85bbe",
   "metadata": {},
   "outputs": [],
   "source": [
    "filtered_df_unique = filtered_df_unique.drop(columns=['match_id','innings'])\n"
   ]
  },
  {
   "cell_type": "code",
   "execution_count": 24,
   "id": "d76f3afc",
   "metadata": {},
   "outputs": [],
   "source": [
    "filtered_df_unique = filtered_df_unique.drop(columns=['runs_off_bat'])"
   ]
  },
  {
   "cell_type": "markdown",
   "id": "34f2a5be",
   "metadata": {},
   "source": [
    "### Applying Label-Encoder on  venue , batting_team , bowling_team  columns"
   ]
  },
  {
   "cell_type": "code",
   "execution_count": 25,
   "id": "e5b0aed9",
   "metadata": {},
   "outputs": [
    {
     "name": "stdout",
     "output_type": "stream",
     "text": [
      "{'Arun Jaitley Stadium, Delhi': 0, 'Bharat Ratna Shri Atal Bihari Vajpayee Ekana Cricket Stadium, Lucknow': 1, 'Eden Gardens, Kolkata': 2, 'Himachal Pradesh Cricket Association Stadium, Dharamsala': 3, 'M Chinnaswamy Stadium, Bengaluru': 4, 'MA Chidambaram Stadium, Chepauk, Chennai': 5, 'Maharashtra Cricket Association Stadium, Pune': 6, 'Narendra Modi Stadium, Ahmedabad': 7, 'Rajiv Gandhi International Stadium, Uppal, Hyderabad': 8, 'Wankhede Stadium, Mumbai': 9}\n",
      "{'Afghanistan': 0, 'Australia': 1, 'Bangladesh': 2, 'England': 3, 'India': 4, 'Netherlands': 5, 'New Zealand': 6, 'Pakistan': 7, 'South Africa': 8, 'Sri Lanka': 9}\n",
      "{'Afghanistan': 0, 'Australia': 1, 'Bangladesh': 2, 'England': 3, 'India': 4, 'Netherlands': 5, 'New Zealand': 6, 'Pakistan': 7, 'South Africa': 8, 'Sri Lanka': 9}\n"
     ]
    }
   ],
   "source": [
    "from sklearn.preprocessing import LabelEncoder\n",
    "le = LabelEncoder()\n",
    "lst = ['venue','batting_team','bowling_team']\n",
    "for i in lst:\n",
    "    filtered_df_unique[i] = le.fit_transform(filtered_df_unique[i])\n",
    "    le_name_mapping = dict(zip(le.classes_, le.transform(le.classes_)))\n",
    "    print(le_name_mapping)"
   ]
  },
  {
   "cell_type": "code",
   "execution_count": 26,
   "id": "cefe4924",
   "metadata": {},
   "outputs": [
    {
     "data": {
      "text/html": [
       "<div>\n",
       "<style scoped>\n",
       "    .dataframe tbody tr th:only-of-type {\n",
       "        vertical-align: middle;\n",
       "    }\n",
       "\n",
       "    .dataframe tbody tr th {\n",
       "        vertical-align: top;\n",
       "    }\n",
       "\n",
       "    .dataframe thead th {\n",
       "        text-align: right;\n",
       "    }\n",
       "</style>\n",
       "<table border=\"1\" class=\"dataframe\">\n",
       "  <thead>\n",
       "    <tr style=\"text-align: right;\">\n",
       "      <th></th>\n",
       "      <th>venue</th>\n",
       "      <th>batting_team</th>\n",
       "      <th>bowling_team</th>\n",
       "      <th>Total_Boundaries</th>\n",
       "    </tr>\n",
       "  </thead>\n",
       "  <tbody>\n",
       "    <tr>\n",
       "      <th>1</th>\n",
       "      <td>7</td>\n",
       "      <td>3</td>\n",
       "      <td>6</td>\n",
       "      <td>27</td>\n",
       "    </tr>\n",
       "    <tr>\n",
       "      <th>304</th>\n",
       "      <td>7</td>\n",
       "      <td>6</td>\n",
       "      <td>3</td>\n",
       "      <td>38</td>\n",
       "    </tr>\n",
       "    <tr>\n",
       "      <th>530</th>\n",
       "      <td>8</td>\n",
       "      <td>7</td>\n",
       "      <td>5</td>\n",
       "      <td>36</td>\n",
       "    </tr>\n",
       "    <tr>\n",
       "      <th>836</th>\n",
       "      <td>8</td>\n",
       "      <td>5</td>\n",
       "      <td>7</td>\n",
       "      <td>24</td>\n",
       "    </tr>\n",
       "    <tr>\n",
       "      <th>1092</th>\n",
       "      <td>3</td>\n",
       "      <td>0</td>\n",
       "      <td>2</td>\n",
       "      <td>17</td>\n",
       "    </tr>\n",
       "  </tbody>\n",
       "</table>\n",
       "</div>"
      ],
      "text/plain": [
       "      venue  batting_team  bowling_team  Total_Boundaries\n",
       "1         7             3             6                27\n",
       "304       7             6             3                38\n",
       "530       8             7             5                36\n",
       "836       8             5             7                24\n",
       "1092      3             0             2                17"
      ]
     },
     "execution_count": 26,
     "metadata": {},
     "output_type": "execute_result"
    }
   ],
   "source": [
    "filtered_df_unique.head()"
   ]
  },
  {
   "cell_type": "code",
   "execution_count": 27,
   "id": "96d17e6c",
   "metadata": {},
   "outputs": [],
   "source": [
    "X = filtered_df_unique.drop(columns='Total_Boundaries')\n",
    "y = filtered_df_unique['Total_Boundaries']"
   ]
  },
  {
   "cell_type": "code",
   "execution_count": 28,
   "id": "4324ff3f",
   "metadata": {},
   "outputs": [],
   "source": [
    "from sklearn.model_selection import train_test_split\n",
    "X_train,X_test,y_train,y_test = train_test_split(X,y,random_state=42)"
   ]
  },
  {
   "cell_type": "markdown",
   "id": "79ee1a17",
   "metadata": {},
   "source": [
    "### Applying Ridge regression on my data to predict the boundaries of final match"
   ]
  },
  {
   "cell_type": "code",
   "execution_count": 30,
   "id": "d74a29db",
   "metadata": {},
   "outputs": [],
   "source": [
    "from sklearn.linear_model import Ridge\n",
    "import numpy as np\n",
    "from sklearn.model_selection import GridSearchCV\n",
    "from sklearn.metrics import mean_squared_error"
   ]
  },
  {
   "cell_type": "code",
   "execution_count": 31,
   "id": "15968a2d",
   "metadata": {},
   "outputs": [],
   "source": [
    "alphas = [0.001, 0.01, 0.1, 1.0, 10.0,3.0]\n",
    "param_grid = {'alpha': alphas}\n",
    "\n",
    "grid_search = GridSearchCV(Ridge(), param_grid, cv=5)\n",
    "grid_search.fit(X_train, y_train)\n",
    "\n",
    "best_alpha = grid_search.best_params_['alpha']\n",
    "best_ridge = grid_search.best_estimator_\n",
    "\n"
   ]
  },
  {
   "cell_type": "code",
   "execution_count": 34,
   "id": "2555677a",
   "metadata": {},
   "outputs": [
    {
     "data": {
      "text/plain": [
       "10.0"
      ]
     },
     "execution_count": 34,
     "metadata": {},
     "output_type": "execute_result"
    }
   ],
   "source": [
    "best_alpha"
   ]
  },
  {
   "cell_type": "code",
   "execution_count": 35,
   "id": "55847af3",
   "metadata": {},
   "outputs": [
    {
     "data": {
      "text/html": [
       "<style>#sk-container-id-1 {color: black;}#sk-container-id-1 pre{padding: 0;}#sk-container-id-1 div.sk-toggleable {background-color: white;}#sk-container-id-1 label.sk-toggleable__label {cursor: pointer;display: block;width: 100%;margin-bottom: 0;padding: 0.3em;box-sizing: border-box;text-align: center;}#sk-container-id-1 label.sk-toggleable__label-arrow:before {content: \"▸\";float: left;margin-right: 0.25em;color: #696969;}#sk-container-id-1 label.sk-toggleable__label-arrow:hover:before {color: black;}#sk-container-id-1 div.sk-estimator:hover label.sk-toggleable__label-arrow:before {color: black;}#sk-container-id-1 div.sk-toggleable__content {max-height: 0;max-width: 0;overflow: hidden;text-align: left;background-color: #f0f8ff;}#sk-container-id-1 div.sk-toggleable__content pre {margin: 0.2em;color: black;border-radius: 0.25em;background-color: #f0f8ff;}#sk-container-id-1 input.sk-toggleable__control:checked~div.sk-toggleable__content {max-height: 200px;max-width: 100%;overflow: auto;}#sk-container-id-1 input.sk-toggleable__control:checked~label.sk-toggleable__label-arrow:before {content: \"▾\";}#sk-container-id-1 div.sk-estimator input.sk-toggleable__control:checked~label.sk-toggleable__label {background-color: #d4ebff;}#sk-container-id-1 div.sk-label input.sk-toggleable__control:checked~label.sk-toggleable__label {background-color: #d4ebff;}#sk-container-id-1 input.sk-hidden--visually {border: 0;clip: rect(1px 1px 1px 1px);clip: rect(1px, 1px, 1px, 1px);height: 1px;margin: -1px;overflow: hidden;padding: 0;position: absolute;width: 1px;}#sk-container-id-1 div.sk-estimator {font-family: monospace;background-color: #f0f8ff;border: 1px dotted black;border-radius: 0.25em;box-sizing: border-box;margin-bottom: 0.5em;}#sk-container-id-1 div.sk-estimator:hover {background-color: #d4ebff;}#sk-container-id-1 div.sk-parallel-item::after {content: \"\";width: 100%;border-bottom: 1px solid gray;flex-grow: 1;}#sk-container-id-1 div.sk-label:hover label.sk-toggleable__label {background-color: #d4ebff;}#sk-container-id-1 div.sk-serial::before {content: \"\";position: absolute;border-left: 1px solid gray;box-sizing: border-box;top: 0;bottom: 0;left: 50%;z-index: 0;}#sk-container-id-1 div.sk-serial {display: flex;flex-direction: column;align-items: center;background-color: white;padding-right: 0.2em;padding-left: 0.2em;position: relative;}#sk-container-id-1 div.sk-item {position: relative;z-index: 1;}#sk-container-id-1 div.sk-parallel {display: flex;align-items: stretch;justify-content: center;background-color: white;position: relative;}#sk-container-id-1 div.sk-item::before, #sk-container-id-1 div.sk-parallel-item::before {content: \"\";position: absolute;border-left: 1px solid gray;box-sizing: border-box;top: 0;bottom: 0;left: 50%;z-index: -1;}#sk-container-id-1 div.sk-parallel-item {display: flex;flex-direction: column;z-index: 1;position: relative;background-color: white;}#sk-container-id-1 div.sk-parallel-item:first-child::after {align-self: flex-end;width: 50%;}#sk-container-id-1 div.sk-parallel-item:last-child::after {align-self: flex-start;width: 50%;}#sk-container-id-1 div.sk-parallel-item:only-child::after {width: 0;}#sk-container-id-1 div.sk-dashed-wrapped {border: 1px dashed gray;margin: 0 0.4em 0.5em 0.4em;box-sizing: border-box;padding-bottom: 0.4em;background-color: white;}#sk-container-id-1 div.sk-label label {font-family: monospace;font-weight: bold;display: inline-block;line-height: 1.2em;}#sk-container-id-1 div.sk-label-container {text-align: center;}#sk-container-id-1 div.sk-container {/* jupyter's `normalize.less` sets `[hidden] { display: none; }` but bootstrap.min.css set `[hidden] { display: none !important; }` so we also need the `!important` here to be able to override the default hidden behavior on the sphinx rendered scikit-learn.org. See: https://github.com/scikit-learn/scikit-learn/issues/21755 */display: inline-block !important;position: relative;}#sk-container-id-1 div.sk-text-repr-fallback {display: none;}</style><div id=\"sk-container-id-1\" class=\"sk-top-container\"><div class=\"sk-text-repr-fallback\"><pre>Ridge(alpha=10.0)</pre><b>In a Jupyter environment, please rerun this cell to show the HTML representation or trust the notebook. <br />On GitHub, the HTML representation is unable to render, please try loading this page with nbviewer.org.</b></div><div class=\"sk-container\" hidden><div class=\"sk-item\"><div class=\"sk-estimator sk-toggleable\"><input class=\"sk-toggleable__control sk-hidden--visually\" id=\"sk-estimator-id-1\" type=\"checkbox\" checked><label for=\"sk-estimator-id-1\" class=\"sk-toggleable__label sk-toggleable__label-arrow\">Ridge</label><div class=\"sk-toggleable__content\"><pre>Ridge(alpha=10.0)</pre></div></div></div></div></div>"
      ],
      "text/plain": [
       "Ridge(alpha=10.0)"
      ]
     },
     "execution_count": 35,
     "metadata": {},
     "output_type": "execute_result"
    }
   ],
   "source": [
    "best_ridge"
   ]
  },
  {
   "cell_type": "code",
   "execution_count": 32,
   "id": "c9316534",
   "metadata": {},
   "outputs": [],
   "source": [
    "y_pred = best_ridge.predict(X_test)\n",
    "rmse = np.sqrt(mean_squared_error(y_test, y_pred))"
   ]
  },
  {
   "cell_type": "code",
   "execution_count": 33,
   "id": "6fd55f14",
   "metadata": {},
   "outputs": [
    {
     "data": {
      "text/plain": [
       "12.436907015754246"
      ]
     },
     "execution_count": 33,
     "metadata": {},
     "output_type": "execute_result"
    }
   ],
   "source": [
    "rmse"
   ]
  },
  {
   "cell_type": "markdown",
   "id": "08f29e04",
   "metadata": {},
   "source": [
    "## We are assuming the final is between India and South Africa in Narendra Modi Stadium, Ahmedabad(pre-decided)."
   ]
  },
  {
   "cell_type": "code",
   "execution_count": 36,
   "id": "2b31eea1",
   "metadata": {},
   "outputs": [
    {
     "name": "stdout",
     "output_type": "stream",
     "text": [
      "Boundaries when India bats: [29.67489908]\n",
      "Boundaries when South Africa bats: [31.55646656]\n",
      "Total Boundaries in whole match: [61.23136564]\n"
     ]
    }
   ],
   "source": [
    "# 4 represents India\n",
    "# 8 represents South Africa\n",
    "# 7 in venue represents Narendra Modi Stadium, Ahmedabad\n",
    "new_data1 = pd.DataFrame({'venue': [7], 'batting_team': [4], 'bowling_team': [8]})\n",
    "new_data2 = pd.DataFrame({'venue': [7], 'batting_team': [8], 'bowling_team': [4]})\n",
    "\n",
    "y_pred1 = best_ridge.predict(new_data1)\n",
    "print(\"Boundaries when India bats:\", y_pred1)\n",
    "y_pred2 = best_ridge.predict(new_data2)\n",
    "print(\"Boundaries when South Africa bats:\",y_pred2)\n",
    "print(\"Total Boundaries in whole match:\", y_pred1+y_pred2)"
   ]
  },
  {
   "cell_type": "markdown",
   "id": "94654430",
   "metadata": {},
   "source": [
    "## According to our model, the Boundaries when India bats against South Africa is around 29(4's and 6's Together) and when South Africa bats against India is around 31(4's and 6's Together). So overall the boundaries will be approximately 60 (4's and 6's Together) in whole match."
   ]
  }
 ],
 "metadata": {
  "kernelspec": {
   "display_name": "Python 3 (ipykernel)",
   "language": "python",
   "name": "python3"
  },
  "language_info": {
   "codemirror_mode": {
    "name": "ipython",
    "version": 3
   },
   "file_extension": ".py",
   "mimetype": "text/x-python",
   "name": "python",
   "nbconvert_exporter": "python",
   "pygments_lexer": "ipython3",
   "version": "3.11.5"
  }
 },
 "nbformat": 4,
 "nbformat_minor": 5
}
