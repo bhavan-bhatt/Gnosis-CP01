{
  "cells": [
    {
      "cell_type": "code",
      "execution_count": 1,
      "metadata": {
        "id": "3uWSYYuqGyh9"
      },
      "outputs": [],
      "source": [
        "import pandas as pd\n",
        "from xgboost import XGBClassifier\n",
        "from sklearn.model_selection import train_test_split\n",
        "import os\n",
        "# import cudf as cd\n",
        "# import cupy as cp\n",
        "# import dask_cudf as dc\n",
        "# from cuml.decomposition import pca\n",
        "import numpy as np"
      ]
    },
    {
      "cell_type": "code",
      "execution_count": null,
      "metadata": {
        "id": "1Jw9YYvKHBtb"
      },
      "outputs": [],
      "source": [
        "# path = '/mnt/h/work_projects/College/DM_Projects/course_project_2/data/archive 1'\n",
        "path = 'H:/work_projects/College/DM_Projects/course_project_2/data/archive 1'\n",
        "dir_list = os.listdir(path)\n",
        "df = pd.DataFrame()\n",
        "for i in dir_list:\n",
        "    if df.empty:\n",
        "        df = pd.read_csv(path + '/' + i, sep='|', na_values='-')\n",
        "    else:\n",
        "        df = pd.concat([pd.read_csv(path + '/' + i, sep='|', na_values='-'), df], axis=0)"
      ]
    },
    {
      "cell_type": "code",
      "execution_count": 3,
      "metadata": {
        "id": "1gR4XtGUO3dv"
      },
      "outputs": [],
      "source": [
        "df = df.drop(columns=['uid', 'local_orig', 'local_resp', 'tunnel_parents', 'id.orig_h', 'id.resp_h'])"
      ]
    },
    {
      "cell_type": "code",
      "execution_count": 4,
      "metadata": {},
      "outputs": [],
      "source": [
        "df['final_label'] = df['label'].astype('string') + '-' + df['detailed-label'].fillna('').astype('string')"
      ]
    },
    {
      "cell_type": "code",
      "execution_count": 5,
      "metadata": {},
      "outputs": [],
      "source": [
        "df = df.drop(['label', 'detailed-label'], axis=1)"
      ]
    },
    {
      "cell_type": "code",
      "execution_count": 6,
      "metadata": {
        "colab": {
          "base_uri": "https://localhost:8080/"
        },
        "id": "t4bCL_hiDd2P",
        "outputId": "486b5ba5-b1ac-44db-a990-0d8a3c474887"
      },
      "outputs": [],
      "source": [
        "df = pd.get_dummies(df, columns=['proto', 'conn_state', 'service'])\n",
        "df['history'] = pd.factorize(df['history'])[0] + 1\n",
        "df['final_label'] = pd.factorize(df['final_label'])[0]"
      ]
    },
    {
      "cell_type": "code",
      "execution_count": 7,
      "metadata": {
        "id": "Bx4EB50uO55R"
      },
      "outputs": [],
      "source": [
        "df['duration'] = df['duration'].astype('float')\n",
        "df['orig_bytes'] = df['orig_bytes'].astype('float')\n",
        "df['resp_bytes'] = df['resp_bytes'].astype('float')"
      ]
    },
    {
      "cell_type": "code",
      "execution_count": 8,
      "metadata": {
        "colab": {
          "base_uri": "https://localhost:8080/",
          "height": 255
        },
        "id": "kT8VSzHIKgRh",
        "outputId": "ddeebe83-386f-4162-c78c-29fc1f21a9f3"
      },
      "outputs": [
        {
          "data": {
            "text/html": [
              "<div>\n",
              "<style scoped>\n",
              "    .dataframe tbody tr th:only-of-type {\n",
              "        vertical-align: middle;\n",
              "    }\n",
              "\n",
              "    .dataframe tbody tr th {\n",
              "        vertical-align: top;\n",
              "    }\n",
              "\n",
              "    .dataframe thead th {\n",
              "        text-align: right;\n",
              "    }\n",
              "</style>\n",
              "<table border=\"1\" class=\"dataframe\">\n",
              "  <thead>\n",
              "    <tr style=\"text-align: right;\">\n",
              "      <th></th>\n",
              "      <th>ts</th>\n",
              "      <th>id.orig_p</th>\n",
              "      <th>id.resp_p</th>\n",
              "      <th>duration</th>\n",
              "      <th>orig_bytes</th>\n",
              "      <th>resp_bytes</th>\n",
              "      <th>missed_bytes</th>\n",
              "      <th>history</th>\n",
              "      <th>orig_pkts</th>\n",
              "      <th>orig_ip_bytes</th>\n",
              "      <th>...</th>\n",
              "      <th>conn_state_S3</th>\n",
              "      <th>conn_state_SF</th>\n",
              "      <th>conn_state_SH</th>\n",
              "      <th>conn_state_SHR</th>\n",
              "      <th>service_dhcp</th>\n",
              "      <th>service_dns</th>\n",
              "      <th>service_http</th>\n",
              "      <th>service_irc</th>\n",
              "      <th>service_ssh</th>\n",
              "      <th>service_ssl</th>\n",
              "    </tr>\n",
              "  </thead>\n",
              "  <tbody>\n",
              "    <tr>\n",
              "      <th>0</th>\n",
              "      <td>1.532510e+09</td>\n",
              "      <td>40008.0</td>\n",
              "      <td>123.0</td>\n",
              "      <td>0.004751</td>\n",
              "      <td>48.0</td>\n",
              "      <td>48.0</td>\n",
              "      <td>0.0</td>\n",
              "      <td>1</td>\n",
              "      <td>1.0</td>\n",
              "      <td>76.0</td>\n",
              "      <td>...</td>\n",
              "      <td>False</td>\n",
              "      <td>True</td>\n",
              "      <td>False</td>\n",
              "      <td>False</td>\n",
              "      <td>False</td>\n",
              "      <td>False</td>\n",
              "      <td>False</td>\n",
              "      <td>False</td>\n",
              "      <td>False</td>\n",
              "      <td>False</td>\n",
              "    </tr>\n",
              "    <tr>\n",
              "      <th>1</th>\n",
              "      <td>1.532511e+09</td>\n",
              "      <td>57849.0</td>\n",
              "      <td>22.0</td>\n",
              "      <td>108.421563</td>\n",
              "      <td>2376.0</td>\n",
              "      <td>96.0</td>\n",
              "      <td>0.0</td>\n",
              "      <td>2</td>\n",
              "      <td>5.0</td>\n",
              "      <td>332.0</td>\n",
              "      <td>...</td>\n",
              "      <td>False</td>\n",
              "      <td>False</td>\n",
              "      <td>False</td>\n",
              "      <td>False</td>\n",
              "      <td>False</td>\n",
              "      <td>False</td>\n",
              "      <td>False</td>\n",
              "      <td>False</td>\n",
              "      <td>False</td>\n",
              "      <td>False</td>\n",
              "    </tr>\n",
              "    <tr>\n",
              "      <th>2</th>\n",
              "      <td>1.532512e+09</td>\n",
              "      <td>59670.0</td>\n",
              "      <td>22.0</td>\n",
              "      <td>0.001244</td>\n",
              "      <td>21.0</td>\n",
              "      <td>0.0</td>\n",
              "      <td>0.0</td>\n",
              "      <td>3</td>\n",
              "      <td>3.0</td>\n",
              "      <td>189.0</td>\n",
              "      <td>...</td>\n",
              "      <td>False</td>\n",
              "      <td>False</td>\n",
              "      <td>False</td>\n",
              "      <td>False</td>\n",
              "      <td>False</td>\n",
              "      <td>False</td>\n",
              "      <td>False</td>\n",
              "      <td>False</td>\n",
              "      <td>False</td>\n",
              "      <td>False</td>\n",
              "    </tr>\n",
              "    <tr>\n",
              "      <th>3</th>\n",
              "      <td>1.532512e+09</td>\n",
              "      <td>59701.0</td>\n",
              "      <td>22.0</td>\n",
              "      <td>0.000738</td>\n",
              "      <td>21.0</td>\n",
              "      <td>0.0</td>\n",
              "      <td>0.0</td>\n",
              "      <td>3</td>\n",
              "      <td>3.0</td>\n",
              "      <td>189.0</td>\n",
              "      <td>...</td>\n",
              "      <td>False</td>\n",
              "      <td>False</td>\n",
              "      <td>False</td>\n",
              "      <td>False</td>\n",
              "      <td>False</td>\n",
              "      <td>False</td>\n",
              "      <td>False</td>\n",
              "      <td>False</td>\n",
              "      <td>False</td>\n",
              "      <td>False</td>\n",
              "    </tr>\n",
              "    <tr>\n",
              "      <th>4</th>\n",
              "      <td>1.532512e+09</td>\n",
              "      <td>36199.0</td>\n",
              "      <td>53.0</td>\n",
              "      <td>NaN</td>\n",
              "      <td>NaN</td>\n",
              "      <td>NaN</td>\n",
              "      <td>0.0</td>\n",
              "      <td>4</td>\n",
              "      <td>1.0</td>\n",
              "      <td>58.0</td>\n",
              "      <td>...</td>\n",
              "      <td>False</td>\n",
              "      <td>False</td>\n",
              "      <td>False</td>\n",
              "      <td>False</td>\n",
              "      <td>False</td>\n",
              "      <td>True</td>\n",
              "      <td>False</td>\n",
              "      <td>False</td>\n",
              "      <td>False</td>\n",
              "      <td>False</td>\n",
              "    </tr>\n",
              "  </tbody>\n",
              "</table>\n",
              "<p>5 rows × 35 columns</p>\n",
              "</div>"
            ],
            "text/plain": [
              "             ts  id.orig_p  id.resp_p    duration  orig_bytes  resp_bytes  \\\n",
              "0  1.532510e+09    40008.0      123.0    0.004751        48.0        48.0   \n",
              "1  1.532511e+09    57849.0       22.0  108.421563      2376.0        96.0   \n",
              "2  1.532512e+09    59670.0       22.0    0.001244        21.0         0.0   \n",
              "3  1.532512e+09    59701.0       22.0    0.000738        21.0         0.0   \n",
              "4  1.532512e+09    36199.0       53.0         NaN         NaN         NaN   \n",
              "\n",
              "   missed_bytes  history  orig_pkts  orig_ip_bytes  ...  conn_state_S3  \\\n",
              "0           0.0        1        1.0           76.0  ...          False   \n",
              "1           0.0        2        5.0          332.0  ...          False   \n",
              "2           0.0        3        3.0          189.0  ...          False   \n",
              "3           0.0        3        3.0          189.0  ...          False   \n",
              "4           0.0        4        1.0           58.0  ...          False   \n",
              "\n",
              "   conn_state_SF  conn_state_SH  conn_state_SHR  service_dhcp  service_dns  \\\n",
              "0           True          False           False         False        False   \n",
              "1          False          False           False         False        False   \n",
              "2          False          False           False         False        False   \n",
              "3          False          False           False         False        False   \n",
              "4          False          False           False         False         True   \n",
              "\n",
              "   service_http  service_irc  service_ssh  service_ssl  \n",
              "0         False        False        False        False  \n",
              "1         False        False        False        False  \n",
              "2         False        False        False        False  \n",
              "3         False        False        False        False  \n",
              "4         False        False        False        False  \n",
              "\n",
              "[5 rows x 35 columns]"
            ]
          },
          "execution_count": 8,
          "metadata": {},
          "output_type": "execute_result"
        }
      ],
      "source": [
        "df.head()"
      ]
    },
    {
      "cell_type": "code",
      "execution_count": 9,
      "metadata": {
        "colab": {
          "base_uri": "https://localhost:8080/"
        },
        "id": "VuGN8FExFc8V",
        "outputId": "1a43e8a5-5bcd-49dd-c822-1903bcd1bd7a"
      },
      "outputs": [
        {
          "data": {
            "text/plain": [
              "(25000363, 35)"
            ]
          },
          "execution_count": 9,
          "metadata": {},
          "output_type": "execute_result"
        }
      ],
      "source": [
        "df.shape"
      ]
    },
    {
      "cell_type": "code",
      "execution_count": 10,
      "metadata": {
        "id": "dY_YlKnIQVav"
      },
      "outputs": [],
      "source": [
        "x = df.drop(columns=['final_label'])\n",
        "y = df['final_label']\n",
        "del df"
      ]
    },
    {
      "cell_type": "code",
      "execution_count": 11,
      "metadata": {
        "id": "YB4Un5XTC5g1"
      },
      "outputs": [],
      "source": [
        "x_train, x_test, y_train, y_test = train_test_split(x, y)\n",
        "del x\n",
        "del y"
      ]
    },
    {
      "cell_type": "code",
      "execution_count": null,
      "metadata": {
        "id": "i0wrnw_TAdn4"
      },
      "outputs": [],
      "source": [
        "model = XGBClassifier(tree_method=\"hist\", device=\"cuda\", metric='multi:softmax', num_class=13)\n",
        "model.fit(x_train, y_train)\n",
        "predictions = model.predict(x_test)"
      ]
    },
    {
      "cell_type": "code",
      "execution_count": 17,
      "metadata": {
        "id": "RexkfGhzcver"
      },
      "outputs": [],
      "source": [
        "del x_train\n",
        "del y_train"
      ]
    },
    {
      "cell_type": "code",
      "execution_count": 24,
      "metadata": {},
      "outputs": [
        {
          "data": {
            "text/plain": [
              "final_label\n",
              "0     2193252\n",
              "1     1760486\n",
              "3     1444883\n",
              "4      847105\n",
              "9        1639\n",
              "11       1502\n",
              "5         727\n",
              "2         250\n",
              "6         226\n",
              "12         12\n",
              "10          5\n",
              "8           3\n",
              "7           1\n",
              "Name: count, dtype: int64"
            ]
          },
          "execution_count": 24,
          "metadata": {},
          "output_type": "execute_result"
        }
      ],
      "source": [
        "y_test.value_counts()"
      ]
    },
    {
      "cell_type": "code",
      "execution_count": null,
      "metadata": {
        "id": "f5tET89Mckw3"
      },
      "outputs": [],
      "source": [
        "predictions = model.predict(x_test)"
      ]
    },
    {
      "cell_type": "code",
      "execution_count": 20,
      "metadata": {
        "id": "A1nTWwRKDXPM"
      },
      "outputs": [
        {
          "name": "stdout",
          "output_type": "stream",
          "text": [
            "0.9998544021199052\n"
          ]
        }
      ],
      "source": [
        "from sklearn.metrics import accuracy_score\n",
        "print(accuracy_score(predictions, y_test))"
      ]
    },
    {
      "cell_type": "code",
      "execution_count": null,
      "metadata": {},
      "outputs": [
        {
          "name": "stdout",
          "output_type": "stream",
          "text": [
            "0.9998544021199052\n"
          ]
        }
      ],
      "source": [
        "from sklearn.metrics import accuracy_score\n",
        "print(accuracy_score(predictions, y_test))"
      ]
    },
    {
      "cell_type": "code",
      "execution_count": 21,
      "metadata": {
        "id": "V7TB026kbql3"
      },
      "outputs": [
        {
          "data": {
            "text/plain": [
              "array([0.9997547 , 0.99999489, 0.784     , 1.        , 0.99999882,\n",
              "       0.8954608 , 0.        , 1.        , 1.        , 0.99938987,\n",
              "       0.4       , 0.99866844, 1.        ])"
            ]
          },
          "execution_count": 21,
          "metadata": {},
          "output_type": "execute_result"
        }
      ],
      "source": [
        "from sklearn.metrics import precision_score\n",
        "precision_score(predictions, y_test.to_numpy(), average=None)"
      ]
    },
    {
      "cell_type": "code",
      "execution_count": 22,
      "metadata": {
        "id": "7H8yWdbvb7eZ"
      },
      "outputs": [
        {
          "data": {
            "text/plain": [
              "array([0.99987369, 0.99984495, 0.75095785, 0.99999965, 0.99986544,\n",
              "       0.91048951, 0.        , 1.        , 1.        , 0.99938987,\n",
              "       0.57142857, 0.99933378, 1.        ])"
            ]
          },
          "execution_count": 22,
          "metadata": {},
          "output_type": "execute_result"
        }
      ],
      "source": [
        "from sklearn.metrics import f1_score\n",
        "f1_score(predictions, y_test.to_numpy(), average=None)"
      ]
    },
    {
      "cell_type": "code",
      "execution_count": 23,
      "metadata": {
        "id": "zE_5ZsnWcVmf"
      },
      "outputs": [
        {
          "name": "stderr",
          "output_type": "stream",
          "text": [
            "c:\\Users\\prath\\AppData\\Local\\Programs\\Python\\Python311\\Lib\\site-packages\\sklearn\\metrics\\_classification.py:1469: UndefinedMetricWarning: Recall is ill-defined and being set to 0.0 in labels with no true samples. Use `zero_division` parameter to control this behavior.\n",
            "  _warn_prf(average, modifier, msg_start, len(result))\n"
          ]
        },
        {
          "data": {
            "text/plain": [
              "array([0.9999927 , 0.99969506, 0.72058824, 0.99999931, 0.9997321 ,\n",
              "       0.92603129, 0.        , 1.        , 1.        , 0.99938987,\n",
              "       1.        , 1.        , 1.        ])"
            ]
          },
          "execution_count": 23,
          "metadata": {},
          "output_type": "execute_result"
        }
      ],
      "source": [
        "from sklearn.metrics import recall_score\n",
        "recall_score(predictions, y_test.to_numpy(), average=None)"
      ]
    }
  ],
  "metadata": {
    "accelerator": "GPU",
    "colab": {
      "provenance": []
    },
    "kernelspec": {
      "display_name": "Python 3",
      "name": "python3"
    },
    "language_info": {
      "codemirror_mode": {
        "name": "ipython",
        "version": 3
      },
      "file_extension": ".py",
      "mimetype": "text/x-python",
      "name": "python",
      "nbconvert_exporter": "python",
      "pygments_lexer": "ipython3",
      "version": "3.11.5"
    }
  },
  "nbformat": 4,
  "nbformat_minor": 0
}
