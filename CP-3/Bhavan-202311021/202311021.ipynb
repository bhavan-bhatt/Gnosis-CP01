{
 "cells": [
  {
   "cell_type": "code",
   "execution_count": 2,
   "id": "22a7b083",
   "metadata": {},
   "outputs": [],
   "source": [
    "import pandas as pd\n",
    "import numpy as np\n",
    "import matplotlib.pyplot as plt"
   ]
  },
  {
   "cell_type": "code",
   "execution_count": 3,
   "id": "fecda501",
   "metadata": {},
   "outputs": [],
   "source": [
    "data = pd.read_csv('data/odi_Matches_Data.csv')"
   ]
  },
  {
   "cell_type": "code",
   "execution_count": 4,
   "id": "eaffa53a",
   "metadata": {},
   "outputs": [
    {
     "data": {
      "text/plain": [
       "Index(['ODI Match No', 'Match ID', 'Match Name', 'Series ID', 'Series Name',\n",
       "       'Match Date', 'Match Format', 'Team1 ID', 'Team1 Name', 'Team1 Captain',\n",
       "       'Team1 Runs Scored', 'Team1 Wickets Fell', 'Team1 Extras Rec',\n",
       "       'Team2 ID', 'Team2 Name', 'Team2 Captain', 'Team2 Runs Scored',\n",
       "       'Team2 Wickets Fell', 'Team2 Extras Rec', 'Match Venue (Stadium)',\n",
       "       'Match Venue (City)', 'Match Venue (Country)', 'Umpire 1', 'Umpire 2',\n",
       "       'Match Referee', 'Toss Winner', 'Toss Winner Choice', 'Match Winner',\n",
       "       'Match Result Text', 'MOM Player', 'Team1 Playing 11',\n",
       "       'Team2 Playing 11', 'Debut Players'],\n",
       "      dtype='object')"
      ]
     },
     "execution_count": 4,
     "metadata": {},
     "output_type": "execute_result"
    }
   ],
   "source": [
    "data.columns"
   ]
  },
  {
   "cell_type": "code",
   "execution_count": 5,
   "id": "a8b4e83b",
   "metadata": {},
   "outputs": [
    {
     "data": {
      "text/plain": [
       "(4686, 33)"
      ]
     },
     "execution_count": 5,
     "metadata": {},
     "output_type": "execute_result"
    }
   ],
   "source": [
    "data.shape"
   ]
  },
  {
   "cell_type": "code",
   "execution_count": 6,
   "id": "0b1ff690",
   "metadata": {},
   "outputs": [
    {
     "data": {
      "text/html": [
       "<div>\n",
       "<style scoped>\n",
       "    .dataframe tbody tr th:only-of-type {\n",
       "        vertical-align: middle;\n",
       "    }\n",
       "\n",
       "    .dataframe tbody tr th {\n",
       "        vertical-align: top;\n",
       "    }\n",
       "\n",
       "    .dataframe thead th {\n",
       "        text-align: right;\n",
       "    }\n",
       "</style>\n",
       "<table border=\"1\" class=\"dataframe\">\n",
       "  <thead>\n",
       "    <tr style=\"text-align: right;\">\n",
       "      <th></th>\n",
       "      <th>ODI Match No</th>\n",
       "      <th>Match ID</th>\n",
       "      <th>Match Name</th>\n",
       "      <th>Series ID</th>\n",
       "      <th>Series Name</th>\n",
       "      <th>Match Date</th>\n",
       "      <th>Match Format</th>\n",
       "      <th>Team1 ID</th>\n",
       "      <th>Team1 Name</th>\n",
       "      <th>Team1 Captain</th>\n",
       "      <th>...</th>\n",
       "      <th>Umpire 2</th>\n",
       "      <th>Match Referee</th>\n",
       "      <th>Toss Winner</th>\n",
       "      <th>Toss Winner Choice</th>\n",
       "      <th>Match Winner</th>\n",
       "      <th>Match Result Text</th>\n",
       "      <th>MOM Player</th>\n",
       "      <th>Team1 Playing 11</th>\n",
       "      <th>Team2 Playing 11</th>\n",
       "      <th>Debut Players</th>\n",
       "    </tr>\n",
       "  </thead>\n",
       "  <tbody>\n",
       "    <tr>\n",
       "      <th>0</th>\n",
       "      <td>488</td>\n",
       "      <td>65425</td>\n",
       "      <td>Australia Vs New Zealand 4Th Match</td>\n",
       "      <td>60879.0</td>\n",
       "      <td>Benson &amp; Hedges World Series Cup Australia, Ne...</td>\n",
       "      <td>1988-01-07</td>\n",
       "      <td>ODI</td>\n",
       "      <td>2.0</td>\n",
       "      <td>Australia</td>\n",
       "      <td>1572.0</td>\n",
       "      <td>...</td>\n",
       "      <td>RC Bailhache</td>\n",
       "      <td>NaN</td>\n",
       "      <td>Australia</td>\n",
       "      <td>bat</td>\n",
       "      <td>Australia</td>\n",
       "      <td>Australia won by 6 runs</td>\n",
       "      <td>1795.0</td>\n",
       "      <td>['1767', '1793', '1754', '1572', '1871', '1795...</td>\n",
       "      <td>['1550', '1863', '1861', '1669', '1698', '1846...</td>\n",
       "      <td>[]</td>\n",
       "    </tr>\n",
       "    <tr>\n",
       "      <th>1</th>\n",
       "      <td>492</td>\n",
       "      <td>65428</td>\n",
       "      <td>New Zealand Vs Sri Lanka 7Th Match</td>\n",
       "      <td>60879.0</td>\n",
       "      <td>Benson &amp; Hedges World Series Cup Australia, Ne...</td>\n",
       "      <td>1988-01-12</td>\n",
       "      <td>ODI</td>\n",
       "      <td>5.0</td>\n",
       "      <td>New Zealand</td>\n",
       "      <td>1698.0</td>\n",
       "      <td>...</td>\n",
       "      <td>SG Randell</td>\n",
       "      <td>NaN</td>\n",
       "      <td>Sri Lanka</td>\n",
       "      <td>bowl</td>\n",
       "      <td>Sri Lanka</td>\n",
       "      <td>Sri Lanka won by 4 wickets (with 21 balls rema...</td>\n",
       "      <td>1810.0</td>\n",
       "      <td>['1777', '1550', '1698', '1669', '1861', '1846...</td>\n",
       "      <td>['1810', '1864', '1789', '1762', '1666', '1664...</td>\n",
       "      <td>[]</td>\n",
       "    </tr>\n",
       "    <tr>\n",
       "      <th>2</th>\n",
       "      <td>495</td>\n",
       "      <td>65431</td>\n",
       "      <td>Australia Vs New Zealand 10Th Match</td>\n",
       "      <td>60879.0</td>\n",
       "      <td>Benson &amp; Hedges World Series Cup Australia, Ne...</td>\n",
       "      <td>1988-01-17</td>\n",
       "      <td>ODI</td>\n",
       "      <td>5.0</td>\n",
       "      <td>New Zealand</td>\n",
       "      <td>1698.0</td>\n",
       "      <td>...</td>\n",
       "      <td>AR Crafter</td>\n",
       "      <td>NaN</td>\n",
       "      <td>Australia</td>\n",
       "      <td>bowl</td>\n",
       "      <td>Australia</td>\n",
       "      <td>Australia won by 5 wickets (with 64 balls rema...</td>\n",
       "      <td>1795.0</td>\n",
       "      <td>['1550', '1863', '1698', '1669', '1407', '1790...</td>\n",
       "      <td>['1793', '1767', '1773', '1754', '1871', '1795...</td>\n",
       "      <td>['1790']</td>\n",
       "    </tr>\n",
       "    <tr>\n",
       "      <th>3</th>\n",
       "      <td>496</td>\n",
       "      <td>65432</td>\n",
       "      <td>Australia Vs Sri Lanka 11Th Match</td>\n",
       "      <td>60879.0</td>\n",
       "      <td>Benson &amp; Hedges World Series Cup Australia, Ne...</td>\n",
       "      <td>1988-01-19</td>\n",
       "      <td>ODI</td>\n",
       "      <td>8.0</td>\n",
       "      <td>Sri Lanka</td>\n",
       "      <td>1664.0</td>\n",
       "      <td>...</td>\n",
       "      <td>TA Prue</td>\n",
       "      <td>NaN</td>\n",
       "      <td>Australia</td>\n",
       "      <td>bowl</td>\n",
       "      <td>Australia</td>\n",
       "      <td>Australia won by 3 wickets (with 3 balls remai...</td>\n",
       "      <td>1871.0</td>\n",
       "      <td>['1810', '1864', '1789', '1753', '1762', '1666...</td>\n",
       "      <td>['1767', '1793', '1754', '1871', '1795', '1572...</td>\n",
       "      <td>['1753']</td>\n",
       "    </tr>\n",
       "    <tr>\n",
       "      <th>4</th>\n",
       "      <td>508</td>\n",
       "      <td>64326</td>\n",
       "      <td>New Zealand Vs England 3Rd Odi</td>\n",
       "      <td>60882.0</td>\n",
       "      <td>England tour of New Zealand  - 1988 (1987/88)</td>\n",
       "      <td>1988-03-16</td>\n",
       "      <td>ODI</td>\n",
       "      <td>1.0</td>\n",
       "      <td>England</td>\n",
       "      <td>1543.0</td>\n",
       "      <td>...</td>\n",
       "      <td>SJ Woodward</td>\n",
       "      <td>NaN</td>\n",
       "      <td>New Zealand</td>\n",
       "      <td>bowl</td>\n",
       "      <td>New Zealand</td>\n",
       "      <td>New Zealand won by 7 wickets (with 21 balls re...</td>\n",
       "      <td>1550.0</td>\n",
       "      <td>['1758', '1629', '1770', '1850', '1543', '1865...</td>\n",
       "      <td>['1550', '1883', '1863', '1882', '1777', '1918...</td>\n",
       "      <td>['1883']</td>\n",
       "    </tr>\n",
       "  </tbody>\n",
       "</table>\n",
       "<p>5 rows × 33 columns</p>\n",
       "</div>"
      ],
      "text/plain": [
       "   ODI Match No  Match ID                           Match Name  Series ID  \\\n",
       "0           488     65425   Australia Vs New Zealand 4Th Match    60879.0   \n",
       "1           492     65428   New Zealand Vs Sri Lanka 7Th Match    60879.0   \n",
       "2           495     65431  Australia Vs New Zealand 10Th Match    60879.0   \n",
       "3           496     65432    Australia Vs Sri Lanka 11Th Match    60879.0   \n",
       "4           508     64326       New Zealand Vs England 3Rd Odi    60882.0   \n",
       "\n",
       "                                         Series Name  Match Date Match Format  \\\n",
       "0  Benson & Hedges World Series Cup Australia, Ne...  1988-01-07          ODI   \n",
       "1  Benson & Hedges World Series Cup Australia, Ne...  1988-01-12          ODI   \n",
       "2  Benson & Hedges World Series Cup Australia, Ne...  1988-01-17          ODI   \n",
       "3  Benson & Hedges World Series Cup Australia, Ne...  1988-01-19          ODI   \n",
       "4      England tour of New Zealand  - 1988 (1987/88)  1988-03-16          ODI   \n",
       "\n",
       "   Team1 ID   Team1 Name  Team1 Captain  ...      Umpire 2  Match Referee  \\\n",
       "0       2.0    Australia         1572.0  ...  RC Bailhache            NaN   \n",
       "1       5.0  New Zealand         1698.0  ...    SG Randell            NaN   \n",
       "2       5.0  New Zealand         1698.0  ...    AR Crafter            NaN   \n",
       "3       8.0    Sri Lanka         1664.0  ...       TA Prue            NaN   \n",
       "4       1.0      England         1543.0  ...   SJ Woodward            NaN   \n",
       "\n",
       "   Toss Winner  Toss Winner Choice Match Winner  \\\n",
       "0    Australia                 bat    Australia   \n",
       "1    Sri Lanka                bowl    Sri Lanka   \n",
       "2    Australia                bowl    Australia   \n",
       "3    Australia                bowl    Australia   \n",
       "4  New Zealand                bowl  New Zealand   \n",
       "\n",
       "                                   Match Result Text  MOM Player  \\\n",
       "0                            Australia won by 6 runs      1795.0   \n",
       "1  Sri Lanka won by 4 wickets (with 21 balls rema...      1810.0   \n",
       "2  Australia won by 5 wickets (with 64 balls rema...      1795.0   \n",
       "3  Australia won by 3 wickets (with 3 balls remai...      1871.0   \n",
       "4  New Zealand won by 7 wickets (with 21 balls re...      1550.0   \n",
       "\n",
       "                                    Team1 Playing 11  \\\n",
       "0  ['1767', '1793', '1754', '1572', '1871', '1795...   \n",
       "1  ['1777', '1550', '1698', '1669', '1861', '1846...   \n",
       "2  ['1550', '1863', '1698', '1669', '1407', '1790...   \n",
       "3  ['1810', '1864', '1789', '1753', '1762', '1666...   \n",
       "4  ['1758', '1629', '1770', '1850', '1543', '1865...   \n",
       "\n",
       "                                    Team2 Playing 11 Debut Players  \n",
       "0  ['1550', '1863', '1861', '1669', '1698', '1846...            []  \n",
       "1  ['1810', '1864', '1789', '1762', '1666', '1664...            []  \n",
       "2  ['1793', '1767', '1773', '1754', '1871', '1795...      ['1790']  \n",
       "3  ['1767', '1793', '1754', '1871', '1795', '1572...      ['1753']  \n",
       "4  ['1550', '1883', '1863', '1882', '1777', '1918...      ['1883']  \n",
       "\n",
       "[5 rows x 33 columns]"
      ]
     },
     "execution_count": 6,
     "metadata": {},
     "output_type": "execute_result"
    }
   ],
   "source": [
    "data.head()"
   ]
  },
  {
   "cell_type": "code",
   "execution_count": 7,
   "id": "10985131",
   "metadata": {},
   "outputs": [
    {
     "data": {
      "text/plain": [
       "array(['ODI', nan], dtype=object)"
      ]
     },
     "execution_count": 7,
     "metadata": {},
     "output_type": "execute_result"
    }
   ],
   "source": [
    "data['Match Format'].unique()"
   ]
  },
  {
   "cell_type": "code",
   "execution_count": 8,
   "id": "335ee133",
   "metadata": {
    "scrolled": true
   },
   "outputs": [
    {
     "data": {
      "text/plain": [
       "ODI    4685\n",
       "Name: Match Format, dtype: int64"
      ]
     },
     "execution_count": 8,
     "metadata": {},
     "output_type": "execute_result"
    }
   ],
   "source": [
    "data['Match Format'].value_counts()"
   ]
  },
  {
   "cell_type": "code",
   "execution_count": 9,
   "id": "8c8bdf1f",
   "metadata": {},
   "outputs": [],
   "source": [
    "info = pd.read_csv('data/players_info.csv')"
   ]
  },
  {
   "cell_type": "code",
   "execution_count": 10,
   "id": "f6cd8ceb",
   "metadata": {},
   "outputs": [
    {
     "data": {
      "text/html": [
       "<div>\n",
       "<style scoped>\n",
       "    .dataframe tbody tr th:only-of-type {\n",
       "        vertical-align: middle;\n",
       "    }\n",
       "\n",
       "    .dataframe tbody tr th {\n",
       "        vertical-align: top;\n",
       "    }\n",
       "\n",
       "    .dataframe thead th {\n",
       "        text-align: right;\n",
       "    }\n",
       "</style>\n",
       "<table border=\"1\" class=\"dataframe\">\n",
       "  <thead>\n",
       "    <tr style=\"text-align: right;\">\n",
       "      <th></th>\n",
       "      <th>player_id</th>\n",
       "      <th>player_object_id</th>\n",
       "      <th>player_name</th>\n",
       "      <th>dob</th>\n",
       "      <th>dod</th>\n",
       "      <th>gender</th>\n",
       "      <th>batting_style</th>\n",
       "      <th>bowling_style</th>\n",
       "      <th>country_id</th>\n",
       "      <th>image_url</th>\n",
       "      <th>image_metadata</th>\n",
       "    </tr>\n",
       "  </thead>\n",
       "  <tbody>\n",
       "    <tr>\n",
       "      <th>0</th>\n",
       "      <td>93957</td>\n",
       "      <td>1046619</td>\n",
       "      <td>Avinash Pai</td>\n",
       "      <td>1982-01-24</td>\n",
       "      <td>NaN</td>\n",
       "      <td>M</td>\n",
       "      <td>right-hand bat</td>\n",
       "      <td>right-arm offbreak</td>\n",
       "      <td>18.0</td>\n",
       "      <td>NaN</td>\n",
       "      <td>NaN</td>\n",
       "    </tr>\n",
       "    <tr>\n",
       "      <th>1</th>\n",
       "      <td>2182</td>\n",
       "      <td>51462</td>\n",
       "      <td>Sherwin Campbell</td>\n",
       "      <td>1970-11-01</td>\n",
       "      <td>NaN</td>\n",
       "      <td>M</td>\n",
       "      <td>right-hand bat</td>\n",
       "      <td>right-arm medium</td>\n",
       "      <td>4.0</td>\n",
       "      <td>https://img1.hscicdn.com/image/upload/f_auto,t...</td>\n",
       "      <td>{'id': 326616, 'url': '/db/PICTURES/CMS/326600...</td>\n",
       "    </tr>\n",
       "    <tr>\n",
       "      <th>2</th>\n",
       "      <td>48391</td>\n",
       "      <td>56194</td>\n",
       "      <td>Tamim Iqbal</td>\n",
       "      <td>1989-03-20</td>\n",
       "      <td>NaN</td>\n",
       "      <td>M</td>\n",
       "      <td>left-hand bat</td>\n",
       "      <td>NaN</td>\n",
       "      <td>25.0</td>\n",
       "      <td>https://img1.hscicdn.com/image/upload/f_auto,t...</td>\n",
       "      <td>{'id': 303166, 'url': '/db/PICTURES/CMS/303100...</td>\n",
       "    </tr>\n",
       "    <tr>\n",
       "      <th>3</th>\n",
       "      <td>2198</td>\n",
       "      <td>55935</td>\n",
       "      <td>Javed Omar</td>\n",
       "      <td>1976-11-25</td>\n",
       "      <td>NaN</td>\n",
       "      <td>M</td>\n",
       "      <td>right-hand bat</td>\n",
       "      <td>legbreak</td>\n",
       "      <td>25.0</td>\n",
       "      <td>https://img1.hscicdn.com/image/upload/f_auto,t...</td>\n",
       "      <td>{'id': 302990, 'url': '/db/PICTURES/CMS/302900...</td>\n",
       "    </tr>\n",
       "    <tr>\n",
       "      <th>4</th>\n",
       "      <td>52290</td>\n",
       "      <td>298438</td>\n",
       "      <td>Jason Roy</td>\n",
       "      <td>1990-07-21</td>\n",
       "      <td>NaN</td>\n",
       "      <td>M</td>\n",
       "      <td>right-hand bat</td>\n",
       "      <td>NaN</td>\n",
       "      <td>1.0</td>\n",
       "      <td>https://img1.hscicdn.com/image/upload/f_auto,t...</td>\n",
       "      <td>{'id': 303963, 'url': '/db/PICTURES/CMS/303900...</td>\n",
       "    </tr>\n",
       "  </tbody>\n",
       "</table>\n",
       "</div>"
      ],
      "text/plain": [
       "   player_id  player_object_id       player_name         dob  dod gender  \\\n",
       "0      93957           1046619       Avinash Pai  1982-01-24  NaN      M   \n",
       "1       2182             51462  Sherwin Campbell  1970-11-01  NaN      M   \n",
       "2      48391             56194       Tamim Iqbal  1989-03-20  NaN      M   \n",
       "3       2198             55935        Javed Omar  1976-11-25  NaN      M   \n",
       "4      52290            298438         Jason Roy  1990-07-21  NaN      M   \n",
       "\n",
       "    batting_style       bowling_style  country_id  \\\n",
       "0  right-hand bat  right-arm offbreak        18.0   \n",
       "1  right-hand bat    right-arm medium         4.0   \n",
       "2   left-hand bat                 NaN        25.0   \n",
       "3  right-hand bat            legbreak        25.0   \n",
       "4  right-hand bat                 NaN         1.0   \n",
       "\n",
       "                                           image_url  \\\n",
       "0                                                NaN   \n",
       "1  https://img1.hscicdn.com/image/upload/f_auto,t...   \n",
       "2  https://img1.hscicdn.com/image/upload/f_auto,t...   \n",
       "3  https://img1.hscicdn.com/image/upload/f_auto,t...   \n",
       "4  https://img1.hscicdn.com/image/upload/f_auto,t...   \n",
       "\n",
       "                                      image_metadata  \n",
       "0                                                NaN  \n",
       "1  {'id': 326616, 'url': '/db/PICTURES/CMS/326600...  \n",
       "2  {'id': 303166, 'url': '/db/PICTURES/CMS/303100...  \n",
       "3  {'id': 302990, 'url': '/db/PICTURES/CMS/302900...  \n",
       "4  {'id': 303963, 'url': '/db/PICTURES/CMS/303900...  "
      ]
     },
     "execution_count": 10,
     "metadata": {},
     "output_type": "execute_result"
    }
   ],
   "source": [
    "info.head()"
   ]
  },
  {
   "cell_type": "code",
   "execution_count": 11,
   "id": "53b75e90",
   "metadata": {},
   "outputs": [
    {
     "data": {
      "text/plain": [
       "array([2.000e+00, 5.000e+00, 8.000e+00, 1.000e+00, 6.000e+00, 4.000e+00,\n",
       "       1.400e+01, 7.000e+00, 1.700e+01, 9.000e+00, 2.500e+01, 3.000e+00,\n",
       "       2.700e+01, 2.600e+01, 1.500e+01, 3.000e+01, 1.100e+01, 1.400e+02,\n",
       "       4.058e+03, 1.060e+02, 2.900e+01, 1.200e+01, 4.000e+01, 1.900e+01,\n",
       "             nan, 2.000e+01, 3.200e+01, 2.800e+01, 3.700e+01, 4.083e+03])"
      ]
     },
     "execution_count": 11,
     "metadata": {},
     "output_type": "execute_result"
    }
   ],
   "source": [
    "data['Team1 ID'].unique()"
   ]
  },
  {
   "cell_type": "code",
   "execution_count": 12,
   "id": "712d5c7d",
   "metadata": {},
   "outputs": [
    {
     "data": {
      "text/plain": [
       "array(['Australia', 'New Zealand', 'Sri Lanka', 'England', 'India',\n",
       "       'West Indies', 'East Africa', 'Pakistan', 'Canada', 'Zimbabwe',\n",
       "       'Bangladesh', 'South Africa', 'U.A.E.', 'Kenya', 'Netherlands',\n",
       "       'Scotland', 'U.S.A.', 'ICC World XI', 'Africa XI', 'Asia XI',\n",
       "       'Ireland', 'Bermuda', 'Afghanistan', 'Hong Kong', nan, 'P.N.G.',\n",
       "       'Nepal', 'Namibia', 'Oman', 'Jersey'], dtype=object)"
      ]
     },
     "execution_count": 12,
     "metadata": {},
     "output_type": "execute_result"
    }
   ],
   "source": [
    "data['Team1 Name'].unique()"
   ]
  },
  {
   "cell_type": "code",
   "execution_count": 13,
   "id": "b564fca2",
   "metadata": {},
   "outputs": [
    {
     "name": "stdout",
     "output_type": "stream",
     "text": [
      "      player_id  player_object_id         player_name         dob  dod gender  \\\n",
      "80         7656             28090        Sameer Dighe  1968-10-08  NaN      M   \n",
      "84         7716             36084        Yuvraj Singh  1981-12-12  NaN      M   \n",
      "97         1840             32179  Chandrakant Pandit  1961-09-30  NaN      M   \n",
      "102       63224            471342       Krunal Pandya  1991-03-24  NaN      M   \n",
      "103       48405             34102        Rohit Sharma  1987-04-30  NaN      M   \n",
      "...         ...               ...                 ...         ...  ...    ...   \n",
      "6585       1825             34057           R.P.Singh  1965-01-06  NaN      M   \n",
      "6590       1919             32249        Rashid Patel  1964-06-01  NaN      M   \n",
      "6599       1950             28884     Gursharan Singh  1963-03-08  NaN      M   \n",
      "6637      51455            290632    Sreenath Aravind  1984-04-08  NaN      M   \n",
      "6659       3319             29712       David Johnson  1971-10-16  NaN      M   \n",
      "\n",
      "       batting_style           bowling_style  country_id  \\\n",
      "80    right-hand bat                     NaN         6.0   \n",
      "84     left-hand bat  slow left-arm orthodox         6.0   \n",
      "97    right-hand bat                     NaN         6.0   \n",
      "102    left-hand bat  slow left-arm orthodox         6.0   \n",
      "103   right-hand bat      right-arm offbreak         6.0   \n",
      "...              ...                     ...         ...   \n",
      "6585  right-hand bat    left-arm fast-medium         6.0   \n",
      "6590   left-hand bat    left-arm fast-medium         6.0   \n",
      "6599  right-hand bat                     NaN         6.0   \n",
      "6637   left-hand bat    left-arm medium-fast         6.0   \n",
      "6659  right-hand bat        right-arm medium         6.0   \n",
      "\n",
      "                                              image_url  \\\n",
      "80    https://img1.hscicdn.com/image/upload/f_auto,t...   \n",
      "84    https://img1.hscicdn.com/image/upload/f_auto,t...   \n",
      "97    https://img1.hscicdn.com/image/upload/f_auto,t...   \n",
      "102   https://img1.hscicdn.com/image/upload/f_auto,t...   \n",
      "103   https://img1.hscicdn.com/image/upload/f_auto,t...   \n",
      "...                                                 ...   \n",
      "6585                                                NaN   \n",
      "6590                                                NaN   \n",
      "6599  https://img1.hscicdn.com/image/upload/f_auto,t...   \n",
      "6637  https://img1.hscicdn.com/image/upload/f_auto,t...   \n",
      "6659  https://img1.hscicdn.com/image/upload/f_auto,t...   \n",
      "\n",
      "                                         image_metadata  \n",
      "80    {'id': 302530, 'url': '/db/PICTURES/CMS/302500...  \n",
      "84    {'id': 302406, 'url': '/db/PICTURES/CMS/302400...  \n",
      "97    {'id': 302468, 'url': '/db/PICTURES/CMS/302400...  \n",
      "102   {'id': 309070, 'url': '/db/PICTURES/CMS/309000...  \n",
      "103   {'id': 302374, 'url': '/db/PICTURES/CMS/302300...  \n",
      "...                                                 ...  \n",
      "6585                                                NaN  \n",
      "6590                                                NaN  \n",
      "6599  {'id': 302493, 'url': '/db/PICTURES/CMS/302400...  \n",
      "6637  {'id': 127895, 'url': '/db/PICTURES/CMS/127800...  \n",
      "6659  {'id': 39916, 'url': '/db/PICTURES/DB/102004/0...  \n",
      "\n",
      "[389 rows x 11 columns]\n"
     ]
    }
   ],
   "source": [
    "print(info[info['country_id']==6.0])"
   ]
  },
  {
   "cell_type": "code",
   "execution_count": 14,
   "id": "1beca24b",
   "metadata": {},
   "outputs": [],
   "source": [
    "team_names = [\n",
    "    'Australia',\n",
    "    'New Zealand',\n",
    "    'Sri Lanka',\n",
    "    'England',\n",
    "    'India',\n",
    "    'Pakistan',\n",
    "    'Bangladesh',\n",
    "    'South Africa',\n",
    "    'Netherlands',\n",
    "    'Afghanistan'\n",
    "]\n",
    "df = pd.DataFrame()\n",
    "\n",
    "for team in team_names:\n",
    "    team_data = data[data['Team1 Name'] == team]\n",
    "    df = pd.concat([df, team_data], ignore_index=True)\n",
    "    \n",
    "team_names = [\n",
    "    'Australia',\n",
    "    'New Zealand',\n",
    "    'Sri Lanka',\n",
    "    'England',\n",
    "    'India',\n",
    "    'Pakistan',\n",
    "    'Bangladesh',\n",
    "    'South Africa',\n",
    "    'Netherlands',\n",
    "    'Afghanistan'\n",
    "]\n",
    "\n",
    "df1 = pd.DataFrame()\n",
    "\n",
    "for team in team_names:\n",
    "    team_data = df[df['Team2 Name'] == team]\n",
    "    df1 = pd.concat([df1, team_data], ignore_index=True)\n"
   ]
  },
  {
   "cell_type": "code",
   "execution_count": 15,
   "id": "9207ad9c",
   "metadata": {},
   "outputs": [],
   "source": [
    "check = df1[df1['Team1 Name']=='India']"
   ]
  },
  {
   "cell_type": "code",
   "execution_count": 16,
   "id": "8db10a12",
   "metadata": {
    "scrolled": true
   },
   "outputs": [
    {
     "data": {
      "text/plain": [
       "189        Australia\n",
       "190        Australia\n",
       "191        Australia\n",
       "192        Australia\n",
       "193          England\n",
       "            ...     \n",
       "2548    South Africa\n",
       "2549    South Africa\n",
       "2550    South Africa\n",
       "2624    South Africa\n",
       "2649         England\n",
       "Name: Match Venue (Country), Length: 370, dtype: object"
      ]
     },
     "execution_count": 16,
     "metadata": {},
     "output_type": "execute_result"
    }
   ],
   "source": [
    "check['Match Venue (Country)']"
   ]
  },
  {
   "cell_type": "code",
   "execution_count": 17,
   "id": "154be3f0",
   "metadata": {},
   "outputs": [
    {
     "data": {
      "text/html": [
       "<div>\n",
       "<style scoped>\n",
       "    .dataframe tbody tr th:only-of-type {\n",
       "        vertical-align: middle;\n",
       "    }\n",
       "\n",
       "    .dataframe tbody tr th {\n",
       "        vertical-align: top;\n",
       "    }\n",
       "\n",
       "    .dataframe thead th {\n",
       "        text-align: right;\n",
       "    }\n",
       "</style>\n",
       "<table border=\"1\" class=\"dataframe\">\n",
       "  <thead>\n",
       "    <tr style=\"text-align: right;\">\n",
       "      <th></th>\n",
       "      <th>ODI Match No</th>\n",
       "      <th>Match ID</th>\n",
       "      <th>Match Name</th>\n",
       "      <th>Series ID</th>\n",
       "      <th>Series Name</th>\n",
       "      <th>Match Date</th>\n",
       "      <th>Match Format</th>\n",
       "      <th>Team1 ID</th>\n",
       "      <th>Team1 Name</th>\n",
       "      <th>Team1 Captain</th>\n",
       "      <th>...</th>\n",
       "      <th>Umpire 2</th>\n",
       "      <th>Match Referee</th>\n",
       "      <th>Toss Winner</th>\n",
       "      <th>Toss Winner Choice</th>\n",
       "      <th>Match Winner</th>\n",
       "      <th>Match Result Text</th>\n",
       "      <th>MOM Player</th>\n",
       "      <th>Team1 Playing 11</th>\n",
       "      <th>Team2 Playing 11</th>\n",
       "      <th>Debut Players</th>\n",
       "    </tr>\n",
       "  </thead>\n",
       "  <tbody>\n",
       "    <tr>\n",
       "      <th>0</th>\n",
       "      <td>495</td>\n",
       "      <td>65431</td>\n",
       "      <td>Australia Vs New Zealand 10Th Match</td>\n",
       "      <td>60879.0</td>\n",
       "      <td>Benson &amp; Hedges World Series Cup Australia, Ne...</td>\n",
       "      <td>1988-01-17</td>\n",
       "      <td>ODI</td>\n",
       "      <td>5.0</td>\n",
       "      <td>New Zealand</td>\n",
       "      <td>1698.0</td>\n",
       "      <td>...</td>\n",
       "      <td>AR Crafter</td>\n",
       "      <td>NaN</td>\n",
       "      <td>Australia</td>\n",
       "      <td>bowl</td>\n",
       "      <td>Australia</td>\n",
       "      <td>Australia won by 5 wickets (with 64 balls rema...</td>\n",
       "      <td>1795.0</td>\n",
       "      <td>['1550', '1863', '1698', '1669', '1407', '1790...</td>\n",
       "      <td>['1793', '1767', '1773', '1754', '1871', '1795...</td>\n",
       "      <td>['1790']</td>\n",
       "    </tr>\n",
       "    <tr>\n",
       "      <th>1</th>\n",
       "      <td>10</td>\n",
       "      <td>64150</td>\n",
       "      <td>New Zealand Vs Australia 1St Odi</td>\n",
       "      <td>60788.0</td>\n",
       "      <td>Australia tour of New Zealand  - 1974 (1973/74)</td>\n",
       "      <td>1974-03-30</td>\n",
       "      <td>ODI</td>\n",
       "      <td>5.0</td>\n",
       "      <td>New Zealand</td>\n",
       "      <td>1251.0</td>\n",
       "      <td>...</td>\n",
       "      <td>LHG Harmer</td>\n",
       "      <td>NaN</td>\n",
       "      <td>New Zealand</td>\n",
       "      <td>bat</td>\n",
       "      <td>Australia</td>\n",
       "      <td>Australia won by 7 wickets (with 85 balls rema...</td>\n",
       "      <td>NaN</td>\n",
       "      <td>['1456', '1328', '1251', '1326', '1311', '1259...</td>\n",
       "      <td>['1215', '1278', '1243', '1364', '1418', '1277...</td>\n",
       "      <td>['1410', '1419', '1423', '1418', '1422', '1402...</td>\n",
       "    </tr>\n",
       "    <tr>\n",
       "      <th>2</th>\n",
       "      <td>98</td>\n",
       "      <td>65303</td>\n",
       "      <td>Australia Vs New Zealand 4Th Match</td>\n",
       "      <td>60812.0</td>\n",
       "      <td>Benson &amp; Hedges World Series Cup Australia, In...</td>\n",
       "      <td>1980-12-07</td>\n",
       "      <td>ODI</td>\n",
       "      <td>5.0</td>\n",
       "      <td>New Zealand</td>\n",
       "      <td>1311.0</td>\n",
       "      <td>...</td>\n",
       "      <td>RC Bailhache</td>\n",
       "      <td>NaN</td>\n",
       "      <td>New Zealand</td>\n",
       "      <td>bat</td>\n",
       "      <td>Australia</td>\n",
       "      <td>Australia won by 4 wickets (with 16 balls rema...</td>\n",
       "      <td>1572.0</td>\n",
       "      <td>['1566', '1550', '1421', '1625', '1407', '1311...</td>\n",
       "      <td>['1541', '1572', '1364', '1530', '1277', '1646...</td>\n",
       "      <td>[]</td>\n",
       "    </tr>\n",
       "    <tr>\n",
       "      <th>3</th>\n",
       "      <td>107</td>\n",
       "      <td>65311</td>\n",
       "      <td>Australia Vs New Zealand 12Th Match</td>\n",
       "      <td>60812.0</td>\n",
       "      <td>Benson &amp; Hedges World Series Cup Australia, In...</td>\n",
       "      <td>1981-01-13</td>\n",
       "      <td>ODI</td>\n",
       "      <td>5.0</td>\n",
       "      <td>New Zealand</td>\n",
       "      <td>1444.0</td>\n",
       "      <td>...</td>\n",
       "      <td>MW Johnson</td>\n",
       "      <td>NaN</td>\n",
       "      <td>New Zealand</td>\n",
       "      <td>bat</td>\n",
       "      <td>New Zealand</td>\n",
       "      <td>New Zealand won by 1 run</td>\n",
       "      <td>1550.0</td>\n",
       "      <td>['1550', '1566', '1444', '1408', '1311', '1421...</td>\n",
       "      <td>['1572', '1547', '1364', '1530', '1277', '1646...</td>\n",
       "      <td>[]</td>\n",
       "    </tr>\n",
       "    <tr>\n",
       "      <th>4</th>\n",
       "      <td>111</td>\n",
       "      <td>65315</td>\n",
       "      <td>Australia Vs New Zealand 1St Final</td>\n",
       "      <td>60812.0</td>\n",
       "      <td>Benson &amp; Hedges World Series Cup Australia, In...</td>\n",
       "      <td>1981-01-29</td>\n",
       "      <td>ODI</td>\n",
       "      <td>5.0</td>\n",
       "      <td>New Zealand</td>\n",
       "      <td>1444.0</td>\n",
       "      <td>...</td>\n",
       "      <td>RC Bailhache</td>\n",
       "      <td>NaN</td>\n",
       "      <td>Australia</td>\n",
       "      <td>bowl</td>\n",
       "      <td>New Zealand</td>\n",
       "      <td>New Zealand won by 78 runs</td>\n",
       "      <td>NaN</td>\n",
       "      <td>['1550', '1566', '1444', '1421', '1311', '1407...</td>\n",
       "      <td>['1547', '1647', '1361', '1364', '1530', '1572...</td>\n",
       "      <td>['1647']</td>\n",
       "    </tr>\n",
       "  </tbody>\n",
       "</table>\n",
       "<p>5 rows × 33 columns</p>\n",
       "</div>"
      ],
      "text/plain": [
       "   ODI Match No  Match ID                           Match Name  Series ID  \\\n",
       "0           495     65431  Australia Vs New Zealand 10Th Match    60879.0   \n",
       "1            10     64150     New Zealand Vs Australia 1St Odi    60788.0   \n",
       "2            98     65303   Australia Vs New Zealand 4Th Match    60812.0   \n",
       "3           107     65311  Australia Vs New Zealand 12Th Match    60812.0   \n",
       "4           111     65315   Australia Vs New Zealand 1St Final    60812.0   \n",
       "\n",
       "                                         Series Name  Match Date Match Format  \\\n",
       "0  Benson & Hedges World Series Cup Australia, Ne...  1988-01-17          ODI   \n",
       "1    Australia tour of New Zealand  - 1974 (1973/74)  1974-03-30          ODI   \n",
       "2  Benson & Hedges World Series Cup Australia, In...  1980-12-07          ODI   \n",
       "3  Benson & Hedges World Series Cup Australia, In...  1981-01-13          ODI   \n",
       "4  Benson & Hedges World Series Cup Australia, In...  1981-01-29          ODI   \n",
       "\n",
       "   Team1 ID   Team1 Name  Team1 Captain  ...      Umpire 2  Match Referee  \\\n",
       "0       5.0  New Zealand         1698.0  ...    AR Crafter            NaN   \n",
       "1       5.0  New Zealand         1251.0  ...    LHG Harmer            NaN   \n",
       "2       5.0  New Zealand         1311.0  ...  RC Bailhache            NaN   \n",
       "3       5.0  New Zealand         1444.0  ...    MW Johnson            NaN   \n",
       "4       5.0  New Zealand         1444.0  ...  RC Bailhache            NaN   \n",
       "\n",
       "   Toss Winner  Toss Winner Choice Match Winner  \\\n",
       "0    Australia                bowl    Australia   \n",
       "1  New Zealand                 bat    Australia   \n",
       "2  New Zealand                 bat    Australia   \n",
       "3  New Zealand                 bat  New Zealand   \n",
       "4    Australia                bowl  New Zealand   \n",
       "\n",
       "                                   Match Result Text  MOM Player  \\\n",
       "0  Australia won by 5 wickets (with 64 balls rema...      1795.0   \n",
       "1  Australia won by 7 wickets (with 85 balls rema...         NaN   \n",
       "2  Australia won by 4 wickets (with 16 balls rema...      1572.0   \n",
       "3                           New Zealand won by 1 run      1550.0   \n",
       "4                         New Zealand won by 78 runs         NaN   \n",
       "\n",
       "                                    Team1 Playing 11  \\\n",
       "0  ['1550', '1863', '1698', '1669', '1407', '1790...   \n",
       "1  ['1456', '1328', '1251', '1326', '1311', '1259...   \n",
       "2  ['1566', '1550', '1421', '1625', '1407', '1311...   \n",
       "3  ['1550', '1566', '1444', '1408', '1311', '1421...   \n",
       "4  ['1550', '1566', '1444', '1421', '1311', '1407...   \n",
       "\n",
       "                                    Team2 Playing 11  \\\n",
       "0  ['1793', '1767', '1773', '1754', '1871', '1795...   \n",
       "1  ['1215', '1278', '1243', '1364', '1418', '1277...   \n",
       "2  ['1541', '1572', '1364', '1530', '1277', '1646...   \n",
       "3  ['1572', '1547', '1364', '1530', '1277', '1646...   \n",
       "4  ['1547', '1647', '1361', '1364', '1530', '1572...   \n",
       "\n",
       "                                       Debut Players  \n",
       "0                                           ['1790']  \n",
       "1  ['1410', '1419', '1423', '1418', '1422', '1402...  \n",
       "2                                                 []  \n",
       "3                                                 []  \n",
       "4                                           ['1647']  \n",
       "\n",
       "[5 rows x 33 columns]"
      ]
     },
     "execution_count": 17,
     "metadata": {},
     "output_type": "execute_result"
    }
   ],
   "source": [
    "df1.head()"
   ]
  },
  {
   "cell_type": "code",
   "execution_count": 18,
   "id": "ebfbb345",
   "metadata": {},
   "outputs": [],
   "source": [
    "df1['Bat First'] = df['Toss Winner']"
   ]
  },
  {
   "cell_type": "code",
   "execution_count": 19,
   "id": "cfec75b4",
   "metadata": {},
   "outputs": [
    {
     "data": {
      "text/html": [
       "<div>\n",
       "<style scoped>\n",
       "    .dataframe tbody tr th:only-of-type {\n",
       "        vertical-align: middle;\n",
       "    }\n",
       "\n",
       "    .dataframe tbody tr th {\n",
       "        vertical-align: top;\n",
       "    }\n",
       "\n",
       "    .dataframe thead th {\n",
       "        text-align: right;\n",
       "    }\n",
       "</style>\n",
       "<table border=\"1\" class=\"dataframe\">\n",
       "  <thead>\n",
       "    <tr style=\"text-align: right;\">\n",
       "      <th></th>\n",
       "      <th>ODI Match No</th>\n",
       "      <th>Match ID</th>\n",
       "      <th>Match Name</th>\n",
       "      <th>Series ID</th>\n",
       "      <th>Series Name</th>\n",
       "      <th>Match Date</th>\n",
       "      <th>Match Format</th>\n",
       "      <th>Team1 ID</th>\n",
       "      <th>Team1 Name</th>\n",
       "      <th>Team1 Captain</th>\n",
       "      <th>...</th>\n",
       "      <th>Match Referee</th>\n",
       "      <th>Toss Winner</th>\n",
       "      <th>Toss Winner Choice</th>\n",
       "      <th>Match Winner</th>\n",
       "      <th>Match Result Text</th>\n",
       "      <th>MOM Player</th>\n",
       "      <th>Team1 Playing 11</th>\n",
       "      <th>Team2 Playing 11</th>\n",
       "      <th>Debut Players</th>\n",
       "      <th>Bat First</th>\n",
       "    </tr>\n",
       "  </thead>\n",
       "  <tbody>\n",
       "    <tr>\n",
       "      <th>0</th>\n",
       "      <td>495</td>\n",
       "      <td>65431</td>\n",
       "      <td>Australia Vs New Zealand 10Th Match</td>\n",
       "      <td>60879.0</td>\n",
       "      <td>Benson &amp; Hedges World Series Cup Australia, Ne...</td>\n",
       "      <td>1988-01-17</td>\n",
       "      <td>ODI</td>\n",
       "      <td>5.0</td>\n",
       "      <td>New Zealand</td>\n",
       "      <td>1698.0</td>\n",
       "      <td>...</td>\n",
       "      <td>NaN</td>\n",
       "      <td>Australia</td>\n",
       "      <td>bowl</td>\n",
       "      <td>Australia</td>\n",
       "      <td>Australia won by 5 wickets (with 64 balls rema...</td>\n",
       "      <td>1795.0</td>\n",
       "      <td>['1550', '1863', '1698', '1669', '1407', '1790...</td>\n",
       "      <td>['1793', '1767', '1773', '1754', '1871', '1795...</td>\n",
       "      <td>['1790']</td>\n",
       "      <td>Australia</td>\n",
       "    </tr>\n",
       "    <tr>\n",
       "      <th>1</th>\n",
       "      <td>10</td>\n",
       "      <td>64150</td>\n",
       "      <td>New Zealand Vs Australia 1St Odi</td>\n",
       "      <td>60788.0</td>\n",
       "      <td>Australia tour of New Zealand  - 1974 (1973/74)</td>\n",
       "      <td>1974-03-30</td>\n",
       "      <td>ODI</td>\n",
       "      <td>5.0</td>\n",
       "      <td>New Zealand</td>\n",
       "      <td>1251.0</td>\n",
       "      <td>...</td>\n",
       "      <td>NaN</td>\n",
       "      <td>New Zealand</td>\n",
       "      <td>bat</td>\n",
       "      <td>Australia</td>\n",
       "      <td>Australia won by 7 wickets (with 85 balls rema...</td>\n",
       "      <td>NaN</td>\n",
       "      <td>['1456', '1328', '1251', '1326', '1311', '1259...</td>\n",
       "      <td>['1215', '1278', '1243', '1364', '1418', '1277...</td>\n",
       "      <td>['1410', '1419', '1423', '1418', '1422', '1402...</td>\n",
       "      <td>Australia</td>\n",
       "    </tr>\n",
       "    <tr>\n",
       "      <th>2</th>\n",
       "      <td>98</td>\n",
       "      <td>65303</td>\n",
       "      <td>Australia Vs New Zealand 4Th Match</td>\n",
       "      <td>60812.0</td>\n",
       "      <td>Benson &amp; Hedges World Series Cup Australia, In...</td>\n",
       "      <td>1980-12-07</td>\n",
       "      <td>ODI</td>\n",
       "      <td>5.0</td>\n",
       "      <td>New Zealand</td>\n",
       "      <td>1311.0</td>\n",
       "      <td>...</td>\n",
       "      <td>NaN</td>\n",
       "      <td>New Zealand</td>\n",
       "      <td>bat</td>\n",
       "      <td>Australia</td>\n",
       "      <td>Australia won by 4 wickets (with 16 balls rema...</td>\n",
       "      <td>1572.0</td>\n",
       "      <td>['1566', '1550', '1421', '1625', '1407', '1311...</td>\n",
       "      <td>['1541', '1572', '1364', '1530', '1277', '1646...</td>\n",
       "      <td>[]</td>\n",
       "      <td>England</td>\n",
       "    </tr>\n",
       "    <tr>\n",
       "      <th>3</th>\n",
       "      <td>107</td>\n",
       "      <td>65311</td>\n",
       "      <td>Australia Vs New Zealand 12Th Match</td>\n",
       "      <td>60812.0</td>\n",
       "      <td>Benson &amp; Hedges World Series Cup Australia, In...</td>\n",
       "      <td>1981-01-13</td>\n",
       "      <td>ODI</td>\n",
       "      <td>5.0</td>\n",
       "      <td>New Zealand</td>\n",
       "      <td>1444.0</td>\n",
       "      <td>...</td>\n",
       "      <td>NaN</td>\n",
       "      <td>New Zealand</td>\n",
       "      <td>bat</td>\n",
       "      <td>New Zealand</td>\n",
       "      <td>New Zealand won by 1 run</td>\n",
       "      <td>1550.0</td>\n",
       "      <td>['1550', '1566', '1444', '1408', '1311', '1421...</td>\n",
       "      <td>['1572', '1547', '1364', '1530', '1277', '1646...</td>\n",
       "      <td>[]</td>\n",
       "      <td>Australia</td>\n",
       "    </tr>\n",
       "    <tr>\n",
       "      <th>4</th>\n",
       "      <td>111</td>\n",
       "      <td>65315</td>\n",
       "      <td>Australia Vs New Zealand 1St Final</td>\n",
       "      <td>60812.0</td>\n",
       "      <td>Benson &amp; Hedges World Series Cup Australia, In...</td>\n",
       "      <td>1981-01-29</td>\n",
       "      <td>ODI</td>\n",
       "      <td>5.0</td>\n",
       "      <td>New Zealand</td>\n",
       "      <td>1444.0</td>\n",
       "      <td>...</td>\n",
       "      <td>NaN</td>\n",
       "      <td>Australia</td>\n",
       "      <td>bowl</td>\n",
       "      <td>New Zealand</td>\n",
       "      <td>New Zealand won by 78 runs</td>\n",
       "      <td>NaN</td>\n",
       "      <td>['1550', '1566', '1444', '1421', '1311', '1407...</td>\n",
       "      <td>['1547', '1647', '1361', '1364', '1530', '1572...</td>\n",
       "      <td>['1647']</td>\n",
       "      <td>England</td>\n",
       "    </tr>\n",
       "  </tbody>\n",
       "</table>\n",
       "<p>5 rows × 34 columns</p>\n",
       "</div>"
      ],
      "text/plain": [
       "   ODI Match No  Match ID                           Match Name  Series ID  \\\n",
       "0           495     65431  Australia Vs New Zealand 10Th Match    60879.0   \n",
       "1            10     64150     New Zealand Vs Australia 1St Odi    60788.0   \n",
       "2            98     65303   Australia Vs New Zealand 4Th Match    60812.0   \n",
       "3           107     65311  Australia Vs New Zealand 12Th Match    60812.0   \n",
       "4           111     65315   Australia Vs New Zealand 1St Final    60812.0   \n",
       "\n",
       "                                         Series Name  Match Date Match Format  \\\n",
       "0  Benson & Hedges World Series Cup Australia, Ne...  1988-01-17          ODI   \n",
       "1    Australia tour of New Zealand  - 1974 (1973/74)  1974-03-30          ODI   \n",
       "2  Benson & Hedges World Series Cup Australia, In...  1980-12-07          ODI   \n",
       "3  Benson & Hedges World Series Cup Australia, In...  1981-01-13          ODI   \n",
       "4  Benson & Hedges World Series Cup Australia, In...  1981-01-29          ODI   \n",
       "\n",
       "   Team1 ID   Team1 Name  Team1 Captain  ...  Match Referee  Toss Winner  \\\n",
       "0       5.0  New Zealand         1698.0  ...            NaN    Australia   \n",
       "1       5.0  New Zealand         1251.0  ...            NaN  New Zealand   \n",
       "2       5.0  New Zealand         1311.0  ...            NaN  New Zealand   \n",
       "3       5.0  New Zealand         1444.0  ...            NaN  New Zealand   \n",
       "4       5.0  New Zealand         1444.0  ...            NaN    Australia   \n",
       "\n",
       "   Toss Winner Choice  Match Winner  \\\n",
       "0                bowl     Australia   \n",
       "1                 bat     Australia   \n",
       "2                 bat     Australia   \n",
       "3                 bat   New Zealand   \n",
       "4                bowl   New Zealand   \n",
       "\n",
       "                                   Match Result Text  MOM Player  \\\n",
       "0  Australia won by 5 wickets (with 64 balls rema...      1795.0   \n",
       "1  Australia won by 7 wickets (with 85 balls rema...         NaN   \n",
       "2  Australia won by 4 wickets (with 16 balls rema...      1572.0   \n",
       "3                           New Zealand won by 1 run      1550.0   \n",
       "4                         New Zealand won by 78 runs         NaN   \n",
       "\n",
       "                                    Team1 Playing 11  \\\n",
       "0  ['1550', '1863', '1698', '1669', '1407', '1790...   \n",
       "1  ['1456', '1328', '1251', '1326', '1311', '1259...   \n",
       "2  ['1566', '1550', '1421', '1625', '1407', '1311...   \n",
       "3  ['1550', '1566', '1444', '1408', '1311', '1421...   \n",
       "4  ['1550', '1566', '1444', '1421', '1311', '1407...   \n",
       "\n",
       "                                    Team2 Playing 11  \\\n",
       "0  ['1793', '1767', '1773', '1754', '1871', '1795...   \n",
       "1  ['1215', '1278', '1243', '1364', '1418', '1277...   \n",
       "2  ['1541', '1572', '1364', '1530', '1277', '1646...   \n",
       "3  ['1572', '1547', '1364', '1530', '1277', '1646...   \n",
       "4  ['1547', '1647', '1361', '1364', '1530', '1572...   \n",
       "\n",
       "                                       Debut Players  Bat First  \n",
       "0                                           ['1790']  Australia  \n",
       "1  ['1410', '1419', '1423', '1418', '1422', '1402...  Australia  \n",
       "2                                                 []    England  \n",
       "3                                                 []  Australia  \n",
       "4                                           ['1647']    England  \n",
       "\n",
       "[5 rows x 34 columns]"
      ]
     },
     "execution_count": 19,
     "metadata": {},
     "output_type": "execute_result"
    }
   ],
   "source": [
    "df1.head()"
   ]
  },
  {
   "cell_type": "code",
   "execution_count": 20,
   "id": "f9a4c5a9",
   "metadata": {},
   "outputs": [
    {
     "name": "stderr",
     "output_type": "stream",
     "text": [
      "/var/folders/_8/xfc42_6120n2mkkw2ymrm37r0000gn/T/ipykernel_37017/2126693588.py:12: SettingWithCopyWarning: \n",
      "A value is trying to be set on a copy of a slice from a DataFrame\n",
      "\n",
      "See the caveats in the documentation: https://pandas.pydata.org/pandas-docs/stable/user_guide/indexing.html#returning-a-view-versus-a-copy\n",
      "  df1['Bat First'][i] = 1\n",
      "/var/folders/_8/xfc42_6120n2mkkw2ymrm37r0000gn/T/ipykernel_37017/2126693588.py:6: SettingWithCopyWarning: \n",
      "A value is trying to be set on a copy of a slice from a DataFrame\n",
      "\n",
      "See the caveats in the documentation: https://pandas.pydata.org/pandas-docs/stable/user_guide/indexing.html#returning-a-view-versus-a-copy\n",
      "  df1['Bat First'][i] = 1\n"
     ]
    }
   ],
   "source": [
    "for i in range(len(df1['Toss Winner'])):\n",
    "    if df1['Toss Winner'][i] == df1['Team1 Name'][i]:\n",
    "        if df1['Toss Winner Choice'][i]=='bowl':\n",
    "            df1['Bat First'][i] = 2\n",
    "        else:\n",
    "            df1['Bat First'][i] = 1\n",
    "            \n",
    "    if df1['Toss Winner'][i] == df1['Team2 Name'][i]:\n",
    "        if df1['Toss Winner Choice'][i]=='bat':\n",
    "            df1['Bat First'][i] = 2\n",
    "        else:\n",
    "            df1['Bat First'][i] = 1"
   ]
  },
  {
   "cell_type": "code",
   "execution_count": 21,
   "id": "d8ef8566",
   "metadata": {},
   "outputs": [
    {
     "data": {
      "text/plain": [
       "1    2669\n",
       "Name: Bat First, dtype: int64"
      ]
     },
     "execution_count": 21,
     "metadata": {},
     "output_type": "execute_result"
    }
   ],
   "source": [
    "df1['Bat First'].value_counts()"
   ]
  },
  {
   "cell_type": "code",
   "execution_count": 22,
   "id": "facf8ac6",
   "metadata": {
    "scrolled": false
   },
   "outputs": [
    {
     "data": {
      "text/plain": [
       "Index(['ODI Match No', 'Match ID', 'Match Name', 'Series ID', 'Series Name',\n",
       "       'Match Date', 'Match Format', 'Team1 ID', 'Team1 Name', 'Team1 Captain',\n",
       "       'Team1 Runs Scored', 'Team1 Wickets Fell', 'Team1 Extras Rec',\n",
       "       'Team2 ID', 'Team2 Name', 'Team2 Captain', 'Team2 Runs Scored',\n",
       "       'Team2 Wickets Fell', 'Team2 Extras Rec', 'Match Venue (Stadium)',\n",
       "       'Match Venue (City)', 'Match Venue (Country)', 'Umpire 1', 'Umpire 2',\n",
       "       'Match Referee', 'Toss Winner', 'Toss Winner Choice', 'Match Winner',\n",
       "       'Match Result Text', 'MOM Player', 'Team1 Playing 11',\n",
       "       'Team2 Playing 11', 'Debut Players', 'Bat First'],\n",
       "      dtype='object')"
      ]
     },
     "execution_count": 22,
     "metadata": {},
     "output_type": "execute_result"
    }
   ],
   "source": [
    "df1.columns"
   ]
  },
  {
   "cell_type": "code",
   "execution_count": 23,
   "id": "dcd0650d",
   "metadata": {},
   "outputs": [],
   "source": [
    "dataset = df1[['Team1 Name','Team2 Name','Match Venue (Stadium)','Match Venue (City)','Match Venue (Country)','Bat First','Match Winner']]"
   ]
  },
  {
   "cell_type": "code",
   "execution_count": 24,
   "id": "31eabc1b",
   "metadata": {},
   "outputs": [
    {
     "name": "stderr",
     "output_type": "stream",
     "text": [
      "/var/folders/_8/xfc42_6120n2mkkw2ymrm37r0000gn/T/ipykernel_37017/4234240329.py:1: SettingWithCopyWarning: \n",
      "A value is trying to be set on a copy of a slice from a DataFrame.\n",
      "Try using .loc[row_indexer,col_indexer] = value instead\n",
      "\n",
      "See the caveats in the documentation: https://pandas.pydata.org/pandas-docs/stable/user_guide/indexing.html#returning-a-view-versus-a-copy\n",
      "  dataset['Winner'] = pd.NA\n"
     ]
    }
   ],
   "source": [
    "dataset['Winner'] = pd.NA\n",
    "\n",
    "# Use a conditional statement to set the values in 'Match Winner Encoded' based on the winner\n",
    "dataset.loc[dataset['Match Winner'] == dataset['Team1 Name'], 'Winner'] = 0\n",
    "dataset.loc[dataset['Match Winner'] == dataset['Team2 Name'], 'Winner'] = 1"
   ]
  },
  {
   "cell_type": "code",
   "execution_count": 25,
   "id": "e7ca4024",
   "metadata": {},
   "outputs": [
    {
     "name": "stdout",
     "output_type": "stream",
     "text": [
      "[  0   1   2 ... 127 122  10]\n",
      "Index(['Brisbane', 'Dunedin', 'Melbourne', 'Sydney', 'Auckland', 'Wellington',\n",
      "       'Adelaide', 'Perth', 'Christchurch', 'Hobart',\n",
      "       ...\n",
      "       'Quetta', 'Toronto', 'Belfast', 'Sargodha', 'Rotterdam', 'Basseterre',\n",
      "       'Brighton', 'Glasgow', 'Doha', 'The Hague'],\n",
      "      dtype='object', length=128)\n"
     ]
    }
   ],
   "source": [
    "encoded_data, mapping_index = pd.Series(dataset['Match Venue (City)']).factorize()\n",
    "print(encoded_data)\n",
    "print(mapping_index)"
   ]
  },
  {
   "cell_type": "code",
   "execution_count": 26,
   "id": "fe8dd549",
   "metadata": {},
   "outputs": [],
   "source": [
    "# print(mapping_index.get_loc(\"South Africa\"))"
   ]
  },
  {
   "cell_type": "code",
   "execution_count": 27,
   "id": "b1bade57",
   "metadata": {
    "scrolled": true
   },
   "outputs": [
    {
     "name": "stdout",
     "output_type": "stream",
     "text": [
      "{'Abu Dhabi': 0, 'Adelaide': 1, 'Ahmedabad': 2, 'Amritsar': 3, 'Amstelveen': 4, 'Auckland': 5, 'Ballarat': 6, 'Basseterre': 7, 'Belfast': 8, 'Bengaluru': 9, 'Benoni': 10, 'Birmingham': 11, 'Bloemfontein': 12, 'Bogra': 13, 'Bridgetown': 14, 'Brighton': 15, 'Brisbane': 16, 'Bristol': 17, 'Bulawayo': 18, 'Cairns': 19, 'Canberra': 20, 'Canterbury': 21, 'Cape Town': 22, 'Cardiff': 23, 'Centurion': 24, 'Chandigarh': 25, 'Chattogram': 26, 'Chelmsford': 27, 'Chennai': 28, 'Chester-le-Street': 29, 'Christchurch': 30, 'Colombo': 31, 'Cuttack': 32, 'Dambulla': 33, 'Darwin': 34, 'Delhi': 35, 'Derby': 36, 'Dhaka': 37, 'Dharamsala': 38, 'Doha': 39, 'Dubai': 40, 'Dublin': 41, 'Dunedin': 42, 'Durban': 43, 'East London': 44, 'Faisalabad': 45, 'Faridabad': 46, 'Fatullah': 47, 'Galle': 48, 'Glasgow': 49, 'Gqeberha': 50, 'Gros Islet': 51, 'Gujranwala': 52, 'Guwahati': 53, 'Gwalior': 54, 'Hambantota': 55, 'Hamilton': 56, 'Harare': 57, 'Hobart': 58, 'Hyderabad': 59, 'Indore': 60, 'Jaipur': 61, 'Jalandhar': 62, 'Jamshedpur': 63, 'Johannesburg': 64, 'Kandy': 65, 'Kanpur': 66, 'Karachi': 67, 'Kimberley': 68, 'Kingston': 69, 'Kochi': 70, 'Kolkata': 71, 'Kuala Lumpur': 72, 'Lahore': 73, 'Launceston': 74, 'Leeds': 75, 'London': 76, 'Lucknow': 77, 'Mackay': 78, 'Manchester': 79, 'Margao': 80, 'Melbourne': 81, 'Moratuwa': 82, 'Mount Maunganui': 83, 'Multan': 84, 'Mumbai': 85, 'Nagpur': 86, 'Nairobi': 87, 'Napier': 88, 'Nelson': 89, 'North Sound': 90, 'Northampton': 91, 'Nottingham': 92, 'Paarl': 93, 'Perth': 94, 'Peshawar': 95, 'Pietermaritzburg': 96, 'Port of Spain': 97, 'Potchefstroom': 98, 'Providence': 99, 'Pune': 100, 'Queenstown': 101, 'Quetta': 102, 'Raipur': 103, 'Rajkot': 104, 'Ranchi': 105, 'Rawalpindi': 106, 'Rotterdam': 107, 'Sahiwal': 108, 'Sargodha': 109, 'Scarborough': 110, 'Sharjah': 111, 'Sialkot': 112, 'Singapore': 113, 'Southampton': 114, 'Srinagar': 115, \"St George's\": 116, 'Swansea': 117, 'Sydney': 118, 'Tangier': 119, 'Taunton': 120, 'Taupo': 121, 'The Hague': 122, 'Thiruvananthapuram': 123, 'Toronto': 124, 'Vadodara': 125, 'Visakhapatnam': 126, 'Wellington': 127}\n"
     ]
    }
   ],
   "source": [
    "from sklearn import preprocessing\n",
    "le = preprocessing.LabelEncoder()\n",
    "le.fit(dataset['Match Venue (City)'])\n",
    "le_name_mapping = dict(zip(le.classes_, le.transform(le.classes_)))\n",
    "print(le_name_mapping)"
   ]
  },
  {
   "cell_type": "code",
   "execution_count": 28,
   "id": "479c635a",
   "metadata": {},
   "outputs": [
    {
     "data": {
      "text/html": [
       "<div>\n",
       "<style scoped>\n",
       "    .dataframe tbody tr th:only-of-type {\n",
       "        vertical-align: middle;\n",
       "    }\n",
       "\n",
       "    .dataframe tbody tr th {\n",
       "        vertical-align: top;\n",
       "    }\n",
       "\n",
       "    .dataframe thead th {\n",
       "        text-align: right;\n",
       "    }\n",
       "</style>\n",
       "<table border=\"1\" class=\"dataframe\">\n",
       "  <thead>\n",
       "    <tr style=\"text-align: right;\">\n",
       "      <th></th>\n",
       "      <th>Team1 Name</th>\n",
       "      <th>Team2 Name</th>\n",
       "      <th>Match Venue (Stadium)</th>\n",
       "      <th>Match Venue (City)</th>\n",
       "      <th>Match Venue (Country)</th>\n",
       "      <th>Bat First</th>\n",
       "      <th>Match Winner</th>\n",
       "      <th>Winner</th>\n",
       "    </tr>\n",
       "  </thead>\n",
       "  <tbody>\n",
       "    <tr>\n",
       "      <th>0</th>\n",
       "      <td>New Zealand</td>\n",
       "      <td>Australia</td>\n",
       "      <td>Brisbane Cricket Ground</td>\n",
       "      <td>Brisbane</td>\n",
       "      <td>Australia</td>\n",
       "      <td>1</td>\n",
       "      <td>Australia</td>\n",
       "      <td>1</td>\n",
       "    </tr>\n",
       "    <tr>\n",
       "      <th>1</th>\n",
       "      <td>New Zealand</td>\n",
       "      <td>Australia</td>\n",
       "      <td>Carisbrook</td>\n",
       "      <td>Dunedin</td>\n",
       "      <td>New Zealand</td>\n",
       "      <td>1</td>\n",
       "      <td>Australia</td>\n",
       "      <td>1</td>\n",
       "    </tr>\n",
       "    <tr>\n",
       "      <th>2</th>\n",
       "      <td>New Zealand</td>\n",
       "      <td>Australia</td>\n",
       "      <td>Melbourne Cricket Ground</td>\n",
       "      <td>Melbourne</td>\n",
       "      <td>Australia</td>\n",
       "      <td>1</td>\n",
       "      <td>Australia</td>\n",
       "      <td>1</td>\n",
       "    </tr>\n",
       "    <tr>\n",
       "      <th>3</th>\n",
       "      <td>New Zealand</td>\n",
       "      <td>Australia</td>\n",
       "      <td>Sydney Cricket Ground</td>\n",
       "      <td>Sydney</td>\n",
       "      <td>Australia</td>\n",
       "      <td>1</td>\n",
       "      <td>New Zealand</td>\n",
       "      <td>0</td>\n",
       "    </tr>\n",
       "    <tr>\n",
       "      <th>4</th>\n",
       "      <td>New Zealand</td>\n",
       "      <td>Australia</td>\n",
       "      <td>Sydney Cricket Ground</td>\n",
       "      <td>Sydney</td>\n",
       "      <td>Australia</td>\n",
       "      <td>1</td>\n",
       "      <td>New Zealand</td>\n",
       "      <td>0</td>\n",
       "    </tr>\n",
       "  </tbody>\n",
       "</table>\n",
       "</div>"
      ],
      "text/plain": [
       "    Team1 Name Team2 Name     Match Venue (Stadium) Match Venue (City)  \\\n",
       "0  New Zealand  Australia   Brisbane Cricket Ground           Brisbane   \n",
       "1  New Zealand  Australia                Carisbrook            Dunedin   \n",
       "2  New Zealand  Australia  Melbourne Cricket Ground          Melbourne   \n",
       "3  New Zealand  Australia     Sydney Cricket Ground             Sydney   \n",
       "4  New Zealand  Australia     Sydney Cricket Ground             Sydney   \n",
       "\n",
       "  Match Venue (Country) Bat First Match Winner Winner  \n",
       "0             Australia         1    Australia      1  \n",
       "1           New Zealand         1    Australia      1  \n",
       "2             Australia         1    Australia      1  \n",
       "3             Australia         1  New Zealand      0  \n",
       "4             Australia         1  New Zealand      0  "
      ]
     },
     "execution_count": 28,
     "metadata": {},
     "output_type": "execute_result"
    }
   ],
   "source": [
    "dataset.head()"
   ]
  },
  {
   "cell_type": "code",
   "execution_count": 29,
   "id": "85244e3e",
   "metadata": {},
   "outputs": [
    {
     "name": "stderr",
     "output_type": "stream",
     "text": [
      "/var/folders/_8/xfc42_6120n2mkkw2ymrm37r0000gn/T/ipykernel_37017/112407066.py:1: SettingWithCopyWarning: \n",
      "A value is trying to be set on a copy of a slice from a DataFrame.\n",
      "Try using .loc[row_indexer,col_indexer] = value instead\n",
      "\n",
      "See the caveats in the documentation: https://pandas.pydata.org/pandas-docs/stable/user_guide/indexing.html#returning-a-view-versus-a-copy\n",
      "  dataset['Match Venue (City)'] = le.transform(dataset['Match Venue (City)'])\n"
     ]
    }
   ],
   "source": [
    "dataset['Match Venue (City)'] = le.transform(dataset['Match Venue (City)'])"
   ]
  },
  {
   "cell_type": "code",
   "execution_count": 30,
   "id": "52c46743",
   "metadata": {},
   "outputs": [
    {
     "data": {
      "text/html": [
       "<div>\n",
       "<style scoped>\n",
       "    .dataframe tbody tr th:only-of-type {\n",
       "        vertical-align: middle;\n",
       "    }\n",
       "\n",
       "    .dataframe tbody tr th {\n",
       "        vertical-align: top;\n",
       "    }\n",
       "\n",
       "    .dataframe thead th {\n",
       "        text-align: right;\n",
       "    }\n",
       "</style>\n",
       "<table border=\"1\" class=\"dataframe\">\n",
       "  <thead>\n",
       "    <tr style=\"text-align: right;\">\n",
       "      <th></th>\n",
       "      <th>Team1 Name</th>\n",
       "      <th>Team2 Name</th>\n",
       "      <th>Match Venue (Stadium)</th>\n",
       "      <th>Match Venue (City)</th>\n",
       "      <th>Match Venue (Country)</th>\n",
       "      <th>Bat First</th>\n",
       "      <th>Match Winner</th>\n",
       "      <th>Winner</th>\n",
       "    </tr>\n",
       "  </thead>\n",
       "  <tbody>\n",
       "    <tr>\n",
       "      <th>0</th>\n",
       "      <td>New Zealand</td>\n",
       "      <td>Australia</td>\n",
       "      <td>Brisbane Cricket Ground</td>\n",
       "      <td>16</td>\n",
       "      <td>Australia</td>\n",
       "      <td>1</td>\n",
       "      <td>Australia</td>\n",
       "      <td>1</td>\n",
       "    </tr>\n",
       "    <tr>\n",
       "      <th>1</th>\n",
       "      <td>New Zealand</td>\n",
       "      <td>Australia</td>\n",
       "      <td>Carisbrook</td>\n",
       "      <td>42</td>\n",
       "      <td>New Zealand</td>\n",
       "      <td>1</td>\n",
       "      <td>Australia</td>\n",
       "      <td>1</td>\n",
       "    </tr>\n",
       "    <tr>\n",
       "      <th>2</th>\n",
       "      <td>New Zealand</td>\n",
       "      <td>Australia</td>\n",
       "      <td>Melbourne Cricket Ground</td>\n",
       "      <td>81</td>\n",
       "      <td>Australia</td>\n",
       "      <td>1</td>\n",
       "      <td>Australia</td>\n",
       "      <td>1</td>\n",
       "    </tr>\n",
       "    <tr>\n",
       "      <th>3</th>\n",
       "      <td>New Zealand</td>\n",
       "      <td>Australia</td>\n",
       "      <td>Sydney Cricket Ground</td>\n",
       "      <td>118</td>\n",
       "      <td>Australia</td>\n",
       "      <td>1</td>\n",
       "      <td>New Zealand</td>\n",
       "      <td>0</td>\n",
       "    </tr>\n",
       "    <tr>\n",
       "      <th>4</th>\n",
       "      <td>New Zealand</td>\n",
       "      <td>Australia</td>\n",
       "      <td>Sydney Cricket Ground</td>\n",
       "      <td>118</td>\n",
       "      <td>Australia</td>\n",
       "      <td>1</td>\n",
       "      <td>New Zealand</td>\n",
       "      <td>0</td>\n",
       "    </tr>\n",
       "  </tbody>\n",
       "</table>\n",
       "</div>"
      ],
      "text/plain": [
       "    Team1 Name Team2 Name     Match Venue (Stadium)  Match Venue (City)  \\\n",
       "0  New Zealand  Australia   Brisbane Cricket Ground                  16   \n",
       "1  New Zealand  Australia                Carisbrook                  42   \n",
       "2  New Zealand  Australia  Melbourne Cricket Ground                  81   \n",
       "3  New Zealand  Australia     Sydney Cricket Ground                 118   \n",
       "4  New Zealand  Australia     Sydney Cricket Ground                 118   \n",
       "\n",
       "  Match Venue (Country) Bat First Match Winner Winner  \n",
       "0             Australia         1    Australia      1  \n",
       "1           New Zealand         1    Australia      1  \n",
       "2             Australia         1    Australia      1  \n",
       "3             Australia         1  New Zealand      0  \n",
       "4             Australia         1  New Zealand      0  "
      ]
     },
     "execution_count": 30,
     "metadata": {},
     "output_type": "execute_result"
    }
   ],
   "source": [
    "dataset.head()"
   ]
  },
  {
   "cell_type": "code",
   "execution_count": 31,
   "id": "0e4ef9a1",
   "metadata": {},
   "outputs": [
    {
     "data": {
      "text/plain": [
       "0     Brisbane\n",
       "1      Dunedin\n",
       "2    Melbourne\n",
       "3       Sydney\n",
       "4       Sydney\n",
       "Name: Match Venue (City), dtype: object"
      ]
     },
     "execution_count": 31,
     "metadata": {},
     "output_type": "execute_result"
    }
   ],
   "source": [
    "df1['Match Venue (City)'].head()"
   ]
  },
  {
   "cell_type": "code",
   "execution_count": 32,
   "id": "724ba8a6",
   "metadata": {},
   "outputs": [
    {
     "name": "stdout",
     "output_type": "stream",
     "text": [
      "{'Australia': 0, 'Bangladesh': 1, 'Canada': 2, 'England': 3, 'India': 4, 'Ireland': 5, 'Kenya': 6, 'Malaysia': 7, 'Morocco': 8, 'Netherlands': 9, 'New Zealand': 10, 'Pakistan': 11, 'Qatar': 12, 'Scotland': 13, 'Singapore': 14, 'South Africa': 15, 'Sri Lanka': 16, 'United Arab Emirates': 17, 'West Indies': 18, 'Zimbabwe': 19}\n"
     ]
    },
    {
     "name": "stderr",
     "output_type": "stream",
     "text": [
      "/var/folders/_8/xfc42_6120n2mkkw2ymrm37r0000gn/T/ipykernel_37017/1197528720.py:6: SettingWithCopyWarning: \n",
      "A value is trying to be set on a copy of a slice from a DataFrame.\n",
      "Try using .loc[row_indexer,col_indexer] = value instead\n",
      "\n",
      "See the caveats in the documentation: https://pandas.pydata.org/pandas-docs/stable/user_guide/indexing.html#returning-a-view-versus-a-copy\n",
      "  dataset['Match Venue (Country)'] = le.transform(dataset['Match Venue (Country)'])\n"
     ]
    }
   ],
   "source": [
    "from sklearn import preprocessing\n",
    "le = preprocessing.LabelEncoder()\n",
    "le.fit(dataset['Match Venue (Country)'])\n",
    "le_name_mapping = dict(zip(le.classes_, le.transform(le.classes_)))\n",
    "print(le_name_mapping)\n",
    "dataset['Match Venue (Country)'] = le.transform(dataset['Match Venue (Country)'])"
   ]
  },
  {
   "cell_type": "code",
   "execution_count": 33,
   "id": "bbd073e1",
   "metadata": {},
   "outputs": [
    {
     "name": "stdout",
     "output_type": "stream",
     "text": [
      "{'AMI Stadium': 0, 'Adelaide Oval': 1, 'Andhra Cricket Association-Visakhapatnam District Cricket Association Stadium': 2, 'Arbab Niaz Stadium': 3, 'Arun Jaitley Stadium': 4, 'Asgiriya Stadium': 5, 'Ayub National Stadium': 6, 'Bangabandhu National Stadium': 7, 'Barabati Stadium': 8, 'Barsapara Cricket Stadium': 9, 'Basin Reserve': 10, 'Bay Oval': 11, 'Beausejour Stadium': 12, 'Bellerive Oval': 13, 'Bharat Ratna Shri Atal Bihari Vajpayee Ekana Cricket Stadium': 14, 'Boland Bank Park': 15, 'Boland Park': 16, 'Brabourne Stadium': 17, 'Brisbane Cricket Ground': 18, 'Buffalo Park': 19, 'Bundaberg Rum Stadium': 20, 'Burlton Park': 21, 'Captain Roop Singh Stadium': 22, 'Carisbrook': 23, \"Cazaly's Stadium\": 24, 'Centurion Park': 25, 'Chevrolet Park': 26, 'Chittagong Divisional Stadium': 27, 'Chittagong Stadium': 28, 'City Oval': 29, 'Civil Service Cricket Club': 30, 'Clontarf Cricket Club Ground': 31, 'County Ground': 32, 'Crusaders Ground': 33, 'Davies Park': 34, 'De Beers Diamond Oval': 35, 'Diamond Oval': 36, 'Docklands Stadium': 37, 'Dr. Y.S. Rajasekhara Reddy ACA-VDCA Cricket Stadium': 38, 'Dubai International Cricket Stadium': 39, 'Eastern Oval': 40, 'Eden Gardens': 41, 'Eden Park': 42, 'Edgbaston': 43, 'Feroz Shah Kotla': 44, 'Gaddafi Stadium': 45, 'Galle International Stadium': 46, 'Gandhi Sports Complex Ground': 47, 'Gandhi Stadium': 48, 'Goodyear Park': 49, 'Green Park': 50, 'Greenfield International Stadium': 51, 'Gujarat Stadium': 52, 'Gymkhana Club Ground': 53, 'Hagley Oval': 54, 'Harare Sports Club': 55, 'Hazelaarweg': 56, 'Headingley': 57, 'Himachal Pradesh Cricket Association Stadium': 58, 'Holkar Cricket Stadium': 59, 'Ibn-e-Qasim Bagh Stadium': 60, 'Indian Petrochemicals Corporation Limited Sports Complex Ground': 61, 'Indira Priyadarshini Stadium': 62, 'Iqbal Stadium': 63, 'JSCA International Stadium Complex': 64, 'Jade Stadium': 65, 'Jawaharlal Nehru Stadium': 66, 'Jinnah Stadium': 67, 'KD Singh Babu Stadium': 68, 'Kallang Ground': 69, 'Karnataka State Cricket Association Stadium': 70, 'Keenan Stadium': 71, 'Kennington Oval': 72, 'Kensington Oval': 73, 'Khan Shaheb Osman Ali Stadium': 74, 'Khettarama Stadium': 75, 'Kimberley Country Club': 76, 'Kingsmead': 77, 'Kinrara Academy Oval': 78, 'Lal Bahadur Shastri Stadium': 79, 'Lancaster Park': 80, \"Lord's\": 81, 'M Chinnaswamy Stadium': 82, 'MA Aziz Stadium': 83, 'MA Chidambaram Stadium': 84, 'Madhavrao Scindia Cricket Ground': 85, 'Maharani Usharaje Trust Cricket Ground': 86, 'Maharashtra Cricket Association Stadium': 87, 'Mahinda Rajapaksa International Cricket Stadium': 88, 'Mangaung Oval': 89, 'Manuka Oval': 90, 'Marrara Cricket Ground': 91, 'McLean Park': 92, 'Melbourne Cricket Ground': 93, 'Moti Bagh Stadium': 94, 'Multan Cricket Stadium': 95, 'Municipal Stadium': 96, 'Nahar Singh Stadium': 97, 'Nairobi Club Ground': 98, 'Narayanganj Osmani Stadium': 99, 'Narendra Modi Stadium': 100, 'National Cricket Stadium': 101, 'National Stadium': 102, 'Nehru Stadium': 103, 'New County Ground': 104, 'New Wanderers Stadium': 105, 'Newlands': 106, 'Niaz Stadium': 107, 'North Marine Road Ground': 108, 'North Tasmania Cricket Association Ground': 109, 'North West Cricket Stadium': 110, 'Old Trafford': 111, 'Owen Delany Park': 112, 'P Saravanamuttu Stadium': 113, 'Pallekele International Cricket Stadium': 114, 'Perth Stadium': 115, 'Phoenix County Ground': 116, 'Pindi Club Ground': 117, 'Providence Stadium': 118, 'Punjab Cricket Association IS Bindra Stadium': 119, 'Punjab Cricket Association Stadium': 120, \"Queen's Park Oval\": 121, 'Queens Sports Club': 122, 'Queenstown Events Centre': 123, 'R Premadasa Stadium': 124, 'Rajiv Gandhi International Stadium': 125, 'Rangiri Dambulla International Stadium': 126, 'Rawalpindi Cricket Stadium': 127, 'Ray Mitchell Oval': 128, 'Reliance Stadium': 129, 'Riverside Ground': 130, 'Sabina Park': 131, 'Sardar Patel Stadium': 132, 'Sardar Vallabhbhai Patel Stadium': 133, 'Sargodha Stadium': 134, 'Saurashtra Cricket Association Stadium': 135, 'Sawai Mansingh Stadium': 136, 'Saxton Oval': 137, 'Sector 16 Stadium': 138, 'Seddon Park': 139, 'Sedgars Park': 140, 'Senwes Park': 141, 'Shaheed Chandu Stadium': 142, 'Shaheed Veer Narayan Singh International Stadium': 143, 'Sharjah Cricket Association Stadium': 144, 'Sharjah Cricket Stadium': 145, 'Sheikh Zayed Stadium': 146, 'Sher-i-Kashmir Stadium': 147, 'Shere Bangla National Stadium': 148, 'Sinhalese Sports Club Ground': 149, 'Sir Vivian Richards Stadium': 150, 'Sophia Gardens': 151, 'Sportpark Westvliet': 152, 'Springbok Park': 153, \"St George's Park\": 154, \"St Helen's\": 155, 'St Lawrence Ground': 156, 'SuperSport Park': 157, 'Sydney Cricket Ground': 158, 'The Cooper Associates County Ground': 159, 'The Padang': 160, 'The Rose Bowl': 161, 'The Royal & Sun Alliance County Ground': 162, 'The Wanderers Stadium': 163, 'Titwood': 164, 'Toronto Cricket': 165, 'Trent Bridge': 166, 'Trust Bank Park': 167, 'Tyronne Fernando Stadium': 168, 'University Oval': 169, 'University Stadium': 170, 'VRA Ground': 171, 'Vidarbha Cricket Association Ground': 172, 'Vidarbha Cricket Association Stadium': 173, 'Wankhede Stadium': 174, 'Warner Park': 175, 'West End Park International Cricket Stadium': 176, 'Western Australia Cricket Association Ground': 177, 'Westpac Park': 178, 'Westpac Stadium': 179, 'WestpacTrust Park': 180, 'WestpacTrust Stadium': 181, 'Willowmoore Park': 182, 'Zafar Ali Stadium': 183, 'Zahur Ahmed Chowdhury Stadium': 184}\n"
     ]
    },
    {
     "name": "stderr",
     "output_type": "stream",
     "text": [
      "/var/folders/_8/xfc42_6120n2mkkw2ymrm37r0000gn/T/ipykernel_37017/275784692.py:6: SettingWithCopyWarning: \n",
      "A value is trying to be set on a copy of a slice from a DataFrame.\n",
      "Try using .loc[row_indexer,col_indexer] = value instead\n",
      "\n",
      "See the caveats in the documentation: https://pandas.pydata.org/pandas-docs/stable/user_guide/indexing.html#returning-a-view-versus-a-copy\n",
      "  dataset['Match Venue (Stadium)'] = le.transform(dataset['Match Venue (Stadium)'])\n"
     ]
    }
   ],
   "source": [
    "from sklearn import preprocessing\n",
    "le = preprocessing.LabelEncoder()\n",
    "le.fit(dataset['Match Venue (Stadium)'])\n",
    "le_name_mapping = dict(zip(le.classes_, le.transform(le.classes_)))\n",
    "print(le_name_mapping)\n",
    "dataset['Match Venue (Stadium)'] = le.transform(dataset['Match Venue (Stadium)'])"
   ]
  },
  {
   "cell_type": "code",
   "execution_count": 34,
   "id": "0ac15ed0",
   "metadata": {},
   "outputs": [
    {
     "name": "stdout",
     "output_type": "stream",
     "text": [
      "{'Afghanistan': 0, 'Australia': 1, 'Bangladesh': 2, 'England': 3, 'India': 4, 'Netherlands': 5, 'New Zealand': 6, 'Pakistan': 7, 'South Africa': 8, 'Sri Lanka': 9}\n"
     ]
    },
    {
     "name": "stderr",
     "output_type": "stream",
     "text": [
      "/var/folders/_8/xfc42_6120n2mkkw2ymrm37r0000gn/T/ipykernel_37017/666843380.py:6: SettingWithCopyWarning: \n",
      "A value is trying to be set on a copy of a slice from a DataFrame.\n",
      "Try using .loc[row_indexer,col_indexer] = value instead\n",
      "\n",
      "See the caveats in the documentation: https://pandas.pydata.org/pandas-docs/stable/user_guide/indexing.html#returning-a-view-versus-a-copy\n",
      "  dataset['Team1 Name'] = le.transform(dataset['Team1 Name'])\n"
     ]
    }
   ],
   "source": [
    "from sklearn import preprocessing\n",
    "le = preprocessing.LabelEncoder()\n",
    "le.fit(dataset['Team1 Name'])\n",
    "le_name_mapping = dict(zip(le.classes_, le.transform(le.classes_)))\n",
    "print(le_name_mapping)\n",
    "dataset['Team1 Name'] = le.transform(dataset['Team1 Name'])"
   ]
  },
  {
   "cell_type": "code",
   "execution_count": 35,
   "id": "5994a924",
   "metadata": {},
   "outputs": [
    {
     "name": "stdout",
     "output_type": "stream",
     "text": [
      "{'Afghanistan': 0, 'Australia': 1, 'Bangladesh': 2, 'England': 3, 'India': 4, 'Netherlands': 5, 'New Zealand': 6, 'Pakistan': 7, 'South Africa': 8, 'Sri Lanka': 9}\n"
     ]
    },
    {
     "name": "stderr",
     "output_type": "stream",
     "text": [
      "/var/folders/_8/xfc42_6120n2mkkw2ymrm37r0000gn/T/ipykernel_37017/2398164044.py:6: SettingWithCopyWarning: \n",
      "A value is trying to be set on a copy of a slice from a DataFrame.\n",
      "Try using .loc[row_indexer,col_indexer] = value instead\n",
      "\n",
      "See the caveats in the documentation: https://pandas.pydata.org/pandas-docs/stable/user_guide/indexing.html#returning-a-view-versus-a-copy\n",
      "  dataset['Team2 Name'] = le.transform(dataset['Team2 Name'])\n"
     ]
    }
   ],
   "source": [
    "from sklearn import preprocessing\n",
    "le = preprocessing.LabelEncoder()\n",
    "le.fit(dataset['Team2 Name'])\n",
    "le_name_mapping = dict(zip(le.classes_, le.transform(le.classes_)))\n",
    "print(le_name_mapping)\n",
    "dataset['Team2 Name'] = le.transform(dataset['Team2 Name'])"
   ]
  },
  {
   "cell_type": "code",
   "execution_count": 36,
   "id": "31094379",
   "metadata": {},
   "outputs": [
    {
     "data": {
      "text/html": [
       "<div>\n",
       "<style scoped>\n",
       "    .dataframe tbody tr th:only-of-type {\n",
       "        vertical-align: middle;\n",
       "    }\n",
       "\n",
       "    .dataframe tbody tr th {\n",
       "        vertical-align: top;\n",
       "    }\n",
       "\n",
       "    .dataframe thead th {\n",
       "        text-align: right;\n",
       "    }\n",
       "</style>\n",
       "<table border=\"1\" class=\"dataframe\">\n",
       "  <thead>\n",
       "    <tr style=\"text-align: right;\">\n",
       "      <th></th>\n",
       "      <th>Team1 Name</th>\n",
       "      <th>Team2 Name</th>\n",
       "      <th>Match Venue (Stadium)</th>\n",
       "      <th>Match Venue (City)</th>\n",
       "      <th>Match Venue (Country)</th>\n",
       "      <th>Bat First</th>\n",
       "      <th>Match Winner</th>\n",
       "      <th>Winner</th>\n",
       "    </tr>\n",
       "  </thead>\n",
       "  <tbody>\n",
       "    <tr>\n",
       "      <th>0</th>\n",
       "      <td>6</td>\n",
       "      <td>1</td>\n",
       "      <td>18</td>\n",
       "      <td>16</td>\n",
       "      <td>0</td>\n",
       "      <td>1</td>\n",
       "      <td>Australia</td>\n",
       "      <td>1</td>\n",
       "    </tr>\n",
       "    <tr>\n",
       "      <th>1</th>\n",
       "      <td>6</td>\n",
       "      <td>1</td>\n",
       "      <td>23</td>\n",
       "      <td>42</td>\n",
       "      <td>10</td>\n",
       "      <td>1</td>\n",
       "      <td>Australia</td>\n",
       "      <td>1</td>\n",
       "    </tr>\n",
       "    <tr>\n",
       "      <th>2</th>\n",
       "      <td>6</td>\n",
       "      <td>1</td>\n",
       "      <td>93</td>\n",
       "      <td>81</td>\n",
       "      <td>0</td>\n",
       "      <td>1</td>\n",
       "      <td>Australia</td>\n",
       "      <td>1</td>\n",
       "    </tr>\n",
       "    <tr>\n",
       "      <th>3</th>\n",
       "      <td>6</td>\n",
       "      <td>1</td>\n",
       "      <td>158</td>\n",
       "      <td>118</td>\n",
       "      <td>0</td>\n",
       "      <td>1</td>\n",
       "      <td>New Zealand</td>\n",
       "      <td>0</td>\n",
       "    </tr>\n",
       "    <tr>\n",
       "      <th>4</th>\n",
       "      <td>6</td>\n",
       "      <td>1</td>\n",
       "      <td>158</td>\n",
       "      <td>118</td>\n",
       "      <td>0</td>\n",
       "      <td>1</td>\n",
       "      <td>New Zealand</td>\n",
       "      <td>0</td>\n",
       "    </tr>\n",
       "  </tbody>\n",
       "</table>\n",
       "</div>"
      ],
      "text/plain": [
       "   Team1 Name  Team2 Name  Match Venue (Stadium)  Match Venue (City)  \\\n",
       "0           6           1                     18                  16   \n",
       "1           6           1                     23                  42   \n",
       "2           6           1                     93                  81   \n",
       "3           6           1                    158                 118   \n",
       "4           6           1                    158                 118   \n",
       "\n",
       "   Match Venue (Country) Bat First Match Winner Winner  \n",
       "0                      0         1    Australia      1  \n",
       "1                     10         1    Australia      1  \n",
       "2                      0         1    Australia      1  \n",
       "3                      0         1  New Zealand      0  \n",
       "4                      0         1  New Zealand      0  "
      ]
     },
     "execution_count": 36,
     "metadata": {},
     "output_type": "execute_result"
    }
   ],
   "source": [
    "dataset.head()"
   ]
  },
  {
   "cell_type": "code",
   "execution_count": 41,
   "id": "8502bc63",
   "metadata": {},
   "outputs": [],
   "source": [
    "dataset = dataset.dropna()"
   ]
  },
  {
   "cell_type": "code",
   "execution_count": 46,
   "id": "d9f838f1",
   "metadata": {},
   "outputs": [
    {
     "name": "stdout",
     "output_type": "stream",
     "text": [
      "<bound method DataFrame.value_counts of       Team1 Name  Team2 Name  Match Venue (Stadium)  Match Venue (City)  \\\n",
      "0              6           1                     18                  16   \n",
      "1              6           1                     23                  42   \n",
      "2              6           1                     93                  81   \n",
      "3              6           1                    158                 118   \n",
      "4              6           1                    158                 118   \n",
      "...          ...         ...                    ...                 ...   \n",
      "2664           5           0                    171                   4   \n",
      "2665           5           0                    171                   4   \n",
      "2666           5           0                    152                 122   \n",
      "2667           5           0                     56                 107   \n",
      "2668           5           0                    145                 111   \n",
      "\n",
      "      Match Venue (Country) Bat First Match Winner Winner  \n",
      "0                         0         1    Australia      1  \n",
      "1                        10         1    Australia      1  \n",
      "2                         0         1    Australia      1  \n",
      "3                         0         1  New Zealand      0  \n",
      "4                         0         1  New Zealand      0  \n",
      "...                     ...       ...          ...    ...  \n",
      "2664                      9         1  Netherlands      0  \n",
      "2665                      9         1  Afghanistan      1  \n",
      "2666                      9         1  Afghanistan      1  \n",
      "2667                      9         1  Afghanistan      1  \n",
      "2668                     17         1  Afghanistan      1  \n",
      "\n",
      "[2548 rows x 8 columns]>\n"
     ]
    }
   ],
   "source": [
    "print(dataset.value_counts)"
   ]
  },
  {
   "cell_type": "code",
   "execution_count": 50,
   "id": "e3066959",
   "metadata": {},
   "outputs": [],
   "source": [
    "X = dataset.drop(columns=['Match Winner','Winner','Match Venue (Stadium)','Match Venue (Country)'],axis=1)\n",
    "y = dataset['Winner']\n",
    "y=y.astype('int')"
   ]
  },
  {
   "cell_type": "code",
   "execution_count": 51,
   "id": "b3e92c9d",
   "metadata": {},
   "outputs": [],
   "source": [
    "from sklearn.model_selection import train_test_split\n",
    "X_train, X_test, y_train, y_test = train_test_split(X, y, random_state=42)"
   ]
  },
  {
   "cell_type": "code",
   "execution_count": 52,
   "id": "a1da68b9",
   "metadata": {},
   "outputs": [
    {
     "name": "stdout",
     "output_type": "stream",
     "text": [
      "Fitting 7 folds for each of 108 candidates, totalling 756 fits\n",
      "Best Hyperparameters: {'max_depth': 10, 'min_samples_leaf': 2, 'min_samples_split': 10, 'n_estimators': 200}\n",
      "Accuracy: 0.5886970172684458\n",
      "Classification Report:\n",
      "              precision    recall  f1-score   support\n",
      "\n",
      "           0       0.59      0.54      0.56       314\n",
      "           1       0.59      0.63      0.61       323\n",
      "\n",
      "    accuracy                           0.59       637\n",
      "   macro avg       0.59      0.59      0.59       637\n",
      "weighted avg       0.59      0.59      0.59       637\n",
      "\n"
     ]
    }
   ],
   "source": [
    "import numpy as np\n",
    "import pandas as pd\n",
    "from sklearn.model_selection import train_test_split, GridSearchCV\n",
    "from sklearn.ensemble import RandomForestClassifier\n",
    "from sklearn.metrics import accuracy_score, classification_report\n",
    "\n",
    "# Define the RandomForestClassifier\n",
    "rf_classifier = RandomForestClassifier()\n",
    "\n",
    "# Define the hyperparameter grid to search\n",
    "param_grid = {\n",
    "    'n_estimators': [50, 100, 200],\n",
    "    'max_depth': [None, 10, 20, 30],\n",
    "    'min_samples_split': [2, 5, 10],\n",
    "    'min_samples_leaf': [1, 2, 4]\n",
    "}\n",
    "\n",
    "# Create the GridSearchCV object\n",
    "grid_search = GridSearchCV(estimator=rf_classifier, param_grid=param_grid, cv=7, scoring='accuracy', n_jobs=-1,verbose=1)\n",
    "\n",
    "# Fit the model with the training data\n",
    "grid_search.fit(X_train, y_train)\n",
    "\n",
    "# Get the best hyperparameters\n",
    "best_params = grid_search.best_params_\n",
    "print(\"Best Hyperparameters:\", best_params)\n",
    "\n",
    "# Use the best model to make predictions on the test set\n",
    "best_rf_model = grid_search.best_estimator_\n",
    "y_pred = best_rf_model.predict(X_test)\n",
    "\n",
    "# Evaluate the performance of the model\n",
    "accuracy = accuracy_score(y_test, y_pred)\n",
    "print(\"Accuracy:\", accuracy)\n",
    "\n",
    "# Display a classification report\n",
    "print(\"Classification Report:\")\n",
    "print(classification_report(y_test, y_pred))\n"
   ]
  },
  {
   "cell_type": "markdown",
   "id": "17ef4eac",
   "metadata": {},
   "source": [
    "### 1st semifinal will be between India and New Zealand in Mumbai and second will be between South Africa and Australia in Kolkata"
   ]
  },
  {
   "cell_type": "code",
   "execution_count": 55,
   "id": "71f310d1",
   "metadata": {},
   "outputs": [
    {
     "data": {
      "text/html": [
       "<div>\n",
       "<style scoped>\n",
       "    .dataframe tbody tr th:only-of-type {\n",
       "        vertical-align: middle;\n",
       "    }\n",
       "\n",
       "    .dataframe tbody tr th {\n",
       "        vertical-align: top;\n",
       "    }\n",
       "\n",
       "    .dataframe thead th {\n",
       "        text-align: right;\n",
       "    }\n",
       "</style>\n",
       "<table border=\"1\" class=\"dataframe\">\n",
       "  <thead>\n",
       "    <tr style=\"text-align: right;\">\n",
       "      <th></th>\n",
       "      <th>Team1 Name</th>\n",
       "      <th>Team2 Name</th>\n",
       "      <th>Match Venue (City)</th>\n",
       "      <th>Bat First</th>\n",
       "    </tr>\n",
       "  </thead>\n",
       "  <tbody>\n",
       "    <tr>\n",
       "      <th>1568</th>\n",
       "      <td>9</td>\n",
       "      <td>4</td>\n",
       "      <td>66</td>\n",
       "      <td>1</td>\n",
       "    </tr>\n",
       "    <tr>\n",
       "      <th>2587</th>\n",
       "      <td>7</td>\n",
       "      <td>8</td>\n",
       "      <td>5</td>\n",
       "      <td>1</td>\n",
       "    </tr>\n",
       "    <tr>\n",
       "      <th>1807</th>\n",
       "      <td>8</td>\n",
       "      <td>4</td>\n",
       "      <td>24</td>\n",
       "      <td>1</td>\n",
       "    </tr>\n",
       "    <tr>\n",
       "      <th>1273</th>\n",
       "      <td>4</td>\n",
       "      <td>3</td>\n",
       "      <td>92</td>\n",
       "      <td>1</td>\n",
       "    </tr>\n",
       "    <tr>\n",
       "      <th>1118</th>\n",
       "      <td>1</td>\n",
       "      <td>3</td>\n",
       "      <td>76</td>\n",
       "      <td>1</td>\n",
       "    </tr>\n",
       "  </tbody>\n",
       "</table>\n",
       "</div>"
      ],
      "text/plain": [
       "      Team1 Name  Team2 Name  Match Venue (City) Bat First\n",
       "1568           9           4                  66         1\n",
       "2587           7           8                   5         1\n",
       "1807           8           4                  24         1\n",
       "1273           4           3                  92         1\n",
       "1118           1           3                  76         1"
      ]
     },
     "execution_count": 55,
     "metadata": {},
     "output_type": "execute_result"
    }
   ],
   "source": [
    "X_train.head()"
   ]
  },
  {
   "cell_type": "code",
   "execution_count": 84,
   "id": "d657c530",
   "metadata": {},
   "outputs": [
    {
     "name": "stderr",
     "output_type": "stream",
     "text": [
      "/var/folders/_8/xfc42_6120n2mkkw2ymrm37r0000gn/T/ipykernel_37017/2657255306.py:5: FutureWarning: The frame.append method is deprecated and will be removed from pandas in a future version. Use pandas.concat instead.\n",
      "  df_copy = df_copy.append(sf1, ignore_index=True)\n",
      "/var/folders/_8/xfc42_6120n2mkkw2ymrm37r0000gn/T/ipykernel_37017/2657255306.py:6: FutureWarning: The frame.append method is deprecated and will be removed from pandas in a future version. Use pandas.concat instead.\n",
      "  df_copy = df_copy.append(sf2, ignore_index=True)\n"
     ]
    }
   ],
   "source": [
    "sf1 = pd.Series([6,4,85,1], index=X.columns)\n",
    "sf2 = pd.Series([8,1,71,1], index=X.columns)\n",
    "df_copy = X.copy()\n",
    "df_copy.drop(df_copy.index, inplace=True)\n",
    "df_copy = df_copy.append(sf1, ignore_index=True)\n",
    "df_copy = df_copy.append(sf2, ignore_index=True)"
   ]
  },
  {
   "cell_type": "code",
   "execution_count": 85,
   "id": "50d511df",
   "metadata": {},
   "outputs": [
    {
     "name": "stdout",
     "output_type": "stream",
     "text": [
      "[1 0]\n"
     ]
    }
   ],
   "source": [
    "result1 = grid_search.predict(df_copy)\n",
    "print(result1)\n",
    "# print(result2)"
   ]
  },
  {
   "cell_type": "code",
   "execution_count": 93,
   "id": "cffa5a7f",
   "metadata": {},
   "outputs": [
    {
     "name": "stderr",
     "output_type": "stream",
     "text": [
      "/var/folders/_8/xfc42_6120n2mkkw2ymrm37r0000gn/T/ipykernel_37017/2493445016.py:3: FutureWarning: The frame.append method is deprecated and will be removed from pandas in a future version. Use pandas.concat instead.\n",
      "  df_copy = df_copy.append(sf3, ignore_index=True)\n"
     ]
    }
   ],
   "source": [
    "sf3 = pd.Series([8,4,2,1],index=X.columns)\n",
    "df_copy.drop(df_copy.index, inplace=True)\n",
    "df_copy = df_copy.append(sf3, ignore_index=True)"
   ]
  },
  {
   "cell_type": "code",
   "execution_count": 94,
   "id": "3ae68e2c",
   "metadata": {},
   "outputs": [
    {
     "name": "stdout",
     "output_type": "stream",
     "text": [
      "[1]\n"
     ]
    }
   ],
   "source": [
    "final_result = grid_search.predict(df_copy)\n",
    "print(final_result)"
   ]
  },
  {
   "cell_type": "code",
   "execution_count": 96,
   "id": "487c4d0f",
   "metadata": {},
   "outputs": [],
   "source": [
    "import pickle\n",
    "# open a file, where you ant to store the data\n",
    "file = open('random_forest_regression_model.pkl', 'wb')\n",
    "\n",
    "# dump information to that file\n",
    "pickle.dump(grid_search, file)"
   ]
  },
  {
   "cell_type": "code",
   "execution_count": null,
   "id": "a9b23e42",
   "metadata": {},
   "outputs": [],
   "source": []
  }
 ],
 "metadata": {
  "kernelspec": {
   "display_name": "Python 3 (ipykernel)",
   "language": "python",
   "name": "python3"
  },
  "language_info": {
   "codemirror_mode": {
    "name": "ipython",
    "version": 3
   },
   "file_extension": ".py",
   "mimetype": "text/x-python",
   "name": "python",
   "nbconvert_exporter": "python",
   "pygments_lexer": "ipython3",
   "version": "3.10.9"
  }
 },
 "nbformat": 4,
 "nbformat_minor": 5
}
