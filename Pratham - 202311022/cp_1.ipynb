{
 "cells": [
  {
   "cell_type": "markdown",
   "source": [
    "# Importing Libraries"
   ],
   "metadata": {
    "collapsed": false
   },
   "id": "cfe9924c9e053037"
  },
  {
   "cell_type": "code",
   "execution_count": 2,
   "id": "initial_id",
   "metadata": {
    "collapsed": true,
    "ExecuteTime": {
     "end_time": "2023-09-14T12:50:16.970278200Z",
     "start_time": "2023-09-14T12:50:16.930136800Z"
    }
   },
   "outputs": [],
   "source": [
    "import pandas as pd\n",
    "import numpy as np\n",
    "import matplotlib.pyplot as plt\n",
    "import seaborn as sns"
   ]
  },
  {
   "cell_type": "code",
   "execution_count": 3,
   "outputs": [
    {
     "data": {
      "text/plain": "       YearStart  YearEnd LocationAbbr    LocationDesc  \\\n0           2011     2011           AL         Alabama   \n1           2011     2011           AL         Alabama   \n2           2011     2011           AL         Alabama   \n3           2011     2011           AL         Alabama   \n4           2011     2011           AL         Alabama   \n...          ...      ...          ...             ...   \n53387       2016     2016           VI  Virgin Islands   \n53388       2016     2016           VI  Virgin Islands   \n53389       2016     2016           VI  Virgin Islands   \n53390       2016     2016           VI  Virgin Islands   \n53391       2016     2016           VI  Virgin Islands   \n\n                                       Datasource                    Class  \\\n0      Behavioral Risk Factor Surveillance System  Obesity / Weight Status   \n1      Behavioral Risk Factor Surveillance System  Obesity / Weight Status   \n2      Behavioral Risk Factor Surveillance System  Obesity / Weight Status   \n3      Behavioral Risk Factor Surveillance System  Obesity / Weight Status   \n4      Behavioral Risk Factor Surveillance System  Obesity / Weight Status   \n...                                           ...                      ...   \n53387  Behavioral Risk Factor Surveillance System        Physical Activity   \n53388  Behavioral Risk Factor Surveillance System        Physical Activity   \n53389  Behavioral Risk Factor Surveillance System        Physical Activity   \n53390  Behavioral Risk Factor Surveillance System        Physical Activity   \n53391  Behavioral Risk Factor Surveillance System        Physical Activity   \n\n                              Topic  \\\n0           Obesity / Weight Status   \n1           Obesity / Weight Status   \n2           Obesity / Weight Status   \n3           Obesity / Weight Status   \n4           Obesity / Weight Status   \n...                             ...   \n53387  Physical Activity - Behavior   \n53388  Physical Activity - Behavior   \n53389  Physical Activity - Behavior   \n53390  Physical Activity - Behavior   \n53391  Physical Activity - Behavior   \n\n                                                Question  Data_Value_Unit  \\\n0      Percent of adults aged 18 years and older who ...              NaN   \n1      Percent of adults aged 18 years and older who ...              NaN   \n2      Percent of adults aged 18 years and older who ...              NaN   \n3      Percent of adults aged 18 years and older who ...              NaN   \n4      Percent of adults aged 18 years and older who ...              NaN   \n...                                                  ...              ...   \n53387  Percent of adults who engage in no leisure-tim...              NaN   \n53388  Percent of adults who engage in no leisure-tim...              NaN   \n53389  Percent of adults who engage in no leisure-tim...              NaN   \n53390  Percent of adults who engage in no leisure-tim...              NaN   \n53391  Percent of adults who engage in no leisure-tim...              NaN   \n\n      Data_Value_Type  ...                              GeoLocation  ClassID  \\\n0               Value  ...  (32.84057112200048, -86.63186076199969)      OWS   \n1               Value  ...  (32.84057112200048, -86.63186076199969)      OWS   \n2               Value  ...  (32.84057112200048, -86.63186076199969)      OWS   \n3               Value  ...  (32.84057112200048, -86.63186076199969)      OWS   \n4               Value  ...  (32.84057112200048, -86.63186076199969)      OWS   \n...               ...  ...                                      ...      ...   \n53387           Value  ...                  (18.335765, -64.896335)       PA   \n53388           Value  ...                  (18.335765, -64.896335)       PA   \n53389           Value  ...                  (18.335765, -64.896335)       PA   \n53390           Value  ...                  (18.335765, -64.896335)       PA   \n53391           Value  ...                  (18.335765, -64.896335)       PA   \n\n      TopicID QuestionID  DataValueTypeID  LocationID  \\\n0        OWS1       Q036            VALUE           1   \n1        OWS1       Q036            VALUE           1   \n2        OWS1       Q036            VALUE           1   \n3        OWS1       Q036            VALUE           1   \n4        OWS1       Q036            VALUE           1   \n...       ...        ...              ...         ...   \n53387     PA1       Q047            VALUE          78   \n53388     PA1       Q047            VALUE          78   \n53389     PA1       Q047            VALUE          78   \n53390     PA1       Q047            VALUE          78   \n53391     PA1       Q047            VALUE          78   \n\n       StratificationCategory1                Stratification1  \\\n0                        Total                          Total   \n1                       Gender                           Male   \n2                       Gender                         Female   \n3                    Education          Less than high school   \n4                    Education           High school graduate   \n...                        ...                            ...   \n53387           Race/Ethnicity                          Asian   \n53388           Race/Ethnicity      Hawaiian/Pacific Islander   \n53389           Race/Ethnicity  American Indian/Alaska Native   \n53390           Race/Ethnicity                2 or more races   \n53391           Race/Ethnicity                          Other   \n\n      StratificationCategoryId1 StratificationID1  \n0                           OVR           OVERALL  \n1                           GEN              MALE  \n2                           GEN            FEMALE  \n3                           EDU             EDUHS  \n4                           EDU         EDUHSGRAD  \n...                         ...               ...  \n53387                      RACE           RACEASN  \n53388                      RACE           RACEHPI  \n53389                      RACE           RACENAA  \n53390                      RACE         RACE2PLUS  \n53391                      RACE           RACEOTH  \n\n[53392 rows x 33 columns]",
      "text/html": "<div>\n<style scoped>\n    .dataframe tbody tr th:only-of-type {\n        vertical-align: middle;\n    }\n\n    .dataframe tbody tr th {\n        vertical-align: top;\n    }\n\n    .dataframe thead th {\n        text-align: right;\n    }\n</style>\n<table border=\"1\" class=\"dataframe\">\n  <thead>\n    <tr style=\"text-align: right;\">\n      <th></th>\n      <th>YearStart</th>\n      <th>YearEnd</th>\n      <th>LocationAbbr</th>\n      <th>LocationDesc</th>\n      <th>Datasource</th>\n      <th>Class</th>\n      <th>Topic</th>\n      <th>Question</th>\n      <th>Data_Value_Unit</th>\n      <th>Data_Value_Type</th>\n      <th>...</th>\n      <th>GeoLocation</th>\n      <th>ClassID</th>\n      <th>TopicID</th>\n      <th>QuestionID</th>\n      <th>DataValueTypeID</th>\n      <th>LocationID</th>\n      <th>StratificationCategory1</th>\n      <th>Stratification1</th>\n      <th>StratificationCategoryId1</th>\n      <th>StratificationID1</th>\n    </tr>\n  </thead>\n  <tbody>\n    <tr>\n      <th>0</th>\n      <td>2011</td>\n      <td>2011</td>\n      <td>AL</td>\n      <td>Alabama</td>\n      <td>Behavioral Risk Factor Surveillance System</td>\n      <td>Obesity / Weight Status</td>\n      <td>Obesity / Weight Status</td>\n      <td>Percent of adults aged 18 years and older who ...</td>\n      <td>NaN</td>\n      <td>Value</td>\n      <td>...</td>\n      <td>(32.84057112200048, -86.63186076199969)</td>\n      <td>OWS</td>\n      <td>OWS1</td>\n      <td>Q036</td>\n      <td>VALUE</td>\n      <td>1</td>\n      <td>Total</td>\n      <td>Total</td>\n      <td>OVR</td>\n      <td>OVERALL</td>\n    </tr>\n    <tr>\n      <th>1</th>\n      <td>2011</td>\n      <td>2011</td>\n      <td>AL</td>\n      <td>Alabama</td>\n      <td>Behavioral Risk Factor Surveillance System</td>\n      <td>Obesity / Weight Status</td>\n      <td>Obesity / Weight Status</td>\n      <td>Percent of adults aged 18 years and older who ...</td>\n      <td>NaN</td>\n      <td>Value</td>\n      <td>...</td>\n      <td>(32.84057112200048, -86.63186076199969)</td>\n      <td>OWS</td>\n      <td>OWS1</td>\n      <td>Q036</td>\n      <td>VALUE</td>\n      <td>1</td>\n      <td>Gender</td>\n      <td>Male</td>\n      <td>GEN</td>\n      <td>MALE</td>\n    </tr>\n    <tr>\n      <th>2</th>\n      <td>2011</td>\n      <td>2011</td>\n      <td>AL</td>\n      <td>Alabama</td>\n      <td>Behavioral Risk Factor Surveillance System</td>\n      <td>Obesity / Weight Status</td>\n      <td>Obesity / Weight Status</td>\n      <td>Percent of adults aged 18 years and older who ...</td>\n      <td>NaN</td>\n      <td>Value</td>\n      <td>...</td>\n      <td>(32.84057112200048, -86.63186076199969)</td>\n      <td>OWS</td>\n      <td>OWS1</td>\n      <td>Q036</td>\n      <td>VALUE</td>\n      <td>1</td>\n      <td>Gender</td>\n      <td>Female</td>\n      <td>GEN</td>\n      <td>FEMALE</td>\n    </tr>\n    <tr>\n      <th>3</th>\n      <td>2011</td>\n      <td>2011</td>\n      <td>AL</td>\n      <td>Alabama</td>\n      <td>Behavioral Risk Factor Surveillance System</td>\n      <td>Obesity / Weight Status</td>\n      <td>Obesity / Weight Status</td>\n      <td>Percent of adults aged 18 years and older who ...</td>\n      <td>NaN</td>\n      <td>Value</td>\n      <td>...</td>\n      <td>(32.84057112200048, -86.63186076199969)</td>\n      <td>OWS</td>\n      <td>OWS1</td>\n      <td>Q036</td>\n      <td>VALUE</td>\n      <td>1</td>\n      <td>Education</td>\n      <td>Less than high school</td>\n      <td>EDU</td>\n      <td>EDUHS</td>\n    </tr>\n    <tr>\n      <th>4</th>\n      <td>2011</td>\n      <td>2011</td>\n      <td>AL</td>\n      <td>Alabama</td>\n      <td>Behavioral Risk Factor Surveillance System</td>\n      <td>Obesity / Weight Status</td>\n      <td>Obesity / Weight Status</td>\n      <td>Percent of adults aged 18 years and older who ...</td>\n      <td>NaN</td>\n      <td>Value</td>\n      <td>...</td>\n      <td>(32.84057112200048, -86.63186076199969)</td>\n      <td>OWS</td>\n      <td>OWS1</td>\n      <td>Q036</td>\n      <td>VALUE</td>\n      <td>1</td>\n      <td>Education</td>\n      <td>High school graduate</td>\n      <td>EDU</td>\n      <td>EDUHSGRAD</td>\n    </tr>\n    <tr>\n      <th>...</th>\n      <td>...</td>\n      <td>...</td>\n      <td>...</td>\n      <td>...</td>\n      <td>...</td>\n      <td>...</td>\n      <td>...</td>\n      <td>...</td>\n      <td>...</td>\n      <td>...</td>\n      <td>...</td>\n      <td>...</td>\n      <td>...</td>\n      <td>...</td>\n      <td>...</td>\n      <td>...</td>\n      <td>...</td>\n      <td>...</td>\n      <td>...</td>\n      <td>...</td>\n      <td>...</td>\n    </tr>\n    <tr>\n      <th>53387</th>\n      <td>2016</td>\n      <td>2016</td>\n      <td>VI</td>\n      <td>Virgin Islands</td>\n      <td>Behavioral Risk Factor Surveillance System</td>\n      <td>Physical Activity</td>\n      <td>Physical Activity - Behavior</td>\n      <td>Percent of adults who engage in no leisure-tim...</td>\n      <td>NaN</td>\n      <td>Value</td>\n      <td>...</td>\n      <td>(18.335765, -64.896335)</td>\n      <td>PA</td>\n      <td>PA1</td>\n      <td>Q047</td>\n      <td>VALUE</td>\n      <td>78</td>\n      <td>Race/Ethnicity</td>\n      <td>Asian</td>\n      <td>RACE</td>\n      <td>RACEASN</td>\n    </tr>\n    <tr>\n      <th>53388</th>\n      <td>2016</td>\n      <td>2016</td>\n      <td>VI</td>\n      <td>Virgin Islands</td>\n      <td>Behavioral Risk Factor Surveillance System</td>\n      <td>Physical Activity</td>\n      <td>Physical Activity - Behavior</td>\n      <td>Percent of adults who engage in no leisure-tim...</td>\n      <td>NaN</td>\n      <td>Value</td>\n      <td>...</td>\n      <td>(18.335765, -64.896335)</td>\n      <td>PA</td>\n      <td>PA1</td>\n      <td>Q047</td>\n      <td>VALUE</td>\n      <td>78</td>\n      <td>Race/Ethnicity</td>\n      <td>Hawaiian/Pacific Islander</td>\n      <td>RACE</td>\n      <td>RACEHPI</td>\n    </tr>\n    <tr>\n      <th>53389</th>\n      <td>2016</td>\n      <td>2016</td>\n      <td>VI</td>\n      <td>Virgin Islands</td>\n      <td>Behavioral Risk Factor Surveillance System</td>\n      <td>Physical Activity</td>\n      <td>Physical Activity - Behavior</td>\n      <td>Percent of adults who engage in no leisure-tim...</td>\n      <td>NaN</td>\n      <td>Value</td>\n      <td>...</td>\n      <td>(18.335765, -64.896335)</td>\n      <td>PA</td>\n      <td>PA1</td>\n      <td>Q047</td>\n      <td>VALUE</td>\n      <td>78</td>\n      <td>Race/Ethnicity</td>\n      <td>American Indian/Alaska Native</td>\n      <td>RACE</td>\n      <td>RACENAA</td>\n    </tr>\n    <tr>\n      <th>53390</th>\n      <td>2016</td>\n      <td>2016</td>\n      <td>VI</td>\n      <td>Virgin Islands</td>\n      <td>Behavioral Risk Factor Surveillance System</td>\n      <td>Physical Activity</td>\n      <td>Physical Activity - Behavior</td>\n      <td>Percent of adults who engage in no leisure-tim...</td>\n      <td>NaN</td>\n      <td>Value</td>\n      <td>...</td>\n      <td>(18.335765, -64.896335)</td>\n      <td>PA</td>\n      <td>PA1</td>\n      <td>Q047</td>\n      <td>VALUE</td>\n      <td>78</td>\n      <td>Race/Ethnicity</td>\n      <td>2 or more races</td>\n      <td>RACE</td>\n      <td>RACE2PLUS</td>\n    </tr>\n    <tr>\n      <th>53391</th>\n      <td>2016</td>\n      <td>2016</td>\n      <td>VI</td>\n      <td>Virgin Islands</td>\n      <td>Behavioral Risk Factor Surveillance System</td>\n      <td>Physical Activity</td>\n      <td>Physical Activity - Behavior</td>\n      <td>Percent of adults who engage in no leisure-tim...</td>\n      <td>NaN</td>\n      <td>Value</td>\n      <td>...</td>\n      <td>(18.335765, -64.896335)</td>\n      <td>PA</td>\n      <td>PA1</td>\n      <td>Q047</td>\n      <td>VALUE</td>\n      <td>78</td>\n      <td>Race/Ethnicity</td>\n      <td>Other</td>\n      <td>RACE</td>\n      <td>RACEOTH</td>\n    </tr>\n  </tbody>\n</table>\n<p>53392 rows × 33 columns</p>\n</div>"
     },
     "execution_count": 3,
     "metadata": {},
     "output_type": "execute_result"
    }
   ],
   "source": [
    "df = pd.read_csv('risk_factor_surveillance_database.csv')\n",
    "df"
   ],
   "metadata": {
    "collapsed": false,
    "ExecuteTime": {
     "end_time": "2023-09-14T12:50:17.187787400Z",
     "start_time": "2023-09-14T12:50:16.932651900Z"
    }
   },
   "id": "29b49f3c9886b59"
  },
  {
   "cell_type": "markdown",
   "source": [
    "# Removing rows with no sample sizes."
   ],
   "metadata": {
    "collapsed": false
   },
   "id": "97f26abb7d274a34"
  },
  {
   "cell_type": "code",
   "execution_count": 4,
   "outputs": [],
   "source": [
    "df.drop(df[df['Data_Value_Footnote_Symbol'] == '~'].index, inplace=True)"
   ],
   "metadata": {
    "collapsed": false,
    "ExecuteTime": {
     "end_time": "2023-09-14T12:50:17.211124300Z",
     "start_time": "2023-09-14T12:50:17.185618Z"
    }
   },
   "id": "d0723bcc9f552a85"
  },
  {
   "cell_type": "markdown",
   "source": [
    "# Dropping Unnecessary Columns"
   ],
   "metadata": {
    "collapsed": false
   },
   "id": "75701a72d9e71fc"
  },
  {
   "cell_type": "code",
   "execution_count": 5,
   "outputs": [
    {
     "data": {
      "text/plain": "       YearStart  Data_Value  Sample_Size  Total Age(years)  \\\n0           2011        32.0       7304.0  Total        NaN   \n1           2011        32.3       2581.0    NaN        NaN   \n2           2011        31.8       4723.0    NaN        NaN   \n3           2011        33.6       1153.0    NaN        NaN   \n4           2011        32.8       2402.0    NaN        NaN   \n...          ...         ...          ...    ...        ...   \n53382       2016        13.3        212.0    NaN        NaN   \n53383       2016        25.3        137.0    NaN        NaN   \n53384       2016        18.3        154.0    NaN        NaN   \n53385       2016        24.1        820.0    NaN        NaN   \n53386       2016        30.3        178.0    NaN        NaN   \n\n                   Education  Gender              Income      Race/Ethnicity  \\\n0                        NaN     NaN                 NaN                 NaN   \n1                        NaN    Male                 NaN                 NaN   \n2                        NaN  Female                 NaN                 NaN   \n3      Less than high school     NaN                 NaN                 NaN   \n4       High school graduate     NaN                 NaN                 NaN   \n...                      ...     ...                 ...                 ...   \n53382                    NaN     NaN  $75,000 or greater                 NaN   \n53383                    NaN     NaN   Data not reported                 NaN   \n53384                    NaN     NaN                 NaN  Non-Hispanic White   \n53385                    NaN     NaN                 NaN  Non-Hispanic Black   \n53386                    NaN     NaN                 NaN            Hispanic   \n\n      QuestionID  LocationID StratificationID1  \n0           Q036           1           OVERALL  \n1           Q036           1              MALE  \n2           Q036           1            FEMALE  \n3           Q036           1             EDUHS  \n4           Q036           1         EDUHSGRAD  \n...          ...         ...               ...  \n53382       Q047          78         INC75PLUS  \n53383       Q047          78             INCNR  \n53384       Q047          78           RACEWHT  \n53385       Q047          78           RACEBLK  \n53386       Q047          78           RACEHIS  \n\n[48346 rows x 12 columns]",
      "text/html": "<div>\n<style scoped>\n    .dataframe tbody tr th:only-of-type {\n        vertical-align: middle;\n    }\n\n    .dataframe tbody tr th {\n        vertical-align: top;\n    }\n\n    .dataframe thead th {\n        text-align: right;\n    }\n</style>\n<table border=\"1\" class=\"dataframe\">\n  <thead>\n    <tr style=\"text-align: right;\">\n      <th></th>\n      <th>YearStart</th>\n      <th>Data_Value</th>\n      <th>Sample_Size</th>\n      <th>Total</th>\n      <th>Age(years)</th>\n      <th>Education</th>\n      <th>Gender</th>\n      <th>Income</th>\n      <th>Race/Ethnicity</th>\n      <th>QuestionID</th>\n      <th>LocationID</th>\n      <th>StratificationID1</th>\n    </tr>\n  </thead>\n  <tbody>\n    <tr>\n      <th>0</th>\n      <td>2011</td>\n      <td>32.0</td>\n      <td>7304.0</td>\n      <td>Total</td>\n      <td>NaN</td>\n      <td>NaN</td>\n      <td>NaN</td>\n      <td>NaN</td>\n      <td>NaN</td>\n      <td>Q036</td>\n      <td>1</td>\n      <td>OVERALL</td>\n    </tr>\n    <tr>\n      <th>1</th>\n      <td>2011</td>\n      <td>32.3</td>\n      <td>2581.0</td>\n      <td>NaN</td>\n      <td>NaN</td>\n      <td>NaN</td>\n      <td>Male</td>\n      <td>NaN</td>\n      <td>NaN</td>\n      <td>Q036</td>\n      <td>1</td>\n      <td>MALE</td>\n    </tr>\n    <tr>\n      <th>2</th>\n      <td>2011</td>\n      <td>31.8</td>\n      <td>4723.0</td>\n      <td>NaN</td>\n      <td>NaN</td>\n      <td>NaN</td>\n      <td>Female</td>\n      <td>NaN</td>\n      <td>NaN</td>\n      <td>Q036</td>\n      <td>1</td>\n      <td>FEMALE</td>\n    </tr>\n    <tr>\n      <th>3</th>\n      <td>2011</td>\n      <td>33.6</td>\n      <td>1153.0</td>\n      <td>NaN</td>\n      <td>NaN</td>\n      <td>Less than high school</td>\n      <td>NaN</td>\n      <td>NaN</td>\n      <td>NaN</td>\n      <td>Q036</td>\n      <td>1</td>\n      <td>EDUHS</td>\n    </tr>\n    <tr>\n      <th>4</th>\n      <td>2011</td>\n      <td>32.8</td>\n      <td>2402.0</td>\n      <td>NaN</td>\n      <td>NaN</td>\n      <td>High school graduate</td>\n      <td>NaN</td>\n      <td>NaN</td>\n      <td>NaN</td>\n      <td>Q036</td>\n      <td>1</td>\n      <td>EDUHSGRAD</td>\n    </tr>\n    <tr>\n      <th>...</th>\n      <td>...</td>\n      <td>...</td>\n      <td>...</td>\n      <td>...</td>\n      <td>...</td>\n      <td>...</td>\n      <td>...</td>\n      <td>...</td>\n      <td>...</td>\n      <td>...</td>\n      <td>...</td>\n      <td>...</td>\n    </tr>\n    <tr>\n      <th>53382</th>\n      <td>2016</td>\n      <td>13.3</td>\n      <td>212.0</td>\n      <td>NaN</td>\n      <td>NaN</td>\n      <td>NaN</td>\n      <td>NaN</td>\n      <td>$75,000 or greater</td>\n      <td>NaN</td>\n      <td>Q047</td>\n      <td>78</td>\n      <td>INC75PLUS</td>\n    </tr>\n    <tr>\n      <th>53383</th>\n      <td>2016</td>\n      <td>25.3</td>\n      <td>137.0</td>\n      <td>NaN</td>\n      <td>NaN</td>\n      <td>NaN</td>\n      <td>NaN</td>\n      <td>Data not reported</td>\n      <td>NaN</td>\n      <td>Q047</td>\n      <td>78</td>\n      <td>INCNR</td>\n    </tr>\n    <tr>\n      <th>53384</th>\n      <td>2016</td>\n      <td>18.3</td>\n      <td>154.0</td>\n      <td>NaN</td>\n      <td>NaN</td>\n      <td>NaN</td>\n      <td>NaN</td>\n      <td>NaN</td>\n      <td>Non-Hispanic White</td>\n      <td>Q047</td>\n      <td>78</td>\n      <td>RACEWHT</td>\n    </tr>\n    <tr>\n      <th>53385</th>\n      <td>2016</td>\n      <td>24.1</td>\n      <td>820.0</td>\n      <td>NaN</td>\n      <td>NaN</td>\n      <td>NaN</td>\n      <td>NaN</td>\n      <td>NaN</td>\n      <td>Non-Hispanic Black</td>\n      <td>Q047</td>\n      <td>78</td>\n      <td>RACEBLK</td>\n    </tr>\n    <tr>\n      <th>53386</th>\n      <td>2016</td>\n      <td>30.3</td>\n      <td>178.0</td>\n      <td>NaN</td>\n      <td>NaN</td>\n      <td>NaN</td>\n      <td>NaN</td>\n      <td>NaN</td>\n      <td>Hispanic</td>\n      <td>Q047</td>\n      <td>78</td>\n      <td>RACEHIS</td>\n    </tr>\n  </tbody>\n</table>\n<p>48346 rows × 12 columns</p>\n</div>"
     },
     "execution_count": 5,
     "metadata": {},
     "output_type": "execute_result"
    }
   ],
   "source": [
    "df = df.drop(\n",
    "    ['YearEnd', 'LocationDesc', 'LocationDesc', 'ClassID', 'TopicID', 'DataValueTypeID',\n",
    "     'StratificationCategoryId1', 'Stratification1', 'StratificationCategory1', 'Data_Value_Footnote', 'Data_Value_Footnote_Symbol', 'Data_Value_Alt', 'Data_Value_Type', 'Data_Value_Unit', 'Question', 'Topic', 'Class', 'LocationAbbr', 'Datasource', 'GeoLocation', \n",
    "     'Low_Confidence_Limit', 'High_Confidence_Limit '], \n",
    "    axis=1)\n",
    "df"
   ],
   "metadata": {
    "collapsed": false,
    "ExecuteTime": {
     "end_time": "2023-09-14T12:50:17.250107900Z",
     "start_time": "2023-09-14T12:50:17.202798400Z"
    }
   },
   "id": "dc07855d9d7d292d"
  },
  {
   "cell_type": "markdown",
   "source": [],
   "metadata": {
    "collapsed": false
   },
   "id": "32dcd180331affa4"
  },
  {
   "cell_type": "markdown",
   "source": [
    "# Getting obesity data"
   ],
   "metadata": {
    "collapsed": false
   },
   "id": "b55510e7e7d806a"
  },
  {
   "cell_type": "code",
   "execution_count": 6,
   "outputs": [],
   "source": [
    "obesity_df = df.loc[(df.QuestionID == 'Q036') | (df.QuestionID == 'Q037')]\n",
    "obesity_df = obesity_df.drop(['StratificationID1', 'QuestionID'], axis=1)"
   ],
   "metadata": {
    "collapsed": false,
    "ExecuteTime": {
     "end_time": "2023-09-14T12:50:17.250107900Z",
     "start_time": "2023-09-14T12:50:17.221951500Z"
    }
   },
   "id": "4564039cdff85e74"
  },
  {
   "cell_type": "markdown",
   "source": [
    "# Testing Label and Ordinal Encoding"
   ],
   "metadata": {
    "collapsed": false
   },
   "id": "a10c21f8e0c92291"
  },
  {
   "cell_type": "code",
   "execution_count": 7,
   "outputs": [],
   "source": [
    "from sklearn.preprocessing import LabelEncoder\n",
    "from sklearn.preprocessing import OrdinalEncoder\n",
    "from xgboost import XGBRegressor\n",
    "from sklearn.metrics import mean_squared_error\n",
    "from sklearn.metrics import r2_score\n",
    "from sklearn.model_selection import train_test_split\n",
    "\n",
    "obesity_df_1 = obesity_df.copy()\n",
    "label_encoder = LabelEncoder()\n",
    "ordinal_encoder = OrdinalEncoder()\n",
    "\n",
    "obesity_df_1['Age(years)'] = ordinal_encoder.fit_transform(obesity_df['Age(years)'].to_numpy().reshape(-1, 1))\n",
    "\n",
    "obesity_df_1['YearStart'] = ordinal_encoder.fit_transform(obesity_df['YearStart'].to_numpy().reshape(-1, 1))\n",
    "\n",
    "obesity_df_1['Education'] = ordinal_encoder.fit_transform(obesity_df['Education'].to_numpy().reshape(-1, 1))\n",
    "\n",
    "obesity_df_1['Gender'] = label_encoder.fit_transform(obesity_df['Gender'])\n",
    "obesity_df_1['Gender'] = obesity_df_1['Gender'].replace(2, np.nan)\n",
    "\n",
    "obesity_df_1['Income'] = ordinal_encoder.fit_transform(obesity_df['Income'].to_numpy().reshape(-1, 1))\n",
    "\n",
    "obesity_df_1['Race/Ethnicity'] = label_encoder.fit_transform(obesity_df['Race/Ethnicity'])\n",
    "obesity_df_1['Race/Ethnicity'] = obesity_df_1['Race/Ethnicity'].replace(8, np.nan)\n",
    "\n",
    "obesity_df_1['Total'] = label_encoder.fit_transform(obesity_df['Total'])\n",
    "\n",
    "obesity_df_1['Total'].value_counts()\n",
    "obesity_df_1['Total'] = obesity_df_1['Total'].replace(1, np.nan)\n"
   ],
   "metadata": {
    "collapsed": false,
    "ExecuteTime": {
     "end_time": "2023-09-14T12:50:17.530317800Z",
     "start_time": "2023-09-14T12:50:17.234488500Z"
    }
   },
   "id": "31aadbc2d7052f34"
  },
  {
   "cell_type": "code",
   "execution_count": 8,
   "outputs": [
    {
     "name": "stdout",
     "output_type": "stream",
     "text": [
      "MSE:  43.065581220472936\n",
      "R2:  0.019290847543379286\n"
     ]
    }
   ],
   "source": [
    "x = obesity_df_1.drop('Data_Value', axis=1)\n",
    "y = obesity_df_1['Data_Value']\n",
    "\n",
    "x_train, x_valid, y_train, y_valid = train_test_split(x, y)\n",
    "\n",
    "my_model = XGBRegressor()\n",
    "my_model.fit(x_train, y_train)\n",
    "predictions = my_model.predict(x_valid)\n",
    "print('MSE: ', mean_squared_error(y_true=y_valid, y_pred=predictions))\n",
    "print('R2: ', r2_score(y_true=y_valid, y_pred=predictions))"
   ],
   "metadata": {
    "collapsed": false,
    "ExecuteTime": {
     "end_time": "2023-09-14T12:50:17.794644400Z",
     "start_time": "2023-09-14T12:50:17.497935100Z"
    }
   },
   "id": "46d8ea2daaca4b03"
  },
  {
   "cell_type": "markdown",
   "source": [
    "# Testing One-Hot Encoder"
   ],
   "metadata": {
    "collapsed": false
   },
   "id": "d259a4fbe0671f67"
  },
  {
   "cell_type": "code",
   "execution_count": 9,
   "outputs": [],
   "source": [
    "obesity_df_2 = obesity_df.copy()\n",
    "obesity_df_2 = pd.get_dummies(data=obesity_df_2, columns=['Total','Age(years)','Education','Gender','Income','Race/Ethnicity', 'YearStart'], dtype=int)"
   ],
   "metadata": {
    "collapsed": false,
    "ExecuteTime": {
     "end_time": "2023-09-14T12:50:17.842616500Z",
     "start_time": "2023-09-14T12:50:17.794644400Z"
    }
   },
   "id": "2024fd4c85dd1ec"
  },
  {
   "cell_type": "code",
   "execution_count": 10,
   "outputs": [
    {
     "name": "stdout",
     "output_type": "stream",
     "text": [
      "MSE:  43.46454446353386\n",
      "R2:  -0.022539433280337917\n"
     ]
    }
   ],
   "source": [
    "x = obesity_df_2.drop('Data_Value', axis=1)\n",
    "y = obesity_df_2['Data_Value']\n",
    "\n",
    "x_train, x_valid, y_train, y_valid = train_test_split(x, y, train_size=0.8, test_size=0.2)\n",
    "\n",
    "my_model_2 = XGBRegressor()\n",
    "my_model_2.fit(x_train, y_train)\n",
    "predictions_2 = my_model_2.predict(x_valid)\n",
    "print('MSE: ', mean_squared_error(y_true=y_valid, y_pred=predictions_2))\n",
    "print('R2: ', r2_score(y_true=y_valid, y_pred=predictions_2))"
   ],
   "metadata": {
    "collapsed": false,
    "ExecuteTime": {
     "end_time": "2023-09-14T12:50:18.415476800Z",
     "start_time": "2023-09-14T12:50:17.826615100Z"
    }
   },
   "id": "714480259e54834"
  },
  {
   "cell_type": "markdown",
   "source": [
    "# Testing Cross Validation"
   ],
   "metadata": {
    "collapsed": false
   },
   "id": "74131d73c16963b0"
  },
  {
   "cell_type": "code",
   "execution_count": 11,
   "outputs": [
    {
     "name": "stdout",
     "output_type": "stream",
     "text": [
      "MSE:  38.430399191457425\n"
     ]
    }
   ],
   "source": [
    "from sklearn.model_selection import cross_val_score\n",
    "\n",
    "obesity_df_3 = obesity_df.copy()\n",
    "obesity_df_3 = pd.get_dummies(data=obesity_df_3, columns=['Total','Age(years)','Education','Gender','Income','Race/Ethnicity', 'YearStart'], dtype=int)\n",
    "\n",
    "x = obesity_df_3.drop('Data_Value', axis=1)\n",
    "y = obesity_df_3['Data_Value']\n",
    "\n",
    "my_model_3 = XGBRegressor()\n",
    "scores = -1 * cross_val_score(my_model_3, x, y, scoring='neg_mean_squared_error', cv=10, n_jobs=-1)\n",
    "\n",
    "print(\"MSE: \", scores.mean())"
   ],
   "metadata": {
    "collapsed": false,
    "ExecuteTime": {
     "end_time": "2023-09-14T12:50:22.665521100Z",
     "start_time": "2023-09-14T12:50:18.410477600Z"
    }
   },
   "id": "502068dd39b111d"
  },
  {
   "cell_type": "code",
   "execution_count": 12,
   "outputs": [],
   "source": [
    "# Thanks for Reading"
   ],
   "metadata": {
    "collapsed": false,
    "ExecuteTime": {
     "end_time": "2023-09-14T12:50:22.677663500Z",
     "start_time": "2023-09-14T12:50:22.668480800Z"
    }
   },
   "id": "755183f36c1c4e2b"
  },
  {
   "cell_type": "code",
   "execution_count": 12,
   "outputs": [],
   "source": [],
   "metadata": {
    "collapsed": false,
    "ExecuteTime": {
     "end_time": "2023-09-14T12:50:22.678662400Z",
     "start_time": "2023-09-14T12:50:22.672106100Z"
    }
   },
   "id": "3d94012ad7d4b6e"
  }
 ],
 "metadata": {
  "kernelspec": {
   "display_name": "Python 3",
   "language": "python",
   "name": "python3"
  },
  "language_info": {
   "codemirror_mode": {
    "name": "ipython",
    "version": 2
   },
   "file_extension": ".py",
   "mimetype": "text/x-python",
   "name": "python",
   "nbconvert_exporter": "python",
   "pygments_lexer": "ipython2",
   "version": "2.7.6"
  }
 },
 "nbformat": 4,
 "nbformat_minor": 5
}
