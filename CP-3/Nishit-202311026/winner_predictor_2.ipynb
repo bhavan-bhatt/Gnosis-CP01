{
 "cells": [
  {
   "cell_type": "code",
   "execution_count": 1,
   "metadata": {},
   "outputs": [],
   "source": [
    "import matplotlib.pyplot as plt\n",
    "import pandas as pd\n",
    "import numpy as np\n",
    "import os\n",
    "from xgboost import XGBClassifier\n",
    "import re\n",
    "from sklearn.metrics import classification_report\n",
    "from xgboost import plot_importance\n",
    "from sklearn.preprocessing import LabelEncoder\n",
    "from sklearn.model_selection import GridSearchCV, RandomizedSearchCV, train_test_split\n",
    "from sklearn.metrics import accuracy_score, f1_score, roc_auc_score, confusion_matrix, roc_curve\n",
    "# from skopt import BayesSearchCV\n",
    "import warnings\n",
    "warnings.filterwarnings('ignore')\n",
    "import pickle"
   ]
  },
  {
   "cell_type": "markdown",
   "metadata": {},
   "source": [
    "# Data reading and preprocessing"
   ]
  },
  {
   "cell_type": "code",
   "execution_count": 2,
   "metadata": {},
   "outputs": [],
   "source": [
    "df = pd.read_csv('man_odi_data_2.csv')"
   ]
  },
  {
   "cell_type": "code",
   "execution_count": 3,
   "metadata": {},
   "outputs": [
    {
     "data": {
      "text/html": [
       "<div>\n",
       "<style scoped>\n",
       "    .dataframe tbody tr th:only-of-type {\n",
       "        vertical-align: middle;\n",
       "    }\n",
       "\n",
       "    .dataframe tbody tr th {\n",
       "        vertical-align: top;\n",
       "    }\n",
       "\n",
       "    .dataframe thead th {\n",
       "        text-align: right;\n",
       "    }\n",
       "</style>\n",
       "<table border=\"1\" class=\"dataframe\">\n",
       "  <thead>\n",
       "    <tr style=\"text-align: right;\">\n",
       "      <th></th>\n",
       "      <th>Match Date</th>\n",
       "      <th>Team1 Name</th>\n",
       "      <th>Team1 Captain</th>\n",
       "      <th>Team2 Name</th>\n",
       "      <th>Team2 Captain</th>\n",
       "      <th>Match Venue (Stadium)</th>\n",
       "      <th>Match Venue (City)</th>\n",
       "      <th>Match Venue (Country)</th>\n",
       "      <th>Toss Winner</th>\n",
       "      <th>Toss Winner Choice</th>\n",
       "      <th>Match Winner</th>\n",
       "      <th>Team1 Playing 11</th>\n",
       "      <th>Team2 Playing 11</th>\n",
       "      <th>Debut Players</th>\n",
       "    </tr>\n",
       "  </thead>\n",
       "  <tbody>\n",
       "    <tr>\n",
       "      <th>0</th>\n",
       "      <td>07-01-1988</td>\n",
       "      <td>Australia</td>\n",
       "      <td>1572</td>\n",
       "      <td>New Zealand</td>\n",
       "      <td>1698</td>\n",
       "      <td>Melbourne Cricket Ground</td>\n",
       "      <td>Melbourne</td>\n",
       "      <td>Australia</td>\n",
       "      <td>Australia</td>\n",
       "      <td>bat</td>\n",
       "      <td>Australia</td>\n",
       "      <td>['1767', '1793', '1754', '1572', '1871', '1795...</td>\n",
       "      <td>['1550', '1863', '1861', '1669', '1698', '1846...</td>\n",
       "      <td>[]</td>\n",
       "    </tr>\n",
       "    <tr>\n",
       "      <th>1</th>\n",
       "      <td>12-01-1988</td>\n",
       "      <td>New Zealand</td>\n",
       "      <td>1698</td>\n",
       "      <td>Sri Lanka</td>\n",
       "      <td>1664</td>\n",
       "      <td>Bellerive Oval</td>\n",
       "      <td>Hobart</td>\n",
       "      <td>Australia</td>\n",
       "      <td>Sri Lanka</td>\n",
       "      <td>bowl</td>\n",
       "      <td>Sri Lanka</td>\n",
       "      <td>['1777', '1550', '1698', '1669', '1861', '1846...</td>\n",
       "      <td>['1810', '1864', '1789', '1762', '1666', '1664...</td>\n",
       "      <td>[]</td>\n",
       "    </tr>\n",
       "    <tr>\n",
       "      <th>2</th>\n",
       "      <td>17-01-1988</td>\n",
       "      <td>New Zealand</td>\n",
       "      <td>1698</td>\n",
       "      <td>Australia</td>\n",
       "      <td>1572</td>\n",
       "      <td>Brisbane Cricket Ground</td>\n",
       "      <td>Brisbane</td>\n",
       "      <td>Australia</td>\n",
       "      <td>Australia</td>\n",
       "      <td>bowl</td>\n",
       "      <td>Australia</td>\n",
       "      <td>['1550', '1863', '1698', '1669', '1407', '1790...</td>\n",
       "      <td>['1793', '1767', '1773', '1754', '1871', '1795...</td>\n",
       "      <td>['1790']</td>\n",
       "    </tr>\n",
       "  </tbody>\n",
       "</table>\n",
       "</div>"
      ],
      "text/plain": [
       "   Match Date   Team1 Name  Team1 Captain   Team2 Name  Team2 Captain  \\\n",
       "0  07-01-1988    Australia           1572  New Zealand           1698   \n",
       "1  12-01-1988  New Zealand           1698    Sri Lanka           1664   \n",
       "2  17-01-1988  New Zealand           1698    Australia           1572   \n",
       "\n",
       "      Match Venue (Stadium) Match Venue (City) Match Venue (Country)  \\\n",
       "0  Melbourne Cricket Ground          Melbourne             Australia   \n",
       "1            Bellerive Oval             Hobart             Australia   \n",
       "2   Brisbane Cricket Ground           Brisbane             Australia   \n",
       "\n",
       "  Toss Winner Toss Winner Choice Match Winner  \\\n",
       "0   Australia                bat    Australia   \n",
       "1   Sri Lanka               bowl    Sri Lanka   \n",
       "2   Australia               bowl    Australia   \n",
       "\n",
       "                                    Team1 Playing 11  \\\n",
       "0  ['1767', '1793', '1754', '1572', '1871', '1795...   \n",
       "1  ['1777', '1550', '1698', '1669', '1861', '1846...   \n",
       "2  ['1550', '1863', '1698', '1669', '1407', '1790...   \n",
       "\n",
       "                                    Team2 Playing 11 Debut Players  \n",
       "0  ['1550', '1863', '1861', '1669', '1698', '1846...            []  \n",
       "1  ['1810', '1864', '1789', '1762', '1666', '1664...            []  \n",
       "2  ['1793', '1767', '1773', '1754', '1871', '1795...      ['1790']  "
      ]
     },
     "execution_count": 3,
     "metadata": {},
     "output_type": "execute_result"
    }
   ],
   "source": [
    "df.head(3)"
   ]
  },
  {
   "cell_type": "code",
   "execution_count": 4,
   "metadata": {},
   "outputs": [
    {
     "data": {
      "text/plain": [
       "Index(['Match Date', 'Team1 Name', 'Team1 Captain', 'Team2 Name',\n",
       "       'Team2 Captain', 'Match Venue (Stadium)', 'Match Venue (City)',\n",
       "       'Match Venue (Country)', 'Toss Winner', 'Toss Winner Choice',\n",
       "       'Match Winner', 'Team1 Playing 11', 'Team2 Playing 11',\n",
       "       'Debut Players'],\n",
       "      dtype='object')"
      ]
     },
     "execution_count": 4,
     "metadata": {},
     "output_type": "execute_result"
    }
   ],
   "source": [
    "df.columns"
   ]
  },
  {
   "cell_type": "code",
   "execution_count": 5,
   "metadata": {},
   "outputs": [],
   "source": [
    "player_list = set([])\n",
    "for cell in df['Team1 Playing 11']:\n",
    "    lst = cell.strip(\"[]\").replace(\"'\", \"\").replace(' ', '').split(',')\n",
    "    lst = [int(x) for x in lst]\n",
    "    for player in lst:\n",
    "        player_list.add(player)\n",
    "player_list = list(player_list)"
   ]
  },
  {
   "cell_type": "code",
   "execution_count": 6,
   "metadata": {},
   "outputs": [
    {
     "data": {
      "text/plain": [
       "1256"
      ]
     },
     "execution_count": 6,
     "metadata": {},
     "output_type": "execute_result"
    }
   ],
   "source": [
    "len(player_list)"
   ]
  },
  {
   "cell_type": "code",
   "execution_count": 7,
   "metadata": {},
   "outputs": [
    {
     "data": {
      "text/plain": [
       "2179"
      ]
     },
     "execution_count": 7,
     "metadata": {},
     "output_type": "execute_result"
    }
   ],
   "source": [
    "player_list = set([])\n",
    "for cell in df['Team2 Playing 11']:\n",
    "    lst = cell.strip(\"[]\").replace(\"'\", \"\").replace(' ', '').split(',')\n",
    "    lst = [int(x) for x in lst]\n",
    "    for player in lst:\n",
    "        player_list.add(player)\n",
    "player_list = list(player_list)\n",
    "len(player_list)"
   ]
  },
  {
   "cell_type": "code",
   "execution_count": 8,
   "metadata": {},
   "outputs": [
    {
     "data": {
      "text/plain": [
       "Match Date                 0\n",
       "Team1 Name                 0\n",
       "Team1 Captain              0\n",
       "Team2 Name                 0\n",
       "Team2 Captain              0\n",
       "Match Venue (Stadium)      0\n",
       "Match Venue (City)         0\n",
       "Match Venue (Country)      0\n",
       "Toss Winner                0\n",
       "Toss Winner Choice         0\n",
       "Match Winner             133\n",
       "Team1 Playing 11           0\n",
       "Team2 Playing 11           0\n",
       "Debut Players              0\n",
       "dtype: int64"
      ]
     },
     "execution_count": 8,
     "metadata": {},
     "output_type": "execute_result"
    }
   ],
   "source": [
    "df.isnull().sum()"
   ]
  },
  {
   "cell_type": "code",
   "execution_count": 9,
   "metadata": {},
   "outputs": [
    {
     "data": {
      "text/html": [
       "<div>\n",
       "<style scoped>\n",
       "    .dataframe tbody tr th:only-of-type {\n",
       "        vertical-align: middle;\n",
       "    }\n",
       "\n",
       "    .dataframe tbody tr th {\n",
       "        vertical-align: top;\n",
       "    }\n",
       "\n",
       "    .dataframe thead th {\n",
       "        text-align: right;\n",
       "    }\n",
       "</style>\n",
       "<table border=\"1\" class=\"dataframe\">\n",
       "  <thead>\n",
       "    <tr style=\"text-align: right;\">\n",
       "      <th></th>\n",
       "      <th>Match Date</th>\n",
       "      <th>Team1 Name</th>\n",
       "      <th>Team1 Captain</th>\n",
       "      <th>Team2 Name</th>\n",
       "      <th>Team2 Captain</th>\n",
       "      <th>Match Venue (Stadium)</th>\n",
       "      <th>Match Venue (City)</th>\n",
       "      <th>Match Venue (Country)</th>\n",
       "      <th>Toss Winner</th>\n",
       "      <th>Toss Winner Choice</th>\n",
       "      <th>Match Winner</th>\n",
       "      <th>Team1 Playing 11</th>\n",
       "      <th>Team2 Playing 11</th>\n",
       "      <th>Debut Players</th>\n",
       "    </tr>\n",
       "  </thead>\n",
       "  <tbody>\n",
       "    <tr>\n",
       "      <th>0</th>\n",
       "      <td>07-01-1988</td>\n",
       "      <td>Australia</td>\n",
       "      <td>1572</td>\n",
       "      <td>New Zealand</td>\n",
       "      <td>1698</td>\n",
       "      <td>Melbourne Cricket Ground</td>\n",
       "      <td>Melbourne</td>\n",
       "      <td>Australia</td>\n",
       "      <td>Australia</td>\n",
       "      <td>bat</td>\n",
       "      <td>Australia</td>\n",
       "      <td>['1767', '1793', '1754', '1572', '1871', '1795...</td>\n",
       "      <td>['1550', '1863', '1861', '1669', '1698', '1846...</td>\n",
       "      <td>[]</td>\n",
       "    </tr>\n",
       "    <tr>\n",
       "      <th>1</th>\n",
       "      <td>12-01-1988</td>\n",
       "      <td>New Zealand</td>\n",
       "      <td>1698</td>\n",
       "      <td>Sri Lanka</td>\n",
       "      <td>1664</td>\n",
       "      <td>Bellerive Oval</td>\n",
       "      <td>Hobart</td>\n",
       "      <td>Australia</td>\n",
       "      <td>Sri Lanka</td>\n",
       "      <td>bowl</td>\n",
       "      <td>Sri Lanka</td>\n",
       "      <td>['1777', '1550', '1698', '1669', '1861', '1846...</td>\n",
       "      <td>['1810', '1864', '1789', '1762', '1666', '1664...</td>\n",
       "      <td>[]</td>\n",
       "    </tr>\n",
       "    <tr>\n",
       "      <th>2</th>\n",
       "      <td>17-01-1988</td>\n",
       "      <td>New Zealand</td>\n",
       "      <td>1698</td>\n",
       "      <td>Australia</td>\n",
       "      <td>1572</td>\n",
       "      <td>Brisbane Cricket Ground</td>\n",
       "      <td>Brisbane</td>\n",
       "      <td>Australia</td>\n",
       "      <td>Australia</td>\n",
       "      <td>bowl</td>\n",
       "      <td>Australia</td>\n",
       "      <td>['1550', '1863', '1698', '1669', '1407', '1790...</td>\n",
       "      <td>['1793', '1767', '1773', '1754', '1871', '1795...</td>\n",
       "      <td>['1790']</td>\n",
       "    </tr>\n",
       "    <tr>\n",
       "      <th>3</th>\n",
       "      <td>19-01-1988</td>\n",
       "      <td>Sri Lanka</td>\n",
       "      <td>1664</td>\n",
       "      <td>Australia</td>\n",
       "      <td>1572</td>\n",
       "      <td>Sydney Cricket Ground</td>\n",
       "      <td>Sydney</td>\n",
       "      <td>Australia</td>\n",
       "      <td>Australia</td>\n",
       "      <td>bowl</td>\n",
       "      <td>Australia</td>\n",
       "      <td>['1810', '1864', '1789', '1753', '1762', '1666...</td>\n",
       "      <td>['1767', '1793', '1754', '1871', '1795', '1572...</td>\n",
       "      <td>['1753']</td>\n",
       "    </tr>\n",
       "    <tr>\n",
       "      <th>4</th>\n",
       "      <td>21-10-1988</td>\n",
       "      <td>India</td>\n",
       "      <td>1491</td>\n",
       "      <td>West Indies</td>\n",
       "      <td>1433</td>\n",
       "      <td>Sharjah Cricket Association Stadium</td>\n",
       "      <td>Sharjah</td>\n",
       "      <td>United Arab Emirates</td>\n",
       "      <td>India</td>\n",
       "      <td>bat</td>\n",
       "      <td>West Indies</td>\n",
       "      <td>['1653', '1639', '1353', '1491', '1774', '1568...</td>\n",
       "      <td>['1433', '1553', '1744', '1873', '1697', '1654...</td>\n",
       "      <td>[]</td>\n",
       "    </tr>\n",
       "  </tbody>\n",
       "</table>\n",
       "</div>"
      ],
      "text/plain": [
       "   Match Date   Team1 Name  Team1 Captain   Team2 Name  Team2 Captain  \\\n",
       "0  07-01-1988    Australia           1572  New Zealand           1698   \n",
       "1  12-01-1988  New Zealand           1698    Sri Lanka           1664   \n",
       "2  17-01-1988  New Zealand           1698    Australia           1572   \n",
       "3  19-01-1988    Sri Lanka           1664    Australia           1572   \n",
       "4  21-10-1988        India           1491  West Indies           1433   \n",
       "\n",
       "                 Match Venue (Stadium) Match Venue (City)  \\\n",
       "0             Melbourne Cricket Ground          Melbourne   \n",
       "1                       Bellerive Oval             Hobart   \n",
       "2              Brisbane Cricket Ground           Brisbane   \n",
       "3                Sydney Cricket Ground             Sydney   \n",
       "4  Sharjah Cricket Association Stadium            Sharjah   \n",
       "\n",
       "  Match Venue (Country) Toss Winner Toss Winner Choice Match Winner  \\\n",
       "0             Australia   Australia                bat    Australia   \n",
       "1             Australia   Sri Lanka               bowl    Sri Lanka   \n",
       "2             Australia   Australia               bowl    Australia   \n",
       "3             Australia   Australia               bowl    Australia   \n",
       "4  United Arab Emirates       India                bat  West Indies   \n",
       "\n",
       "                                    Team1 Playing 11  \\\n",
       "0  ['1767', '1793', '1754', '1572', '1871', '1795...   \n",
       "1  ['1777', '1550', '1698', '1669', '1861', '1846...   \n",
       "2  ['1550', '1863', '1698', '1669', '1407', '1790...   \n",
       "3  ['1810', '1864', '1789', '1753', '1762', '1666...   \n",
       "4  ['1653', '1639', '1353', '1491', '1774', '1568...   \n",
       "\n",
       "                                    Team2 Playing 11 Debut Players  \n",
       "0  ['1550', '1863', '1861', '1669', '1698', '1846...            []  \n",
       "1  ['1810', '1864', '1789', '1762', '1666', '1664...            []  \n",
       "2  ['1793', '1767', '1773', '1754', '1871', '1795...      ['1790']  \n",
       "3  ['1767', '1793', '1754', '1871', '1795', '1572...      ['1753']  \n",
       "4  ['1433', '1553', '1744', '1873', '1697', '1654...            []  "
      ]
     },
     "execution_count": 9,
     "metadata": {},
     "output_type": "execute_result"
    }
   ],
   "source": [
    "df.head()"
   ]
  },
  {
   "cell_type": "code",
   "execution_count": 10,
   "metadata": {},
   "outputs": [],
   "source": [
    "team_names = [\n",
    "    'Australia',\n",
    "    'New Zealand',\n",
    "    'Sri Lanka',\n",
    "    'England',\n",
    "    'India',\n",
    "    'Pakistan',\n",
    "    'Bangladesh',\n",
    "    'South Africa',\n",
    "    'Netherlands',\n",
    "    'Afghanistan'\n",
    "]\n",
    "df1 = pd.DataFrame()\n",
    "\n",
    "for team in team_names:\n",
    "    team_data = df[df['Team1 Name'] == team]\n",
    "    df1 = pd.concat([df1, team_data], ignore_index=True)"
   ]
  },
  {
   "cell_type": "code",
   "execution_count": 11,
   "metadata": {},
   "outputs": [],
   "source": [
    "team_names = [\n",
    "    'Australia',\n",
    "    'New Zealand',\n",
    "    'Sri Lanka',\n",
    "    'England',\n",
    "    'India',\n",
    "    'Pakistan',\n",
    "    'Bangladesh',\n",
    "    'South Africa',\n",
    "    'Netherlands',\n",
    "    'Afghanistan'\n",
    "]\n",
    "\n",
    "df2 = pd.DataFrame()\n",
    "\n",
    "for team in team_names:\n",
    "    team_data = df1[df1['Team2 Name'] == team]\n",
    "    df2 = pd.concat([df2, team_data], ignore_index=True)"
   ]
  },
  {
   "cell_type": "code",
   "execution_count": 12,
   "metadata": {},
   "outputs": [
    {
     "data": {
      "text/plain": [
       "Index(['Match Date', 'Team1 Name', 'Team1 Captain', 'Team2 Name',\n",
       "       'Team2 Captain', 'Match Venue (Stadium)', 'Match Venue (City)',\n",
       "       'Match Venue (Country)', 'Toss Winner', 'Toss Winner Choice',\n",
       "       'Match Winner', 'Team1 Playing 11', 'Team2 Playing 11',\n",
       "       'Debut Players'],\n",
       "      dtype='object')"
      ]
     },
     "execution_count": 12,
     "metadata": {},
     "output_type": "execute_result"
    }
   ],
   "source": [
    "df2.columns"
   ]
  },
  {
   "cell_type": "code",
   "execution_count": 13,
   "metadata": {},
   "outputs": [],
   "source": [
    "# winner = []\n",
    "# for match_win, team_one in zip(df['Match Winner'], df['Team1 Name']):\n",
    "#     if match_win == team_one:\n",
    "#         winner.append(0)\n",
    "#     else:\n",
    "#         winner.append(1)"
   ]
  },
  {
   "cell_type": "code",
   "execution_count": 14,
   "metadata": {},
   "outputs": [],
   "source": [
    "# df['match_winner'] = winner"
   ]
  },
  {
   "cell_type": "code",
   "execution_count": 15,
   "metadata": {},
   "outputs": [],
   "source": [
    "df2 = df2[['Team1 Name','Team2 Name','Match Venue (Stadium)',\n",
    "       'Match Venue (City)', 'Match Venue (Country)',\n",
    "       'Match Winner','Team1 Playing 11','Team2 Playing 11']]"
   ]
  },
  {
   "cell_type": "code",
   "execution_count": 16,
   "metadata": {},
   "outputs": [
    {
     "data": {
      "text/plain": [
       "Team1 Name                 0\n",
       "Team2 Name                 0\n",
       "Match Venue (Stadium)      0\n",
       "Match Venue (City)         0\n",
       "Match Venue (Country)      0\n",
       "Match Winner             109\n",
       "Team1 Playing 11           0\n",
       "Team2 Playing 11           0\n",
       "dtype: int64"
      ]
     },
     "execution_count": 16,
     "metadata": {},
     "output_type": "execute_result"
    }
   ],
   "source": [
    "df2.isnull().sum()"
   ]
  },
  {
   "cell_type": "code",
   "execution_count": 17,
   "metadata": {},
   "outputs": [],
   "source": [
    "team_1_players_df = pd.DataFrame(columns=['team1_P1','team1_P2','team1_P3','team1_P4','team1_P5','team1_P6','team1_P7','team1_P8','team1_P9','team1_P10','team1_P11'])\n",
    "for x in df2['Team1 Playing 11']:\n",
    "    arr = np.array(x.replace('[', '').replace(']', '').replace(\"'\", \"\").split(', '))\n",
    "    arr = arr.astype('int')\n",
    "    team_1_players_df.loc[len(team_1_players_df)] = arr"
   ]
  },
  {
   "cell_type": "code",
   "execution_count": 18,
   "metadata": {},
   "outputs": [],
   "source": [
    "team_2_players_df = pd.DataFrame(columns=['team2_P1','team2_P2','team2_P3','team2_P4','team2_P5','team2_P6','team2_P7','team2_P8','team2_P9','team2_P10','team2_P11'])\n",
    "for x in df2['Team2 Playing 11']:\n",
    "    arr = np.array(x.replace('[', '').replace(']', '').replace(\"'\", \"\").split(', '))\n",
    "    arr = arr.astype('int')\n",
    "    team_2_players_df.loc[len(team_2_players_df)] = arr\n",
    "    "
   ]
  },
  {
   "cell_type": "code",
   "execution_count": 19,
   "metadata": {},
   "outputs": [],
   "source": [
    "df2 = pd.concat([df2, team_1_players_df, team_2_players_df], axis=1)"
   ]
  },
  {
   "cell_type": "code",
   "execution_count": 20,
   "metadata": {},
   "outputs": [],
   "source": [
    "#df = df.drop(columns=['Match Winner', 'Toss Winner'], axis=1)"
   ]
  },
  {
   "cell_type": "code",
   "execution_count": 21,
   "metadata": {},
   "outputs": [],
   "source": [
    "#df = df.drop(columns=['Debut Players', 'Team1 Playing 11', 'Team2 Playing 11'], axis=1)"
   ]
  },
  {
   "cell_type": "code",
   "execution_count": 22,
   "metadata": {},
   "outputs": [
    {
     "data": {
      "text/plain": [
       "Index(['Team1 Name', 'Team2 Name', 'Match Venue (Stadium)',\n",
       "       'Match Venue (City)', 'Match Venue (Country)', 'Match Winner',\n",
       "       'Team1 Playing 11', 'Team2 Playing 11', 'team1_P1', 'team1_P2',\n",
       "       'team1_P3', 'team1_P4', 'team1_P5', 'team1_P6', 'team1_P7', 'team1_P8',\n",
       "       'team1_P9', 'team1_P10', 'team1_P11', 'team2_P1', 'team2_P2',\n",
       "       'team2_P3', 'team2_P4', 'team2_P5', 'team2_P6', 'team2_P7', 'team2_P8',\n",
       "       'team2_P9', 'team2_P10', 'team2_P11'],\n",
       "      dtype='object')"
      ]
     },
     "execution_count": 22,
     "metadata": {},
     "output_type": "execute_result"
    }
   ],
   "source": [
    "df2.columns"
   ]
  },
  {
   "cell_type": "code",
   "execution_count": 23,
   "metadata": {},
   "outputs": [
    {
     "data": {
      "text/html": [
       "<div>\n",
       "<style scoped>\n",
       "    .dataframe tbody tr th:only-of-type {\n",
       "        vertical-align: middle;\n",
       "    }\n",
       "\n",
       "    .dataframe tbody tr th {\n",
       "        vertical-align: top;\n",
       "    }\n",
       "\n",
       "    .dataframe thead th {\n",
       "        text-align: right;\n",
       "    }\n",
       "</style>\n",
       "<table border=\"1\" class=\"dataframe\">\n",
       "  <thead>\n",
       "    <tr style=\"text-align: right;\">\n",
       "      <th></th>\n",
       "      <th>Team1 Name</th>\n",
       "      <th>Team2 Name</th>\n",
       "      <th>Match Venue (Stadium)</th>\n",
       "      <th>Match Venue (City)</th>\n",
       "      <th>Match Venue (Country)</th>\n",
       "      <th>Match Winner</th>\n",
       "      <th>Team1 Playing 11</th>\n",
       "      <th>Team2 Playing 11</th>\n",
       "      <th>team1_P1</th>\n",
       "      <th>team1_P2</th>\n",
       "      <th>...</th>\n",
       "      <th>team2_P2</th>\n",
       "      <th>team2_P3</th>\n",
       "      <th>team2_P4</th>\n",
       "      <th>team2_P5</th>\n",
       "      <th>team2_P6</th>\n",
       "      <th>team2_P7</th>\n",
       "      <th>team2_P8</th>\n",
       "      <th>team2_P9</th>\n",
       "      <th>team2_P10</th>\n",
       "      <th>team2_P11</th>\n",
       "    </tr>\n",
       "  </thead>\n",
       "  <tbody>\n",
       "    <tr>\n",
       "      <th>0</th>\n",
       "      <td>New Zealand</td>\n",
       "      <td>Australia</td>\n",
       "      <td>Brisbane Cricket Ground</td>\n",
       "      <td>Brisbane</td>\n",
       "      <td>Australia</td>\n",
       "      <td>Australia</td>\n",
       "      <td>['1550', '1863', '1698', '1669', '1407', '1790...</td>\n",
       "      <td>['1793', '1767', '1773', '1754', '1871', '1795...</td>\n",
       "      <td>1550</td>\n",
       "      <td>1863</td>\n",
       "      <td>...</td>\n",
       "      <td>1767</td>\n",
       "      <td>1773</td>\n",
       "      <td>1754</td>\n",
       "      <td>1871</td>\n",
       "      <td>1795</td>\n",
       "      <td>1572</td>\n",
       "      <td>1854</td>\n",
       "      <td>1859</td>\n",
       "      <td>1875</td>\n",
       "      <td>1797</td>\n",
       "    </tr>\n",
       "    <tr>\n",
       "      <th>1</th>\n",
       "      <td>New Zealand</td>\n",
       "      <td>Australia</td>\n",
       "      <td>Carisbrook</td>\n",
       "      <td>Dunedin</td>\n",
       "      <td>New Zealand</td>\n",
       "      <td>Australia</td>\n",
       "      <td>['1456', '1328', '1251', '1326', '1311', '1259...</td>\n",
       "      <td>['1215', '1278', '1243', '1364', '1418', '1277...</td>\n",
       "      <td>1456</td>\n",
       "      <td>1328</td>\n",
       "      <td>...</td>\n",
       "      <td>1278</td>\n",
       "      <td>1243</td>\n",
       "      <td>1364</td>\n",
       "      <td>1418</td>\n",
       "      <td>1277</td>\n",
       "      <td>1361</td>\n",
       "      <td>1402</td>\n",
       "      <td>1419</td>\n",
       "      <td>1528</td>\n",
       "      <td>1423</td>\n",
       "    </tr>\n",
       "    <tr>\n",
       "      <th>2</th>\n",
       "      <td>New Zealand</td>\n",
       "      <td>Australia</td>\n",
       "      <td>Melbourne Cricket Ground</td>\n",
       "      <td>Melbourne</td>\n",
       "      <td>Australia</td>\n",
       "      <td>Australia</td>\n",
       "      <td>['1566', '1550', '1421', '1625', '1407', '1311...</td>\n",
       "      <td>['1541', '1572', '1364', '1530', '1277', '1646...</td>\n",
       "      <td>1566</td>\n",
       "      <td>1550</td>\n",
       "      <td>...</td>\n",
       "      <td>1572</td>\n",
       "      <td>1364</td>\n",
       "      <td>1530</td>\n",
       "      <td>1277</td>\n",
       "      <td>1646</td>\n",
       "      <td>1547</td>\n",
       "      <td>1361</td>\n",
       "      <td>1369</td>\n",
       "      <td>1617</td>\n",
       "      <td>1525</td>\n",
       "    </tr>\n",
       "    <tr>\n",
       "      <th>3</th>\n",
       "      <td>New Zealand</td>\n",
       "      <td>Australia</td>\n",
       "      <td>Sydney Cricket Ground</td>\n",
       "      <td>Sydney</td>\n",
       "      <td>Australia</td>\n",
       "      <td>New Zealand</td>\n",
       "      <td>['1550', '1566', '1444', '1408', '1311', '1421...</td>\n",
       "      <td>['1572', '1547', '1364', '1530', '1277', '1646...</td>\n",
       "      <td>1550</td>\n",
       "      <td>1566</td>\n",
       "      <td>...</td>\n",
       "      <td>1547</td>\n",
       "      <td>1364</td>\n",
       "      <td>1530</td>\n",
       "      <td>1277</td>\n",
       "      <td>1646</td>\n",
       "      <td>1361</td>\n",
       "      <td>1617</td>\n",
       "      <td>1369</td>\n",
       "      <td>1569</td>\n",
       "      <td>1525</td>\n",
       "    </tr>\n",
       "    <tr>\n",
       "      <th>4</th>\n",
       "      <td>New Zealand</td>\n",
       "      <td>Australia</td>\n",
       "      <td>Sydney Cricket Ground</td>\n",
       "      <td>Sydney</td>\n",
       "      <td>Australia</td>\n",
       "      <td>New Zealand</td>\n",
       "      <td>['1550', '1566', '1444', '1421', '1311', '1407...</td>\n",
       "      <td>['1547', '1647', '1361', '1364', '1530', '1572...</td>\n",
       "      <td>1550</td>\n",
       "      <td>1566</td>\n",
       "      <td>...</td>\n",
       "      <td>1647</td>\n",
       "      <td>1361</td>\n",
       "      <td>1364</td>\n",
       "      <td>1530</td>\n",
       "      <td>1572</td>\n",
       "      <td>1277</td>\n",
       "      <td>1369</td>\n",
       "      <td>1402</td>\n",
       "      <td>1569</td>\n",
       "      <td>1525</td>\n",
       "    </tr>\n",
       "  </tbody>\n",
       "</table>\n",
       "<p>5 rows × 30 columns</p>\n",
       "</div>"
      ],
      "text/plain": [
       "    Team1 Name Team2 Name     Match Venue (Stadium) Match Venue (City)  \\\n",
       "0  New Zealand  Australia   Brisbane Cricket Ground           Brisbane   \n",
       "1  New Zealand  Australia                Carisbrook            Dunedin   \n",
       "2  New Zealand  Australia  Melbourne Cricket Ground          Melbourne   \n",
       "3  New Zealand  Australia     Sydney Cricket Ground             Sydney   \n",
       "4  New Zealand  Australia     Sydney Cricket Ground             Sydney   \n",
       "\n",
       "  Match Venue (Country) Match Winner  \\\n",
       "0             Australia    Australia   \n",
       "1           New Zealand    Australia   \n",
       "2             Australia    Australia   \n",
       "3             Australia  New Zealand   \n",
       "4             Australia  New Zealand   \n",
       "\n",
       "                                    Team1 Playing 11  \\\n",
       "0  ['1550', '1863', '1698', '1669', '1407', '1790...   \n",
       "1  ['1456', '1328', '1251', '1326', '1311', '1259...   \n",
       "2  ['1566', '1550', '1421', '1625', '1407', '1311...   \n",
       "3  ['1550', '1566', '1444', '1408', '1311', '1421...   \n",
       "4  ['1550', '1566', '1444', '1421', '1311', '1407...   \n",
       "\n",
       "                                    Team2 Playing 11  team1_P1  team1_P2  ...  \\\n",
       "0  ['1793', '1767', '1773', '1754', '1871', '1795...      1550      1863  ...   \n",
       "1  ['1215', '1278', '1243', '1364', '1418', '1277...      1456      1328  ...   \n",
       "2  ['1541', '1572', '1364', '1530', '1277', '1646...      1566      1550  ...   \n",
       "3  ['1572', '1547', '1364', '1530', '1277', '1646...      1550      1566  ...   \n",
       "4  ['1547', '1647', '1361', '1364', '1530', '1572...      1550      1566  ...   \n",
       "\n",
       "   team2_P2  team2_P3  team2_P4  team2_P5  team2_P6  team2_P7  team2_P8  \\\n",
       "0      1767      1773      1754      1871      1795      1572      1854   \n",
       "1      1278      1243      1364      1418      1277      1361      1402   \n",
       "2      1572      1364      1530      1277      1646      1547      1361   \n",
       "3      1547      1364      1530      1277      1646      1361      1617   \n",
       "4      1647      1361      1364      1530      1572      1277      1369   \n",
       "\n",
       "   team2_P9  team2_P10  team2_P11  \n",
       "0      1859       1875       1797  \n",
       "1      1419       1528       1423  \n",
       "2      1369       1617       1525  \n",
       "3      1369       1569       1525  \n",
       "4      1402       1569       1525  \n",
       "\n",
       "[5 rows x 30 columns]"
      ]
     },
     "execution_count": 23,
     "metadata": {},
     "output_type": "execute_result"
    }
   ],
   "source": [
    "df2.head()"
   ]
  },
  {
   "cell_type": "code",
   "execution_count": 24,
   "metadata": {},
   "outputs": [],
   "source": [
    "df2['Team1 Name'] = df2['Team1 Name'].replace({'Australia': 1})\n",
    "df2['Team1 Name'] = df2['Team1 Name'].replace({'New Zealand': 2})\n",
    "df2['Team1 Name'] = df2['Team1 Name'].replace({'Sri Lanka': 3})\n",
    "df2['Team1 Name'] = df2['Team1 Name'].replace({'England': 4})\n",
    "df2['Team1 Name'] = df2['Team1 Name'].replace({'India': 5})\n",
    "df2['Team1 Name'] = df2['Team1 Name'].replace({'Pakistan': 6})\n",
    "df2['Team1 Name'] = df2['Team1 Name'].replace({'Bangladesh': 7})\n",
    "df2['Team1 Name'] = df2['Team1 Name'].replace({'South Africa': 8})\n",
    "df2['Team1 Name'] = df2['Team1 Name'].replace({'Netherlands': 9})\n",
    "df2['Team1 Name'] = df2['Team1 Name'].replace({'Afghanistan': 10})\n",
    "\n",
    "df2['Team2 Name'] = df2['Team2 Name'].replace({'Australia': 1})\n",
    "df2['Team2 Name'] = df2['Team2 Name'].replace({'New Zealand': 2})\n",
    "df2['Team2 Name'] = df2['Team2 Name'].replace({'Sri Lanka': 3})\n",
    "df2['Team2 Name'] = df2['Team2 Name'].replace({'England': 4})\n",
    "df2['Team2 Name'] = df2['Team2 Name'].replace({'India': 5})\n",
    "df2['Team2 Name'] = df2['Team2 Name'].replace({'Pakistan': 6})\n",
    "df2['Team2 Name'] = df2['Team2 Name'].replace({'Bangladesh': 7})\n",
    "df2['Team2 Name'] = df2['Team2 Name'].replace({'South Africa': 8})\n",
    "df2['Team2 Name'] = df2['Team2 Name'].replace({'Netherlands': 9})\n",
    "df2['Team2 Name'] = df2['Team2 Name'].replace({'Afghanistan': 10})\n",
    "\n",
    "df2['Match Winner'] = df2['Match Winner'].replace({'Australia': 1})\n",
    "df2['Match Winner'] = df2['Match Winner'].replace({'New Zealand': 2})\n",
    "df2['Match Winner'] = df2['Match Winner'].replace({'Sri Lanka': 3})\n",
    "df2['Match Winner'] = df2['Match Winner'].replace({'England': 4})\n",
    "df2['Match Winner'] = df2['Match Winner'].replace({'India': 5})\n",
    "df2['Match Winner'] = df2['Match Winner'].replace({'Pakistan': 6})\n",
    "df2['Match Winner'] = df2['Match Winner'].replace({'Bangladesh': 7})\n",
    "df2['Match Winner'] = df2['Match Winner'].replace({'South Africa': 8})\n",
    "df2['Match Winner'] = df2['Match Winner'].replace({'Netherlands': 9})\n",
    "df2['Match Winner'] = df2['Match Winner'].replace({'Afghanistan': 10})"
   ]
  },
  {
   "cell_type": "code",
   "execution_count": 25,
   "metadata": {},
   "outputs": [
    {
     "name": "stdout",
     "output_type": "stream",
     "text": [
      "{'AMI Stadium': 0, 'Adelaide Oval': 1, 'Andhra Cricket Association-Visakhapatnam District Cricket Association Stadium': 2, 'Arbab Niaz Stadium': 3, 'Arun Jaitley Stadium': 4, 'Asgiriya Stadium': 5, 'Ayub National Stadium': 6, 'Bangabandhu National Stadium': 7, 'Barabati Stadium': 8, 'Barsapara Cricket Stadium': 9, 'Basin Reserve': 10, 'Bay Oval': 11, 'Beausejour Stadium': 12, 'Bellerive Oval': 13, 'Bharat Ratna Shri Atal Bihari Vajpayee Ekana Cricket Stadium': 14, 'Boland Bank Park': 15, 'Boland Park': 16, 'Brabourne Stadium': 17, 'Brisbane Cricket Ground': 18, 'Buffalo Park': 19, 'Captain Roop Singh Stadium': 20, 'Carisbrook': 21, \"Cazaly's Stadium\": 22, 'Centurion Park': 23, 'Chevrolet Park': 24, 'Chittagong Divisional Stadium': 25, 'Chittagong Stadium': 26, 'Civil Service Cricket Club': 27, 'Clontarf Cricket Club Ground': 28, 'County Ground': 29, 'Crusaders Ground': 30, 'Davies Park': 31, 'De Beers Diamond Oval': 32, 'Docklands Stadium': 33, 'Dr. Y.S. Rajasekhara Reddy ACA-VDCA Cricket Stadium': 34, 'Dubai International Cricket Stadium': 35, 'Eden Gardens': 36, 'Eden Park': 37, 'Edgbaston': 38, 'Feroz Shah Kotla': 39, 'Gaddafi Stadium': 40, 'Galle International Stadium': 41, 'Gandhi Sports Complex Ground': 42, 'Gandhi Stadium': 43, 'Goodyear Park': 44, 'Green Park': 45, 'Greenfield International Stadium': 46, 'Gujarat Stadium': 47, 'Gymkhana Club Ground': 48, 'Hagley Oval': 49, 'Harare Sports Club': 50, 'Hazelaarweg': 51, 'Headingley': 52, 'Himachal Pradesh Cricket Association Stadium': 53, 'Holkar Cricket Stadium': 54, 'Ibn-e-Qasim Bagh Stadium': 55, 'Indian Petrochemicals Corporation Limited Sports Complex Ground': 56, 'Indira Priyadarshini Stadium': 57, 'Iqbal Stadium': 58, 'JSCA International Stadium Complex': 59, 'Jade Stadium': 60, 'Jawaharlal Nehru Stadium': 61, 'Jinnah Stadium': 62, 'KD Singh Babu Stadium': 63, 'Kallang Ground': 64, 'Karnataka State Cricket Association Stadium': 65, 'Keenan Stadium': 66, 'Kennington Oval': 67, 'Kensington Oval': 68, 'Khan Shaheb Osman Ali Stadium': 69, 'Khettarama Stadium': 70, 'Kimberley Country Club': 71, 'Kingsmead': 72, 'Kinrara Academy Oval': 73, 'Lal Bahadur Shastri Stadium': 74, 'Lancaster Park': 75, \"Lord's\": 76, 'M Chinnaswamy Stadium': 77, 'MA Aziz Stadium': 78, 'MA Chidambaram Stadium': 79, 'Madhavrao Scindia Cricket Ground': 80, 'Maharani Usharaje Trust Cricket Ground': 81, 'Maharashtra Cricket Association Stadium': 82, 'Mahinda Rajapaksa International Cricket Stadium': 83, 'Mangaung Oval': 84, 'Manuka Oval': 85, 'Marrara Cricket Ground': 86, 'McLean Park': 87, 'Melbourne Cricket Ground': 88, 'Moti Bagh Stadium': 89, 'Multan Cricket Stadium': 90, 'Municipal Stadium': 91, 'Nahar Singh Stadium': 92, 'Nairobi Club Ground': 93, 'Narayanganj Osmani Stadium': 94, 'Narendra Modi Stadium': 95, 'National Cricket Stadium': 96, 'National Stadium': 97, 'Nehru Stadium': 98, 'New County Ground': 99, 'New Wanderers Stadium': 100, 'Newlands': 101, 'Niaz Stadium': 102, 'North Tasmania Cricket Association Ground': 103, 'North West Cricket Stadium': 104, 'Old Trafford': 105, 'Owen Delany Park': 106, 'P Saravanamuttu Stadium': 107, 'Pallekele International Cricket Stadium': 108, 'Perth Stadium': 109, 'Phoenix County Ground': 110, 'Pindi Club Ground': 111, 'Providence Stadium': 112, 'Punjab Cricket Association IS Bindra Stadium': 113, 'Punjab Cricket Association Stadium': 114, \"Queen's Park Oval\": 115, 'Queens Sports Club': 116, 'Queenstown Events Centre': 117, 'R Premadasa Stadium': 118, 'Rajiv Gandhi International Stadium': 119, 'Rangiri Dambulla International Stadium': 120, 'Rawalpindi Cricket Stadium': 121, 'Ray Mitchell Oval': 122, 'Reliance Stadium': 123, 'Riverside Ground': 124, 'Sabina Park': 125, 'Sardar Patel Stadium': 126, 'Sardar Vallabhbhai Patel Stadium': 127, 'Sargodha Stadium': 128, 'Saurashtra Cricket Association Stadium': 129, 'Sawai Mansingh Stadium': 130, 'Saxton Oval': 131, 'Sector 16 Stadium': 132, 'Seddon Park': 133, 'Sedgars Park': 134, 'Senwes Park': 135, 'Shaheed Chandu Stadium': 136, 'Shaheed Veer Narayan Singh International Stadium': 137, 'Sharjah Cricket Association Stadium': 138, 'Sharjah Cricket Stadium': 139, 'Sheikh Zayed Stadium': 140, 'Sher-i-Kashmir Stadium': 141, 'Shere Bangla National Stadium': 142, 'Sinhalese Sports Club Ground': 143, 'Sir Vivian Richards Stadium': 144, 'Sophia Gardens': 145, 'Springbok Park': 146, \"St George's Park\": 147, \"St Helen's\": 148, 'SuperSport Park': 149, 'Sydney Cricket Ground': 150, 'The Cooper Associates County Ground': 151, 'The Padang': 152, 'The Rose Bowl': 153, 'The Royal & Sun Alliance County Ground': 154, 'The Wanderers Stadium': 155, 'Toronto Cricket': 156, 'Trent Bridge': 157, 'Trust Bank Park': 158, 'Tyronne Fernando Stadium': 159, 'University Oval': 160, 'University Stadium': 161, 'VRA Ground': 162, 'Vidarbha Cricket Association Ground': 163, 'Vidarbha Cricket Association Stadium': 164, 'Wankhede Stadium': 165, 'Warner Park': 166, 'West End Park International Cricket Stadium': 167, 'Western Australia Cricket Association Ground': 168, 'Westpac Park': 169, 'Westpac Stadium': 170, 'WestpacTrust Park': 171, 'WestpacTrust Stadium': 172, 'Willowmoore Park': 173, 'Zafar Ali Stadium': 174, 'Zahur Ahmed Chowdhury Stadium': 175}\n",
      "\n",
      "\n",
      "{'Abu Dhabi': 0, 'Adelaide': 1, 'Ahmedabad': 2, 'Amritsar': 3, 'Amstelveen': 4, 'Auckland': 5, 'Basseterre': 6, 'Belfast': 7, 'Bengaluru': 8, 'Benoni': 9, 'Birmingham': 10, 'Bloemfontein': 11, 'Bogra': 12, 'Bridgetown': 13, 'Brighton': 14, 'Brisbane': 15, 'Bristol': 16, 'Bulawayo': 17, 'Cairns': 18, 'Canberra': 19, 'Cape Town': 20, 'Cardiff': 21, 'Centurion': 22, 'Chandigarh': 23, 'Chattogram': 24, 'Chelmsford': 25, 'Chennai': 26, 'Chester-le-Street': 27, 'Christchurch': 28, 'Colombo': 29, 'Cuttack': 30, 'Dambulla': 31, 'Darwin': 32, 'Delhi': 33, 'Derby': 34, 'Dhaka': 35, 'Dharamsala': 36, 'Doha': 37, 'Dubai': 38, 'Dublin': 39, 'Dunedin': 40, 'Durban': 41, 'East London': 42, 'Faisalabad': 43, 'Faridabad': 44, 'Fatullah': 45, 'Galle': 46, 'Gqeberha': 47, 'Gros Islet': 48, 'Gujranwala': 49, 'Guwahati': 50, 'Gwalior': 51, 'Hambantota': 52, 'Hamilton': 53, 'Harare': 54, 'Hobart': 55, 'Hyderabad': 56, 'Indore': 57, 'Jaipur': 58, 'Jalandhar': 59, 'Jamshedpur': 60, 'Johannesburg': 61, 'Kandy': 62, 'Kanpur': 63, 'Karachi': 64, 'Kimberley': 65, 'Kingston': 66, 'Kochi': 67, 'Kolkata': 68, 'Kuala Lumpur': 69, 'Lahore': 70, 'Launceston': 71, 'Leeds': 72, 'London': 73, 'Lucknow': 74, 'Mackay': 75, 'Manchester': 76, 'Margao': 77, 'Melbourne': 78, 'Moratuwa': 79, 'Mount Maunganui': 80, 'Multan': 81, 'Mumbai': 82, 'Nagpur': 83, 'Nairobi': 84, 'Napier': 85, 'Nelson': 86, 'North Sound': 87, 'Northampton': 88, 'Nottingham': 89, 'Paarl': 90, 'Perth': 91, 'Peshawar': 92, 'Port of Spain': 93, 'Potchefstroom': 94, 'Providence': 95, 'Pune': 96, 'Queenstown': 97, 'Quetta': 98, 'Raipur': 99, 'Rajkot': 100, 'Ranchi': 101, 'Rawalpindi': 102, 'Rotterdam': 103, 'Sahiwal': 104, 'Sargodha': 105, 'Sharjah': 106, 'Sialkot': 107, 'Singapore': 108, 'Southampton': 109, 'Srinagar': 110, \"St George's\": 111, 'Swansea': 112, 'Sydney': 113, 'Tangier': 114, 'Taunton': 115, 'Taupo': 116, 'Thiruvananthapuram': 117, 'Toronto': 118, 'Vadodara': 119, 'Visakhapatnam': 120, 'Wellington': 121}\n",
      "\n",
      "\n",
      "{'Australia': 0, 'Bangladesh': 1, 'Canada': 2, 'England': 3, 'India': 4, 'Ireland': 5, 'Kenya': 6, 'Malaysia': 7, 'Morocco': 8, 'Netherlands': 9, 'New Zealand': 10, 'Pakistan': 11, 'Qatar': 12, 'Singapore': 13, 'South Africa': 14, 'Sri Lanka': 15, 'United Arab Emirates': 16, 'West Indies': 17, 'Zimbabwe': 18}\n",
      "\n",
      "\n"
     ]
    }
   ],
   "source": [
    "from sklearn.preprocessing import LabelEncoder\n",
    "\n",
    "label_encoder = LabelEncoder()\n",
    "\n",
    "column_name = [\n",
    "    'Match Venue (Stadium)',\n",
    "    'Match Venue (City)',\n",
    "    'Match Venue (Country)',\n",
    "]\n",
    "for name in column_name:\n",
    "    df2[name] = label_encoder.fit_transform(df2[name])\n",
    "    le_name_mapping = dict(zip(label_encoder.classes_, label_encoder.transform(label_encoder.classes_)))\n",
    "    print(le_name_mapping)\n",
    "    print(\"\\n\")"
   ]
  },
  {
   "cell_type": "code",
   "execution_count": 26,
   "metadata": {},
   "outputs": [],
   "source": [
    "df2 = df2.dropna()"
   ]
  },
  {
   "cell_type": "code",
   "execution_count": 29,
   "metadata": {},
   "outputs": [],
   "source": [
    "df2['Match Winner'] = df2['Match Winner'].astype(int)"
   ]
  },
  {
   "cell_type": "code",
   "execution_count": 30,
   "metadata": {},
   "outputs": [
    {
     "data": {
      "text/plain": [
       "array([ 1,  2,  3,  5,  6,  8, 10,  4,  7,  9])"
      ]
     },
     "execution_count": 30,
     "metadata": {},
     "output_type": "execute_result"
    }
   ],
   "source": [
    "df2['Match Winner'].unique()"
   ]
  },
  {
   "cell_type": "code",
   "execution_count": 32,
   "metadata": {},
   "outputs": [],
   "source": [
    "import pandas as pd\n",
    "\n",
    "df2['Match Winner Encoded'] = pd.NA\n",
    "\n",
    "df2.loc[df2['Match Winner'] == df2['Team1 Name'], 'Match Winner Encoded'] = 0\n",
    "df2.loc[df2['Match Winner'] == df2['Team2 Name'], 'Match Winner Encoded'] = 1"
   ]
  },
  {
   "cell_type": "code",
   "execution_count": 33,
   "metadata": {},
   "outputs": [
    {
     "data": {
      "text/html": [
       "<div>\n",
       "<style scoped>\n",
       "    .dataframe tbody tr th:only-of-type {\n",
       "        vertical-align: middle;\n",
       "    }\n",
       "\n",
       "    .dataframe tbody tr th {\n",
       "        vertical-align: top;\n",
       "    }\n",
       "\n",
       "    .dataframe thead th {\n",
       "        text-align: right;\n",
       "    }\n",
       "</style>\n",
       "<table border=\"1\" class=\"dataframe\">\n",
       "  <thead>\n",
       "    <tr style=\"text-align: right;\">\n",
       "      <th></th>\n",
       "      <th>Team1 Name</th>\n",
       "      <th>Team2 Name</th>\n",
       "      <th>Match Venue (Stadium)</th>\n",
       "      <th>Match Venue (City)</th>\n",
       "      <th>Match Venue (Country)</th>\n",
       "      <th>Match Winner</th>\n",
       "      <th>Team1 Playing 11</th>\n",
       "      <th>Team2 Playing 11</th>\n",
       "      <th>team1_P1</th>\n",
       "      <th>team1_P2</th>\n",
       "      <th>...</th>\n",
       "      <th>team2_P3</th>\n",
       "      <th>team2_P4</th>\n",
       "      <th>team2_P5</th>\n",
       "      <th>team2_P6</th>\n",
       "      <th>team2_P7</th>\n",
       "      <th>team2_P8</th>\n",
       "      <th>team2_P9</th>\n",
       "      <th>team2_P10</th>\n",
       "      <th>team2_P11</th>\n",
       "      <th>Match Winner Encoded</th>\n",
       "    </tr>\n",
       "  </thead>\n",
       "  <tbody>\n",
       "    <tr>\n",
       "      <th>0</th>\n",
       "      <td>2</td>\n",
       "      <td>1</td>\n",
       "      <td>18</td>\n",
       "      <td>15</td>\n",
       "      <td>0</td>\n",
       "      <td>1</td>\n",
       "      <td>['1550', '1863', '1698', '1669', '1407', '1790...</td>\n",
       "      <td>['1793', '1767', '1773', '1754', '1871', '1795...</td>\n",
       "      <td>1550</td>\n",
       "      <td>1863</td>\n",
       "      <td>...</td>\n",
       "      <td>1773</td>\n",
       "      <td>1754</td>\n",
       "      <td>1871</td>\n",
       "      <td>1795</td>\n",
       "      <td>1572</td>\n",
       "      <td>1854</td>\n",
       "      <td>1859</td>\n",
       "      <td>1875</td>\n",
       "      <td>1797</td>\n",
       "      <td>1</td>\n",
       "    </tr>\n",
       "    <tr>\n",
       "      <th>1</th>\n",
       "      <td>2</td>\n",
       "      <td>1</td>\n",
       "      <td>21</td>\n",
       "      <td>40</td>\n",
       "      <td>10</td>\n",
       "      <td>1</td>\n",
       "      <td>['1456', '1328', '1251', '1326', '1311', '1259...</td>\n",
       "      <td>['1215', '1278', '1243', '1364', '1418', '1277...</td>\n",
       "      <td>1456</td>\n",
       "      <td>1328</td>\n",
       "      <td>...</td>\n",
       "      <td>1243</td>\n",
       "      <td>1364</td>\n",
       "      <td>1418</td>\n",
       "      <td>1277</td>\n",
       "      <td>1361</td>\n",
       "      <td>1402</td>\n",
       "      <td>1419</td>\n",
       "      <td>1528</td>\n",
       "      <td>1423</td>\n",
       "      <td>1</td>\n",
       "    </tr>\n",
       "    <tr>\n",
       "      <th>2</th>\n",
       "      <td>2</td>\n",
       "      <td>1</td>\n",
       "      <td>88</td>\n",
       "      <td>78</td>\n",
       "      <td>0</td>\n",
       "      <td>1</td>\n",
       "      <td>['1566', '1550', '1421', '1625', '1407', '1311...</td>\n",
       "      <td>['1541', '1572', '1364', '1530', '1277', '1646...</td>\n",
       "      <td>1566</td>\n",
       "      <td>1550</td>\n",
       "      <td>...</td>\n",
       "      <td>1364</td>\n",
       "      <td>1530</td>\n",
       "      <td>1277</td>\n",
       "      <td>1646</td>\n",
       "      <td>1547</td>\n",
       "      <td>1361</td>\n",
       "      <td>1369</td>\n",
       "      <td>1617</td>\n",
       "      <td>1525</td>\n",
       "      <td>1</td>\n",
       "    </tr>\n",
       "  </tbody>\n",
       "</table>\n",
       "<p>3 rows × 31 columns</p>\n",
       "</div>"
      ],
      "text/plain": [
       "   Team1 Name  Team2 Name  Match Venue (Stadium)  Match Venue (City)  \\\n",
       "0           2           1                     18                  15   \n",
       "1           2           1                     21                  40   \n",
       "2           2           1                     88                  78   \n",
       "\n",
       "   Match Venue (Country)  Match Winner  \\\n",
       "0                      0             1   \n",
       "1                     10             1   \n",
       "2                      0             1   \n",
       "\n",
       "                                    Team1 Playing 11  \\\n",
       "0  ['1550', '1863', '1698', '1669', '1407', '1790...   \n",
       "1  ['1456', '1328', '1251', '1326', '1311', '1259...   \n",
       "2  ['1566', '1550', '1421', '1625', '1407', '1311...   \n",
       "\n",
       "                                    Team2 Playing 11  team1_P1  team1_P2  ...  \\\n",
       "0  ['1793', '1767', '1773', '1754', '1871', '1795...      1550      1863  ...   \n",
       "1  ['1215', '1278', '1243', '1364', '1418', '1277...      1456      1328  ...   \n",
       "2  ['1541', '1572', '1364', '1530', '1277', '1646...      1566      1550  ...   \n",
       "\n",
       "   team2_P3  team2_P4  team2_P5  team2_P6  team2_P7  team2_P8  team2_P9  \\\n",
       "0      1773      1754      1871      1795      1572      1854      1859   \n",
       "1      1243      1364      1418      1277      1361      1402      1419   \n",
       "2      1364      1530      1277      1646      1547      1361      1369   \n",
       "\n",
       "   team2_P10  team2_P11  Match Winner Encoded  \n",
       "0       1875       1797                     1  \n",
       "1       1528       1423                     1  \n",
       "2       1617       1525                     1  \n",
       "\n",
       "[3 rows x 31 columns]"
      ]
     },
     "execution_count": 33,
     "metadata": {},
     "output_type": "execute_result"
    }
   ],
   "source": [
    "df2.head(3)"
   ]
  },
  {
   "cell_type": "code",
   "execution_count": 35,
   "metadata": {},
   "outputs": [],
   "source": [
    "df2 = df2.drop(columns=['Match Venue (Stadium)', 'Match Venue (Country)','Team1 Playing 11','Team2 Playing 11'], axis=1)"
   ]
  },
  {
   "cell_type": "code",
   "execution_count": 36,
   "metadata": {},
   "outputs": [
    {
     "data": {
      "text/html": [
       "<div>\n",
       "<style scoped>\n",
       "    .dataframe tbody tr th:only-of-type {\n",
       "        vertical-align: middle;\n",
       "    }\n",
       "\n",
       "    .dataframe tbody tr th {\n",
       "        vertical-align: top;\n",
       "    }\n",
       "\n",
       "    .dataframe thead th {\n",
       "        text-align: right;\n",
       "    }\n",
       "</style>\n",
       "<table border=\"1\" class=\"dataframe\">\n",
       "  <thead>\n",
       "    <tr style=\"text-align: right;\">\n",
       "      <th></th>\n",
       "      <th>Team1 Name</th>\n",
       "      <th>Team2 Name</th>\n",
       "      <th>Match Venue (City)</th>\n",
       "      <th>Match Winner</th>\n",
       "      <th>team1_P1</th>\n",
       "      <th>team1_P2</th>\n",
       "      <th>team1_P3</th>\n",
       "      <th>team1_P4</th>\n",
       "      <th>team1_P5</th>\n",
       "      <th>team1_P6</th>\n",
       "      <th>...</th>\n",
       "      <th>team2_P3</th>\n",
       "      <th>team2_P4</th>\n",
       "      <th>team2_P5</th>\n",
       "      <th>team2_P6</th>\n",
       "      <th>team2_P7</th>\n",
       "      <th>team2_P8</th>\n",
       "      <th>team2_P9</th>\n",
       "      <th>team2_P10</th>\n",
       "      <th>team2_P11</th>\n",
       "      <th>Match Winner Encoded</th>\n",
       "    </tr>\n",
       "  </thead>\n",
       "  <tbody>\n",
       "    <tr>\n",
       "      <th>0</th>\n",
       "      <td>2</td>\n",
       "      <td>1</td>\n",
       "      <td>15</td>\n",
       "      <td>1</td>\n",
       "      <td>1550</td>\n",
       "      <td>1863</td>\n",
       "      <td>1698</td>\n",
       "      <td>1669</td>\n",
       "      <td>1407</td>\n",
       "      <td>1790</td>\n",
       "      <td>...</td>\n",
       "      <td>1773</td>\n",
       "      <td>1754</td>\n",
       "      <td>1871</td>\n",
       "      <td>1795</td>\n",
       "      <td>1572</td>\n",
       "      <td>1854</td>\n",
       "      <td>1859</td>\n",
       "      <td>1875</td>\n",
       "      <td>1797</td>\n",
       "      <td>1</td>\n",
       "    </tr>\n",
       "    <tr>\n",
       "      <th>1</th>\n",
       "      <td>2</td>\n",
       "      <td>1</td>\n",
       "      <td>40</td>\n",
       "      <td>1</td>\n",
       "      <td>1456</td>\n",
       "      <td>1328</td>\n",
       "      <td>1251</td>\n",
       "      <td>1326</td>\n",
       "      <td>1311</td>\n",
       "      <td>1259</td>\n",
       "      <td>...</td>\n",
       "      <td>1243</td>\n",
       "      <td>1364</td>\n",
       "      <td>1418</td>\n",
       "      <td>1277</td>\n",
       "      <td>1361</td>\n",
       "      <td>1402</td>\n",
       "      <td>1419</td>\n",
       "      <td>1528</td>\n",
       "      <td>1423</td>\n",
       "      <td>1</td>\n",
       "    </tr>\n",
       "    <tr>\n",
       "      <th>2</th>\n",
       "      <td>2</td>\n",
       "      <td>1</td>\n",
       "      <td>78</td>\n",
       "      <td>1</td>\n",
       "      <td>1566</td>\n",
       "      <td>1550</td>\n",
       "      <td>1421</td>\n",
       "      <td>1625</td>\n",
       "      <td>1407</td>\n",
       "      <td>1311</td>\n",
       "      <td>...</td>\n",
       "      <td>1364</td>\n",
       "      <td>1530</td>\n",
       "      <td>1277</td>\n",
       "      <td>1646</td>\n",
       "      <td>1547</td>\n",
       "      <td>1361</td>\n",
       "      <td>1369</td>\n",
       "      <td>1617</td>\n",
       "      <td>1525</td>\n",
       "      <td>1</td>\n",
       "    </tr>\n",
       "    <tr>\n",
       "      <th>3</th>\n",
       "      <td>2</td>\n",
       "      <td>1</td>\n",
       "      <td>113</td>\n",
       "      <td>2</td>\n",
       "      <td>1550</td>\n",
       "      <td>1566</td>\n",
       "      <td>1444</td>\n",
       "      <td>1408</td>\n",
       "      <td>1311</td>\n",
       "      <td>1421</td>\n",
       "      <td>...</td>\n",
       "      <td>1364</td>\n",
       "      <td>1530</td>\n",
       "      <td>1277</td>\n",
       "      <td>1646</td>\n",
       "      <td>1361</td>\n",
       "      <td>1617</td>\n",
       "      <td>1369</td>\n",
       "      <td>1569</td>\n",
       "      <td>1525</td>\n",
       "      <td>0</td>\n",
       "    </tr>\n",
       "    <tr>\n",
       "      <th>4</th>\n",
       "      <td>2</td>\n",
       "      <td>1</td>\n",
       "      <td>113</td>\n",
       "      <td>2</td>\n",
       "      <td>1550</td>\n",
       "      <td>1566</td>\n",
       "      <td>1444</td>\n",
       "      <td>1421</td>\n",
       "      <td>1311</td>\n",
       "      <td>1407</td>\n",
       "      <td>...</td>\n",
       "      <td>1361</td>\n",
       "      <td>1364</td>\n",
       "      <td>1530</td>\n",
       "      <td>1572</td>\n",
       "      <td>1277</td>\n",
       "      <td>1369</td>\n",
       "      <td>1402</td>\n",
       "      <td>1569</td>\n",
       "      <td>1525</td>\n",
       "      <td>0</td>\n",
       "    </tr>\n",
       "  </tbody>\n",
       "</table>\n",
       "<p>5 rows × 27 columns</p>\n",
       "</div>"
      ],
      "text/plain": [
       "   Team1 Name  Team2 Name  Match Venue (City)  Match Winner  team1_P1  \\\n",
       "0           2           1                  15             1      1550   \n",
       "1           2           1                  40             1      1456   \n",
       "2           2           1                  78             1      1566   \n",
       "3           2           1                 113             2      1550   \n",
       "4           2           1                 113             2      1550   \n",
       "\n",
       "   team1_P2  team1_P3  team1_P4  team1_P5  team1_P6  ...  team2_P3  team2_P4  \\\n",
       "0      1863      1698      1669      1407      1790  ...      1773      1754   \n",
       "1      1328      1251      1326      1311      1259  ...      1243      1364   \n",
       "2      1550      1421      1625      1407      1311  ...      1364      1530   \n",
       "3      1566      1444      1408      1311      1421  ...      1364      1530   \n",
       "4      1566      1444      1421      1311      1407  ...      1361      1364   \n",
       "\n",
       "   team2_P5  team2_P6  team2_P7  team2_P8  team2_P9  team2_P10  team2_P11  \\\n",
       "0      1871      1795      1572      1854      1859       1875       1797   \n",
       "1      1418      1277      1361      1402      1419       1528       1423   \n",
       "2      1277      1646      1547      1361      1369       1617       1525   \n",
       "3      1277      1646      1361      1617      1369       1569       1525   \n",
       "4      1530      1572      1277      1369      1402       1569       1525   \n",
       "\n",
       "   Match Winner Encoded  \n",
       "0                     1  \n",
       "1                     1  \n",
       "2                     1  \n",
       "3                     0  \n",
       "4                     0  \n",
       "\n",
       "[5 rows x 27 columns]"
      ]
     },
     "execution_count": 36,
     "metadata": {},
     "output_type": "execute_result"
    }
   ],
   "source": [
    "df2.head()"
   ]
  },
  {
   "cell_type": "code",
   "execution_count": 37,
   "metadata": {},
   "outputs": [],
   "source": [
    "X = df2.drop(columns=['Match Winner','Match Winner Encoded'], axis=1)\n",
    "y = df2['Match Winner Encoded']\n",
    "\n",
    "X_train, X_test, y_train, y_test = train_test_split(X, y, random_state=42)"
   ]
  },
  {
   "cell_type": "code",
   "execution_count": 38,
   "metadata": {},
   "outputs": [
    {
     "data": {
      "text/plain": [
       "(1569, 25)"
      ]
     },
     "execution_count": 38,
     "metadata": {},
     "output_type": "execute_result"
    }
   ],
   "source": [
    "X_train.shape"
   ]
  },
  {
   "cell_type": "code",
   "execution_count": 39,
   "metadata": {},
   "outputs": [
    {
     "name": "stdout",
     "output_type": "stream",
     "text": [
      "Model: \"sequential\"\n",
      "_________________________________________________________________\n",
      " Layer (type)                Output Shape              Param #   \n",
      "=================================================================\n",
      " dense (Dense)               (None, 64)                1664      \n",
      "                                                                 \n",
      " dense_1 (Dense)             (None, 32)                2080      \n",
      "                                                                 \n",
      " dense_2 (Dense)             (None, 16)                528       \n",
      "                                                                 \n",
      " dense_3 (Dense)             (None, 1)                 17        \n",
      "                                                                 \n",
      "=================================================================\n",
      "Total params: 4289 (16.75 KB)\n",
      "Trainable params: 4289 (16.75 KB)\n",
      "Non-trainable params: 0 (0.00 Byte)\n",
      "_________________________________________________________________\n"
     ]
    }
   ],
   "source": [
    "import tensorflow as tf\n",
    "from tensorflow.keras.models import Sequential\n",
    "from tensorflow.keras.layers import Dense\n",
    "\n",
    "model = Sequential()\n",
    "model.add(Dense(units=64, activation='relu', input_shape=(25, )))\n",
    "model.add(Dense(units=32, activation='relu'))\n",
    "model.add(Dense(units=16, activation='relu'))\n",
    "model.add(Dense(units=1, activation='sigmoid'))\n",
    "\n",
    "model.compile(optimizer='adam', loss='binary_crossentropy', metrics=['accuracy'])\n",
    "\n",
    "model.summary()"
   ]
  },
  {
   "cell_type": "code",
   "execution_count": 42,
   "metadata": {},
   "outputs": [],
   "source": [
    "X_train = np.array(X_train)\n",
    "X_test = np.array(X_test)\n",
    "y_train = np.array(y_train)\n",
    "y_test = np.array(y_test)"
   ]
  },
  {
   "cell_type": "code",
   "execution_count": 44,
   "metadata": {},
   "outputs": [
    {
     "name": "stdout",
     "output_type": "stream",
     "text": [
      "Epoch 1/50\n",
      "50/50 [==============================] - 3s 2ms/step - loss: 725.5872 - accuracy: 0.5245\n",
      "Epoch 2/50\n",
      "50/50 [==============================] - 0s 2ms/step - loss: 309.8845 - accuracy: 0.5488\n",
      "Epoch 3/50\n",
      "50/50 [==============================] - 0s 1ms/step - loss: 245.6140 - accuracy: 0.5328\n",
      "Epoch 4/50\n",
      "50/50 [==============================] - 0s 2ms/step - loss: 171.6533 - accuracy: 0.5883\n",
      "Epoch 5/50\n",
      "50/50 [==============================] - 0s 1ms/step - loss: 139.5456 - accuracy: 0.5857\n",
      "Epoch 6/50\n",
      "50/50 [==============================] - 0s 1ms/step - loss: 112.5256 - accuracy: 0.6119\n",
      "Epoch 7/50\n",
      "50/50 [==============================] - 0s 1ms/step - loss: 95.0231 - accuracy: 0.5870\n",
      "Epoch 8/50\n",
      "50/50 [==============================] - 0s 2ms/step - loss: 81.7931 - accuracy: 0.6131\n",
      "Epoch 9/50\n",
      "50/50 [==============================] - 0s 1ms/step - loss: 68.1835 - accuracy: 0.5959\n",
      "Epoch 10/50\n",
      "50/50 [==============================] - 0s 1ms/step - loss: 65.5259 - accuracy: 0.6144\n",
      "Epoch 11/50\n",
      "50/50 [==============================] - 0s 2ms/step - loss: 79.9422 - accuracy: 0.5997\n",
      "Epoch 12/50\n",
      "50/50 [==============================] - 0s 2ms/step - loss: 219.6133 - accuracy: 0.5685\n",
      "Epoch 13/50\n",
      "50/50 [==============================] - 0s 1ms/step - loss: 68.3063 - accuracy: 0.6201\n",
      "Epoch 14/50\n",
      "50/50 [==============================] - 0s 1ms/step - loss: 46.9446 - accuracy: 0.6265\n",
      "Epoch 15/50\n",
      "50/50 [==============================] - 0s 1ms/step - loss: 51.2353 - accuracy: 0.6195\n",
      "Epoch 16/50\n",
      "50/50 [==============================] - 0s 2ms/step - loss: 40.2919 - accuracy: 0.6284\n",
      "Epoch 17/50\n",
      "50/50 [==============================] - 0s 2ms/step - loss: 35.8761 - accuracy: 0.6348\n",
      "Epoch 18/50\n",
      "50/50 [==============================] - 0s 2ms/step - loss: 51.5341 - accuracy: 0.6214\n",
      "Epoch 19/50\n",
      "50/50 [==============================] - 0s 2ms/step - loss: 33.8630 - accuracy: 0.6297\n",
      "Epoch 20/50\n",
      "50/50 [==============================] - 0s 2ms/step - loss: 29.3163 - accuracy: 0.6533\n",
      "Epoch 21/50\n",
      "50/50 [==============================] - 0s 2ms/step - loss: 40.2905 - accuracy: 0.6303\n",
      "Epoch 22/50\n",
      "50/50 [==============================] - 0s 2ms/step - loss: 42.1395 - accuracy: 0.6119\n",
      "Epoch 23/50\n",
      "50/50 [==============================] - 0s 2ms/step - loss: 44.8066 - accuracy: 0.6329\n",
      "Epoch 24/50\n",
      "50/50 [==============================] - 0s 2ms/step - loss: 24.2793 - accuracy: 0.6635\n",
      "Epoch 25/50\n",
      "50/50 [==============================] - 0s 2ms/step - loss: 22.9985 - accuracy: 0.6539\n",
      "Epoch 26/50\n",
      "50/50 [==============================] - 0s 2ms/step - loss: 23.8769 - accuracy: 0.6577\n",
      "Epoch 27/50\n",
      "50/50 [==============================] - 0s 2ms/step - loss: 20.1366 - accuracy: 0.6552\n",
      "Epoch 28/50\n",
      "50/50 [==============================] - 0s 2ms/step - loss: 25.9187 - accuracy: 0.6380\n",
      "Epoch 29/50\n",
      "50/50 [==============================] - 0s 2ms/step - loss: 21.0749 - accuracy: 0.6756\n",
      "Epoch 30/50\n",
      "50/50 [==============================] - 0s 2ms/step - loss: 24.0529 - accuracy: 0.6692\n",
      "Epoch 31/50\n",
      "50/50 [==============================] - 0s 2ms/step - loss: 22.1361 - accuracy: 0.6622\n",
      "Epoch 32/50\n",
      "50/50 [==============================] - 0s 2ms/step - loss: 19.5646 - accuracy: 0.6641\n",
      "Epoch 33/50\n",
      "50/50 [==============================] - 0s 2ms/step - loss: 16.6950 - accuracy: 0.6648\n",
      "Epoch 34/50\n",
      "50/50 [==============================] - 0s 2ms/step - loss: 17.3771 - accuracy: 0.6711\n",
      "Epoch 35/50\n",
      "50/50 [==============================] - 0s 2ms/step - loss: 15.0781 - accuracy: 0.6826\n",
      "Epoch 36/50\n",
      "50/50 [==============================] - 0s 2ms/step - loss: 92.8471 - accuracy: 0.5934\n",
      "Epoch 37/50\n",
      "50/50 [==============================] - 0s 2ms/step - loss: 20.4210 - accuracy: 0.6724\n",
      "Epoch 38/50\n",
      "50/50 [==============================] - 0s 2ms/step - loss: 16.1085 - accuracy: 0.6750\n",
      "Epoch 39/50\n",
      "50/50 [==============================] - 0s 2ms/step - loss: 13.9410 - accuracy: 0.6724\n",
      "Epoch 40/50\n",
      "50/50 [==============================] - 0s 2ms/step - loss: 20.5110 - accuracy: 0.6482\n",
      "Epoch 41/50\n",
      "50/50 [==============================] - 0s 2ms/step - loss: 25.9197 - accuracy: 0.6488\n",
      "Epoch 42/50\n",
      "50/50 [==============================] - 0s 2ms/step - loss: 13.9250 - accuracy: 0.6909\n",
      "Epoch 43/50\n",
      "50/50 [==============================] - 0s 2ms/step - loss: 26.3951 - accuracy: 0.6463\n",
      "Epoch 44/50\n",
      "50/50 [==============================] - 0s 2ms/step - loss: 14.1826 - accuracy: 0.6794\n",
      "Epoch 45/50\n",
      "50/50 [==============================] - 0s 1ms/step - loss: 11.3430 - accuracy: 0.7062\n",
      "Epoch 46/50\n",
      "50/50 [==============================] - 0s 2ms/step - loss: 17.0476 - accuracy: 0.6762\n",
      "Epoch 47/50\n",
      "50/50 [==============================] - 0s 2ms/step - loss: 16.6830 - accuracy: 0.6794\n",
      "Epoch 48/50\n",
      "50/50 [==============================] - 0s 2ms/step - loss: 74.4553 - accuracy: 0.6004\n",
      "Epoch 49/50\n",
      "50/50 [==============================] - 0s 2ms/step - loss: 14.0414 - accuracy: 0.6558\n",
      "Epoch 50/50\n",
      "50/50 [==============================] - 0s 2ms/step - loss: 44.0672 - accuracy: 0.6106\n",
      "17/17 [==============================] - 0s 1ms/step\n"
     ]
    }
   ],
   "source": [
    "X_train = np.array(X_train, dtype=np.float32)\n",
    "y_train = np.array(y_train, dtype=np.float32)\n",
    "\n",
    "# Convert your testing data to float32\n",
    "X_test = np.array(X_test, dtype=np.float32)\n",
    "\n",
    "# Fit the model\n",
    "model.fit(X_train, y_train, epochs=50, batch_size=32)\n",
    "\n",
    "# Predict probabilities (scores) for each class\n",
    "predictions = model.predict(X_test)"
   ]
  },
  {
   "cell_type": "code",
   "execution_count": 48,
   "metadata": {},
   "outputs": [
    {
     "name": "stdout",
     "output_type": "stream",
     "text": [
      "17/17 [==============================] - 0s 2ms/step - loss: 70.5432 - accuracy: 0.4924\n",
      "Test Accuracy: 0.49236640334129333\n"
     ]
    }
   ],
   "source": [
    "y_test = np.array(y_test, dtype=np.float32)\n",
    "accuracy = model.evaluate(X_test, y_test)[1]\n",
    "print(f'Test Accuracy: {accuracy}')"
   ]
  },
  {
   "cell_type": "code",
   "execution_count": null,
   "metadata": {},
   "outputs": [],
   "source": []
  },
  {
   "cell_type": "code",
   "execution_count": null,
   "metadata": {},
   "outputs": [],
   "source": []
  },
  {
   "cell_type": "code",
   "execution_count": 23,
   "metadata": {},
   "outputs": [
    {
     "ename": "ValueError",
     "evalue": "y should be a 1d array, got an array of shape (2839, 2) instead.",
     "output_type": "error",
     "traceback": [
      "\u001b[1;31m---------------------------------------------------------------------------\u001b[0m",
      "\u001b[1;31mValueError\u001b[0m                                Traceback (most recent call last)",
      "Cell \u001b[1;32mIn[23], line 6\u001b[0m\n\u001b[0;32m      4\u001b[0m lst \u001b[38;5;241m=\u001b[39m [\u001b[38;5;124m'\u001b[39m\u001b[38;5;124mteam1_P1\u001b[39m\u001b[38;5;124m'\u001b[39m,\u001b[38;5;124m'\u001b[39m\u001b[38;5;124mteam1_P2\u001b[39m\u001b[38;5;124m'\u001b[39m,\u001b[38;5;124m'\u001b[39m\u001b[38;5;124mteam1_P3\u001b[39m\u001b[38;5;124m'\u001b[39m,\u001b[38;5;124m'\u001b[39m\u001b[38;5;124mteam1_P4\u001b[39m\u001b[38;5;124m'\u001b[39m,\u001b[38;5;124m'\u001b[39m\u001b[38;5;124mteam1_P5\u001b[39m\u001b[38;5;124m'\u001b[39m,\u001b[38;5;124m'\u001b[39m\u001b[38;5;124mteam1_P6\u001b[39m\u001b[38;5;124m'\u001b[39m,\u001b[38;5;124m'\u001b[39m\u001b[38;5;124mteam1_P7\u001b[39m\u001b[38;5;124m'\u001b[39m,\u001b[38;5;124m'\u001b[39m\u001b[38;5;124mteam1_P8\u001b[39m\u001b[38;5;124m'\u001b[39m,\u001b[38;5;124m'\u001b[39m\u001b[38;5;124mteam1_P9\u001b[39m\u001b[38;5;124m'\u001b[39m,\u001b[38;5;124m'\u001b[39m\u001b[38;5;124mteam1_P10\u001b[39m\u001b[38;5;124m'\u001b[39m,\u001b[38;5;124m'\u001b[39m\u001b[38;5;124mteam1_P11\u001b[39m\u001b[38;5;124m'\u001b[39m,\u001b[38;5;124m'\u001b[39m\u001b[38;5;124mteam2_P1\u001b[39m\u001b[38;5;124m'\u001b[39m,\u001b[38;5;124m'\u001b[39m\u001b[38;5;124mteam2_P2\u001b[39m\u001b[38;5;124m'\u001b[39m,\u001b[38;5;124m'\u001b[39m\u001b[38;5;124mteam2_P3\u001b[39m\u001b[38;5;124m'\u001b[39m,\u001b[38;5;124m'\u001b[39m\u001b[38;5;124mteam2_P4\u001b[39m\u001b[38;5;124m'\u001b[39m,\u001b[38;5;124m'\u001b[39m\u001b[38;5;124mteam2_P5\u001b[39m\u001b[38;5;124m'\u001b[39m,\u001b[38;5;124m'\u001b[39m\u001b[38;5;124mteam2_P6\u001b[39m\u001b[38;5;124m'\u001b[39m,\u001b[38;5;124m'\u001b[39m\u001b[38;5;124mteam2_P7\u001b[39m\u001b[38;5;124m'\u001b[39m,\u001b[38;5;124m'\u001b[39m\u001b[38;5;124mteam2_P8\u001b[39m\u001b[38;5;124m'\u001b[39m,\u001b[38;5;124m'\u001b[39m\u001b[38;5;124mteam2_P9\u001b[39m\u001b[38;5;124m'\u001b[39m,\u001b[38;5;124m'\u001b[39m\u001b[38;5;124mteam2_P10\u001b[39m\u001b[38;5;124m'\u001b[39m,\u001b[38;5;124m'\u001b[39m\u001b[38;5;124mteam2_P11\u001b[39m\u001b[38;5;124m'\u001b[39m]\n\u001b[0;32m      5\u001b[0m \u001b[38;5;28;01mfor\u001b[39;00m i \u001b[38;5;129;01min\u001b[39;00m lst:\n\u001b[1;32m----> 6\u001b[0m     df[i] \u001b[38;5;241m=\u001b[39m le\u001b[38;5;241m.\u001b[39mfit_transform(df[i])\n",
      "File \u001b[1;32m~\\anaconda3\\Lib\\site-packages\\sklearn\\utils\\_set_output.py:140\u001b[0m, in \u001b[0;36m_wrap_method_output.<locals>.wrapped\u001b[1;34m(self, X, *args, **kwargs)\u001b[0m\n\u001b[0;32m    138\u001b[0m \u001b[38;5;129m@wraps\u001b[39m(f)\n\u001b[0;32m    139\u001b[0m \u001b[38;5;28;01mdef\u001b[39;00m \u001b[38;5;21mwrapped\u001b[39m(\u001b[38;5;28mself\u001b[39m, X, \u001b[38;5;241m*\u001b[39margs, \u001b[38;5;241m*\u001b[39m\u001b[38;5;241m*\u001b[39mkwargs):\n\u001b[1;32m--> 140\u001b[0m     data_to_wrap \u001b[38;5;241m=\u001b[39m f(\u001b[38;5;28mself\u001b[39m, X, \u001b[38;5;241m*\u001b[39margs, \u001b[38;5;241m*\u001b[39m\u001b[38;5;241m*\u001b[39mkwargs)\n\u001b[0;32m    141\u001b[0m     \u001b[38;5;28;01mif\u001b[39;00m \u001b[38;5;28misinstance\u001b[39m(data_to_wrap, \u001b[38;5;28mtuple\u001b[39m):\n\u001b[0;32m    142\u001b[0m         \u001b[38;5;66;03m# only wrap the first output for cross decomposition\u001b[39;00m\n\u001b[0;32m    143\u001b[0m         return_tuple \u001b[38;5;241m=\u001b[39m (\n\u001b[0;32m    144\u001b[0m             _wrap_data_with_container(method, data_to_wrap[\u001b[38;5;241m0\u001b[39m], X, \u001b[38;5;28mself\u001b[39m),\n\u001b[0;32m    145\u001b[0m             \u001b[38;5;241m*\u001b[39mdata_to_wrap[\u001b[38;5;241m1\u001b[39m:],\n\u001b[0;32m    146\u001b[0m         )\n",
      "File \u001b[1;32m~\\anaconda3\\Lib\\site-packages\\sklearn\\preprocessing\\_label.py:114\u001b[0m, in \u001b[0;36mLabelEncoder.fit_transform\u001b[1;34m(self, y)\u001b[0m\n\u001b[0;32m    101\u001b[0m \u001b[38;5;28;01mdef\u001b[39;00m \u001b[38;5;21mfit_transform\u001b[39m(\u001b[38;5;28mself\u001b[39m, y):\n\u001b[0;32m    102\u001b[0m \u001b[38;5;250m    \u001b[39m\u001b[38;5;124;03m\"\"\"Fit label encoder and return encoded labels.\u001b[39;00m\n\u001b[0;32m    103\u001b[0m \n\u001b[0;32m    104\u001b[0m \u001b[38;5;124;03m    Parameters\u001b[39;00m\n\u001b[1;32m   (...)\u001b[0m\n\u001b[0;32m    112\u001b[0m \u001b[38;5;124;03m        Encoded labels.\u001b[39;00m\n\u001b[0;32m    113\u001b[0m \u001b[38;5;124;03m    \"\"\"\u001b[39;00m\n\u001b[1;32m--> 114\u001b[0m     y \u001b[38;5;241m=\u001b[39m column_or_1d(y, warn\u001b[38;5;241m=\u001b[39m\u001b[38;5;28;01mTrue\u001b[39;00m)\n\u001b[0;32m    115\u001b[0m     \u001b[38;5;28mself\u001b[39m\u001b[38;5;241m.\u001b[39mclasses_, y \u001b[38;5;241m=\u001b[39m _unique(y, return_inverse\u001b[38;5;241m=\u001b[39m\u001b[38;5;28;01mTrue\u001b[39;00m)\n\u001b[0;32m    116\u001b[0m     \u001b[38;5;28;01mreturn\u001b[39;00m y\n",
      "File \u001b[1;32m~\\anaconda3\\Lib\\site-packages\\sklearn\\utils\\validation.py:1245\u001b[0m, in \u001b[0;36mcolumn_or_1d\u001b[1;34m(y, dtype, warn)\u001b[0m\n\u001b[0;32m   1234\u001b[0m         warnings\u001b[38;5;241m.\u001b[39mwarn(\n\u001b[0;32m   1235\u001b[0m             (\n\u001b[0;32m   1236\u001b[0m                 \u001b[38;5;124m\"\u001b[39m\u001b[38;5;124mA column-vector y was passed when a 1d array was\u001b[39m\u001b[38;5;124m\"\u001b[39m\n\u001b[1;32m   (...)\u001b[0m\n\u001b[0;32m   1241\u001b[0m             stacklevel\u001b[38;5;241m=\u001b[39m\u001b[38;5;241m2\u001b[39m,\n\u001b[0;32m   1242\u001b[0m         )\n\u001b[0;32m   1243\u001b[0m     \u001b[38;5;28;01mreturn\u001b[39;00m _asarray_with_order(xp\u001b[38;5;241m.\u001b[39mreshape(y, (\u001b[38;5;241m-\u001b[39m\u001b[38;5;241m1\u001b[39m,)), order\u001b[38;5;241m=\u001b[39m\u001b[38;5;124m\"\u001b[39m\u001b[38;5;124mC\u001b[39m\u001b[38;5;124m\"\u001b[39m, xp\u001b[38;5;241m=\u001b[39mxp)\n\u001b[1;32m-> 1245\u001b[0m \u001b[38;5;28;01mraise\u001b[39;00m \u001b[38;5;167;01mValueError\u001b[39;00m(\n\u001b[0;32m   1246\u001b[0m     \u001b[38;5;124m\"\u001b[39m\u001b[38;5;124my should be a 1d array, got an array of shape \u001b[39m\u001b[38;5;132;01m{}\u001b[39;00m\u001b[38;5;124m instead.\u001b[39m\u001b[38;5;124m\"\u001b[39m\u001b[38;5;241m.\u001b[39mformat(shape)\n\u001b[0;32m   1247\u001b[0m )\n",
      "\u001b[1;31mValueError\u001b[0m: y should be a 1d array, got an array of shape (2839, 2) instead."
     ]
    }
   ],
   "source": [
    "df = pd.get_dummies(data=df, columns=['Team1 Name', 'Team1 Captain', 'Team2 Name', 'Team2 Captain', 'Match Venue (Stadium)', 'Match Venue (City)',\n",
    "                                       'Match Venue (Country)', 'Toss Winner Choice'])\n",
    "le = LabelEncoder()\n",
    "lst = ['team1_P1','team1_P2','team1_P3','team1_P4','team1_P5','team1_P6','team1_P7','team1_P8','team1_P9','team1_P10','team1_P11','team2_P1','team2_P2','team2_P3','team2_P4','team2_P5','team2_P6','team2_P7','team2_P8','team2_P9','team2_P10','team2_P11']\n",
    "for i in lst:\n",
    "    df[i] = le.fit_transform(df[i])"
   ]
  },
  {
   "cell_type": "code",
   "execution_count": null,
   "metadata": {},
   "outputs": [],
   "source": [
    "df.columns"
   ]
  },
  {
   "cell_type": "code",
   "execution_count": null,
   "metadata": {},
   "outputs": [],
   "source": [
    "df.head()"
   ]
  },
  {
   "cell_type": "code",
   "execution_count": null,
   "metadata": {},
   "outputs": [],
   "source": [
    "x = df.drop(columns=['match_winner'], axis=1)\n",
    "y = df['match_winner']\n",
    "\n",
    "x_train, x_test, y_train, y_test = train_test_split(x, y, random_state=42)"
   ]
  },
  {
   "cell_type": "code",
   "execution_count": null,
   "metadata": {},
   "outputs": [],
   "source": [
    "df.dtypes"
   ]
  },
  {
   "cell_type": "markdown",
   "metadata": {},
   "source": [
    "# Model-1 with default params and GridSearch"
   ]
  },
  {
   "cell_type": "code",
   "execution_count": null,
   "metadata": {},
   "outputs": [],
   "source": [
    "\n",
    "# model0 = XGBClassifier(\n",
    "#     objective='binary:logistic',\n",
    "#     booster='gbtree',\n",
    "#     eval_metric='auc',\n",
    "#     tree_method='hist',\n",
    "#     # device='cuda',\n",
    "#     grow_policy='lossguide',\n",
    "#     use_label_encoder=False\n",
    "# )\n",
    "# model0.fit(x_train, y_train)"
   ]
  },
  {
   "cell_type": "code",
   "execution_count": null,
   "metadata": {},
   "outputs": [],
   "source": [
    "default_params = {}\n",
    "dparams = model0.get_params()\n",
    "\n",
    "for key in dparams.keys():\n",
    "    gp = dparams[key]\n",
    "    default_params[key] = [gp]"
   ]
  },
  {
   "cell_type": "code",
   "execution_count": null,
   "metadata": {},
   "outputs": [],
   "source": [
    "# clf0 = GridSearchCV(estimator=model0, scoring='accuracy', param_grid=default_params, verbose=3, cv=10, refit=True)\n",
    "# clf0.fit(x_train, y_train)\n",
    "# predictions = clf0.predict(x_test)\n",
    "# print(classification_report(predictions, y_test))"
   ]
  },
  {
   "cell_type": "code",
   "execution_count": null,
   "metadata": {},
   "outputs": [],
   "source": [
    "# Best Params of Model-1\n",
    "bp = clf0.best_params_"
   ]
  },
  {
   "cell_type": "markdown",
   "metadata": {},
   "source": [
    "# Model-2 with Grid Search Parameter Tuning"
   ]
  },
  {
   "cell_type": "code",
   "execution_count": null,
   "metadata": {},
   "outputs": [],
   "source": [
    "param_grid = {'gamma': [12.8,25.6,51.2,102.4, 200],\n",
    "              'learning_rate': [0.01, 0.03, 0.06, 0.1, 0.15, 0.2, 0.25, 0.300000012, 0.4, 0.5, 0.6, 0.7],\n",
    "              'max_depth': [5,6,7,8,9,10,11,12,13,14],\n",
    "              'n_estimators': [50,65,80,100,115,130,150],\n",
    "              'reg_alpha': [0,0.1,0.2,0.4,0.8,1.6,3.2,6.4,12.8,25.6,51.2,102.4,200],\n",
    "              'reg_lambda': [0,0.1,0.2,0.4,0.8,1.6,3.2,6.4,12.8,25.6,51.2,102.4,200]}"
   ]
  },
  {
   "cell_type": "code",
   "execution_count": null,
   "metadata": {},
   "outputs": [],
   "source": [
    "# model0 = XGBClassifier(\n",
    "#     objective='binary:logistic',\n",
    "#     booster='gbtree',\n",
    "#     eval_metric='auc',\n",
    "#     tree_method='hist',\n",
    "#     device='cuda',\n",
    "#     grow_policy='lossguide',\n",
    "#     use_label_encoder=False\n",
    "# )\n",
    "\n",
    "# clf = RandomizedSearchCV(n_iter=500, estimator=model0, param_distributions=param_grid, scoring='accuracy', verbose=3, cv=10, refit=True)\n",
    "# clf.fit(x_train, y_train)"
   ]
  },
  {
   "cell_type": "code",
   "execution_count": null,
   "metadata": {},
   "outputs": [],
   "source": [
    "# predictions = clf.predict(x_test)\n",
    "# print(classification_report(predictions, y_test))"
   ]
  },
  {
   "cell_type": "markdown",
   "metadata": {},
   "source": [
    "# Final Outcome"
   ]
  },
  {
   "cell_type": "code",
   "execution_count": 53,
   "metadata": {},
   "outputs": [
    {
     "name": "stdout",
     "output_type": "stream",
     "text": [
      "              precision    recall  f1-score   support\n",
      "\n",
      "           0       0.65      0.69      0.67       363\n",
      "           1       0.65      0.61      0.63       347\n",
      "\n",
      "    accuracy                           0.65       710\n",
      "   macro avg       0.65      0.65      0.65       710\n",
      "weighted avg       0.65      0.65      0.65       710\n",
      "\n",
      "0.6492957746478873\n"
     ]
    }
   ],
   "source": [
    "file_name = 'xgb_base.pkl'\n",
    "xgb_bayesian = pickle.load(open(file_name, 'rb'))\n",
    "predictions = xgb_bayesian.predict(x_test)\n",
    "print(classification_report(predictions, y_test))\n",
    "print(accuracy_score(predictions, y_test))"
   ]
  },
  {
   "cell_type": "code",
   "execution_count": 57,
   "metadata": {},
   "outputs": [
    {
     "name": "stdout",
     "output_type": "stream",
     "text": [
      "              precision    recall  f1-score   support\n",
      "\n",
      "           0       0.44      0.69      0.54       248\n",
      "           1       0.76      0.53      0.63       462\n",
      "\n",
      "    accuracy                           0.59       710\n",
      "   macro avg       0.60      0.61      0.58       710\n",
      "weighted avg       0.65      0.59      0.59       710\n",
      "\n",
      "0.5859154929577465\n"
     ]
    }
   ],
   "source": [
    "file_name = 'xgb_random_tuned.pkl'\n",
    "xgb_bayesian = pickle.load(open(file_name, 'rb'))\n",
    "predictions = xgb_bayesian.predict(x_test)\n",
    "print(classification_report(predictions, y_test))\n",
    "print(accuracy_score(predictions, y_test))"
   ]
  },
  {
   "cell_type": "code",
   "execution_count": 55,
   "metadata": {},
   "outputs": [
    {
     "name": "stdout",
     "output_type": "stream",
     "text": [
      "              precision    recall  f1-score   support\n",
      "\n",
      "           0       0.66      0.68      0.67       373\n",
      "           1       0.63      0.61      0.62       337\n",
      "\n",
      "    accuracy                           0.64       710\n",
      "   macro avg       0.64      0.64      0.64       710\n",
      "weighted avg       0.64      0.64      0.64       710\n",
      "\n",
      "0.643661971830986\n"
     ]
    }
   ],
   "source": [
    "file_name = 'xgb_bayesian_tuned.pkl'\n",
    "xgb_bayesian = pickle.load(open(file_name, 'rb'))\n",
    "predictions = xgb_bayesian.predict(x_test)\n",
    "print(classification_report(predictions, y_test))\n",
    "print(accuracy_score(predictions, y_test))"
   ]
  },
  {
   "cell_type": "markdown",
   "metadata": {},
   "source": [
    "# Accuracy after Tuning:\n",
    "\n",
    "Parameters that are tuned: \n",
    "\n",
    "- gamma\n",
    "- learning_rate\n",
    "- max_depth\n",
    "- n_estimators\n",
    "- reg_alpha\n",
    "- reg_lambda\n",
    "\n",
    "- Accuracy with default parameters:  0.6492957746478873\n",
    "- Accuracy with RandomSearch tuning: 0.5859154929577465\n",
    "- Accuracy with Bayesian tuning:     0.643661971830986"
   ]
  }
 ],
 "metadata": {
  "kernelspec": {
   "display_name": "Python 3 (ipykernel)",
   "language": "python",
   "name": "python3"
  },
  "language_info": {
   "codemirror_mode": {
    "name": "ipython",
    "version": 3
   },
   "file_extension": ".py",
   "mimetype": "text/x-python",
   "name": "python",
   "nbconvert_exporter": "python",
   "pygments_lexer": "ipython3",
   "version": "3.11.4"
  }
 },
 "nbformat": 4,
 "nbformat_minor": 2
}
